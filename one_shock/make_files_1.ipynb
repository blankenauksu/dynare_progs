{
 "cells": [
  {
   "cell_type": "code",
   "execution_count": 1,
   "metadata": {},
   "outputs": [],
   "source": [
    "from scipy.optimize import root\n",
    "import numpy as np\n",
    "import pickle"
   ]
  },
  {
   "cell_type": "code",
   "execution_count": 2,
   "metadata": {},
   "outputs": [],
   "source": [
    "params = {\n",
    "    'eps': 2,\n",
    "    'tht': 1,\n",
    "    'alf': .3,\n",
    "    'bet': .9,\n",
    "    'om_0': .2,\n",
    "    'om_1': .3,\n",
    "    'om_2': .5,\n",
    "    'delt': .05,\n",
    "    'psi_n': 1,\n",
    "    'psi_k': 1,\n",
    "    'a_1': -.1,\n",
    "    'a_2': 1\n",
    "}\n",
    "\n"
   ]
  },
  {
   "cell_type": "code",
   "execution_count": 3,
   "metadata": {},
   "outputs": [],
   "source": [
    "ss_shock = {\n",
    "    'a_0': 0,\n",
    "    \n",
    "}"
   ]
  },
  {
   "cell_type": "code",
   "execution_count": 4,
   "metadata": {},
   "outputs": [],
   "source": [
    "shock_params = {\n",
    "    'var_a_0': 0.01,\n",
    "    \n",
    "    'rho_a_0': .95,\n",
    "    \n",
    "}"
   ]
  },
  {
   "cell_type": "code",
   "execution_count": 5,
   "metadata": {},
   "outputs": [],
   "source": [
    "ss_params = {**params, **ss_shock}\n",
    "model_params = {**params, **shock_params}"
   ]
  },
  {
   "cell_type": "code",
   "execution_count": 6,
   "metadata": {},
   "outputs": [
    {
     "name": "stdout",
     "output_type": "stream",
     "text": [
      "eps,tht,alf,bet,om_0,om_1,om_2,delt,psi_n,psi_k,a_1,a_2,var_a_0,rho_a_0\n",
      "2,1,0.3,0.9,0.2,0.3,0.5,0.05,1,1,-0.1,1,0.01,0.95\n"
     ]
    }
   ],
   "source": [
    "print(','.join(f'{key}' for key in model_params))\n",
    "keys_list = list(model_params.keys())\n",
    "print(','.join(f'{model_params[key]}' for key in keys_list))"
   ]
  },
  {
   "cell_type": "code",
   "execution_count": 7,
   "metadata": {},
   "outputs": [],
   "source": [
    "with open('mf1.pkl', 'wb') as f:\n",
    "    pickle.dump((ss_params,model_params,ss_shock), f)"
   ]
  },
  {
   "cell_type": "code",
   "execution_count": 8,
   "metadata": {},
   "outputs": [
    {
     "data": {
      "text/plain": [
       "{'eps': 2,\n",
       " 'tht': 1,\n",
       " 'alf': 0.3,\n",
       " 'bet': 0.9,\n",
       " 'om_0': 0.2,\n",
       " 'om_1': 0.3,\n",
       " 'om_2': 0.5,\n",
       " 'delt': 0.05,\n",
       " 'psi_n': 1,\n",
       " 'psi_k': 1,\n",
       " 'a_1': -0.1,\n",
       " 'a_2': 1,\n",
       " 'var_a_0': 0.01,\n",
       " 'rho_a_0': 0.95}"
      ]
     },
     "execution_count": 8,
     "metadata": {},
     "output_type": "execute_result"
    }
   ],
   "source": [
    "model_params"
   ]
  }
 ],
 "metadata": {
  "kernelspec": {
   "display_name": "Python 3",
   "language": "python",
   "name": "python3"
  },
  "language_info": {
   "codemirror_mode": {
    "name": "ipython",
    "version": 3
   },
   "file_extension": ".py",
   "mimetype": "text/x-python",
   "name": "python",
   "nbconvert_exporter": "python",
   "pygments_lexer": "ipython3",
   "version": "3.11.5"
  }
 },
 "nbformat": 4,
 "nbformat_minor": 2
}
