{
 "cells": [
  {
   "cell_type": "code",
   "execution_count": 1,
   "metadata": {},
   "outputs": [],
   "source": [
    "from scipy.optimize import root\n",
    "import numpy as np\n",
    "import pickle"
   ]
  },
  {
   "cell_type": "code",
   "execution_count": 2,
   "metadata": {},
   "outputs": [],
   "source": [
    "with open('mf1.pkl', 'rb') as f:\n",
    "    ss_params,model_params,ss_shock = pickle.load(f)\n"
   ]
  },
  {
   "cell_type": "code",
   "execution_count": 3,
   "metadata": {},
   "outputs": [],
   "source": [
    "def assign_params(ss_params):\n",
    "    a_0 = ss_params['a_0']\n",
    "    a_1 = ss_params['a_1']\n",
    "    a_2 = ss_params['a_2']\n",
    "    alf = ss_params['alf']\n",
    "    delt = ss_params['delt']\n",
    "    om_0 = ss_params['om_0']\n",
    "    om_1 = ss_params['om_1']\n",
    "    om_2 = ss_params['om_2']\n",
    "    eps = ss_params['eps']\n",
    "    tht = ss_params['tht']\n",
    "    bet = ss_params['bet']\n",
    "    psi_k = ss_params['psi_k']\n",
    "    psi_n = ss_params['psi_n']\n",
    "    return eps,tht,alf,bet,om_0,om_1,om_2,delt,psi_k,psi_n,a_0,a_1,a_2\n"
   ]
  },
  {
   "cell_type": "code",
   "execution_count": 4,
   "metadata": {},
   "outputs": [],
   "source": [
    "def equations(vars, params):\n",
    "\tn_0,n_1,n_2,s_0,s_1,s_2,k,k_0,k_1,k_2,c_0,c_1,c_2,i = vars\n",
    "\teps,tht,alf,bet,om_0,om_1,om_2,delt,psi_k,psi_n,a_0,a_1,a_2 = assign_params(params)\n",
    " \n",
    "\t\n",
    "\tph=(om_0*c_0**((eps-1)/eps)+om_1*c_1**((eps-1)/eps)+om_2*c_2**((eps-1)/eps)\t)**((1-tht*eps)/(eps-1))\n",
    "\n",
    "\tv_0=om_0*c_0**(-1/eps)*ph\n",
    "\tv_1=om_1*c_1**(-1/eps)*ph\n",
    "\tv_2=om_2*c_2**(-1/eps)*ph\n",
    "\n",
    "\tq_0=(1-psi_n/2*(n_0/n_0-1)**2)\n",
    "\tq_1=(1-psi_n/2*(n_1/n_1-1)**2)\n",
    "\tq_2=(1-psi_n/2*(n_2/n_2-1)**2)\n",
    "\n",
    "\n",
    "\tfn_0=np.exp(a_0)*(1-alf)*(s_0/n_0/q_0)**alf*k**alf\n",
    "\tfn_1=np.exp(a_1)*(1-alf)*(s_1/n_1/q_1)**alf*k**alf\n",
    "\tfn_2=np.exp(a_2)*(1-alf)*(s_2/n_2/q_2)**alf*k**alf\n",
    " \n",
    "\tfs_0=np.exp(a_0)*alf*(n_0/s_0*q_0)**(1-alf)*k**alf\n",
    "\tfs_1=np.exp(a_1)*alf*(n_1/s_1*q_1)**(1-alf)*k**alf\n",
    "\tfs_2=np.exp(a_2)*alf*(n_2/s_2*q_2)**(1-alf)*k**alf\n",
    "  \n",
    "\tx_10=k_0*q_0**(1-alf)-n_0*psi_n/q_0**alf/n_0*(n_0/n_0-1)\n",
    "\tx_11=k_1*q_1**(1-alf)-n_1*psi_n/q_1**alf/n_1*(n_1/n_1-1)\n",
    "\tx_12=k_2*q_2**(1-alf)-n_2*psi_n/q_2**alf/n_2*(n_2/n_2-1)\n",
    "\n",
    "\tx_20=psi_n*(n_0/n_0-1)*(n_0/n_0)**2\n",
    "\tx_21=psi_n*(n_1/n_1-1)*(n_1/n_1)**2\n",
    "\tx_22=psi_n*(n_2/n_2-1)*(n_2/n_2)**2\n",
    " \n",
    "\tz_1=1-psi_k*(i/k-delt)\n",
    "\tz_2=1-delt-psi_k/2*(i/k-delt)**2+psi_k*i/k*(i/k-delt)\n",
    " \n",
    "\teq1=n_0+n_1+n_2-1\n",
    "\teq2=s_0+s_1+s_2-1\n",
    "\teq3=k_0-s_0/n_0*k\n",
    "\teq4=k_1-s_1/n_1*k\n",
    "\teq5=k_2-s_2/n_2*k\n",
    "\teq6=v_1*x_11*fn_1+v_1*x_21*fn_1-(v_0*x_10*fn_0+v_0*x_20*fn_0)\n",
    "\teq7=v_2*x_12*fn_2+v_2*x_22*fn_2-(v_0*x_10*fn_0+v_0*x_20*fn_0)\n",
    "\teq8=v_1*fs_1-v_0*fs_0\n",
    "\teq9=v_2*fs_2-v_0*fs_0\n",
    "\teq10=bet*(fs_0/k+z_2/z_1)-(v_0/v_0/z_1)\n",
    "\teq11=(1-delt)*k+i-psi_k/2*(i/k-delt)**2*k-k\n",
    "\teq12=c_0+i-np.exp(a_0)*n_0**(1-alf)*s_0**alf*k**alf\n",
    "\teq13=c_1-np.exp(a_1)*n_1**(1-alf)*s_1**alf*k**alf\n",
    "\teq14=c_2-np.exp(a_2)*n_2**(1-alf)*s_2**alf*k**alf\n",
    "\t\n",
    "\treturn [eq1,eq2,eq3,eq4,eq5,eq6,eq7,eq8,eq9,eq10,eq11,eq12,eq13,eq14]\n"
   ]
  },
  {
   "cell_type": "code",
   "execution_count": 5,
   "metadata": {},
   "outputs": [
    {
     "name": "stdout",
     "output_type": "stream",
     "text": [
      " message: The solution converged.\n",
      " success: True\n",
      "  status: 1\n",
      "     fun: [ 0.000e+00  0.000e+00 ...  2.634e-11 -4.198e-12]\n",
      "       x: [ 2.663e-01  3.464e-01 ...  5.055e-01  1.215e-01]\n",
      "    nfev: 61\n",
      "    fjac: [[-1.159e-01  5.538e-11 ... -7.075e-04 -1.825e-03]\n",
      "           [-1.610e-01 -1.959e-10 ...  1.344e-01 -4.294e-03]\n",
      "           ...\n",
      "           [-3.383e-01 -1.639e-02 ... -3.084e-01 -3.217e-01]\n",
      "           [-6.421e-02  9.228e-02 ...  2.426e-02  2.031e-02]]\n",
      "       r: [-8.630e+00  2.177e-01 ...  2.101e-01 -7.394e-01]\n",
      "     qtf: [ 5.891e-09  1.761e-08 ... -7.917e-10  1.706e-10]\n"
     ]
    },
    {
     "name": "stderr",
     "output_type": "stream",
     "text": [
      "C:\\Users\\blankenw\\AppData\\Local\\Temp\\ipykernel_8948\\781936935.py:17: RuntimeWarning: invalid value encountered in scalar power\n",
      "  fn_0=np.exp(a_0)*(1-alf)*(s_0/n_0/q_0)**alf*k**alf\n",
      "C:\\Users\\blankenw\\AppData\\Local\\Temp\\ipykernel_8948\\781936935.py:21: RuntimeWarning: invalid value encountered in scalar power\n",
      "  fs_0=np.exp(a_0)*alf*(n_0/s_0*q_0)**(1-alf)*k**alf\n",
      "C:\\Users\\blankenw\\AppData\\Local\\Temp\\ipykernel_8948\\781936935.py:47: RuntimeWarning: invalid value encountered in scalar power\n",
      "  eq12=c_0+i-np.exp(a_0)*n_0**(1-alf)*s_0**alf*k**alf\n"
     ]
    },
    {
     "data": {
      "text/plain": [
       "{'n_0': 0.2663052775252695,\n",
       " 'n_1': 0.3464036584238632,\n",
       " 'n_2': 0.38729106405086733,\n",
       " 's_0': 0.26630527753323957,\n",
       " 's_1': 0.3464036584845492,\n",
       " 's_2': 0.38729106398221125,\n",
       " 'k': 2.4305705489991745,\n",
       " 'k_0': 2.4305705490651044,\n",
       " 'k_1': 2.4305705488325544,\n",
       " 'k_2': 2.4305705490197496,\n",
       " 'c_0': 0.22608145725018503,\n",
       " 'c_1': 0.4521629144531625,\n",
       " 'c_2': 0.5055335068616944,\n",
       " 'i': 0.12152852744995817,\n",
       " 'y_0': 0.3476099847001432,\n",
       " 'y': 1.3053064061132793,\n",
       " 'r': 1.1111111111196683,\n",
       " 'tot': 0,\n",
       " 'sc': 0,\n",
       " 'win': 0,\n",
       " 'p_0': 1,\n",
       " 'p_1': 1,\n",
       " 'p_2': 1,\n",
       " 'ex_0': 1,\n",
       " 'ex_1': 1,\n",
       " 'ex_2': 1,\n",
       " 'exb_0': 0,\n",
       " 'exb_1': 0,\n",
       " 'exb_2': 0,\n",
       " 'a_0': 0,\n",
       " 'a_1': 0,\n",
       " 'a_2': 0}"
      ]
     },
     "execution_count": 5,
     "metadata": {},
     "output_type": "execute_result"
    }
   ],
   "source": [
    "initial_guess = [.3,.3,.3,.3,.3,.3,3,.3,.3,.3,.3,.3,.3,0]\n",
    "def solve_equations(params):\n",
    "    \n",
    "    sol = root(equations, initial_guess, args=(ss_params,))\n",
    "    \n",
    "    # Extract the solution vector\n",
    "    n_0,n_1,n_2,s_0,s_1,s_2,k,k_0,k_1,k_2,c_0,c_1,c_2,i = sol.x\n",
    "    eps,tht,alf,bet,om_0,om_1,om_2,delt,psi_k,psi_n,a_0,a_1,a_2 = assign_params(params)\n",
    "    \n",
    "    y_0=c_0+i\n",
    "    y=y_0+om_1/om_0*(c_1/c_0)**(-1/eps)*c_1+om_2/om_0*(c_2/c_0)**(-1/eps)*c_2\n",
    "    r=np.exp(a_0)*alf*k**(alf-1)*(s_0/n_0)**alf+1-delt\n",
    "    tot=0\n",
    "    sc=0\n",
    "    win=0\n",
    "    p_0=1\n",
    "    p_1=1\n",
    "    p_2=1\n",
    "    ex_0=1\n",
    "    ex_1=1\n",
    "    ex_2=1\n",
    "    exb_0=0\n",
    "    exb_1=0\n",
    "    exb_2=0\n",
    "    a_0=0\n",
    "    a_1=0\n",
    "    a_2=0\n",
    "    ss_dict = {\n",
    "    'n_0': n_0,\n",
    "    'n_1': n_1,\n",
    "    'n_2': n_2,\n",
    "    's_0': s_0,\n",
    "    's_1': s_1,\n",
    "    's_2': s_2,    \n",
    "    'k': k,\n",
    "    'k_0': k_0,\n",
    "    'k_1': k_1,\n",
    "    'k_2': k_2,\n",
    "    'c_0': c_0,\n",
    "    'c_1': c_1,\n",
    "    'c_2': c_2,\n",
    "    'i': i,\n",
    "    'y_0':y_0,\n",
    "    'y': y,\n",
    "    'r': r,\n",
    "    'tot':tot,\n",
    "    'sc':sc,\n",
    "    'win':win,\n",
    "    'p_0':p_0,\n",
    "    'p_1':p_1,\n",
    "    'p_2':p_2,\n",
    "    'ex_0':ex_0,\n",
    "    'ex_1':ex_1,\n",
    "    'ex_2':ex_2,\n",
    "    'exb_0':exb_0,\n",
    "    'exb_1':exb_1,\n",
    "    'exb_2':exb_2,\n",
    "     \n",
    "    \n",
    "    \n",
    "        \n",
    "    'a_0': a_0,\n",
    "    'a_1': a_1,\n",
    "    'a_2': a_2\n",
    "    }\n",
    "    return sol, ss_dict\n",
    "    \n",
    "\n",
    "# Call the wrapper function\n",
    "sol, ss_dict=solve_equations(ss_params)\n",
    "print(sol)\n",
    "ss_dict\n"
   ]
  },
  {
   "cell_type": "code",
   "execution_count": null,
   "metadata": {},
   "outputs": [],
   "source": []
  },
  {
   "cell_type": "code",
   "execution_count": 6,
   "metadata": {},
   "outputs": [
    {
     "name": "stdout",
     "output_type": "stream",
     "text": [
      "{'n_0': -1.3231119683891552, 'n_1': -1.0601505410798138, 'n_2': -0.9485787651498407, 's_0': -1.323111968359227, 's_1': -1.0601505409046252, 's_2': -0.9485787653271133, 'k': 0.8881260236195211, 'k_0': 0.8881260236466464, 'k_1': 0.8881260235509693, 'k_2': 0.8881260236279862, 'c_0': -1.4868599143386987, 'c_1': -0.7937127338831573, 'c_2': -0.6821409581254703, 'i': -2.1076062499344745, 'y_0': -1.0566741613194897, 'y': 0.2664378071714054, 'r': 0.10536051566552779, 'tot': 0, 'sc': 0, 'win': 0, 'p_0': 0.0, 'p_1': 0.0, 'p_2': 0.0, 'ex_0': 0.0, 'ex_1': 0.0, 'ex_2': 0.0, 'exb_0': 0, 'exb_1': 0, 'exb_2': 0, 'a_0': 0, 'a_1': 0, 'a_2': 0}\n"
     ]
    }
   ],
   "source": [
    "# Update the dictionary values\n",
    "for key, value in ss_dict.items():\n",
    "    if value != 0:\n",
    "        ss_dict[key] = np.log(value)\n",
    "\n",
    "# Print the updated dictionary\n",
    "print(ss_dict)"
   ]
  },
  {
   "cell_type": "code",
   "execution_count": 7,
   "metadata": {},
   "outputs": [],
   "source": [
    "def write_dict_to_file(ss_dict, filename):\n",
    "    with open(filename, 'w') as f:\n",
    "        f.write('var \\n')\n",
    "        for key, value in ss_dict.items():\n",
    "            f.write(f'{key}\\n')\n",
    "        f.write(f';\\n\\n\\n')\n",
    "        f.write('varexo \\n')\n",
    "        for key, value in ss_shock.items():\n",
    "            f.write(f'{key}_shock\\n')\n",
    "        f.write(f';\\n\\n\\n')\n",
    "# Call the function\n",
    "write_dict_to_file(ss_dict, 't_vars.m')"
   ]
  },
  {
   "cell_type": "code",
   "execution_count": 8,
   "metadata": {},
   "outputs": [],
   "source": [
    "def write_dict_to_file(ss_dict, filename):\n",
    "    with open(filename, 'w') as f:\n",
    "        f.write('initval;\\n')\n",
    "        for key, value in ss_dict.items():\n",
    "            f.write(f'{key}={value};\\n')\n",
    "        f.write(f'end;\\n\\n\\n')        \n",
    "# Call the function\n",
    "write_dict_to_file(ss_dict, 't_ss.m')"
   ]
  },
  {
   "cell_type": "code",
   "execution_count": 9,
   "metadata": {},
   "outputs": [
    {
     "data": {
      "text/plain": [
       "{'n_0': -1.3231119683891552,\n",
       " 'n_1': -1.0601505410798138,\n",
       " 'n_2': -0.9485787651498407,\n",
       " 's_0': -1.323111968359227,\n",
       " 's_1': -1.0601505409046252,\n",
       " 's_2': -0.9485787653271133,\n",
       " 'k': 0.8881260236195211,\n",
       " 'k_0': 0.8881260236466464,\n",
       " 'k_1': 0.8881260235509693,\n",
       " 'k_2': 0.8881260236279862,\n",
       " 'c_0': -1.4868599143386987,\n",
       " 'c_1': -0.7937127338831573,\n",
       " 'c_2': -0.6821409581254703,\n",
       " 'i': -2.1076062499344745,\n",
       " 'y_0': -1.0566741613194897,\n",
       " 'y': 0.2664378071714054,\n",
       " 'r': 0.10536051566552779,\n",
       " 'tot': 0,\n",
       " 'sc': 0,\n",
       " 'win': 0,\n",
       " 'p_0': 0.0,\n",
       " 'p_1': 0.0,\n",
       " 'p_2': 0.0,\n",
       " 'ex_0': 0.0,\n",
       " 'ex_1': 0.0,\n",
       " 'ex_2': 0.0,\n",
       " 'exb_0': 0,\n",
       " 'exb_1': 0,\n",
       " 'exb_2': 0,\n",
       " 'a_0': 0,\n",
       " 'a_1': 0,\n",
       " 'a_2': 0}"
      ]
     },
     "execution_count": 9,
     "metadata": {},
     "output_type": "execute_result"
    }
   ],
   "source": [
    "ss_dict"
   ]
  },
  {
   "cell_type": "code",
   "execution_count": null,
   "metadata": {},
   "outputs": [],
   "source": []
  },
  {
   "cell_type": "code",
   "execution_count": 10,
   "metadata": {},
   "outputs": [],
   "source": [
    "def write_dict_to_file(params, filename):\n",
    "    \n",
    "    with open(filename, 'w') as f:\n",
    "        f.write('parameters ')\n",
    "        f.write(','.join(f'{key}' for key in params))\n",
    "        f.write(';\\n\\n')\n",
    "        for key, value in params.items():\n",
    "            f.write(f'{key}={value};\\n')\n",
    "\n",
    "# Call the function\n",
    "write_dict_to_file(model_params, 't_parameters.m')"
   ]
  },
  {
   "cell_type": "code",
   "execution_count": 11,
   "metadata": {},
   "outputs": [],
   "source": [
    "def write_dict_to_file(ss_dict, filename):\n",
    "    #variance_list = list(shock_params.values())[:3]\n",
    "    with open(filename, 'w') as f:\n",
    "        f.write('shocks;\\n')\n",
    "        i=0\n",
    "        for key, value in ss_shock.items():\n",
    "            f.write(f'var {key}_shock=var_{key};\\n')\n",
    "            i+=1\n",
    "        f.write(f'\\n')\n",
    "        f.write(f'end;\\n\\n\\n')        \n",
    "# Call the function\n",
    "write_dict_to_file(ss_dict, 't_shocks.m')"
   ]
  },
  {
   "cell_type": "code",
   "execution_count": 12,
   "metadata": {},
   "outputs": [],
   "source": [
    "with open('mf2.pkl', 'wb') as f:\n",
    "    pickle.dump((ss_dict), f)"
   ]
  }
 ],
 "metadata": {
  "kernelspec": {
   "display_name": "Python 3",
   "language": "python",
   "name": "python3"
  },
  "language_info": {
   "codemirror_mode": {
    "name": "ipython",
    "version": 3
   },
   "file_extension": ".py",
   "mimetype": "text/x-python",
   "name": "python",
   "nbconvert_exporter": "python",
   "pygments_lexer": "ipython3",
   "version": "3.11.5"
  }
 },
 "nbformat": 4,
 "nbformat_minor": 2
}
