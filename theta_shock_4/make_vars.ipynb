{
 "cells": [
  {
   "cell_type": "code",
   "execution_count": 1,
   "metadata": {},
   "outputs": [],
   "source": []
  },
  {
   "cell_type": "code",
   "execution_count": 2,
   "metadata": {},
   "outputs": [
    {
     "data": {
      "text/plain": [
       "['c',\n",
       " 'i',\n",
       " 'k',\n",
       " 'y',\n",
       " 'n0',\n",
       " 's0',\n",
       " 'theta0',\n",
       " 'theta1',\n",
       " 'theta2',\n",
       " 'a0',\n",
       " 'a1',\n",
       " 'a2']"
      ]
     },
     "execution_count": 2,
     "metadata": {},
     "output_type": "execute_result"
    }
   ],
   "source": [
    "vars = ['c', 'i', 'k', 'y', 'n0','s0']\n",
    "vars.extend([f'theta{i}' for i in range(n_goods)])\n",
    "vars.extend([f'a{i}' for i in range(n_goods)])\n",
    "vars\n",
    "#params"
   ]
  },
  {
   "cell_type": "code",
   "execution_count": 3,
   "metadata": {},
   "outputs": [
    {
     "data": {
      "text/plain": [
       "['theta0shock', 'theta1shock', 'theta2shock', 'a0shock', 'a1shock', 'a2shock']"
      ]
     },
     "execution_count": 3,
     "metadata": {},
     "output_type": "execute_result"
    }
   ],
   "source": [
    "varexo = []\n",
    "varexo.extend([f'theta{i}shock' for i in range(n_goods)])\n",
    "varexo.extend([f'a{i}shock' for i in range(n_goods)])\n",
    "varexo\n",
    "#params"
   ]
  },
  {
   "cell_type": "code",
   "execution_count": 4,
   "metadata": {},
   "outputs": [],
   "source": [
    "with open('t_vars.m', 'w') as file:\n",
    "    file.write('var \\n')\n",
    "    for var in vars:\n",
    "        file.write(var+'\\n')\n",
    "    file.write(';')\n",
    "    file.write('\\n')\n",
    "    file.write('varexo \\n')\n",
    "    for var in varexo:\n",
    "        file.write(var+'\\n')\n",
    "    file.write(';')"
   ]
  },
  {
   "cell_type": "code",
   "execution_count": null,
   "metadata": {},
   "outputs": [],
   "source": [
    "ss_list=vars+varexo"
   ]
  }
 ],
 "metadata": {
  "kernelspec": {
   "display_name": "Python 3",
   "language": "python",
   "name": "python3"
  },
  "language_info": {
   "codemirror_mode": {
    "name": "ipython",
    "version": 3
   },
   "file_extension": ".py",
   "mimetype": "text/x-python",
   "name": "python",
   "nbconvert_exporter": "python",
   "pygments_lexer": "ipython3",
   "version": "3.11.5"
  }
 },
 "nbformat": 4,
 "nbformat_minor": 2
}
