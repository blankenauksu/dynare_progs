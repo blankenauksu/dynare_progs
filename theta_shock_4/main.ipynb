{
 "cells": [
  {
   "cell_type": "code",
   "execution_count": 1,
   "id": "d963da46",
   "metadata": {},
   "outputs": [
    {
     "name": "stdout",
     "output_type": "stream",
     "text": [
      "warning: function C:\\dynare\\6.1\\matlab\\+identification\\display.m shadows a built-in function\n",
      "warning: called from\n",
      "    _pyeval at line 57 column 30\n",
      "\n",
      "warning: function C:\\dynare\\6.1\\matlab\\+identification\\display.m shadows a built-in function\n",
      "warning: called from\n",
      "    _pyeval at line 57 column 30\n",
      "\n"
     ]
    },
    {
     "data": {
      "text/plain": [
       "'.;C:\\\\Users\\\\blankenw\\\\AppData\\\\Local\\\\anaconda3\\\\Lib\\\\site-packages\\\\oct2py;C:\\\\Users\\\\blankenw\\\\AppData\\\\Local\\\\anaconda3\\\\Lib\\\\site-packages\\\\octave_kernel;C:\\\\Program Files\\\\GNU Octave\\\\Octave-9.1.0\\\\mingw64\\\\lib\\\\octave\\\\9.1.0\\\\site\\\\oct\\\\x86_64-w64-mingw32;C:\\\\Program Files\\\\GNU Octave\\\\Octave-9.1.0\\\\mingw64\\\\lib\\\\octave\\\\site\\\\oct\\\\api-v59\\\\x86_64-w64-mingw32;C:\\\\Program Files\\\\GNU Octave\\\\Octave-9.1.0\\\\mingw64\\\\lib\\\\octave\\\\site\\\\oct\\\\x86_64-w64-mingw32;C:\\\\Program Files\\\\GNU Octave\\\\Octave-9.1.0\\\\mingw64\\\\share\\\\octave\\\\9.1.0\\\\site\\\\m;C:\\\\Program Files\\\\GNU Octave\\\\Octave-9.1.0\\\\mingw64\\\\share\\\\octave\\\\site\\\\api-v59\\\\m;C:\\\\Program Files\\\\GNU Octave\\\\Octave-9.1.0\\\\mingw64\\\\share\\\\octave\\\\site\\\\m;C:\\\\Program Files\\\\GNU Octave\\\\Octave-9.1.0\\\\mingw64\\\\share\\\\octave\\\\site\\\\m\\\\once_only;C:\\\\Program Files\\\\GNU Octave\\\\Octave-9.1.0\\\\mingw64\\\\share\\\\octave\\\\site\\\\m\\\\startup;C:\\\\Program Files\\\\GNU Octave\\\\Octave-9.1.0\\\\mingw64\\\\lib\\\\octave\\\\9.1.0\\\\oct\\\\x86_64-w64-mingw32;C:\\\\Program Files\\\\GNU Octave\\\\Octave-9.1.0\\\\mingw64\\\\share\\\\octave\\\\9.1.0\\\\m;C:\\\\Program Files\\\\GNU Octave\\\\Octave-9.1.0\\\\mingw64\\\\share\\\\octave\\\\9.1.0\\\\m\\\\audio;C:\\\\Program Files\\\\GNU Octave\\\\Octave-9.1.0\\\\mingw64\\\\share\\\\octave\\\\9.1.0\\\\m\\\\deprecated;C:\\\\Program Files\\\\GNU Octave\\\\Octave-9.1.0\\\\mingw64\\\\share\\\\octave\\\\9.1.0\\\\m\\\\elfun;C:\\\\Program Files\\\\GNU Octave\\\\Octave-9.1.0\\\\mingw64\\\\share\\\\octave\\\\9.1.0\\\\m\\\\general;C:\\\\Program Files\\\\GNU Octave\\\\Octave-9.1.0\\\\mingw64\\\\share\\\\octave\\\\9.1.0\\\\m\\\\geometry;C:\\\\Program Files\\\\GNU Octave\\\\Octave-9.1.0\\\\mingw64\\\\share\\\\octave\\\\9.1.0\\\\m\\\\gui;C:\\\\Program Files\\\\GNU Octave\\\\Octave-9.1.0\\\\mingw64\\\\share\\\\octave\\\\9.1.0\\\\m\\\\help;C:\\\\Program Files\\\\GNU Octave\\\\Octave-9.1.0\\\\mingw64\\\\share\\\\octave\\\\9.1.0\\\\m\\\\image;C:\\\\Program Files\\\\GNU Octave\\\\Octave-9.1.0\\\\mingw64\\\\share\\\\octave\\\\9.1.0\\\\m\\\\io;C:\\\\Program Files\\\\GNU Octave\\\\Octave-9.1.0\\\\mingw64\\\\share\\\\octave\\\\9.1.0\\\\m\\\\java;C:\\\\Program Files\\\\GNU Octave\\\\Octave-9.1.0\\\\mingw64\\\\share\\\\octave\\\\9.1.0\\\\m\\\\legacy;C:\\\\Program Files\\\\GNU Octave\\\\Octave-9.1.0\\\\mingw64\\\\share\\\\octave\\\\9.1.0\\\\m\\\\linear-algebra;C:\\\\Program Files\\\\GNU Octave\\\\Octave-9.1.0\\\\mingw64\\\\share\\\\octave\\\\9.1.0\\\\m\\\\miscellaneous;C:\\\\Program Files\\\\GNU Octave\\\\Octave-9.1.0\\\\mingw64\\\\share\\\\octave\\\\9.1.0\\\\m\\\\ode;C:\\\\Program Files\\\\GNU Octave\\\\Octave-9.1.0\\\\mingw64\\\\share\\\\octave\\\\9.1.0\\\\m\\\\optimization;C:\\\\Program Files\\\\GNU Octave\\\\Octave-9.1.0\\\\mingw64\\\\share\\\\octave\\\\9.1.0\\\\m\\\\path;C:\\\\Program Files\\\\GNU Octave\\\\Octave-9.1.0\\\\mingw64\\\\share\\\\octave\\\\9.1.0\\\\m\\\\pkg;C:\\\\Program Files\\\\GNU Octave\\\\Octave-9.1.0\\\\mingw64\\\\share\\\\octave\\\\9.1.0\\\\m\\\\plot;C:\\\\Program Files\\\\GNU Octave\\\\Octave-9.1.0\\\\mingw64\\\\share\\\\octave\\\\9.1.0\\\\m\\\\plot\\\\appearance;C:\\\\Program Files\\\\GNU Octave\\\\Octave-9.1.0\\\\mingw64\\\\share\\\\octave\\\\9.1.0\\\\m\\\\plot\\\\draw;C:\\\\Program Files\\\\GNU Octave\\\\Octave-9.1.0\\\\mingw64\\\\share\\\\octave\\\\9.1.0\\\\m\\\\plot\\\\util;C:\\\\Program Files\\\\GNU Octave\\\\Octave-9.1.0\\\\mingw64\\\\share\\\\octave\\\\9.1.0\\\\m\\\\polynomial;C:\\\\Program Files\\\\GNU Octave\\\\Octave-9.1.0\\\\mingw64\\\\share\\\\octave\\\\9.1.0\\\\m\\\\prefs;C:\\\\Program Files\\\\GNU Octave\\\\Octave-9.1.0\\\\mingw64\\\\share\\\\octave\\\\9.1.0\\\\m\\\\profiler;C:\\\\Program Files\\\\GNU Octave\\\\Octave-9.1.0\\\\mingw64\\\\share\\\\octave\\\\9.1.0\\\\m\\\\set;C:\\\\Program Files\\\\GNU Octave\\\\Octave-9.1.0\\\\mingw64\\\\share\\\\octave\\\\9.1.0\\\\m\\\\signal;C:\\\\Program Files\\\\GNU Octave\\\\Octave-9.1.0\\\\mingw64\\\\share\\\\octave\\\\9.1.0\\\\m\\\\sparse;C:\\\\Program Files\\\\GNU Octave\\\\Octave-9.1.0\\\\mingw64\\\\share\\\\octave\\\\9.1.0\\\\m\\\\specfun;C:\\\\Program Files\\\\GNU Octave\\\\Octave-9.1.0\\\\mingw64\\\\share\\\\octave\\\\9.1.0\\\\m\\\\special-matrix;C:\\\\Program Files\\\\GNU Octave\\\\Octave-9.1.0\\\\mingw64\\\\share\\\\octave\\\\9.1.0\\\\m\\\\startup;C:\\\\Program Files\\\\GNU Octave\\\\Octave-9.1.0\\\\mingw64\\\\share\\\\octave\\\\9.1.0\\\\m\\\\statistics;C:\\\\Program Files\\\\GNU Octave\\\\Octave-9.1.0\\\\mingw64\\\\share\\\\octave\\\\9.1.0\\\\m\\\\strings;C:\\\\Program Files\\\\GNU Octave\\\\Octave-9.1.0\\\\mingw64\\\\share\\\\octave\\\\9.1.0\\\\m\\\\testfun;C:\\\\Program Files\\\\GNU Octave\\\\Octave-9.1.0\\\\mingw64\\\\share\\\\octave\\\\9.1.0\\\\m\\\\time;C:\\\\Program Files\\\\GNU Octave\\\\Octave-9.1.0\\\\mingw64\\\\share\\\\octave\\\\9.1.0\\\\m\\\\web;C:\\\\Program Files\\\\GNU Octave\\\\Octave-9.1.0\\\\mingw64\\\\share\\\\octave\\\\9.1.0\\\\data'"
      ]
     },
     "execution_count": 1,
     "metadata": {},
     "output_type": "execute_result"
    }
   ],
   "source": [
    "#!pip install --upgrade oct2py\n",
    "import numpy as np\n",
    "from oct2py import octave\n",
    "import matplotlib.pyplot as plt\n",
    "import os\n",
    "import pandas as pd\n",
    "octave.addpath('C:/dynare/6.1/matlab')  \n",
    "#octave.addpath('/opt/homebrew/opt/dynare/lib/dynare/matlab')"
   ]
  },
  {
   "cell_type": "code",
   "execution_count": 2,
   "id": "dd4b8edc",
   "metadata": {},
   "outputs": [],
   "source": [
    "n_goods=3"
   ]
  },
  {
   "cell_type": "code",
   "execution_count": 3,
   "id": "f2fe4306",
   "metadata": {},
   "outputs": [],
   "source": [
    "with open('t_call.m', 'w') as file:\n",
    "    file.write(\"stoch_simul(nograph, order=1, periods=10000, irf=100);\")"
   ]
  },
  {
   "cell_type": "code",
   "execution_count": 4,
   "id": "eff43076",
   "metadata": {},
   "outputs": [],
   "source": [
    "%run make_model.ipynb\n",
    "%run make_vars.ipynb\n",
    "%run make_parameters_and_shocks.ipynb\n",
    "%run make_steady_state.ipynb\n"
   ]
  },
  {
   "cell_type": "markdown",
   "id": "4df08aa0",
   "metadata": {},
   "source": [
    "Makes a call to Octave, which makes a call to Dynare. Then the `.mod` file is run in Dynare. Output from Dynare is displayed as it runs."
   ]
  },
  {
   "cell_type": "code",
   "execution_count": 5,
   "id": "9834c245",
   "metadata": {},
   "outputs": [
    {
     "name": "stdout",
     "output_type": "stream",
     "text": [
      "warning: function C:\\dynare\\6.1\\matlab\\+identification\\display.m shadows a built-in function\n",
      "warning: function C:\\dynare\\6.1\\matlab\\+identification\\display.m shadows a built-in function\n",
      "warning: function C:\\dynare\\6.1\\matlab\\+identification\\display.m shadows a built-in function\n",
      "Starting Dynare (version 6.1).\n",
      "Calling Dynare with arguments: none\n",
      "Starting preprocessing of the model file ...\n",
      "WARNING: in the 'steady_state_model' block, variable 'k' is declared twice\n",
      "WARNING: in the 'steady_state_model' block, variable 'i' is declared twice\n",
      "WARNING: in the 'steady_state_model' block, variable 'n0' is declared twice\n",
      "WARNING: in the 'steady_state_model' block, variable 'y' is declared twice\n",
      "WARNING: in the 'steady_state_model' block, variable 'c' is declared twice\n",
      "WARNING: in the 'steady_state_model' block, variable 's0' is declared twice\n",
      "Found 12 equation(s).\n",
      "Evaluating expressions...\n",
      "Computing static model derivatives (order 1).\n",
      "Normalizing the static model...\n",
      "Finding the optimal block decomposition of the static model...\n",
      "7 block(s) found:\n",
      "  6 recursive block(s) and 1 simultaneous block(s).\n",
      "  the largest simultaneous block has 6 equation(s)\n",
      "                                 and 6 feedback variable(s).\n",
      "Computing dynamic model derivatives (order 1).\n",
      "Normalizing the dynamic model...\n",
      "Finding the optimal block decomposition of the dynamic model...\n",
      "2 block(s) found:\n",
      "  1 recursive block(s) and 1 simultaneous block(s).\n",
      "  the largest simultaneous block has 6 equation(s)\n",
      "                                 and 6 feedback variable(s).\n",
      "Preprocessing completed.\n",
      "Preprocessing time: 0h00m00s.\n",
      "\n",
      "resid: The initial values for the steady state of the following variables are complex:\n",
      "n0\n",
      "s0\n",
      "\n",
      "\n",
      "Residuals of the static equations:\n",
      "Equation number  1: 1      :       0.000000\n",
      "Equation number  2: 2      :       0.663215\n",
      "Equation number  3: 3      :       1.546192\n",
      "Equation number  4: 4      :       0.262839\n",
      "Equation number  5: 5      :       0.012039\n",
      "Equation number  6: i      :       0.000000\n",
      "Equation number  7: a0     :       0.000000\n",
      "Equation number  8: a1     :       0.000000\n",
      "Equation number  9: a2     :       0.000000\n",
      "Equation number 10: theta0 :       0.000000\n",
      "Equation number 11: theta1 :       0.000000\n",
      "Equation number 12: theta2 :       0.000000\n",
      "\n",
      "\n"
     ]
    },
    {
     "ename": "Oct2PyError",
     "evalue": "Octave evaluation error:\nerror: The steadystate file did not compute the steady state\nerror: called from:\n    print_info at line 33, column 5\n    steady at line 143, column 5\n    driver at line 567, column 1\n    dynare at line 310, column 5",
     "output_type": "error",
     "traceback": [
      "\u001b[1;31m---------------------------------------------------------------------------\u001b[0m",
      "\u001b[1;31mOct2PyError\u001b[0m                               Traceback (most recent call last)",
      "Cell \u001b[1;32mIn[5], line 1\u001b[0m\n\u001b[1;32m----> 1\u001b[0m octave\u001b[38;5;241m.\u001b[39mdynare(\u001b[38;5;124m'\u001b[39m\u001b[38;5;124mmodel_1.mod\u001b[39m\u001b[38;5;124m'\u001b[39m)\n\u001b[0;32m      2\u001b[0m oo \u001b[38;5;241m=\u001b[39m octave\u001b[38;5;241m.\u001b[39mpull(\u001b[38;5;124m'\u001b[39m\u001b[38;5;124moo_\u001b[39m\u001b[38;5;124m'\u001b[39m)\n\u001b[0;32m      3\u001b[0m mm \u001b[38;5;241m=\u001b[39m octave\u001b[38;5;241m.\u001b[39mpull(\u001b[38;5;124m'\u001b[39m\u001b[38;5;124mM_\u001b[39m\u001b[38;5;124m'\u001b[39m)\n",
      "File \u001b[1;32mc:\\Users\\blankenw\\AppData\\Local\\anaconda3\\Lib\\site-packages\\oct2py\\dynamic.py:111\u001b[0m, in \u001b[0;36mOctaveFunctionPtr.__call__\u001b[1;34m(self, *inputs, **kwargs)\u001b[0m\n\u001b[0;32m    107\u001b[0m     warnings\u001b[38;5;241m.\u001b[39mwarn(\u001b[38;5;124m\"\u001b[39m\u001b[38;5;124mKey - value pairs are deprecated, use `func_args`\u001b[39m\u001b[38;5;124m\"\u001b[39m, stacklevel\u001b[38;5;241m=\u001b[39m\u001b[38;5;241m2\u001b[39m)\n\u001b[0;32m    109\u001b[0m inputs \u001b[38;5;241m+\u001b[39m\u001b[38;5;241m=\u001b[39m \u001b[38;5;28mtuple\u001b[39m(item \u001b[38;5;28;01mfor\u001b[39;00m pair \u001b[38;5;129;01min\u001b[39;00m extras\u001b[38;5;241m.\u001b[39mitems() \u001b[38;5;28;01mfor\u001b[39;00m item \u001b[38;5;129;01min\u001b[39;00m pair)\n\u001b[1;32m--> 111\u001b[0m \u001b[38;5;28;01mreturn\u001b[39;00m \u001b[38;5;28mself\u001b[39m\u001b[38;5;241m.\u001b[39m_ref()\u001b[38;5;241m.\u001b[39mfeval(\u001b[38;5;28mself\u001b[39m\u001b[38;5;241m.\u001b[39mname, \u001b[38;5;241m*\u001b[39minputs, \u001b[38;5;241m*\u001b[39m\u001b[38;5;241m*\u001b[39mkwargs)\n",
      "File \u001b[1;32mc:\\Users\\blankenw\\AppData\\Local\\anaconda3\\Lib\\site-packages\\oct2py\\core.py:403\u001b[0m, in \u001b[0;36mOct2Py.feval\u001b[1;34m(self, func_path, *func_args, **kwargs)\u001b[0m\n\u001b[0;32m    400\u001b[0m \u001b[38;5;28;01mif\u001b[39;00m \u001b[38;5;129;01mnot\u001b[39;00m stream_handler:\n\u001b[0;32m    401\u001b[0m     stream_handler \u001b[38;5;241m=\u001b[39m \u001b[38;5;28mself\u001b[39m\u001b[38;5;241m.\u001b[39mlogger\u001b[38;5;241m.\u001b[39minfo \u001b[38;5;28;01mif\u001b[39;00m verbose \u001b[38;5;28;01melse\u001b[39;00m \u001b[38;5;28mself\u001b[39m\u001b[38;5;241m.\u001b[39mlogger\u001b[38;5;241m.\u001b[39mdebug\n\u001b[1;32m--> 403\u001b[0m \u001b[38;5;28;01mreturn\u001b[39;00m \u001b[38;5;28mself\u001b[39m\u001b[38;5;241m.\u001b[39m_feval(\n\u001b[0;32m    404\u001b[0m     func_name,\n\u001b[0;32m    405\u001b[0m     func_args,\n\u001b[0;32m    406\u001b[0m     dname\u001b[38;5;241m=\u001b[39mdname,\n\u001b[0;32m    407\u001b[0m     nout\u001b[38;5;241m=\u001b[39mnout,\n\u001b[0;32m    408\u001b[0m     timeout\u001b[38;5;241m=\u001b[39mtimeout,\n\u001b[0;32m    409\u001b[0m     stream_handler\u001b[38;5;241m=\u001b[39mstream_handler,\n\u001b[0;32m    410\u001b[0m     store_as\u001b[38;5;241m=\u001b[39mstore_as,\n\u001b[0;32m    411\u001b[0m     plot_dir\u001b[38;5;241m=\u001b[39mplot_dir,\n\u001b[0;32m    412\u001b[0m )\n",
      "File \u001b[1;32mc:\\Users\\blankenw\\AppData\\Local\\anaconda3\\Lib\\site-packages\\oct2py\\core.py:648\u001b[0m, in \u001b[0;36mOct2Py._feval\u001b[1;34m(self, func_name, func_args, dname, nout, timeout, stream_handler, store_as, plot_dir)\u001b[0m\n\u001b[0;32m    646\u001b[0m \u001b[38;5;28;01mif\u001b[39;00m resp[\u001b[38;5;124m\"\u001b[39m\u001b[38;5;124merr\u001b[39m\u001b[38;5;124m\"\u001b[39m]:\n\u001b[0;32m    647\u001b[0m     msg \u001b[38;5;241m=\u001b[39m \u001b[38;5;28mself\u001b[39m\u001b[38;5;241m.\u001b[39m_parse_error(resp[\u001b[38;5;124m\"\u001b[39m\u001b[38;5;124merr\u001b[39m\u001b[38;5;124m\"\u001b[39m])\n\u001b[1;32m--> 648\u001b[0m     \u001b[38;5;28;01mraise\u001b[39;00m Oct2PyError(msg)\n\u001b[0;32m    650\u001b[0m result \u001b[38;5;241m=\u001b[39m resp[\u001b[38;5;124m\"\u001b[39m\u001b[38;5;124mresult\u001b[39m\u001b[38;5;124m\"\u001b[39m]\u001b[38;5;241m.\u001b[39mravel()\u001b[38;5;241m.\u001b[39mtolist()\n\u001b[0;32m    651\u001b[0m \u001b[38;5;28;01mif\u001b[39;00m \u001b[38;5;28misinstance\u001b[39m(result, \u001b[38;5;28mlist\u001b[39m) \u001b[38;5;129;01mand\u001b[39;00m \u001b[38;5;28mlen\u001b[39m(result) \u001b[38;5;241m==\u001b[39m \u001b[38;5;241m1\u001b[39m:\n",
      "\u001b[1;31mOct2PyError\u001b[0m: Octave evaluation error:\nerror: The steadystate file did not compute the steady state\nerror: called from:\n    print_info at line 33, column 5\n    steady at line 143, column 5\n    driver at line 567, column 1\n    dynare at line 310, column 5"
     ]
    }
   ],
   "source": [
    "octave.dynare('model_1.mod')\n",
    "oo = octave.pull('oo_')\n",
    "mm = octave.pull('M_')"
   ]
  },
  {
   "cell_type": "markdown",
   "id": "4c9eefdb",
   "metadata": {},
   "source": []
  },
  {
   "cell_type": "code",
   "execution_count": null,
   "id": "90c84ba3",
   "metadata": {},
   "outputs": [],
   "source": [
    "names1 = [attr for attr in dir(oo) if not attr.startswith('__')]"
   ]
  },
  {
   "cell_type": "markdown",
   "id": "b7cf3a5b",
   "metadata": {},
   "source": [
    "Now we want to create a class where each each attribute in oo becomes an attribute of this class. So far we take only one item from mm. This is a list of endogenous variables. Below we define the class. "
   ]
  },
  {
   "cell_type": "code",
   "execution_count": null,
   "id": "5fa6cb99",
   "metadata": {},
   "outputs": [],
   "source": [
    "class from_octave:\n",
    "\tdef __init__(self, oo_structure, mm_structure, attribute_names):\n",
    "\t\tself.oo_structure = oo_structure\n",
    "\t\tself.mm_structure = mm_structure\n",
    "\t\tself. attribute_names =  attribute_names\n",
    "\t\tself.create_attributes()\n",
    "\t\tself.make_list()\n",
    "     \n",
    "\tdef create_attributes(self): \n",
    "\t\tfor attr in self.attribute_names:\n",
    "\t\t\tsetattr(self, attr, getattr(self.oo_structure, attr)) #this is the attributes we pull from the oo structure. We are making them attributes of the class\n",
    "\t\n",
    "\tdef make_list(self): \n",
    "\t\tself.names = list(getattr(self.mm_structure, 'endo_names')) #getting one item from the mm structure. This is the endo_names\n",
    "\t\tself.names = [item[0] for item in self.names] #pulling mm gives us a list of cell arrays. We are pulling the first item from each cell array"
   ]
  },
  {
   "cell_type": "markdown",
   "id": "23f0db67",
   "metadata": {},
   "source": [
    "We see that we now can reference any of the data from `oo` with the `tt.` notation. Some examples are below. "
   ]
  },
  {
   "cell_type": "code",
   "execution_count": null,
   "id": "27969a0b",
   "metadata": {},
   "outputs": [],
   "source": [
    "tt = from_octave(oo, mm, names1)"
   ]
  },
  {
   "cell_type": "code",
   "execution_count": null,
   "id": "8abdd482",
   "metadata": {},
   "outputs": [],
   "source": [
    "dir(tt)"
   ]
  },
  {
   "cell_type": "markdown",
   "id": "cb31b483",
   "metadata": {},
   "source": [
    "We will care about the irfs but these are also of type `oct2py.io.Struct`. We convert it as above. We will likley make this part of the above class later, but for now we create a new class. "
   ]
  },
  {
   "cell_type": "code",
   "execution_count": null,
   "id": "206f69a0",
   "metadata": {},
   "outputs": [],
   "source": [
    "names2 = [attr for attr in dir(tt.irfs) if attr.endswith('shock')]\n",
    "#names2 = [x for _, x in sorted(zip(tt.names, names2), key=lambda pair: pair[0][0])]"
   ]
  },
  {
   "cell_type": "markdown",
   "id": "515a9b6b",
   "metadata": {},
   "source": [
    "I will put more desciptors here later. However, it is getting the impulse responses as difference and levels. It is simultanosuly creating two dataframes containing all differences and levels data.  "
   ]
  },
  {
   "cell_type": "code",
   "execution_count": null,
   "id": "49746306",
   "metadata": {},
   "outputs": [],
   "source": [
    "#recall make_levels is created in simpler ffolder\n",
    "import numpy as np\n",
    "import pandas as np\n",
    "class make_irfs:\n",
    "\tdef __init__(self, dta, vars, names):\n",
    "\t\tself.data = dta\n",
    "\t\tself.vars = vars\n",
    "\t\tself.names = names\n",
    "\t\tself.create_difs()\n",
    "\t\t\n",
    "  \t\n",
    "\tdef create_difs(self):\n",
    "\t\tfor var in self.vars:\n",
    "\t\t\tsetattr(self, var, pd.DataFrame())  # Initialize an empty DataFrame with the dynamic name\n",
    "\t\t\tlist_short = [name for name in self.names if name.startswith(var)]\n",
    "\t\t\tfor attr in list_short:\n",
    "\t\t\t\tx = getattr(self.data, attr)\n",
    "\t\t\t\tx = x.flatten()\n",
    "\t\t\t\tgetattr(self, var)[attr] = x  # Assign the flattened array to the DataFrame\n",
    "\t\t\t\tnew_columns = [col.replace(var + '_', '').replace('shock', '') for col in getattr(self, var).columns]\n",
    "\t\t\t\tgetattr(self, var).columns = new_columns\n",
    "    \n",
    "    \n",
    "\n"
   ]
  },
  {
   "cell_type": "code",
   "execution_count": null,
   "id": "bb7b2730",
   "metadata": {},
   "outputs": [],
   "source": [
    "varlist=['c','i','y','k','n0','s0']"
   ]
  },
  {
   "cell_type": "code",
   "execution_count": null,
   "id": "9a8181ab",
   "metadata": {},
   "outputs": [],
   "source": [
    "ir.data"
   ]
  },
  {
   "cell_type": "code",
   "execution_count": null,
   "id": "c217835f",
   "metadata": {},
   "outputs": [],
   "source": [
    "ir = make_irfs(tt.irfs,varlist, names2)\n",
    "print(ir.__dict__.keys())"
   ]
  },
  {
   "cell_type": "code",
   "execution_count": null,
   "id": "26f64d6c",
   "metadata": {},
   "outputs": [],
   "source": [
    "dir(ir)"
   ]
  },
  {
   "cell_type": "markdown",
   "id": "f4e22670",
   "metadata": {},
   "source": [
    "Lets get a sense of what we have. "
   ]
  },
  {
   "cell_type": "markdown",
   "id": "93178404",
   "metadata": {},
   "source": [
    "This will also need more documentation, but it is getting the results of dynare's simulation. It defines the individual series and also puts all in a dataframe. "
   ]
  },
  {
   "cell_type": "code",
   "execution_count": null,
   "id": "97eaa48c",
   "metadata": {},
   "outputs": [],
   "source": [
    "import numpy as np\n",
    "\n",
    "class make_data:\n",
    "\tdef __init__(self, dta,names):\n",
    "\t\tself.data = dta\n",
    "\t\tself.names = names\n",
    "\t\tself.make_levels()\n",
    "\t\tself.make_raw()\n",
    "\n",
    "\tdef make_raw(self):\n",
    "\t\tself.df_raw = pd.DataFrame()  # Initialize an empty DataFrame\n",
    "\t\tfor j,attr in enumerate(self.names):\n",
    "\t\t\tattr=self.names[j]\n",
    "\t\t\tnew_attr =attr + 'r'\n",
    "\t\t\traw_level = self.data[j]\n",
    "\t\t\tsetattr(self, new_attr, raw_level)\n",
    "\t\t\tself.df_raw[new_attr] = raw_level\n",
    "\t\t\t\n",
    "  \t\t\n",
    "\tdef make_levels(self):\n",
    "\t\tself.df = pd.DataFrame()  # Initialize an empty DataFrame\n",
    "\t\tfor j,attr in enumerate(self.names):\n",
    "\t\t\tattr=self.names[j]\n",
    "\t\t\traw_level = self.data[j]\n",
    "\t\t\tif attr != 'i' and 'theta' not in attr:\n",
    "\t\t\t\tcurrent_level=np.exp(raw_level)\n",
    "\t\t\telse:\n",
    "\t\t\t\tcurrent_level=raw_level\n",
    "\t\t\tsetattr(self, attr, current_level)\n",
    "\t\t\tself.df[attr] = current_level  # Store in DataFrame\n",
    "\n"
   ]
  },
  {
   "cell_type": "code",
   "execution_count": null,
   "id": "62dfa68c",
   "metadata": {},
   "outputs": [],
   "source": [
    "eg=make_data(tt.endo_simul,tt.names)"
   ]
  },
  {
   "cell_type": "code",
   "execution_count": null,
   "id": "eec8e778",
   "metadata": {},
   "outputs": [],
   "source": [
    "eg.df"
   ]
  },
  {
   "cell_type": "code",
   "execution_count": null,
   "id": "4291fac5",
   "metadata": {},
   "outputs": [],
   "source": [
    "eg.df.describe()"
   ]
  },
  {
   "cell_type": "code",
   "execution_count": null,
   "id": "2e8058a9",
   "metadata": {},
   "outputs": [],
   "source": [
    "def x_find(g,tt):\n",
    "    thetag='theta'+str(g)\n",
    "    ag='a'+str(g)\n",
    "    omegag='omega'+str(g)\n",
    "    thetai=eg.df[thetag][tt]\n",
    "    theta0=eg.df['theta0'][tt]\n",
    "    \n",
    "    \n",
    "    ai=eg.df[ag][tt]\n",
    "    a0=eg.df['a0'][tt]\n",
    "    k=eg.df['k'][tt-1]\n",
    "    s0=eg.df['s0'][tt]\n",
    "    n0=eg.df['n0'][tt]\n",
    "    theta0=eg.df['theta0'][tt]\n",
    "    eps=params['eps']\n",
    "    omegai=params[omegag]\n",
    "    omega0=params['omega0']\n",
    "    \n",
    "    x=(k*s0/n0)**((theta0-thetai)*(1-eps))*(omegai/omega0)**eps* \\\n",
    "    ((a0)**(1-theta0)/(ai)**(1-thetai)*(theta0/thetai)**thetai*((1-theta0)/(1-thetai))**(1-thetai))**(1-eps)\n",
    "    \n",
    "    return x"
   ]
  },
  {
   "cell_type": "code",
   "execution_count": null,
   "id": "79517414",
   "metadata": {},
   "outputs": [],
   "source": [
    "def X_find(t):\n",
    "    X=0\n",
    "    for g in range(0,n_goods):\n",
    "        X+=x_find(g,t)\n",
    "    return X"
   ]
  },
  {
   "cell_type": "code",
   "execution_count": null,
   "id": "403d19ab",
   "metadata": {},
   "outputs": [],
   "source": [
    "def Z_find(t):\n",
    "    Z=0\n",
    "    for g in range(0,n_goods):\n",
    "        thetag='theta'+str(g)\n",
    "        thetai=eg.df[thetag][t]\n",
    "        Z+=x_find(g,t)*thetai\n",
    "    return Z"
   ]
  },
  {
   "cell_type": "code",
   "execution_count": null,
   "id": "f634fa59",
   "metadata": {},
   "outputs": [],
   "source": [
    "eg.df['X'] = [X_find(t) if t > 0 else np.nan for t in range(eg.df.shape[0])]\n",
    "eg.df['Z'] = [Z_find(t) if t > 0 else np.nan for t in range(eg.df.shape[0])]\n",
    "eg.df['Q']=(eg.df['Z']-eg.df['theta0']*eg.df['X'])/eg.df['X']"
   ]
  },
  {
   "cell_type": "code",
   "execution_count": null,
   "id": "3ec43f23",
   "metadata": {},
   "outputs": [],
   "source": [
    "def py_n(tt,g):\n",
    "    \n",
    "    thetag='theta'+str(g)\n",
    "    thetai=eg.df[thetag][tt]\n",
    "    theta0=eg.df['theta0'][tt]\n",
    "    a0=eg.df['a0'][tt]\n",
    "    s0=eg.df['s0'][tt]\n",
    "    n0=eg.df['n0'][tt]\n",
    "    k=eg.df['k'][tt-1]\n",
    "    prod=(1-theta0)*a0**(1-theta0)*k**theta0*(s0/n0)**theta0/(1-thetai)\n",
    "    return prod"
   ]
  },
  {
   "cell_type": "code",
   "execution_count": null,
   "id": "684c77b4",
   "metadata": {},
   "outputs": [],
   "source": [
    "def n_i(tt,g):\n",
    "    \n",
    "    thetag='theta'+str(g)\n",
    "    thetai=eg.df[thetag][tt]\n",
    "    theta0=eg.df['theta0'][tt]\n",
    "    y=eg.df['y'][tt]\n",
    "    c=eg.df['c'][tt]\n",
    "    X=eg.df['X'][tt]\n",
    "    Q=eg.df['Q'][tt]\n",
    "    \n",
    "    xi=x_find(g,tt)\n",
    "    if g>0:\n",
    "        ni=xi/X*c/y*(1-thetai)/(1-theta0-c/y*Q)\n",
    "    else:\n",
    "        ni=(1-theta0)*(1-c/y*(1-xi/X))/(1-theta0-c/y*Q)\n",
    "    return ni"
   ]
  },
  {
   "cell_type": "code",
   "execution_count": null,
   "id": "39795357",
   "metadata": {},
   "outputs": [],
   "source": [
    "\n",
    "def within_find(tt):\n",
    "    within=0\n",
    "    ylag=eg.df['y'][tt-1]\n",
    "    a=eg.df['a0'][tt]/eg.df['a0'][tt-1]\n",
    "    for g in range(0,n_goods):\n",
    "        withing=(a*py_n(tt,g)-py_n(tt-1,g))*n_i(tt-1,g)\n",
    "        within+=withing\n",
    "    return within/ylag"
   ]
  },
  {
   "cell_type": "code",
   "execution_count": null,
   "id": "8be3ce40",
   "metadata": {},
   "outputs": [],
   "source": [
    "\n",
    "def static_find(tt):\n",
    "    static=0\n",
    "    N=0\n",
    "    N_minus=0\n",
    "   \n",
    "    ylag=eg.df['y'][tt-1]\n",
    "    \n",
    "    for g in range(0,n_goods):\n",
    "       \n",
    "        staticg=(n_i(tt,g)-n_i(tt-1,g))*py_n(tt-1,g)\n",
    "        \n",
    "        \n",
    "        N+=n_i(tt,g)\n",
    "        N_minus+=n_i(tt-1,g)\n",
    "        #if g==n_goods-1:\n",
    "            #(print('check1', N,N_minus))\n",
    "        if g==0:\n",
    "            (print('check2',n_i(tt,g)-eg.df['n0'][tt]))\n",
    "        static+=staticg\n",
    "        \n",
    "    return static/ylag"
   ]
  },
  {
   "cell_type": "code",
   "execution_count": null,
   "id": "a55e6a5b",
   "metadata": {},
   "outputs": [],
   "source": [
    "def dynamic_find(tt):\n",
    "    dynamic=0\n",
    "    ylag=eg.df['y'][tt-1]\n",
    "\n",
    "    a=eg.df['a0'][tt]/eg.df['a0'][tt-1]\n",
    "    for g in range(0,n_goods):\n",
    "        \n",
    "        dynamicg=(a*py_n(tt,g)-py_n(tt-1,g))*(n_i(tt,g)-n_i(tt-1,g))\n",
    "        dynamic+=dynamicg\n",
    "    return dynamic/ylag"
   ]
  },
  {
   "cell_type": "code",
   "execution_count": null,
   "id": "c6f128dc",
   "metadata": {},
   "outputs": [],
   "source": [
    "\n",
    "eg.df['grow'] = (eg.df['y']*eg.df['a0']/eg.df['a0'].shift(1)-eg.df['y'].shift(1))/eg.df['y'].shift(1)\n",
    "eg.df.loc[0, 'grow'] = np.nan\n",
    "eg.df['within'] = [within_find(t) if t > 1 and t < eg.df.shape[0]-1 else np.nan for t in range(eg.df.shape[0])]\n",
    "eg.df['static'] = [static_find(t) if t > 1 and t < (eg.df.shape[0]-1) else np.nan for t in range(eg.df.shape[0])]\n",
    "eg.df['dynamic'] = [dynamic_find(t) if t > 1 and t < eg.df.shape[0]-1 else np.nan for t in range(eg.df.shape[0])]\n",
    "eg.df['check'] = eg.df['grow']-eg.df['within']-eg.df['static']-eg.df['dynamic']\n"
   ]
  },
  {
   "cell_type": "code",
   "execution_count": null,
   "id": "2df6e5fc",
   "metadata": {},
   "outputs": [],
   "source": []
  },
  {
   "cell_type": "code",
   "execution_count": null,
   "id": "38391029",
   "metadata": {},
   "outputs": [],
   "source": [
    "eg.df[100:200]"
   ]
  },
  {
   "cell_type": "code",
   "execution_count": null,
   "id": "93876ff9",
   "metadata": {},
   "outputs": [],
   "source": [
    "\n",
    "eg.df.shape[0]"
   ]
  },
  {
   "cell_type": "code",
   "execution_count": null,
   "id": "e6128d64",
   "metadata": {},
   "outputs": [],
   "source": [
    "eg.df.describe()"
   ]
  },
  {
   "cell_type": "code",
   "execution_count": null,
   "id": "e207ef85",
   "metadata": {},
   "outputs": [],
   "source": [
    "\n",
    "# Function to highlight the diagonal\n",
    "def highlight_diagonal(data):\n",
    "\tattr = 'background-color: yellow'\n",
    "\t# Create a DataFrame with empty strings\n",
    "\tdf_styler = pd.DataFrame('', index=data.index, columns=data.columns)\n",
    "\t# Set the diagonal to the desired attribute\n",
    "\tnp.fill_diagonal(df_styler.values, attr)\n",
    "\treturn df_styler\n",
    "\n",
    "# Apply the function to the DataFrame\n",
    "df_cov = df_cov.style.apply(highlight_diagonal, axis=None)\n",
    "\n",
    "# Display the styled DataFrame\n",
    "df_cov"
   ]
  }
 ],
 "metadata": {
  "kernelspec": {
   "display_name": "base",
   "language": "python",
   "name": "python3"
  },
  "language_info": {
   "codemirror_mode": {
    "name": "ipython",
    "version": 3
   },
   "file_extension": ".py",
   "mimetype": "text/x-python",
   "name": "python",
   "nbconvert_exporter": "python",
   "pygments_lexer": "ipython3",
   "version": "3.11.5"
  }
 },
 "nbformat": 4,
 "nbformat_minor": 5
}
