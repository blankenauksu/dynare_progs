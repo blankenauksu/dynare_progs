{
 "cells": [
  {
   "cell_type": "code",
   "execution_count": 5,
   "metadata": {},
   "outputs": [],
   "source": [
    "import numpy as np"
   ]
  },
  {
   "cell_type": "code",
   "execution_count": null,
   "metadata": {},
   "outputs": [],
   "source": []
  },
  {
   "cell_type": "code",
   "execution_count": 1,
   "metadata": {},
   "outputs": [],
   "source": [
    "eps = 0.5\n",
    "bet = 0.95\n",
    "delt = 1\n",
    "gamma0 = 0.0\n",
    "gamman = 0.0\n",
    "vp = 1\n",
    "omega0 = 0.3333333333333333\n",
    "omega1 = 0.3333333333333333\n",
    "omega2 = 0.3333333333333333\n",
    "theta_var0 = 0.1\n",
    "theta_var1 = 0.1\n",
    "theta_var2 = 0.1\n",
    "theta_rho0 = 0.1\n",
    "theta_rho1 = 0.1\n",
    "theta_rho2 = 0.1\n",
    "theta_mean0 = 0.35\n",
    "theta_mean1 = 0.1\n",
    "theta_mean2 = 0.35\n",
    "a_var0 = 0.01\n",
    "a_var1 = 0.01\n",
    "a_var2 = 0.01\n",
    "a_rho0 = 0.9\n",
    "a_rho1 = 0.9\n",
    "a_rho2 = 0.9\n",
    "a_mean0 = 1\n",
    "a_mean1 = 1\n",
    "a_mean2 = 1\n"
   ]
  },
  {
   "cell_type": "markdown",
   "metadata": {},
   "source": [
    "steady state "
   ]
  },
  {
   "cell_type": "code",
   "execution_count": 2,
   "metadata": {},
   "outputs": [
    {
     "name": "stdout",
     "output_type": "stream",
     "text": [
      "Xss =  2.744118563768757\n",
      "Zss =  0.7744118563768756\n",
      "Qss =  -0.06779212946495182\n",
      "coy =  0.7134478409822405\n",
      "y =  0.5144383928200955\n",
      "c =  0.36702496067587087\n",
      "n0 =  0.5086922663282203\n",
      "s0 =  0.6341805567686246\n",
      "i =  0.1474134321442247\n",
      "k =  0.1474134321442247\n",
      "theta0 =  0.35\n",
      "theta1 =  0.1\n",
      "theta2 =  0.35\n",
      "a0 =  1\n",
      "a1 =  1\n",
      "a2 =  1\n"
     ]
    }
   ],
   "source": [
    "\n",
    "gam=((1+gamman)*(1+gamma0))-(1-delt)\n",
    "kson=(bet*theta_mean0/(1-(bet*(1-delt))))**(1/(1-theta_mean0))\n",
    "x0ss=1\n",
    "\n",
    "Xss=(\n",
    "(kson)**((theta_mean0-theta_mean0)*(1-eps))*(omega0/omega0)**eps* \n",
    "((a_mean0)**(1-theta_mean0)/(a_mean0)**(1-theta_mean0)*(theta_mean0/theta_mean0)**theta_mean0*((1-theta_mean0)/(1-theta_mean0))**(1-theta_mean0))**(1-eps)\n",
    "+(kson)**((theta_mean0-theta_mean1)*(1-eps))*(omega1/omega0)**eps* \n",
    "((a_mean0)**(1-theta_mean0)/(a_mean1)**(1-theta_mean1)*(theta_mean0/theta_mean1)**theta_mean1*((1-theta_mean0)/(1-theta_mean1))**(1-theta_mean1))**(1-eps)\n",
    "+(kson)**((theta_mean0-theta_mean2)*(1-eps))*(omega2/omega0)**eps* \n",
    "((a_mean0)**(1-theta_mean0)/(a_mean2)**(1-theta_mean2)*(theta_mean0/theta_mean2)**theta_mean2*((1-theta_mean0)/(1-theta_mean2))**(1-theta_mean2))**(1-eps)\n",
    ")\n",
    "\n",
    "Zss=(\n",
    "theta_mean0*\n",
    "(kson)**((theta_mean0-theta_mean0)*(1-eps))*(omega0/omega0)**eps* \n",
    "((a_mean0)**(1-theta_mean0)/(a_mean0)**(1-theta_mean0)*(theta_mean0/theta_mean0)**theta_mean0*((1-theta_mean0)/(1-theta_mean0))**(1-theta_mean0))**(1-eps)\n",
    "+theta_mean1*\n",
    "(kson)**((theta_mean0-theta_mean1)*(1-eps))*(omega1/omega0)**eps* \n",
    "((a_mean0)**(1-theta_mean0)/(a_mean1)**(1-theta_mean1)*(theta_mean0/theta_mean1)**theta_mean1*((1-theta_mean0)/(1-theta_mean1))**(1-theta_mean1))**(1-eps)\n",
    "+theta_mean2*\n",
    "(kson)**((theta_mean0-theta_mean2)*(1-eps))*(omega2/omega0)**eps* \n",
    "((a_mean0)**(1-theta_mean0)/(a_mean2)**(1-theta_mean2)*(theta_mean0/theta_mean2)**theta_mean2*((1-theta_mean0)/(1-theta_mean2))**(1-theta_mean2))**(1-eps)\n",
    ")\n",
    "\n",
    "Qss=(Zss-theta_mean0*Xss)/Xss\n",
    "\n",
    "coy=(1-bet*(1-delt+gam*theta_mean0))/(1-bet*(1-delt-gam*Qss))\n",
    "\n",
    "y=(1-theta_mean0)*(kson)**theta_mean0/(1-theta_mean0-coy*Qss)\n",
    "c=coy*y\n",
    "n0=(1-theta_mean0)*(1-coy*(1-x0ss/Xss))/(1-theta_mean0-coy*Qss)\n",
    "s0=theta_mean0*(1-coy*(1-x0ss/Xss))/(theta_mean0+coy*Qss)\n",
    "i=kson**theta_mean0*n0-c/Xss\n",
    "k=i/gam\n",
    "\n",
    "\n",
    "theta0=theta_mean0\n",
    "theta1=theta_mean1\n",
    "theta2=theta_mean2\n",
    "a0=a_mean0\n",
    "a1=a_mean1\n",
    "a2=a_mean2\n",
    "\n",
    "print(\"Xss = \", Xss)\n",
    "print(\"Zss = \", Zss)\n",
    "print(\"Qss = \", Qss)\n",
    "print(\"coy = \", coy)\n",
    "print(\"y = \", y)\n",
    "print(\"c = \", c)\n",
    "print(\"n0 = \", n0)\n",
    "print(\"s0 = \", s0)\n",
    "print(\"i = \", i)\n",
    "print(\"k = \", k)\n",
    "print(\"theta0 = \", theta0)\n",
    "print(\"theta1 = \", theta1)\n",
    "print(\"theta2 = \", theta2)\n",
    "print(\"a0 = \", a0)\n",
    "print(\"a1 = \", a1)\n",
    "print(\"a2 = \", a2)\n"
   ]
  },
  {
   "cell_type": "code",
   "execution_count": null,
   "metadata": {},
   "outputs": [],
   "source": []
  },
  {
   "cell_type": "markdown",
   "metadata": {},
   "source": [
    "c                -1.007408        0.242004        0.058566       -0.005621        0.034008\n",
    "i                 0.145728        0.015438        0.000238       -0.004282       -0.008937\n",
    "k                -1.926007        0.105621        0.011156       -0.004282       -0.008937\n",
    "y                -0.671595        0.191610        0.036715       -0.012017        0.026787\n",
    "n0               -0.680942        0.087900        0.007726       -0.054228        0.042649\n",
    "s0               -0.451259        0.119817        0.014356       -0.000409       -0.044752"
   ]
  },
  {
   "cell_type": "code",
   "execution_count": 9,
   "metadata": {},
   "outputs": [
    {
     "name": "stdout",
     "output_type": "stream",
     "text": [
      "-1.0023254204995358\n",
      "0.1474134321442247\n",
      "-1.9145141762130253\n",
      "-0.6646794727239272\n",
      "-0.6759120300835673\n",
      "-0.45542157523396964\n"
     ]
    }
   ],
   "source": [
    "print(np.log(c))\n",
    "print(i)\n",
    "print(np.log(k))\n",
    "print(np.log(y))\n",
    "print(np.log(n0))\n",
    "print(np.log(s0))"
   ]
  },
  {
   "cell_type": "code",
   "execution_count": null,
   "metadata": {},
   "outputs": [],
   "source": []
  },
  {
   "cell_type": "code",
   "execution_count": null,
   "metadata": {},
   "outputs": [],
   "source": []
  },
  {
   "cell_type": "code",
   "execution_count": 3,
   "metadata": {},
   "outputs": [
    {
     "name": "stdout",
     "output_type": "stream",
     "text": [
      "r1=  1.1102230246251565e-16\n",
      "r2=  0.0\n",
      "r3=  0.0\n",
      "r4=  -5.551115123125783e-17\n",
      "r5=  0.0\n",
      "r6=  0.0\n",
      "X =  2.744118563768757 2.744118563768757\n",
      "X =  0.7744118563768756 0.7744118563768756\n",
      "q =  -0.06779212946495182 -0.06779212946495182\n"
     ]
    }
   ],
   "source": [
    "x0=1\n",
    "X=(\n",
    "((k)*(s0)/(n0))**((theta0-theta0)*(1-eps))*(omega0/omega0)**eps* \n",
    "((a0)**(1-theta0)/(a0)**(1-theta0)*(theta0/theta0)**theta0*((1-theta0)/(1-theta0))**(1-theta0))**(1-eps)\n",
    "+((k)*(s0)/(n0))**((theta0-theta1)*(1-eps))*(omega1/omega0)**eps* \n",
    "((a0)**(1-theta0)/(a1)**(1-theta1)*(theta0/theta1)**theta1*((1-theta0)/(1-theta1))**(1-theta1))**(1-eps)\n",
    "+((k)*(s0)/(n0))**((theta0-theta2)*(1-eps))*(omega2/omega0)**eps* \n",
    "((a0)**(1-theta0)/(a2)**(1-theta2)*(theta0/theta2)**theta2*((1-theta0)/(1-theta2))**(1-theta2))**(1-eps)\n",
    ")\n",
    "\n",
    "Z=(\n",
    "theta0*\n",
    "((k)*(s0)/(n0))**((theta0-theta0)*(1-eps))*(omega0/omega0)**eps* \n",
    "((a0)**(1-theta0)/(a0)**(1-theta0)*(theta0/theta0)**theta0*((1-theta0)/(1-theta0))**(1-theta0))**(1-eps)\n",
    "+theta1*\n",
    "((k)*(s0)/(n0))**((theta0-theta1)*(1-eps))*(omega1/omega0)**eps* \n",
    "((a0)**(1-theta0)/(a1)**(1-theta1)*(theta0/theta1)**theta1*((1-theta0)/(1-theta1))**(1-theta1))**(1-eps)\n",
    "+theta2*\n",
    "((k)*(s0)/(n0))**((theta0-theta2)*(1-eps))*(omega2/omega0)**eps* \n",
    "((a0)**(1-theta0)/(a2)**(1-theta2)*(theta0/theta2)**theta2*((1-theta0)/(1-theta2))**(1-theta2))**(1-eps)\n",
    ")\n",
    "\n",
    "Q=(Z-theta0*X)/X\n",
    "\n",
    "\n",
    "\n",
    "\n",
    "r1=(c)-((c)*bet*(theta0*((k)*(s0)/(n0))**(theta0-1)+1-delt))\n",
    "r2=(n0)-((1-theta0)*(1-(c)/(y)*(1-x0/X))/(1-theta0-(c)/(y)*Q))\n",
    "r3=(s0)-(theta0*(1-(c)/(y)*(1-x0/X))/(theta0+(c)/(y)*Q))\n",
    "r4=(c)/X-(((s0)*(k))**theta0*((a0)*(n0))**(1-theta0)-i)\n",
    "r5=(y)-((1-theta0)*(a0)**(1-theta0)*(k)**theta0*((s0)/(n0))**theta0/(1-theta0-(c)/(y)*Q))\n",
    "\n",
    "r6=i-((k)*(1+gamman)*(1+gamma0)-(1-delt)*(k))\n",
    "\n",
    "\n",
    "print(\"r1= \", r1)\n",
    "print(\"r2= \", r2)\n",
    "print(\"r3= \", r3)\n",
    "print(\"r4= \", r4)\n",
    "print(\"r5= \", r5)\n",
    "print(\"r6= \", r6)\n",
    "\n",
    "print(\"X = \", X,Xss)\n",
    "print(\"X = \", Z,Zss)\n",
    "print(\"q = \", Q,Qss)\n",
    "\n"
   ]
  },
  {
   "cell_type": "code",
   "execution_count": null,
   "metadata": {},
   "outputs": [],
   "source": []
  }
 ],
 "metadata": {
  "kernelspec": {
   "display_name": "Python 3",
   "language": "python",
   "name": "python3"
  },
  "language_info": {
   "codemirror_mode": {
    "name": "ipython",
    "version": 3
   },
   "file_extension": ".py",
   "mimetype": "text/x-python",
   "name": "python",
   "nbconvert_exporter": "python",
   "pygments_lexer": "ipython3",
   "version": "3.11.5"
  }
 },
 "nbformat": 4,
 "nbformat_minor": 2
}
