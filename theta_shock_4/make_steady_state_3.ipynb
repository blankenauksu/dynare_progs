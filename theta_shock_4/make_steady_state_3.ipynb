{
 "cells": [
  {
   "cell_type": "code",
   "execution_count": 1,
   "metadata": {},
   "outputs": [],
   "source": [
    "\n",
    "def write_to_file(filename):\n",
    "    with open(filename, 'w') as f:\n",
    "        f.write(f'initval;\\n')\n",
    "\n",
    "        f.write(f'c=-0.997124;\\n')\n",
    "        f.write(f'i=0.183779;\\n')\n",
    "        f.write(f'k=-1.69402;\\n')\n",
    "        f.write(f' y=-0.592908;\\n')\n",
    "        f.write(f'n0=-0.588787;\\n')\n",
    "        f.write(f's0=-0.588787;\\n')\n",
    "        \n",
    "        f.write(f'\\n')\n",
    "        for i in range(0, n_goods):\n",
    "            f.write(f'theta{i}=theta_mean{i};\\n')\n",
    "        for i in range(0, n_goods):\n",
    "            f.write(f'a{i}=a_mean{i};\\n')             \n",
    "        \n",
    "        f.write(f'\\n')\n",
    "        \n",
    "        f.write(f'end;\\n')  \n",
    "        f.write(f'steady;\\n')  \n",
    "           \n",
    "# Call the function\n",
    "write_to_file('t_steady_state_3.m')  "
   ]
  }
 ],
 "metadata": {
  "kernelspec": {
   "display_name": "Python 3",
   "language": "python",
   "name": "python3"
  },
  "language_info": {
   "codemirror_mode": {
    "name": "ipython",
    "version": 3
   },
   "file_extension": ".py",
   "mimetype": "text/x-python",
   "name": "python",
   "nbconvert_exporter": "python",
   "pygments_lexer": "ipython3",
   "version": "3.11.5"
  }
 },
 "nbformat": 4,
 "nbformat_minor": 2
}
