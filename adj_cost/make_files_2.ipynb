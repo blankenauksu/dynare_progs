{
 "cells": [
  {
   "cell_type": "code",
   "execution_count": 1,
   "metadata": {},
   "outputs": [],
   "source": [
    "from scipy.optimize import root\n",
    "import numpy as np"
   ]
  },
  {
   "cell_type": "code",
   "execution_count": 9,
   "metadata": {},
   "outputs": [],
   "source": [
    "def assign_params(ss_params):\n",
    "    a_0 = ss_params['a_0']\n",
    "    a_1 = ss_params['a_1']\n",
    "    a_2 = ss_params['a_2']\n",
    "    alf = ss_params['alf']\n",
    "    delt = ss_params['delt']\n",
    "    om_0 = ss_params['om_0']\n",
    "    om_1 = ss_params['om_1']\n",
    "    om_2 = ss_params['om_2']\n",
    "    eps = ss_params['eps']\n",
    "    tht = ss_params['tht']\n",
    "    bet = ss_params['bet']\n",
    "    psi_k = ss_params['psi_k']\n",
    "    psi_n = ss_params['psi_n']\n",
    "    return eps,tht,alf,bet,om_0,om_1,om_2,delt,psi_k,psi_n,a_0,a_1,a_2\n",
    "\n"
   ]
  },
  {
   "cell_type": "code",
   "execution_count": 10,
   "metadata": {},
   "outputs": [],
   "source": [
    "def equations(vars, params):\n",
    "\tn_0,n_1,n_2,s_0,s_1,s_2,k,k_0,k_1,k_2,c_0,c_1,c_2,i = vars\n",
    "\teps,tht,alf,bet,om_0,om_1,om_2,delt,psi_k,psi_n,a_0,a_1,a_2 = assign_params(params)\n",
    "\tph=(om_0*c_0**((eps-1)/eps)+om_1*c_1**((eps-1)/eps)+om_2*c_2**((eps-1)/eps)\t)**((1-tht*eps)/(eps-1))\n",
    "\n",
    "\tv_0=om_0*c_0**(-1/eps)*ph\n",
    "\tv_1=om_1*c_1**(-1/eps)*ph\n",
    "\tv_2=om_2*c_2**(-1/eps)*ph\n",
    "\n",
    "\tfn_0=np.exp(a_0)*(1-alf)*(s_0/n_0)**alf*k**alf\n",
    "\tfn_1=np.exp(a_1)*(1-alf)*(s_1/n_1)**alf*k**alf\n",
    "\tfn_2=np.exp(a_2)*(1-alf)*(s_2/n_2)**alf*k**alf\n",
    " \n",
    "\tfs_0=np.exp(a_0)*alf*(n_0/s_0)**(1-alf)*k**alf\n",
    "\tfs_1=np.exp(a_1)*alf*(n_1/s_1)**(1-alf)*k**alf\n",
    "\tfs_2=np.exp(a_2)*alf*(n_2/s_2)**(1-alf)*k**alf\n",
    "  \n",
    "\tfk_0=np.exp(a_0)*alf*(s_0/n_0*k)**alf\n",
    "\tfk_1=np.exp(a_1)*alf*(s_1/n_1*k)**alf\n",
    "\tfk_2=np.exp(a_2)*alf*(s_2/n_2*k)**alf\n",
    " \n",
    "\tq_0=(1-psi_n/2*(n_0/n_0-1)**2)\n",
    "\tq_1=(1-psi_n/2*(n_1/n_1-1)**2)\n",
    "\tq_2=(1-psi_n/2*(n_2/n_2-1)**2)\n",
    " \n",
    "\tx_10=k_0*q_0**(1-alf)-n_0*psi_n/q_0**alf/n_0*(n_0/n_0-1)\n",
    "\tx_11=k_1*q_1**(1-alf)-n_1*psi_n/q_1**alf/n_1*(n_1/n_1-1)\n",
    "\tx_12=k_2*q_2**(1-alf)-n_2*psi_n/q_2**alf/n_2*(n_2/n_2-1)\n",
    "\n",
    "\tx_20=fk_0*psi_n/q_0**alf*(n_0/n_0-1)*(n_0/n_0)**2\n",
    "\tx_21=fk_1*psi_n/q_1**alf*(n_1/n_1-1)*(n_1/n_1)**2\n",
    "\tx_22=fk_2*psi_n/q_2**alf*(n_2/n_2-1)*(n_2/n_2)**2\n",
    " \n",
    "\tz_1=1-psi_k*(i/k-delt)\n",
    "\tz_2=1-delt-psi_k/2*(i/k-delt)**2+psi_k*i/k*(i/k-delt)\n",
    " \n",
    "\teq1=n_0+n_1+n_2-1\n",
    "\teq2=s_0+s_1+s_2-1\n",
    "\teq3=k_0-s_0/n_0*k\n",
    "\teq4=k_1-s_1/n_1*k\n",
    "\teq5=k_2-s_2/n_2*k\n",
    "\teq6=v_1*x_11*fn_1+v_1*x_21*fn_1-(v_0*x_10*fn_0+v_0*x_20*fn_0)\n",
    "\teq7=v_2*x_12*fn_2+v_2*x_22*fn_2-(v_0*x_10*fn_0+v_0*x_20*fn_0)\n",
    "\teq8=v_1*fs_1-v_0*fs_0\n",
    "\teq9=v_2*fs_2-v_0*fs_0\n",
    "\teq10=bet*(fs_0/k+z_2/z_1)-(v_0/v_0/z_1)\n",
    "\teq11=(1-delt)*k+i-psi_k/2*(1/k-delt)**2*k-k\n",
    "\teq12=c_0-np.exp(a_0)*n_0**(1-alf)*s_0**alf*k**alf-(1-delt)*k+k\n",
    "\teq13=c_1-np.exp(a_1)*n_1**(1-alf)*s_1**alf*k**alf\n",
    "\teq14=c_2-np.exp(a_2)*n_2**(1-alf)*s_2**alf*k**alf\n",
    "\t\n",
    "\treturn [eq1,eq2,eq3,eq4,eq5,eq6,eq7,eq8,eq9,eq10,eq11,eq12,eq13,eq14]\n"
   ]
  },
  {
   "cell_type": "code",
   "execution_count": 11,
   "metadata": {},
   "outputs": [
    {
     "name": "stdout",
     "output_type": "stream",
     "text": [
      " message: The solution converged.\n",
      " success: True\n",
      "  status: 1\n",
      "     fun: [-1.110e-16  0.000e+00 ...  8.169e-13 -9.029e-13]\n",
      "       x: [ 4.368e-01  2.816e-01 ...  8.740e-01  4.816e-01]\n",
      "    nfev: 42\n",
      "    fjac: [[-5.560e-02 -5.969e-11 ... -1.278e-03 -5.232e-03]\n",
      "           [-3.941e-02  3.857e-11 ...  5.439e-02  5.471e-04]\n",
      "           ...\n",
      "           [-3.118e-01 -2.372e-01 ... -2.009e-01 -2.498e-01]\n",
      "           [ 6.222e-02 -6.227e-02 ... -2.961e-04  1.741e-03]]\n",
      "       r: [-1.799e+01  2.783e-01 ...  4.606e-01  1.500e-01]\n",
      "     qtf: [-9.314e-13 -1.446e-10 ...  3.518e-12 -1.464e-13]\n"
     ]
    },
    {
     "data": {
      "text/plain": [
       "{'n_0': 0.43678160919544085,\n",
       " 'n_1': 0.2816091954014113,\n",
       " 'n_2': 0.28160919540314777,\n",
       " 's_0': 0.43678160919537834,\n",
       " 's_1': 0.28160919540206236,\n",
       " 's_2': 0.2816091954025593,\n",
       " 'k': 9.631391200953535,\n",
       " 'k_0': 9.631391200953374,\n",
       " 'k_1': 9.6313912009534,\n",
       " 'k_2': 9.631391200953448,\n",
       " 'c_0': 0.8739595719383363,\n",
       " 'c_1': 0.8739595719373454,\n",
       " 'c_2': 0.873959571939091,\n",
       " 'i': 0.48156956004767615,\n",
       " 'a_0': 0,\n",
       " 'a_1': 0,\n",
       " 'a_2': 0}"
      ]
     },
     "execution_count": 11,
     "metadata": {},
     "output_type": "execute_result"
    }
   ],
   "source": [
    "initial_guess = [.3,.3,.3,.3,.3,.3,3,.3,.3,.3,.3,.3,.3,0]\n",
    "def solve_equations(params):\n",
    "    \n",
    "    sol = root(equations, initial_guess, args=(ss_params,))\n",
    "    \n",
    "    # Extract the solution vector\n",
    "    n_0,n_1,n_2,s_0,s_1,s_2,k,k_0,k_1,k_2,c_0,c_1,c_2,i = sol.x\n",
    "    a_0=0\n",
    "    a_1=0\n",
    "    a_2=0\n",
    "    ss_dict = {\n",
    "    'n_0': n_0,\n",
    "    'n_1': n_1,\n",
    "    'n_2': n_2,\n",
    "    's_0': s_0,\n",
    "    's_1': s_1,\n",
    "    's_2': s_2,    \n",
    "    'k': k,\n",
    "    'k_0': k_0,\n",
    "    'k_1': k_1,\n",
    "    'k_2': k_2,\n",
    "    'c_0': c_0,\n",
    "    'c_1': c_1,\n",
    "    'c_2': c_2,\n",
    "    'i': i,\n",
    "    'a_0': a_0,\n",
    "    'a_1': a_1,\n",
    "    'a_2': a_2\n",
    "    }\n",
    "    return sol, ss_dict\n",
    "    \n",
    "\n",
    "# Call the wrapper function\n",
    "sol, ss_dict=solve_equations(ss_params)\n",
    "print(sol)\n",
    "ss_dict\n"
   ]
  },
  {
   "cell_type": "code",
   "execution_count": 12,
   "metadata": {},
   "outputs": [],
   "source": [
    "def write_dict_to_file(ss_dict, filename):\n",
    "    with open(filename, 'w') as f:\n",
    "        f.write('var \\n')\n",
    "        for key, value in ss_dict.items():\n",
    "            f.write(f'{key}\\n')\n",
    "        f.write(f';\\n\\n\\n')\n",
    "        f.write('varexo \\n')\n",
    "        for key, value in ss_shock.items():\n",
    "            f.write(f'{key}_shock\\n')\n",
    "        f.write(f';\\n\\n\\n')\n",
    "# Call the function\n",
    "write_dict_to_file(ss_dict, 't_vars.m')"
   ]
  },
  {
   "cell_type": "code",
   "execution_count": 13,
   "metadata": {},
   "outputs": [],
   "source": [
    "def write_dict_to_file(ss_dict, filename):\n",
    "    with open(filename, 'w') as f:\n",
    "        f.write('initval;\\n')\n",
    "        for key, value in ss_dict.items():\n",
    "            f.write(f'{key}={value};\\n')\n",
    "        f.write(f'end;\\n\\n\\n')        \n",
    "# Call the function\n",
    "write_dict_to_file(ss_dict, 't_ss.m')"
   ]
  },
  {
   "cell_type": "code",
   "execution_count": 14,
   "metadata": {},
   "outputs": [],
   "source": [
    "def write_dict_to_file(params, filename):\n",
    "    \n",
    "    with open(filename, 'w') as f:\n",
    "        f.write('parameters ')\n",
    "        f.write(','.join(f'{key}' for key in params))\n",
    "        f.write(';\\n\\n')\n",
    "        for key, value in params.items():\n",
    "            f.write(f'{key}={value};\\n')\n",
    "\n",
    "# Call the function\n",
    "write_dict_to_file(model_params, 't_parameters.m')"
   ]
  },
  {
   "cell_type": "code",
   "execution_count": 15,
   "metadata": {},
   "outputs": [],
   "source": [
    "def write_dict_to_file(ss_dict, filename):\n",
    "    #variance_list = list(shock_params.values())[:3]\n",
    "    with open(filename, 'w') as f:\n",
    "        f.write('shocks;\\n')\n",
    "        i=0\n",
    "        for key, value in ss_shock.items():\n",
    "            f.write(f'var {key}_shock=var_{key};\\n')\n",
    "            i+=1\n",
    "        f.write(f'\\n')\n",
    "        f.write(f'end;\\n\\n\\n')        \n",
    "# Call the function\n",
    "write_dict_to_file(ss_dict, 't_shocks.m')"
   ]
  }
 ],
 "metadata": {
  "kernelspec": {
   "display_name": "Python 3",
   "language": "python",
   "name": "python3"
  },
  "language_info": {
   "codemirror_mode": {
    "name": "ipython",
    "version": 3
   },
   "file_extension": ".py",
   "mimetype": "text/x-python",
   "name": "python",
   "nbconvert_exporter": "python",
   "pygments_lexer": "ipython3",
   "version": "3.11.5"
  }
 },
 "nbformat": 4,
 "nbformat_minor": 2
}
