{
 "cells": [
  {
   "cell_type": "code",
   "execution_count": 1,
   "id": "d963da46",
   "metadata": {},
   "outputs": [],
   "source": [
    "#!pip install --upgrade oct2py\n",
    "import numpy as np\n",
    "from oct2py import octave\n",
    "import matplotlib.pyplot as plt\n",
    "import os\n",
    "from scipy.optimize import root\n",
    "import math"
   ]
  },
  {
   "cell_type": "markdown",
   "id": "09d6d170",
   "metadata": {},
   "source": [
    "`DyPy` is a class that we create and store in a file called `MyPy.py`. It contains methods for \n",
    "\n",
    "* converting data from a Dynare stucture to Numpy arrays.\n",
    "* analyzing the data. \n",
    "\n",
    "See the file for details. "
   ]
  },
  {
   "cell_type": "code",
   "execution_count": 2,
   "id": "a9e3b82b",
   "metadata": {},
   "outputs": [],
   "source": [
    "from MyPy import DyPy"
   ]
  },
  {
   "cell_type": "markdown",
   "id": "bca86bb9",
   "metadata": {},
   "source": [
    "Creates a file called `t_call.m`. This informs Dynare of the format we want for output. It is put here so that adjusments can be made easily; for example the number of periods can be changed here rather than by looking at the `.mod` file. It is included in the `.mod` file via: `@#include \"t_call.m\"` in `model_1.mod`\n",
    "\n",
    "* `order`: the order of approximation for the stochastic simulation. order=1 is a fsrst-order approximation (linearization) Higher-order approximations (e.g., order=2 for second-order) capture nonlinear effects in the model, but they require more computational resources.\n",
    "* `periods`: number of periods (time steps) for which the simulation will be run. periods=1000 means that the model will be simulated for 1000 periods. The default value is 0, which means no simulation will be performed.\n",
    "* `nograph`: suppresses the graphical output of the simulation results in Dynare since we draw them separatetly. \n",
    "* `irf`: the number of periods for which the impulse response functions (IRFs) will be computed and plotted. "
   ]
  },
  {
   "cell_type": "code",
   "execution_count": 3,
   "id": "f2fe4306",
   "metadata": {},
   "outputs": [],
   "source": [
    "with open('t_call.m', 'w') as file:\n",
    "    file.write(\"stoch_simul(nograph, order=1, periods=1000, irf=30);\")"
   ]
  },
  {
   "cell_type": "markdown",
   "id": "7e4aaad7",
   "metadata": {},
   "source": [
    " `make_model.ipyn` writes a file called `t_model.m`. `t_model.m`is the `model` block in the Dynare `.mod` file. It can instead be created directlty by commenting out the next `%run` line and coding the model. `make_model.ipyn` simplifies model creation when many of the lines are very similar to each other. Then they can be written in for loops. For the model we are currently working with, there is not much advantage to writing the file via `make_model` but I have done so nonetheless. \n",
    " \n",
    " The created file is included in the `.mod` file via `@#include \"t_model.m\"` in `model_1.mod`. "
   ]
  },
  {
   "cell_type": "code",
   "execution_count": 4,
   "id": "eff43076",
   "metadata": {},
   "outputs": [],
   "source": [
    "%run make_model.ipynb"
   ]
  },
  {
   "cell_type": "markdown",
   "id": "40f63e8b",
   "metadata": {},
   "source": [
    "`make_files.ipynb` writes the other Dynare blocks. See that file for details. However, note that in doing so, it solves for the steady state of the model using `root` from `scipy`. If the results below do not indicate success, the `.mod` file may not run correctly. Also, note that though we solve for the steady state here, we do not give Dynare the steady state but rather use these as starting values for their ss solver. I will later code a verification the steady states are the same. "
   ]
  },
  {
   "cell_type": "code",
   "execution_count": 5,
   "id": "b6037324",
   "metadata": {},
   "outputs": [
    {
     "name": "stdout",
     "output_type": "stream",
     "text": [
      "eps,tht,alf,bet,om_0,om_1,om_2,delt,psi_n,psi_k,a_0,a_1,a_2\n",
      "eps,tht,alf,bet,om_0,om_1,om_2,delt,psi_n,psi_k,var_a_0,var_a_1,var_a_2,rho_a_0,rho_a_1,rho_a_2\n"
     ]
    }
   ],
   "source": [
    "%run make_files_1.ipynb"
   ]
  },
  {
   "cell_type": "markdown",
   "id": "59d8332f",
   "metadata": {},
   "source": [
    "Tells octave where to find the .m file it will run. The file is `call_dynare`. Set to wherever you have this file. \n",
    "\n",
    "\n"
   ]
  },
  {
   "cell_type": "code",
   "execution_count": 6,
   "id": "302dd812",
   "metadata": {},
   "outputs": [],
   "source": [
    "#a=octave.addpath(os.path.expanduser('C:/Users/blankenw/GitHub/dynare_progs/np_1'))"
   ]
  },
  {
   "cell_type": "markdown",
   "id": "4df08aa0",
   "metadata": {},
   "source": [
    "Makes a call to Octave, which makes a call to Dynare. Then the `.mod` file is run in Dynare. Output from Dynare is displayed as it runs."
   ]
  },
  {
   "cell_type": "code",
   "execution_count": 7,
   "id": "fd9efd28",
   "metadata": {},
   "outputs": [],
   "source": [
    "# Create an empty dictionary to store your variables\n",
    "variables =['t0','t1','t2']\n"
   ]
  },
  {
   "cell_type": "code",
   "execution_count": 8,
   "id": "5e4bdc3f",
   "metadata": {},
   "outputs": [
    {
     "name": "stdout",
     "output_type": "stream",
     "text": [
      " message: The solution converged.\n",
      " success: True\n",
      "  status: 1\n",
      "     fun: [-1.110e-16  0.000e+00 ...  8.169e-13 -9.029e-13]\n",
      "       x: [ 4.368e-01  2.816e-01 ...  8.740e-01  4.816e-01]\n",
      "    nfev: 42\n",
      "    fjac: [[-5.560e-02 -5.969e-11 ... -1.278e-03 -5.232e-03]\n",
      "           [-3.941e-02  3.857e-11 ...  5.439e-02  5.471e-04]\n",
      "           ...\n",
      "           [-3.118e-01 -2.372e-01 ... -2.009e-01 -2.498e-01]\n",
      "           [ 6.222e-02 -6.227e-02 ... -2.961e-04  1.741e-03]]\n",
      "       r: [-1.799e+01  2.783e-01 ...  4.606e-01  1.500e-01]\n",
      "     qtf: [-9.314e-13 -1.446e-10 ...  3.518e-12 -1.464e-13]\n",
      "warning: function C:\\dynare\\6.1\\matlab\\+identification\\display.m shadows a built-in function\n",
      "warning: called from\n",
      "    call_dynare at line 4 column 4\n",
      "    _pyeval at line 57 column 30\n",
      "\n",
      "warning: function C:\\dynare\\6.1\\matlab\\+identification\\display.m shadows a built-in function\n",
      "warning: called from\n",
      "    call_dynare at line 4 column 4\n",
      "    _pyeval at line 57 column 30\n",
      "\n",
      "Starting Dynare (version 6.1).\n",
      "Calling Dynare with arguments: none\n",
      "Starting preprocessing of the model file ...\n",
      "Found 17 equation(s).\n",
      "Evaluating expressions...\n",
      "Computing static model derivatives (order 1).\n",
      "Normalizing the static model...\n",
      "Finding the optimal block decomposition of the static model...\n",
      "5 block(s) found:\n",
      "  4 recursive block(s) and 1 simultaneous block(s).\n",
      "  the largest simultaneous block has 11 equation(s)\n",
      "                                 and 11 feedback variable(s).\n",
      "Computing dynamic model derivatives (order 1).\n",
      "Normalizing the dynamic model...\n",
      "Finding the optimal block decomposition of the dynamic model...\n",
      "3 block(s) found:\n",
      "  2 recursive block(s) and 1 simultaneous block(s).\n",
      "  the largest simultaneous block has 11 equation(s)\n",
      "                                 and 11 feedback variable(s).\n",
      "Preprocessing completed.\n",
      "Preprocessing time: 0h00m04s.\n",
      "\n",
      "STEADY-STATE RESULTS:\n",
      "\n",
      "n_0 \t\t 0.436782\n",
      "n_1 \t\t 0.281609\n",
      "n_2 \t\t 0.281609\n",
      "s_0 \t\t 0.436782\n",
      "s_1 \t\t 0.281609\n",
      "s_2 \t\t 0.281609\n",
      "k   \t\t 9.63139\n",
      "k_0 \t\t 9.63139\n",
      "k_1 \t\t 9.63139\n",
      "k_2 \t\t 9.63139\n",
      "c_0 \t\t 0.87396\n",
      "c_1 \t\t 0.87396\n",
      "c_2 \t\t 0.87396\n",
      "i   \t\t 0.48157\n",
      "a_0 \t\t 0\n",
      "a_1 \t\t 0\n",
      "a_2 \t\t 0\n",
      "\n",
      "EIGENVALUES:\n",
      "         Modulus             Real        Imaginary\n",
      "               0                0                0\n",
      "               0                0                0\n",
      "               0                0                0\n",
      "             0.9              0.9                0\n",
      "             0.9              0.9                0\n",
      "             0.9              0.9                0\n",
      "          0.9105           0.9105                0\n",
      "            1.22             1.22                0\n",
      "        3.84e+16         3.84e+16                0\n",
      "       4.562e+16        4.562e+16                0\n",
      "       1.262e+17       -1.262e+17                0\n",
      "       1.287e+17       -1.287e+17                0\n",
      "        1.99e+17         1.99e+17                0\n",
      "       4.206e+17       -4.206e+17                0\n",
      "        1.68e+18        -1.68e+18                0\n",
      "       3.186e+18        3.186e+18                0\n",
      "        2.16e+19         2.16e+19                0\n",
      "       1.928e+32        1.928e+32                0\n",
      "       3.205e+34        3.205e+34                0\n",
      "        5.67e+35         5.67e+35                0\n",
      "\n",
      "There are 13 eigenvalue(s) larger than 1 in modulus for 13 forward-looking variable(s)\n",
      "The rank condition is verified.\n",
      "\n",
      "\n",
      "MODEL SUMMARY\n",
      "\n",
      "  Number of variables:         17\n",
      "  Number of stochastic shocks: 3\n",
      "  Number of state variables:   7\n",
      "  Number of jumpers:           13\n",
      "  Number of static variables:  3\n",
      "\n",
      "\n",
      "MATRIX OF COVARIANCE OF EXOGENOUS SHOCKS\n",
      "Variables    a_0_shock  a_1_shock  a_2_shock\n",
      "a_0_shock     0.500000   0.000000   0.000000\n",
      "a_1_shock     0.000000   0.600000   0.000000\n",
      "a_2_shock     0.000000   0.000000   0.700000\n",
      "\n",
      "POLICY AND TRANSITION FUNCTIONS\n",
      "                                 n_0             n_1             n_2             s_0             s_1             s_2               k             k_0             k_1             k_2             c_0             c_1             c_2               i             a_0             a_1             a_2\n",
      "Constant                    0.436782        0.281609        0.281609        0.436782        0.281609        0.281609        9.631391        9.631391        9.631391        9.631391        0.873960        0.873960        0.873960        0.481570               0               0               0\n",
      "k(-1)                      -0.013866        0.006933        0.006933       -0.013866        0.006933        0.006933        0.910451        1.000000        1.000000        1.000000        0.066887        0.066887        0.066887       -0.039549               0               0               0\n",
      "a_0(-1)                     0.617314       -0.308657       -0.308657        0.469712       -0.234856       -0.234856        2.176995       -3.254746        2.524089        2.524089        0.729745       -0.843382       -0.843382        2.176995        0.900000               0               0\n",
      "a_1(-1)                    -0.158343        0.248137       -0.089794       -0.084542        0.126754       -0.042212       -0.172053        1.627373       -4.151462        1.627373       -0.204837        1.368290       -0.204837       -0.172053               0        0.900000               0\n",
      "a_2(-1)                    -0.158343       -0.089794        0.248137       -0.084542       -0.042212        0.126754       -0.172053        1.627373        1.627373       -4.151462       -0.204837       -0.204837        1.368290       -0.172053               0               0        0.900000\n",
      "a_0_shock                   0.685904       -0.342952       -0.342952        0.521902       -0.260951       -0.260951        2.418884       -3.616384        2.804543        2.804543        0.810828       -0.937091       -0.937091        2.418884        1.000000               0               0\n",
      "a_1_shock                  -0.175936        0.275708       -0.099771       -0.093935        0.140837       -0.046902       -0.191170        1.808192       -4.612735        1.808192       -0.227597        1.520323       -0.227597       -0.191170               0        1.000000               0\n",
      "a_2_shock                  -0.175936       -0.099771        0.275708       -0.093935       -0.046902        0.140837       -0.191170        1.808192        1.808192       -4.612735       -0.227597       -0.227597        1.520323       -0.191170               0               0        1.000000\n",
      "\n",
      "\n",
      "MOMENTS OF SIMULATED VARIABLES\n",
      "VARIABLE              MEAN       STD. DEV.        VARIANCE        SKEWNESS        KURTOSIS\n",
      "n_0               0.430313        1.090138        1.188400       -0.119448       -0.074975\n",
      "n_1               0.296508        0.867597        0.752725        0.022024        0.097196\n",
      "n_2               0.273180        0.678278        0.460060        0.306505        0.558342\n",
      "s_0               0.433159        0.744270        0.553938       -0.111502        0.012666\n",
      "s_1               0.289252        0.513579        0.263764       -0.019846        0.195394\n",
      "s_2               0.277588        0.409697        0.167852        0.280993        0.371696\n",
      "k                 9.802915       31.979266     1022.673447       -0.211185       -0.411889\n",
      "k_0               9.875430       27.608538      762.231386       -0.286833       -0.144909\n",
      "k_1               9.564525       40.202688     1616.256113       -0.222053       -0.328549\n",
      "k_2               9.963450       34.840997     1213.895092       -0.125993       -0.566042\n",
      "c_0               0.880475        3.396417       11.535650       -0.154914       -0.536980\n",
      "c_1               0.965110        3.338574       11.146075       -0.020880        0.140980\n",
      "c_2               0.856514        3.483442       12.134365        0.026142        0.665754\n",
      "i                 0.480885        3.488308       12.168294       -0.209310        0.214319\n",
      "a_0               0.006442        1.673546        2.800758       -0.286465        0.296486\n",
      "a_1               0.054863        2.019089        4.076722        0.351473        0.176089\n",
      "a_2              -0.007266        2.058733        4.238381        0.101853        0.359799\n",
      "\n",
      "\n",
      "CORRELATION OF SIMULATED VARIABLES\n",
      "VARIABLE        n_0      n_1      n_2      s_0      s_1      s_2        k      k_0      k_1      k_2      c_0      c_1      c_2        i      a_0      a_1      a_2\n",
      "n_0          1.0000  -0.7830  -0.6057   0.9814  -0.8418  -0.7276   0.4677   0.1560   0.5145   0.4620   0.6880  -0.6356  -0.2504   0.9547   0.8731  -0.5396  -0.1819\n",
      "n_1         -0.7830   1.0000  -0.0207  -0.7651   0.9836   0.1570  -0.4865  -0.2612  -0.6435  -0.3098  -0.6326   0.8781  -0.3367  -0.7901  -0.7707   0.8006  -0.3554\n",
      "n_2         -0.6057  -0.0207   1.0000  -0.5987   0.0949   0.9686  -0.1295   0.0833  -0.0038  -0.3461  -0.2966  -0.1016   0.8330  -0.5238  -0.4174  -0.1567   0.7470\n",
      "s_0          0.9814  -0.7651  -0.5987   1.0000  -0.8501  -0.7510   0.3366   0.0217   0.3868   0.3198   0.5695  -0.6398  -0.2687   0.9669   0.8571  -0.4428  -0.1009\n",
      "s_1         -0.8418   0.9836   0.0949  -0.8501   1.0000   0.2907  -0.4066  -0.1535  -0.5508  -0.2483  -0.5819   0.8680  -0.2225  -0.8613  -0.8087   0.7107  -0.3236\n",
      "s_2         -0.7276   0.1570   0.9686  -0.7510   0.2907   1.0000  -0.1017   0.1530  -0.0122  -0.2697  -0.3051   0.0742   0.7671  -0.6767  -0.5433  -0.0865   0.5889\n",
      "k            0.4677  -0.4865  -0.1295   0.3366  -0.4066  -0.1017   1.0000   0.9453   0.9729   0.9585   0.9623  -0.0822   0.3679   0.5022   0.7057  -0.4189   0.0216\n",
      "k_0          0.1560  -0.2612   0.0833   0.0217  -0.1535   0.1530   0.9453   1.0000   0.8969   0.8959   0.8209   0.1463   0.5186   0.2228   0.4824  -0.2517   0.1194\n",
      "k_1          0.5145  -0.6435  -0.0038   0.3868  -0.5508  -0.0122   0.9729   0.8969   1.0000   0.8811   0.9553  -0.2872   0.4674   0.5360   0.7190  -0.5951   0.1353\n",
      "k_2          0.4620  -0.3098  -0.3461   0.3198  -0.2483  -0.2697   0.9585   0.8959   0.8811   1.0000   0.9317   0.0763   0.1186   0.4564   0.6404  -0.2936  -0.2439\n",
      "c_0          0.6880  -0.6326  -0.2966   0.5695  -0.5819  -0.3051   0.9623   0.8209   0.9553   0.9317   1.0000  -0.2663   0.2094   0.6908   0.8304  -0.5260  -0.0661\n",
      "c_1         -0.6356   0.8781  -0.1016  -0.6398   0.8680   0.0742  -0.0822   0.1463  -0.2872   0.0763  -0.2663   1.0000  -0.1518  -0.5528  -0.4261   0.8491  -0.2419\n",
      "c_2         -0.2504  -0.3367   0.8330  -0.2687  -0.2225   0.7671   0.3679   0.5186   0.4674   0.1186   0.2094  -0.1518   1.0000  -0.0884   0.1068  -0.2565   0.8572\n",
      "i            0.9547  -0.7901  -0.5238   0.9669  -0.8613  -0.6767   0.5022   0.2228   0.5360   0.4564   0.6908  -0.5528  -0.0884   1.0000   0.9573  -0.3942   0.0406\n",
      "a_0          0.8731  -0.7707  -0.4174   0.8571  -0.8087  -0.5433   0.7057   0.4824   0.7190   0.6404   0.8304  -0.4261   0.1068   0.9573   1.0000  -0.3733   0.1326\n",
      "a_1         -0.5396   0.8006  -0.1567  -0.4428   0.7107  -0.0865  -0.4189  -0.2517  -0.5951  -0.2936  -0.5260   0.8491  -0.2565  -0.3942  -0.3733   1.0000  -0.0553\n",
      "a_2         -0.1819  -0.3554   0.7470  -0.1009  -0.3236   0.5889   0.0216   0.1194   0.1353  -0.2439  -0.0661  -0.2419   0.8572   0.0406   0.1326  -0.0553   1.0000\n",
      "\n",
      "\n",
      "AUTOCORRELATION OF SIMULATED VARIABLES\n",
      "VARIABLE         1       2       3       4       5\n",
      "n_0         0.8782  0.7606  0.6539  0.5626  0.4806\n",
      "n_1         0.9160  0.8287  0.7447  0.6655  0.5928\n",
      "n_2         0.8719  0.7633  0.6722  0.6014  0.5386\n",
      "s_0         0.8596  0.7247  0.6031  0.4986  0.4089\n",
      "s_1         0.8990  0.7950  0.6959  0.6035  0.5212\n",
      "s_2         0.8531  0.7254  0.6186  0.5349  0.4639\n",
      "k           0.9940  0.9807  0.9607  0.9351  0.9051\n",
      "k_0         0.9834  0.9602  0.9312  0.8985  0.8619\n",
      "k_1         0.9895  0.9729  0.9507  0.9241  0.8938\n",
      "k_2         0.9871  0.9685  0.9442  0.9155  0.8831\n",
      "c_0         0.9809  0.9563  0.9271  0.8952  0.8605\n",
      "c_1         0.9010  0.7997  0.7057  0.6207  0.5397\n",
      "c_2         0.9065  0.8265  0.7549  0.6965  0.6395\n",
      "i           0.8746  0.7533  0.6428  0.5451  0.4640\n",
      "a_0         0.9104  0.8216  0.7379  0.6607  0.5957\n",
      "a_1         0.9160  0.8353  0.7647  0.7047  0.6478\n",
      "a_2         0.9072  0.8269  0.7509  0.6851  0.6234\n",
      "\n",
      "\n",
      "\n",
      "VARIANCE DECOMPOSITION SIMULATING ONE SHOCK AT A TIME (in percent)\n",
      "              a_0_shock         a_1_shock         a_2_shock  Tot. lin. contr.\n",
      "n_0               73.59              8.92              9.49             92.00\n",
      "n_1               29.05             38.96              6.44             74.44\n",
      "n_2               47.52             10.31             66.74            124.57\n",
      "s_0               84.62              4.70              5.12             94.45\n",
      "s_1               44.43             27.49              4.74             76.66\n",
      "s_2               69.82              7.41             45.55            122.78\n",
      "k                 92.14              1.00              0.92             94.06\n",
      "k_0               97.20              0.92              1.07             99.19\n",
      "k_1               71.07              8.62              0.51             80.20\n",
      "k_2               94.63              0.58             11.39            106.60\n",
      "c_0               83.45              3.44              3.37             90.26\n",
      "c_1               22.91             76.70              3.49            103.10\n",
      "c_2               21.04              3.27             74.17             98.48\n",
      "i                 95.21              0.79              0.88             96.87\n",
      "a_0              100.11              0.00              0.00            100.11\n",
      "a_1                0.00            100.11              0.00            100.11\n",
      "a_2                0.00              0.00            100.11            100.11\n",
      "Note: numbers do not add up to 100 due to non-zero correlation of simulated shocks in small samples\n",
      "\n",
      "Total computing time : 0h00m01s\n",
      "x = 1\n"
     ]
    }
   ],
   "source": [
    "\n",
    "# A list of dictionaries representing updates to apply to my_dict:\n",
    "new_pars = [{'psi_n': 0, 'psi_k': 0}, \n",
    "           {'psi_n': 2, 'psi_k': 0}, \n",
    "           {'psi_n': 0, 'psi_k': 2}]\n",
    "\n",
    "# Create an empty dictionary to store your variables\n",
    "t=[]\n",
    "\n",
    "\n",
    "\n",
    "for i, update in enumerate(new_pars):\n",
    "    model_params.update(update)\n",
    "    %run make_files_2.ipynb\n",
    "    y=1\n",
    "    x=octave.call_dynare(y,nout=1)\n",
    "    oo = octave.pull('oo_') \n",
    "    instance = DyPy(oo)\n",
    "    t.append(instance)\n"
   ]
  },
  {
   "cell_type": "markdown",
   "id": "531543fe",
   "metadata": {},
   "source": [
    "Dynare creates a `structure` which we will need so we `pull` it."
   ]
  },
  {
   "cell_type": "markdown",
   "id": "1a99fe40",
   "metadata": {},
   "source": [
    "The output from Dynare is stored in a file called `oo_`. This brings `oo_` in as `oo`."
   ]
  },
  {
   "cell_type": "markdown",
   "id": "c3a9a75e",
   "metadata": {},
   "source": [
    "Draw all impulse response functions. "
   ]
  },
  {
   "cell_type": "code",
   "execution_count": null,
   "id": "29ffe9db",
   "metadata": {},
   "outputs": [],
   "source": [
    "def plot_dta(instances, attributes,periods=30):\n",
    "    plt.figure(figsize=(15, 5))\n",
    "    for j, attribute in enumerate(attributes):\n",
    "        # Create a subplot for this attribute\n",
    "        plt.subplot(1, len(attributes), j+1)\n",
    "        for i, instance in enumerate(instances):\n",
    "            # Get the attribute value (time series data)\n",
    "            attr_value = getattr(instance, attribute)\n",
    "            attr_value = attr_value.reshape(-1, 1)\n",
    "            length = attr_value.shape[0]\n",
    "            tm = np.linspace(1, length, length)\n",
    "            # Add a line to the plot for this time series\n",
    "            plt.plot(tm[0:periods], attr_value[0:periods], label=labels[i])\n",
    "\n",
    "        plt.title(attribute)\n",
    "        plt.legend()\n",
    "\n",
    "    # Show the figure with all subplots\n"
   ]
  },
  {
   "cell_type": "code",
   "execution_count": null,
   "id": "f0371a32",
   "metadata": {},
   "outputs": [],
   "source": [
    "labels = ['No adjustment cost', 'Adjustment cost on labor', 'Adjustment cost on capital']\n",
    "\n",
    "all_attributes =[['ir_n_0_a_0_shock', 'ir_n_1_a_0_shock', 'ir_n_2_a_0_shock'],\n",
    "                 ['ir_s_0_a_0_shock', 'ir_s_1_a_0_shock', 'ir_s_2_a_0_shock'],\n",
    "                 ['ir_k_a_0_shock', 'ir_i_a_0_shock'],\n",
    "                    ['ir_k_0_a_1_shock', 'ir_k_1_a_1_shock', 'ir_k_2_a_1_shock'],\n",
    "                    ['ir_c_0_a_1_shock', 'ir_c_1_a_1_shock', 'ir_c_2_a_1_shock'],\n",
    "                    ['ir_k_a_1_shock', 'ir_i_a_1_shock'],\n",
    "                    ['ir_k_0_a_2_shock', 'ir_k_1_a_2_shock', 'ir_k_2_a_2_shock'],\n",
    "                    ['ir_c_0_a_2_shock', 'ir_c_1_a_2_shock', 'ir_c_2_a_2_shock'],\n",
    "                    ['ir_k_a_2_shock', 'ir_i_a_2_shock']]\n",
    "for attributes in all_attributes:\n",
    "    plot_dta(t, attributes,periods=30)\n",
    "    plt.tight_layout()\n",
    "    plt.show()                  "
   ]
  },
  {
   "cell_type": "code",
   "execution_count": null,
   "id": "d4208e93",
   "metadata": {},
   "outputs": [],
   "source": [
    "t[0].oo_dict"
   ]
  },
  {
   "cell_type": "code",
   "execution_count": null,
   "id": "c119493d",
   "metadata": {},
   "outputs": [],
   "source": [
    "import pickle"
   ]
  },
  {
   "cell_type": "code",
   "execution_count": null,
   "id": "d2063cec",
   "metadata": {},
   "outputs": [],
   "source": [
    "a=[t[0].oo_dict,t[1].oo_dict,t[2].oo_dict]"
   ]
  },
  {
   "cell_type": "code",
   "execution_count": null,
   "id": "05925b6c",
   "metadata": {},
   "outputs": [],
   "source": [
    "a=[1,2,3]"
   ]
  },
  {
   "cell_type": "code",
   "execution_count": null,
   "id": "0b0a57b0",
   "metadata": {},
   "outputs": [],
   "source": []
  },
  {
   "cell_type": "code",
   "execution_count": null,
   "id": "f75a5e19",
   "metadata": {},
   "outputs": [],
   "source": [
    "class DPy:\n",
    "    def __init__(self,x):\n",
    "        self.outer_attr = x\n",
    "        self.inner = self.InnerClass()\n",
    "        self.oo_dict = {key: np.array(value) for key, value in x.items()}   \n",
    "    def ex_1(self):\n",
    "        print(self.outer_attr)\n",
    "    \n",
    "    class InnerClass:\n",
    "        def __init__(self):\n",
    "            self.inner_attr = \"Inner Attribute\"\n",
    "        \n",
    "        def inner_method(self):\n",
    "            print(\"Inner Method\")"
   ]
  },
  {
   "cell_type": "code",
   "execution_count": null,
   "id": "80a87ac3",
   "metadata": {},
   "outputs": [],
   "source": [
    "tst=DPy(t[0])"
   ]
  },
  {
   "cell_type": "code",
   "execution_count": null,
   "id": "e3ad1b1c",
   "metadata": {},
   "outputs": [],
   "source": [
    "class DyPy:\n",
    "    def __init__(self, x):\n",
    "        \"\"\"Initializes the class with a dictionary of arrays.\"\"\"\n",
    "        self.oo_dict = {key: np.array(value) for key, value in x.items()}\n",
    "        \"\"\"Converts the dictionary of arrays into attributes of the class.\"\"\"\n",
    "        for key, value in self.oo_dict.items():\n",
    "            setattr(self, key, value)\n",
    "        dict_irfs = self.irfs.item()\n",
    "        self.dict_irfs = {key: np.array(value) for key, value in dict_irfs.items()}\n",
    "        for key, value in self.dict_irfs.items():\n",
    "            if key!='list':\n",
    "                setattr(self, 'ir_'+ key, value)\n",
    "        self.list_irfs = self.list_irfs()\n",
    "        \n",
    "        \n",
    "        \n",
    "        \n",
    "        \n",
    "        "
   ]
  },
  {
   "cell_type": "code",
   "execution_count": null,
   "id": "bb7856e5",
   "metadata": {},
   "outputs": [],
   "source": [
    "a=DyPy(t[0].oo_dict)"
   ]
  }
 ],
 "metadata": {
  "kernelspec": {
   "display_name": "base",
   "language": "python",
   "name": "python3"
  },
  "language_info": {
   "codemirror_mode": {
    "name": "ipython",
    "version": 3
   },
   "file_extension": ".py",
   "mimetype": "text/x-python",
   "name": "python",
   "nbconvert_exporter": "python",
   "pygments_lexer": "ipython3",
   "version": "3.11.5"
  }
 },
 "nbformat": 4,
 "nbformat_minor": 5
}
