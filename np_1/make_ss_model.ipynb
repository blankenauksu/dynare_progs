{
 "cells": [
  {
   "cell_type": "code",
   "execution_count": 1,
   "metadata": {},
   "outputs": [],
   "source": [
    "from scipy.optimize import root\n",
    "import numpy as np"
   ]
  },
  {
   "cell_type": "code",
   "execution_count": 2,
   "metadata": {},
   "outputs": [],
   "source": [
    "params = {\n",
    "    'eps': 1.5,\n",
    "    'tht': 1,\n",
    "    'alf': .5,\n",
    "    'bet': .9,\n",
    "    'om_0': 1,\n",
    "    'om_1': 1,\n",
    "    'om_2': 1,\n",
    "    'delt': .05\n",
    "}"
   ]
  },
  {
   "cell_type": "code",
   "execution_count": 3,
   "metadata": {},
   "outputs": [],
   "source": [
    "ss_shock = {\n",
    "    'a_0': 0,\n",
    "    'a_1': 0,\n",
    "    'a_2': 0\n",
    "}"
   ]
  },
  {
   "cell_type": "code",
   "execution_count": 4,
   "metadata": {},
   "outputs": [],
   "source": [
    "shock_params = {\n",
    "    'var_a_0': .5,\n",
    "    'var_a_1': .6,\n",
    "    'var_a_2': .7,\n",
    "    'rho_a_0': .9,\n",
    "    'rho_a_1': .9,\n",
    "    'rho_a_2': .9\n",
    "}"
   ]
  },
  {
   "cell_type": "code",
   "execution_count": 5,
   "metadata": {},
   "outputs": [],
   "source": [
    "ss_params = {**params, **ss_shock}\n",
    "model_params = {**params, **shock_params}"
   ]
  },
  {
   "cell_type": "code",
   "execution_count": 6,
   "metadata": {},
   "outputs": [],
   "source": [
    "def assign_params(ss_params):\n",
    "    a_0 = ss_params['a_0']\n",
    "    a_1 = ss_params['a_1']\n",
    "    a_2 = ss_params['a_2']\n",
    "    alf = ss_params['alf']\n",
    "    delt = ss_params['delt']\n",
    "    om_0 = ss_params['om_0']\n",
    "    om_1 = ss_params['om_1']\n",
    "    om_2 = ss_params['om_2']\n",
    "    eps = ss_params['eps']\n",
    "    tht = ss_params['tht']\n",
    "    bet = ss_params['bet']\n",
    "   \n",
    "    return eps,tht,alf,bet,om_0,om_1,om_2,delt,a_0,a_1,a_2\n"
   ]
  },
  {
   "cell_type": "code",
   "execution_count": null,
   "metadata": {},
   "outputs": [],
   "source": []
  },
  {
   "cell_type": "code",
   "execution_count": null,
   "metadata": {},
   "outputs": [],
   "source": []
  },
  {
   "cell_type": "code",
   "execution_count": 7,
   "metadata": {},
   "outputs": [],
   "source": [
    "n_goods=3\n",
    "\n",
    "def write_dict_to_file(filename):\n",
    "    \n",
    "    with open(filename, 'w') as f:\n",
    "        \n",
    "        \n",
    "        f.write('def equations(vars, params):\\n')\n",
    "        f.write('\\tn_0,n_1,n_2,k_0,k_1,k_2 = vars\\n')\n",
    "        f.write('\\teps,tht,alf,bet,om_0,om_1,om_2,delt,a_0,a_1,a_2 = assign_params(params)\\n')\n",
    "    \n",
    "    \n",
    "    \n",
    "    \n",
    "    \n",
    "        \n",
    "        f.write('\\tph=(')\n",
    "        for i in range(0, n_goods):\n",
    "            f.write(f'\\tom_{i}*c_{i}**((eps-1)/eps)')\n",
    "            if i < n_goods-1:\n",
    "                f.write(f'+')\n",
    "            f.write('')    \n",
    "        f.write('\\t)**((1-tht*eps)/(eps-1))\\n')\n",
    "\n",
    "        f.write(f'\\n')\n",
    "        for i in range(0, n_goods):\n",
    "            f.write(f'\\tv_{i}=om_{i}*c_{i}**(-1/eps)*ph\\n')\n",
    "        \n",
    "\n",
    "        f.write(f'\\n')\n",
    "        for i in range(0, n_goods):\n",
    "            f.write(f'\\tfk_{i}=exp(a_{i})*n_{i}*alf*k{i}**(alf-1)\\n')\n",
    "        \n",
    "        \n",
    "        f.write(f'\\n')\n",
    "        for i in range(0, n_goods):\n",
    "            f.write(f'\\tfn_{i}=a_{i}*(1-alf)*k{i}**(alf)\\n')\n",
    "        \n",
    "        f.write(f'\\n')\n",
    "        f.write(f'\\tlamk=v_0*fk_0/n_0\\n')\n",
    "        \n",
    "        \n",
    "        \n",
    "        f.write(f'\\teq1=v_1*fk_1-n_1*lamk\\n')\n",
    "        f.write(f'\\teq2=v_2*fk_2-n_2*lamk\\n')\n",
    "        f.write(f'\\n')\n",
    "        f.write(f'\\teq3=bet*(fk_0+1-delt)-1\\n')\n",
    "        f.write(f'\\teq4=n_0+n_1+n_2-1\\n')\n",
    "        f.write(f'\\teq5=c_0-exp(a_0)*n_0*k**alf-(1-delt)*k+k\\n')\n",
    "        f.write(f'\\teq6=c_1-exp(a_1)*n_1*k**alf\\n')\n",
    "        f.write(f'\\teq7=c_2-exp(a_2)*n_2*k**alf\\n')\n",
    "\n",
    "        f.write(f'\\treturn [eq1, eq2, eq3, eq4, eq5, eq6, eq7]\\n')\n",
    "\n",
    "               \n",
    "# Call the function\n",
    "write_dict_to_file('t_ss_model.m')\n"
   ]
  },
  {
   "cell_type": "code",
   "execution_count": 8,
   "metadata": {},
   "outputs": [],
   "source": [
    "%run t_ss_model.m"
   ]
  },
  {
   "cell_type": "code",
   "execution_count": 9,
   "metadata": {},
   "outputs": [],
   "source": [
    "def equations(vars, params):\n",
    "\tn_0,n_1,n_2,k,c_0,c_1,c_2 = vars\n",
    "\teps,tht,alf,bet,om_0,om_1,om_2,delt,a_0,a_1,a_2 = assign_params(params)\n",
    "\tph=(\tom_0*c_0**((eps-1)/eps)+\tom_1*c_1**((eps-1)/eps)+\tom_2*c_2**((eps-1)/eps)\t)**((1-tht*eps)/(eps-1))\n",
    "\n",
    "\tv_0=om_0*c_0**(-1/eps)*ph\n",
    "\tv_1=om_1*c_1**(-1/eps)*ph\n",
    "\tv_2=om_2*c_2**(-1/eps)*ph\n",
    "\n",
    "\tfk_0=np.exp(a_0)*n_0*alf*k**(alf-1)\n",
    "\tfk_1=np.exp(a_1)*n_1*alf*k**(alf-1)\n",
    "\tfk_2=np.exp(a_2)*n_2*alf*k**(alf-1)\n",
    "\n",
    "\tfn_0=a_0*(1-alf)*k**(alf)\n",
    "\tfn_1=a_1*(1-alf)*k**(alf)\n",
    "\tfn_2=a_2*(1-alf)*k**(alf)\n",
    "\n",
    "\tlamk=v_0*fk_0/n_0\n",
    "\teq1=v_1*fk_1-n_1*lamk\n",
    "\teq2=v_2*fk_2-n_2*lamk\n",
    "\n",
    "\teq3=bet*(fk_0+1-delt)-1\n",
    "\teq4=n_0+n_1+n_2-1\n",
    "\teq5=c_0-np.exp(a_0)*n_0*k**alf-(1-delt)*k+k\n",
    "\teq6=c_1-np.exp(a_1)*n_1*k**alf\n",
    "\teq7=c_2-np.exp(a_2)*n_2*k**alf\n",
    "\treturn [eq1, eq2, eq3, eq4, eq5, eq6, eq7]"
   ]
  },
  {
   "cell_type": "code",
   "execution_count": 10,
   "metadata": {},
   "outputs": [],
   "source": [
    "initial_guess = np.array([.3, .3, .3, .3, .3, .3,.3])"
   ]
  },
  {
   "cell_type": "code",
   "execution_count": 11,
   "metadata": {},
   "outputs": [],
   "source": [
    "sol = root(equations, initial_guess, args=(ss_params,))"
   ]
  },
  {
   "cell_type": "code",
   "execution_count": 12,
   "metadata": {},
   "outputs": [
    {
     "data": {
      "text/plain": [
       "array([0.37179487, 0.31410256, 0.31410256, 1.33136095, 0.36242604,\n",
       "       0.36242604, 0.36242604])"
      ]
     },
     "execution_count": 12,
     "metadata": {},
     "output_type": "execute_result"
    }
   ],
   "source": [
    "sol.x"
   ]
  }
 ],
 "metadata": {
  "kernelspec": {
   "display_name": "Python 3",
   "language": "python",
   "name": "python3"
  },
  "language_info": {
   "codemirror_mode": {
    "name": "ipython",
    "version": 3
   },
   "file_extension": ".py",
   "mimetype": "text/x-python",
   "name": "python",
   "nbconvert_exporter": "python",
   "pygments_lexer": "ipython3",
   "version": "3.11.5"
  }
 },
 "nbformat": 4,
 "nbformat_minor": 2
}
