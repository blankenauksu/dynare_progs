{
 "cells": [
  {
   "cell_type": "code",
   "execution_count": 1,
   "metadata": {},
   "outputs": [],
   "source": [
    "from scipy.optimize import root\n",
    "import numpy as np"
   ]
  },
  {
   "cell_type": "code",
   "execution_count": 2,
   "metadata": {},
   "outputs": [],
   "source": [
    "params = {\n",
    "    'eps': 1.5,\n",
    "    'tht': 1,\n",
    "    'alf': .5,\n",
    "    'bet': .9,\n",
    "    'om_0': 1,\n",
    "    'om_1': 1,\n",
    "    'om_2': 1,\n",
    "    'delt': .05\n",
    "}"
   ]
  },
  {
   "cell_type": "code",
   "execution_count": 3,
   "metadata": {},
   "outputs": [],
   "source": [
    "ss_shock = {\n",
    "    'a_0': 0,\n",
    "    'a_1': 0,\n",
    "    'a_2': 0\n",
    "}"
   ]
  },
  {
   "cell_type": "code",
   "execution_count": 4,
   "metadata": {},
   "outputs": [],
   "source": [
    "shock_params = {\n",
    "    'var_a_0': .5,\n",
    "    'var_a_1': .6,\n",
    "    'var_a_2': .7,\n",
    "    'rho_a_0': .9,\n",
    "    'rho_a_1': .9,\n",
    "    'rho_a_2': .9\n",
    "}"
   ]
  },
  {
   "cell_type": "code",
   "execution_count": 5,
   "metadata": {},
   "outputs": [],
   "source": [
    "ss_params = {**params, **ss_shock}\n",
    "model_params = {**params, **shock_params}"
   ]
  },
  {
   "cell_type": "code",
   "execution_count": 6,
   "metadata": {},
   "outputs": [
    {
     "data": {
      "text/plain": [
       "{'eps': 1.5,\n",
       " 'tht': 1,\n",
       " 'alf': 0.5,\n",
       " 'bet': 0.9,\n",
       " 'om_0': 1,\n",
       " 'om_1': 1,\n",
       " 'om_2': 1,\n",
       " 'delt': 0.05,\n",
       " 'var_a_0': 0.5,\n",
       " 'var_a_1': 0.6,\n",
       " 'var_a_2': 0.7,\n",
       " 'rho_a_0': 0.9,\n",
       " 'rho_a_1': 0.9,\n",
       " 'rho_a_2': 0.9}"
      ]
     },
     "execution_count": 6,
     "metadata": {},
     "output_type": "execute_result"
    }
   ],
   "source": [
    "model_params"
   ]
  },
  {
   "cell_type": "code",
   "execution_count": 7,
   "metadata": {},
   "outputs": [
    {
     "name": "stdout",
     "output_type": "stream",
     "text": [
      "eps,tht,alf,bet,om_0,om_1,om_2,delt,a_0,a_1,a_2\n"
     ]
    }
   ],
   "source": [
    "print(','.join(f'{key}' for key in ss_params))"
   ]
  },
  {
   "cell_type": "code",
   "execution_count": 8,
   "metadata": {},
   "outputs": [
    {
     "name": "stdout",
     "output_type": "stream",
     "text": [
      "eps,tht,alf,bet,om_0,om_1,om_2,delt,var_a_0,var_a_1,var_a_2,rho_a_0,rho_a_1,rho_a_2\n"
     ]
    }
   ],
   "source": [
    "print(','.join(f'{key}' for key in model_params))"
   ]
  },
  {
   "cell_type": "code",
   "execution_count": 9,
   "metadata": {},
   "outputs": [],
   "source": [
    "def assign_params(ss_params):\n",
    "    a_0 = ss_params['a_0']\n",
    "    a_1 = ss_params['a_1']\n",
    "    a_2 = ss_params['a_2']\n",
    "    alf = ss_params['alf']\n",
    "    delt = ss_params['delt']\n",
    "    om_0 = ss_params['om_0']\n",
    "    om_1 = ss_params['om_1']\n",
    "    om_2 = ss_params['om_2']\n",
    "    eps = ss_params['eps']\n",
    "    tht = ss_params['tht']\n",
    "    bet = ss_params['bet']\n",
    "   \n",
    "    return eps,tht,alf,bet,om_0,om_1,om_2,delt,a_0,a_1,a_2\n",
    "\n"
   ]
  },
  {
   "cell_type": "code",
   "execution_count": 10,
   "metadata": {},
   "outputs": [],
   "source": [
    "def equations(vars, params):\n",
    "    gss_1,gss_2,gss_3 = vars\n",
    "    eps,tht,alf,bet,om_0,om_1,om_2,delt,a_0,a_1,a_2 = assign_params(params)\n",
    "    \n",
    "    n_1=gss_1\n",
    "    n_2=gss_2\n",
    "    k=np.exp(gss_3)\n",
    "    \n",
    "    n_0 = 1 - n_1 - n_2\n",
    "    c_0=np.exp(a_0)*n_0*k**alf-delt*k\n",
    "    c_1=np.exp(a_1)*n_1*k**alf\n",
    "    c_2=np.exp(a_2)*n_2*k**alf\n",
    "    #print(n_0,n_1,n_2,c_0)\n",
    "    summ=om_0*c_0**((eps-1)/eps)+om_1*c_1**((eps-1)/eps)+om_2*c_2**((eps-1)/eps)\n",
    "    summ=summ**((1-tht*eps)/(eps-1))\n",
    "    v_0=om_0*c_0**((-1)/eps)*summ\n",
    "    v_1=om_1*c_1**((-1)/eps)*summ\n",
    "    v_2=om_2*c_2**((-1)/eps)*summ\n",
    "    \n",
    "    fk_0=np.exp(a_0)*alf*n_0*k**(alf-1)\n",
    "    fk_1=np.exp(a_1)*alf*n_1*k**(alf-1)\n",
    "    fk_2=np.exp(a_2)*alf*n_2*k**(alf-1)\n",
    "    \n",
    "    #fn_0=(1-alf)*a_0*k**alf\n",
    "    #fn_1=(1-alf)*a_1*k**alf\n",
    "    #fn_2=(1-alf)*a_2*k**alf\n",
    "        \n",
    "    lam_k=v_0*fk_0/n_0\n",
    "    \n",
    "    eq1 =v_1*fk_1-n_1*lam_k\n",
    "    eq2 =v_2*fk_2-n_2*lam_k\n",
    "    eq3 = bet*(n_0*fk_0+1-delt)-1\n",
    "    \n",
    "    print(eq1,eq2,eq3)\n",
    "    return [eq1, eq2, eq3]\n",
    "\n"
   ]
  },
  {
   "cell_type": "code",
   "execution_count": 11,
   "metadata": {},
   "outputs": [
    {
     "name": "stdout",
     "output_type": "stream",
     "text": [
      "1.0 1.0 1.0\n",
      "0.015996013962241762 0.015996013962241762 -0.07299999999999995\n",
      "1.0 1.0 1.0\n",
      "0.015996013962241762 0.015996013962241762 -0.07299999999999995\n",
      "1.0 1.0 1.0\n",
      "0.015996013962241762 0.015996013962241762 -0.07299999999999995\n",
      "1.0 1.0 1.0\n",
      "0.015996011312530062 0.015996012701258555 -0.0730000016093254\n",
      "1.0 1.0 1.0\n",
      "0.015996012701258527 0.015996011312530034 -0.0730000016093254\n",
      "1.0 1.0 1.0\n",
      "0.015996013620969557 0.015996013620969557 -0.07300000053644184\n",
      "1.0 1.0 1.0\n",
      "-52.48609814314791 -52.48609814314791 -0.08910378347267112\n",
      "1.0 1.0 1.0\n",
      "0.13401033771091256 0.13401033771091256 0.039878260492933304\n",
      "1.0 1.0 1.0\n",
      "0.015996011312530062 0.015996012701258555 -0.0730000016093254\n",
      "1.0 1.0 1.0\n",
      "0.015996012701258527 0.015996011312530034 -0.0730000016093254\n",
      "1.0 1.0 1.0\n",
      "0.015996013620969557 0.015996013620969557 -0.07300000053644184\n",
      "1.0 1.0 1.0\n",
      "-52.48609814314791 -52.48609814314791 -0.08910378347267112\n",
      "1.0 1.0 1.0\n",
      "0.13401033771091256 0.13401033771091256 0.039878260492933304\n",
      "1.0 1.0 1.0\n",
      "0.0615155529273399 0.0615155529273389 -0.02749419610273829\n",
      "1.0 1.0 1.0\n",
      "0.036080293087310894 0.036080293087308174 -0.052519811071947475\n",
      "1.0 1.0 1.0\n",
      "0.06197014523166616 0.06197014523166336 -0.02716554459902054\n",
      "1.0 1.0 1.0\n",
      "0.048293251242210095 0.048293251242206625 -0.04040889379651802\n",
      "1.0 1.0 1.0\n",
      "0.03608029040443478 0.03608029186136322 -0.05251981290586427\n",
      "1.0 1.0 1.0\n",
      "0.03608029186136591 0.03608029040443203 -0.05251981290586427\n",
      "1.0 1.0 1.0\n",
      "0.03608029294866438 0.036080292948661635 -0.05251981122376148\n",
      "1.0 1.0 1.0\n",
      "0.03164210879822202 0.03164210876418541 -0.05680580355414355\n",
      "1.0 1.0 1.0\n",
      "0.027057205878616652 0.027057205021715047 -0.05983950102445679\n",
      "1.0 1.0 1.0\n",
      "0.02874826515487408 0.028748262795955798 -0.054385276258246185\n",
      "1.0 1.0 1.0\n",
      "-0.002985179031028462 -0.0029851817637423506 -0.05920881171228454\n",
      "1.0 1.0 1.0\n",
      "0.048123841145064516 0.04812384263185443 0.0033440327539964176\n",
      "1.0 1.0 1.0\n",
      "-0.009364915411717023 -0.009364919054092535 -0.039555520624543594\n",
      "1.0 1.0 1.0\n",
      "0.052746084245374636 0.05274611163661569 0.01764550564550893\n",
      "1.0 1.0 1.0\n",
      "-0.07211774897897194 -0.0721178279515049 -0.026925331277088405\n",
      "1.0 1.0 1.0\n",
      "-0.0093649285552998 -0.00936492567378755 -0.039555523599113185\n",
      "1.0 1.0 1.0\n",
      "-0.009364922031411815 -0.009364932197675535 -0.039555523599113185\n",
      "1.0 1.0 1.0\n",
      "-0.009364915571977717 -0.009364919214353118 -0.039555521682956285\n",
      "1.0 1.0 1.0\n",
      "0.006379217604761678 0.006379213717529586 -0.025706240369427036\n",
      "1.0 1.0 1.0\n",
      "0.003771827007973183 0.0037718237675730126 0.0019240160860489741\n",
      "1.0 1.0 1.0\n",
      "-0.002585363076387459 -0.0025853602519891883 -0.0005282491163003389\n",
      "1.0 1.0 1.0\n",
      "7.671877675119454e-05 7.671841136303037e-05 -4.494648303221549e-05\n",
      "1.0 1.0 1.0\n",
      "-9.79587509730706e-06 -9.795645141696951e-06 4.194170482474391e-06\n",
      "1.0 1.0 1.0\n",
      "-7.069046237262455e-08 -7.08338212529469e-08 3.14098198561652e-08\n",
      "1.0 1.0 1.0\n",
      "4.639622019908529e-12 1.281332817626435e-10 -2.946820565341568e-11\n",
      "1.0 1.0 1.0\n",
      "5.2081450263585793e-11 -5.207856368372177e-11 -1.1102230246251565e-16\n",
      "1.0 1.0 1.0\n",
      "-2.6896262994569042e-12 2.6894042548519792e-12 0.0\n",
      " message: The solution converged.\n",
      " success: True\n",
      "  status: 1\n",
      "     fun: [-2.690e-12  2.689e-12  0.000e+00]\n",
      "       x: [ 3.272e-01  3.272e-01 -1.984e+00]\n",
      "    nfev: 38\n",
      "    fjac: [[-8.600e-01 -4.920e-01 -1.353e-01]\n",
      "           [ 5.006e-01 -8.649e-01 -3.646e-02]\n",
      "           [ 9.908e-02  9.908e-02 -9.901e-01]]\n",
      "       r: [ 5.718e+00  4.854e+00  4.938e-02  3.206e+00  6.863e-03\n",
      "            6.403e-02]\n",
      "     qtf: [-1.917e-11  7.111e-11  3.791e-16]\n"
     ]
    },
    {
     "data": {
      "text/plain": [
       "{'n_0': 0.34569599405458,\n",
       " 'n_1': 0.3271520029737993,\n",
       " 'n_2': 0.32715200297162067,\n",
       " 'k': 0.13755184209778895,\n",
       " 'c_0': 0.12133407651083655,\n",
       " 'c_1': 0.12133407651124055,\n",
       " 'c_2': 0.12133407651043253,\n",
       " 'a_0': 0,\n",
       " 'a_1': 0,\n",
       " 'a_2': 0}"
      ]
     },
     "execution_count": 11,
     "metadata": {},
     "output_type": "execute_result"
    }
   ],
   "source": [
    "def solve_equations(params):\n",
    "    initial_guess = [.3,.3,0]  # Initial guess for the solution\n",
    "    sol = root(equations, initial_guess, args=(ss_params,))\n",
    "    \n",
    "    # Extract the solution vector\n",
    "    gss_1, gss_2, gss_3 = sol.x\n",
    "    eps,tht,alf,bet,om_0,om_1,om_2,delt,a_0,a_1,a_2 = assign_params(ss_params)\n",
    "    #n12=np.exp(gss_1)/(1+np.exp(gss_1))\n",
    "    #n_1=n12*np.exp(gss_2)/(1+np.exp(gss_2))\n",
    "    #n_2=n12-n_1\n",
    "    n_1=gss_1\n",
    "    n_2=gss_2\n",
    "    k=np.exp(gss_3)\n",
    "    n_0 = 1 - n_1 - n_2\n",
    "    c_0=np.exp(a_0)*n_0*k**alf-delt*k\n",
    "    c_1=np.exp(a_1)*n_1*k**alf\n",
    "    c_2=np.exp(a_2)*n_2*k**alf\n",
    "    a_0=0\n",
    "    a_1=0\n",
    "    a_2=0\n",
    "    ss_dict = {\n",
    "    'n_0': n_0,\n",
    "    'n_1': n_1,\n",
    "    'n_2': n_2,\n",
    "    'k': k,\n",
    "    'c_0': c_0,\n",
    "    'c_1': c_1,\n",
    "    'c_2': c_2,\n",
    "    'a_0': a_0,\n",
    "    'a_1': a_1,\n",
    "    'a_2': a_2\n",
    "    }\n",
    "    return sol, ss_dict\n",
    "    \n",
    "\n",
    "# Call the wrapper function\n",
    "sol, ss_dict=solve_equations(ss_params)\n",
    "print(sol)\n",
    "ss_dict\n"
   ]
  },
  {
   "cell_type": "code",
   "execution_count": 12,
   "metadata": {},
   "outputs": [],
   "source": [
    "def write_dict_to_file(ss_dict, filename):\n",
    "    with open(filename, 'w') as f:\n",
    "        f.write('var \\n')\n",
    "        for key, value in ss_dict.items():\n",
    "            f.write(f'{key}\\n')\n",
    "        f.write(f';\\n\\n\\n')\n",
    "        f.write('varexo \\n')\n",
    "        for key, value in ss_shock.items():\n",
    "            f.write(f'{key}_shock\\n')\n",
    "        f.write(f';\\n\\n\\n')\n",
    "# Call the function\n",
    "write_dict_to_file(ss_dict, 't_vars.m')"
   ]
  },
  {
   "cell_type": "code",
   "execution_count": 13,
   "metadata": {},
   "outputs": [],
   "source": [
    "def write_dict_to_file(ss_dict, filename):\n",
    "    with open(filename, 'w') as f:\n",
    "        f.write('initval;\\n')\n",
    "        for key, value in ss_dict.items():\n",
    "            f.write(f'{key}={value};\\n')\n",
    "        f.write(f'end;\\n\\n\\n')        \n",
    "# Call the function\n",
    "write_dict_to_file(ss_dict, 't_ss.m')"
   ]
  },
  {
   "cell_type": "code",
   "execution_count": 14,
   "metadata": {},
   "outputs": [],
   "source": [
    "def write_dict_to_file(params, filename):\n",
    "    \n",
    "    with open(filename, 'w') as f:\n",
    "        f.write('parameters ')\n",
    "        f.write(','.join(f'{key}' for key in params))\n",
    "        f.write(';\\n\\n')\n",
    "        for key, value in params.items():\n",
    "            f.write(f'{key}={value};\\n')\n",
    "\n",
    "# Call the function\n",
    "write_dict_to_file(model_params, 't_parameters.m')"
   ]
  },
  {
   "cell_type": "code",
   "execution_count": 15,
   "metadata": {},
   "outputs": [],
   "source": [
    "def write_dict_to_file(ss_dict, filename):\n",
    "    #variance_list = list(shock_params.values())[:3]\n",
    "    with open(filename, 'w') as f:\n",
    "        f.write('shocks;\\n')\n",
    "        i=0\n",
    "        for key, value in ss_shock.items():\n",
    "            f.write(f'var {key}_shock=var_{key};\\n')\n",
    "            i+=1\n",
    "        f.write(f'\\n')\n",
    "        f.write(f'end;\\n\\n\\n')        \n",
    "# Call the function\n",
    "write_dict_to_file(ss_dict, 't_shocks.m')"
   ]
  }
 ],
 "metadata": {
  "kernelspec": {
   "display_name": "Python 3",
   "language": "python",
   "name": "python3"
  },
  "language_info": {
   "codemirror_mode": {
    "name": "ipython",
    "version": 3
   },
   "file_extension": ".py",
   "mimetype": "text/x-python",
   "name": "python",
   "nbconvert_exporter": "python",
   "pygments_lexer": "ipython3",
   "version": "3.11.5"
  }
 },
 "nbformat": 4,
 "nbformat_minor": 2
}
