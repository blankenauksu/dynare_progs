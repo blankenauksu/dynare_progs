{
 "cells": [
  {
   "cell_type": "code",
   "execution_count": 1,
   "metadata": {},
   "outputs": [],
   "source": [
    "from scipy.optimize import root\n",
    "import numpy as np"
   ]
  },
  {
   "cell_type": "code",
   "execution_count": 2,
   "metadata": {},
   "outputs": [],
   "source": [
    "params = {\n",
    "    'eps': 1.5,\n",
    "    'tht': 1,\n",
    "    'alf': .5,\n",
    "    'bet': .9,\n",
    "    'om_0': 1,\n",
    "    'om_1': 1,\n",
    "    'om_2': 1,\n",
    "    'delt': .05\n",
    "}"
   ]
  },
  {
   "cell_type": "code",
   "execution_count": 3,
   "metadata": {},
   "outputs": [],
   "source": [
    "ss_shock = {\n",
    "    'a_0': 0,\n",
    "    'a_1': 0,\n",
    "    'a_2': 0\n",
    "}"
   ]
  },
  {
   "cell_type": "code",
   "execution_count": 4,
   "metadata": {},
   "outputs": [],
   "source": [
    "shock_params = {\n",
    "    'var_a_0': .5,\n",
    "    'var_a_1': .6,\n",
    "    'var_a_2': .7,\n",
    "    'rho_a_0': .9,\n",
    "    'rho_a_1': .9,\n",
    "    'rho_a_2': .9\n",
    "}"
   ]
  },
  {
   "cell_type": "code",
   "execution_count": 5,
   "metadata": {},
   "outputs": [],
   "source": [
    "ss_params = {**params, **ss_shock}\n",
    "model_params = {**params, **shock_params}"
   ]
  },
  {
   "cell_type": "code",
   "execution_count": 6,
   "metadata": {},
   "outputs": [
    {
     "data": {
      "text/plain": [
       "{'eps': 1.5,\n",
       " 'tht': 1,\n",
       " 'alf': 0.5,\n",
       " 'bet': 0.9,\n",
       " 'om_0': 1,\n",
       " 'om_1': 1,\n",
       " 'om_2': 1,\n",
       " 'delt': 0.05,\n",
       " 'var_a_0': 0.5,\n",
       " 'var_a_1': 0.6,\n",
       " 'var_a_2': 0.7,\n",
       " 'rho_a_0': 0.9,\n",
       " 'rho_a_1': 0.9,\n",
       " 'rho_a_2': 0.9}"
      ]
     },
     "execution_count": 6,
     "metadata": {},
     "output_type": "execute_result"
    }
   ],
   "source": [
    "model_params"
   ]
  },
  {
   "cell_type": "code",
   "execution_count": 7,
   "metadata": {},
   "outputs": [
    {
     "name": "stdout",
     "output_type": "stream",
     "text": [
      "eps,tht,alf,bet,om_0,om_1,om_2,delt,a_0,a_1,a_2\n"
     ]
    }
   ],
   "source": [
    "print(','.join(f'{key}' for key in ss_params))"
   ]
  },
  {
   "cell_type": "code",
   "execution_count": 8,
   "metadata": {},
   "outputs": [
    {
     "name": "stdout",
     "output_type": "stream",
     "text": [
      "eps,tht,alf,bet,om_0,om_1,om_2,delt,var_a_0,var_a_1,var_a_2,rho_a_0,rho_a_1,rho_a_2\n"
     ]
    }
   ],
   "source": [
    "print(','.join(f'{key}' for key in model_params))"
   ]
  },
  {
   "cell_type": "code",
   "execution_count": 9,
   "metadata": {},
   "outputs": [],
   "source": [
    "def assign_params(ss_params):\n",
    "    a_0 = ss_params['a_0']\n",
    "    a_1 = ss_params['a_1']\n",
    "    a_2 = ss_params['a_2']\n",
    "    alf = ss_params['alf']\n",
    "    delt = ss_params['delt']\n",
    "    om_0 = ss_params['om_0']\n",
    "    om_1 = ss_params['om_1']\n",
    "    om_2 = ss_params['om_2']\n",
    "    eps = ss_params['eps']\n",
    "    tht = ss_params['tht']\n",
    "    bet = ss_params['bet']\n",
    "   \n",
    "    return eps,tht,alf,bet,om_0,om_1,om_2,delt,a_0,a_1,a_2\n",
    "\n"
   ]
  },
  {
   "cell_type": "code",
   "execution_count": 10,
   "metadata": {},
   "outputs": [],
   "source": [
    "def equations(vars, params):\n",
    "\tn_0,n_1,n_2,k,c_0,c_1,c_2 = vars\n",
    "\teps,tht,alf,bet,om_0,om_1,om_2,delt,a_0,a_1,a_2 = assign_params(params)\n",
    "\tph=(om_0*c_0**((eps-1)/eps)+om_1*c_1**((eps-1)/eps)+om_2*c_2**((eps-1)/eps)\t)**((1-tht*eps)/(eps-1))\n",
    "\n",
    "\tv_0=om_0*c_0**(-1/eps)*ph\n",
    "\tv_1=om_1*c_1**(-1/eps)*ph\n",
    "\tv_2=om_2*c_2**(-1/eps)*ph\n",
    "\n",
    "\tfk_0=np.exp(a_0)*n_0*alf*k**(alf-1)\n",
    "\tfk_1=np.exp(a_1)*n_1*alf*k**(alf-1)\n",
    "\tfk_2=np.exp(a_2)*n_2*alf*k**(alf-1)\n",
    "\n",
    "\tfn_0=np.exp(a_0)*(1-alf)*k**(alf)\n",
    "\tfn_1=np.exp(a_1)*(1-alf)*k**(alf)\n",
    "\tfn_2=np.exp(a_2)*(1-alf)*k**(alf)\n",
    "\n",
    "\tlamk=v_0*fk_0/n_0\n",
    "\teq1=v_1*fk_1-n_1*lamk\n",
    "\teq2=v_2*fk_2-n_2*lamk\n",
    " \n",
    "\t#changed\n",
    "\teq1=v_1*fn_1-v_0*fn_0\n",
    "\teq2=v_2*fn_2-v_0*fn_0\n",
    " \n",
    "\n",
    "\teq3=bet*(fk_0+1-delt)-1\n",
    "\teq4=n_0+n_1+n_2-1\n",
    "\teq5=c_0-np.exp(a_0)*n_0*k**alf-(1-delt)*k+k\n",
    "\teq6=c_1-np.exp(a_1)*n_1*k**alf\n",
    "\teq7=c_2-np.exp(a_2)*n_2*k**alf\n",
    " \n",
    " \n",
    "\treturn [eq1, eq2, eq3, eq4, eq5, eq6, eq7]\n"
   ]
  },
  {
   "cell_type": "code",
   "execution_count": 11,
   "metadata": {},
   "outputs": [
    {
     "name": "stdout",
     "output_type": "stream",
     "text": [
      " message: The solution converged.\n",
      " success: True\n",
      "  status: 1\n",
      "     fun: [ 2.729e-11  2.729e-11 -2.434e-11  0.000e+00 -2.954e-11\n",
      "            2.780e-11 -7.916e-12]\n",
      "       x: [ 3.718e-01  3.141e-01  3.141e-01  1.331e+00  3.624e-01\n",
      "            3.624e-01  3.624e-01]\n",
      "    nfev: 23\n",
      "    fjac: [[-2.063e-03 -2.063e-03 ... -4.522e-02 -4.525e-02]\n",
      "           [ 2.632e-03  2.632e-03 ...  6.417e-01  4.002e-02]\n",
      "           ...\n",
      "           [ 5.242e-01 -7.287e-01 ... -1.888e-01 -1.888e-01]\n",
      "           [ 5.233e-01 -1.325e-01 ...  3.607e-01  3.607e-01]]\n",
      "       r: [-1.430e+00 -6.939e-01 ...  3.076e-01  4.434e-01]\n",
      "     qtf: [-1.386e-12  8.484e-11 -6.690e-11 -2.488e-10 -1.740e-10\n",
      "           -2.156e-10  4.120e-10]\n"
     ]
    },
    {
     "data": {
      "text/plain": [
       "{'n_0': 0.37179487184553434,\n",
       " 'n_1': 0.31410256406175696,\n",
       " 'n_2': 0.3141025640927087,\n",
       " 'k': 1.3313609475553958,\n",
       " 'c_0': 0.36242603562185355,\n",
       " 'c_1': 0.36242603559389786,\n",
       " 'c_2': 0.3624260355938979,\n",
       " 'a_0': 0,\n",
       " 'a_1': 0,\n",
       " 'a_2': 0}"
      ]
     },
     "execution_count": 11,
     "metadata": {},
     "output_type": "execute_result"
    }
   ],
   "source": [
    "initial_guess = [.3,.3,.3,.3,.3,.3,.3]\n",
    "def solve_equations(params):\n",
    "    \n",
    "    sol = root(equations, initial_guess, args=(ss_params,))\n",
    "    \n",
    "    # Extract the solution vector\n",
    "    n_0,n_1,n_2,k,c_0,c_1,c_2 = sol.x\n",
    "    a_0=0\n",
    "    a_1=0\n",
    "    a_2=0\n",
    "    ss_dict = {\n",
    "    'n_0': n_0,\n",
    "    'n_1': n_1,\n",
    "    'n_2': n_2,\n",
    "    'k': k,\n",
    "    'c_0': c_0,\n",
    "    'c_1': c_1,\n",
    "    'c_2': c_2,\n",
    "    'a_0': a_0,\n",
    "    'a_1': a_1,\n",
    "    'a_2': a_2\n",
    "    }\n",
    "    return sol, ss_dict\n",
    "    \n",
    "\n",
    "# Call the wrapper function\n",
    "sol, ss_dict=solve_equations(ss_params)\n",
    "print(sol)\n",
    "ss_dict\n"
   ]
  },
  {
   "cell_type": "code",
   "execution_count": 12,
   "metadata": {},
   "outputs": [],
   "source": [
    "def write_dict_to_file(ss_dict, filename):\n",
    "    with open(filename, 'w') as f:\n",
    "        f.write('var \\n')\n",
    "        for key, value in ss_dict.items():\n",
    "            f.write(f'{key}\\n')\n",
    "        f.write(f';\\n\\n\\n')\n",
    "        f.write('varexo \\n')\n",
    "        for key, value in ss_shock.items():\n",
    "            f.write(f'{key}_shock\\n')\n",
    "        f.write(f';\\n\\n\\n')\n",
    "# Call the function\n",
    "write_dict_to_file(ss_dict, 't_vars.m')"
   ]
  },
  {
   "cell_type": "code",
   "execution_count": 13,
   "metadata": {},
   "outputs": [],
   "source": [
    "def write_dict_to_file(ss_dict, filename):\n",
    "    with open(filename, 'w') as f:\n",
    "        f.write('initval;\\n')\n",
    "        for key, value in ss_dict.items():\n",
    "            f.write(f'{key}={value};\\n')\n",
    "        f.write(f'end;\\n\\n\\n')        \n",
    "# Call the function\n",
    "write_dict_to_file(ss_dict, 't_ss.m')"
   ]
  },
  {
   "cell_type": "code",
   "execution_count": 14,
   "metadata": {},
   "outputs": [],
   "source": [
    "def write_dict_to_file(params, filename):\n",
    "    \n",
    "    with open(filename, 'w') as f:\n",
    "        f.write('parameters ')\n",
    "        f.write(','.join(f'{key}' for key in params))\n",
    "        f.write(';\\n\\n')\n",
    "        for key, value in params.items():\n",
    "            f.write(f'{key}={value};\\n')\n",
    "\n",
    "# Call the function\n",
    "write_dict_to_file(model_params, 't_parameters.m')"
   ]
  },
  {
   "cell_type": "code",
   "execution_count": 15,
   "metadata": {},
   "outputs": [],
   "source": [
    "def write_dict_to_file(ss_dict, filename):\n",
    "    #variance_list = list(shock_params.values())[:3]\n",
    "    with open(filename, 'w') as f:\n",
    "        f.write('shocks;\\n')\n",
    "        i=0\n",
    "        for key, value in ss_shock.items():\n",
    "            f.write(f'var {key}_shock=var_{key};\\n')\n",
    "            i+=1\n",
    "        f.write(f'\\n')\n",
    "        f.write(f'end;\\n\\n\\n')        \n",
    "# Call the function\n",
    "write_dict_to_file(ss_dict, 't_shocks.m')"
   ]
  }
 ],
 "metadata": {
  "kernelspec": {
   "display_name": "Python 3",
   "language": "python",
   "name": "python3"
  },
  "language_info": {
   "codemirror_mode": {
    "name": "ipython",
    "version": 3
   },
   "file_extension": ".py",
   "mimetype": "text/x-python",
   "name": "python",
   "nbconvert_exporter": "python",
   "pygments_lexer": "ipython3",
   "version": "3.11.5"
  }
 },
 "nbformat": 4,
 "nbformat_minor": 2
}
