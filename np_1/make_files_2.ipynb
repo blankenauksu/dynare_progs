{
 "cells": [
  {
   "cell_type": "code",
   "execution_count": 1,
   "metadata": {},
   "outputs": [],
   "source": [
    "from scipy.optimize import root\n",
    "import numpy as np"
   ]
  },
  {
   "cell_type": "code",
   "execution_count": 2,
   "metadata": {},
   "outputs": [],
   "source": [
    "params = {\n",
    "    'eps': 1.5,\n",
    "    'tht': 1,\n",
    "    'alf': .5,\n",
    "    'bet': .9,\n",
    "    'om_0': 1,\n",
    "    'om_1': 1,\n",
    "    'om_2': 1,\n",
    "    'delt': .1\n",
    "}"
   ]
  },
  {
   "cell_type": "code",
   "execution_count": 3,
   "metadata": {},
   "outputs": [],
   "source": [
    "ss_shock = {\n",
    "    'a_0': 0,\n",
    "    'a_1': 0,\n",
    "    'a_2': 0\n",
    "}"
   ]
  },
  {
   "cell_type": "code",
   "execution_count": 4,
   "metadata": {},
   "outputs": [],
   "source": [
    "shock_params = {\n",
    "    'var_a_0': .5,\n",
    "    'var_a_1': .6,\n",
    "    'var_a_2': .7,\n",
    "    'rho_a_0': .9,\n",
    "    'rho_a_1': .9,\n",
    "    'rho_a_2': .9\n",
    "}"
   ]
  },
  {
   "cell_type": "code",
   "execution_count": 5,
   "metadata": {},
   "outputs": [],
   "source": [
    "ss_params = {**params, **ss_shock}\n",
    "model_params = {**params, **shock_params}"
   ]
  },
  {
   "cell_type": "code",
   "execution_count": 6,
   "metadata": {},
   "outputs": [
    {
     "data": {
      "text/plain": [
       "{'eps': 1.5,\n",
       " 'tht': 1,\n",
       " 'alf': 0.5,\n",
       " 'bet': 0.9,\n",
       " 'om_0': 1,\n",
       " 'om_1': 1,\n",
       " 'om_2': 1,\n",
       " 'delt': 0.1,\n",
       " 'var_a_0': 0.5,\n",
       " 'var_a_1': 0.6,\n",
       " 'var_a_2': 0.7,\n",
       " 'rho_a_0': 0.9,\n",
       " 'rho_a_1': 0.9,\n",
       " 'rho_a_2': 0.9}"
      ]
     },
     "execution_count": 6,
     "metadata": {},
     "output_type": "execute_result"
    }
   ],
   "source": [
    "model_params"
   ]
  },
  {
   "cell_type": "code",
   "execution_count": 7,
   "metadata": {},
   "outputs": [
    {
     "name": "stdout",
     "output_type": "stream",
     "text": [
      "eps,tht,alf,bet,om_0,om_1,om_2,delt,a_0,a_1,a_2\n"
     ]
    }
   ],
   "source": [
    "print(','.join(f'{key}' for key in ss_params))"
   ]
  },
  {
   "cell_type": "code",
   "execution_count": 8,
   "metadata": {},
   "outputs": [
    {
     "name": "stdout",
     "output_type": "stream",
     "text": [
      "eps,tht,alf,bet,om_0,om_1,om_2,delt,var_a_0,var_a_1,var_a_2,rho_a_0,rho_a_1,rho_a_2\n"
     ]
    }
   ],
   "source": [
    "print(','.join(f'{key}' for key in model_params))"
   ]
  },
  {
   "cell_type": "code",
   "execution_count": 9,
   "metadata": {},
   "outputs": [],
   "source": [
    "def assign_params(ss_params):\n",
    "    a_0 = ss_params['a_0']\n",
    "    a_1 = ss_params['a_1']\n",
    "    a_2 = ss_params['a_2']\n",
    "    alf = ss_params['alf']\n",
    "    delt = ss_params['delt']\n",
    "    om_0 = ss_params['om_0']\n",
    "    om_1 = ss_params['om_1']\n",
    "    om_2 = ss_params['om_2']\n",
    "    eps = ss_params['eps']\n",
    "    tht = ss_params['tht']\n",
    "    bet = ss_params['bet']\n",
    "   \n",
    "    return eps,tht,alf,bet,om_0,om_1,om_2,delt,a_0,a_1,a_2\n",
    "\n"
   ]
  },
  {
   "cell_type": "code",
   "execution_count": 10,
   "metadata": {},
   "outputs": [],
   "source": [
    "def equations(vars, params):\n",
    "    gss_1,gss_2,gss_3 = vars\n",
    "    eps,tht,alf,bet,om_0,om_1,om_2,delt,a_0,a_1,a_2 = assign_params(params)\n",
    "    n12=np.exp(gss_1)/(1+np.exp(gss_1))\n",
    "    n_1=np.exp(gss_1)/(1+np.exp(gss_1))\n",
    "    n_2=np.exp(gss_2)/(1+np.exp(gss_2))\n",
    "    k=np.exp(gss_3)\n",
    "    print(n_1,n_2,k)\n",
    "    n_0 = 1 - n_1 - n_2\n",
    "    c_0=np.exp(a_0)*n_0*k**alf-delt*k\n",
    "    c_1=np.exp(a_1)*n_1*k**alf\n",
    "    c_2=np.exp(a_2)*n_2*k**alf\n",
    "    #print(n_0,n_1,n_2,c_0)\n",
    "    summ=om_0*c_0**((eps-1)/eps)+om_1*c_1**((eps-1)/eps)+om_2*c_2**((eps-1)/eps)\n",
    "    summ=summ**((1-tht*eps)/(eps-1))\n",
    "    v_0=om_0*c_0**((-1)/eps)*summ\n",
    "    v_1=om_1*c_1**((-1)/eps)*summ\n",
    "    v_2=om_2*c_2**((-1)/eps)*summ\n",
    "    \n",
    "    fk_0=np.exp(a_0)*alf*n_0*k**(alf-1)\n",
    "    fk_1=np.exp(a_1)*alf*n_1*k**(alf-1)\n",
    "    fk_2=np.exp(a_2)*alf*n_2*k**(alf-1)\n",
    "    \n",
    "    #fn_0=(1-alf)*a_0*k**alf\n",
    "    #fn_1=(1-alf)*a_1*k**alf\n",
    "    #fn_2=(1-alf)*a_2*k**alf\n",
    "        \n",
    "    lam_k=v_0*fk_0/n_0\n",
    "    \n",
    "    eq1 =v_1*fk_1-n_1*lam_k\n",
    "    eq2 =v_2*fk_2-n_2*lam_k\n",
    "    eq3 = bet*(n_0*fk_0+1-delt)-1\n",
    "    return [eq1, eq2, eq3]\n",
    "\n"
   ]
  },
  {
   "cell_type": "code",
   "execution_count": 11,
   "metadata": {},
   "outputs": [
    {
     "name": "stdout",
     "output_type": "stream",
     "text": [
      "0.23076923076923075 0.23076923076923075 2.718281828459045\n",
      "0.23076923076923075 0.23076923076923075 2.718281828459045\n",
      "0.23076923076923075 0.23076923076923075 2.718281828459045\n",
      "0.23076923395395138 0.23076923076923075 2.718281828459045\n",
      "0.23076923076923075 0.23076923395395138 2.718281828459045\n",
      "0.23076923076923075 0.23076923076923075 2.7182818689646013\n",
      "0.0006021773819315375 0.0006021773819315396 2141841.263505452\n",
      "nan nan nan\n",
      "0.23076923395395138 0.23076923076923075 2.718281828459045\n",
      "0.23076923076923075 0.23076923395395138 2.718281828459045\n",
      "0.23076923076923075 0.23076923076923075 2.7182818689646013\n",
      "0.0006021773819315375 0.0006021773819315396 2141841.263505452\n",
      "nan nan nan\n",
      "nan nan nan\n",
      "nan nan nan\n",
      "nan nan nan\n",
      "nan nan nan\n",
      "nan nan nan\n",
      "nan nan nan\n"
     ]
    },
    {
     "name": "stderr",
     "output_type": "stream",
     "text": [
      "C:\\Users\\blankenw\\AppData\\Local\\Temp\\ipykernel_27608\\3252491900.py:14: RuntimeWarning: invalid value encountered in scalar power\n",
      "  summ=om_0*c_0**((eps-1)/eps)+om_1*c_1**((eps-1)/eps)+om_2*c_2**((eps-1)/eps)\n",
      "C:\\Users\\blankenw\\AppData\\Local\\Temp\\ipykernel_27608\\3252491900.py:16: RuntimeWarning: invalid value encountered in scalar power\n",
      "  v_0=om_0*c_0**((-1)/eps)*summ\n"
     ]
    },
    {
     "ename": "UnboundLocalError",
     "evalue": "cannot access local variable 'k' where it is not associated with a value",
     "output_type": "error",
     "traceback": [
      "\u001b[1;31m---------------------------------------------------------------------------\u001b[0m",
      "\u001b[1;31mUnboundLocalError\u001b[0m                         Traceback (most recent call last)",
      "Cell \u001b[1;32mIn[11], line 37\u001b[0m\n\u001b[0;32m     33\u001b[0m     \u001b[38;5;28;01mreturn\u001b[39;00m sol, ss_dict\n\u001b[0;32m     36\u001b[0m \u001b[38;5;66;03m# Call the wrapper function\u001b[39;00m\n\u001b[1;32m---> 37\u001b[0m sol, ss_dict\u001b[38;5;241m=\u001b[39msolve_equations(ss_params)\n\u001b[0;32m     38\u001b[0m \u001b[38;5;28mprint\u001b[39m(sol)\n\u001b[0;32m     39\u001b[0m ss_dict\n",
      "Cell \u001b[1;32mIn[11], line 11\u001b[0m, in \u001b[0;36msolve_equations\u001b[1;34m(params)\u001b[0m\n\u001b[0;32m      9\u001b[0m n_1\u001b[38;5;241m=\u001b[39mn12\u001b[38;5;241m*\u001b[39mnp\u001b[38;5;241m.\u001b[39mexp(gss_2)\u001b[38;5;241m/\u001b[39m(\u001b[38;5;241m1\u001b[39m\u001b[38;5;241m+\u001b[39mnp\u001b[38;5;241m.\u001b[39mexp(gss_2))\n\u001b[0;32m     10\u001b[0m n_2\u001b[38;5;241m=\u001b[39mn12\u001b[38;5;241m-\u001b[39mn_1\n\u001b[1;32m---> 11\u001b[0m \u001b[38;5;28mprint\u001b[39m(n_1,n_2,k)\n\u001b[0;32m     12\u001b[0m k\u001b[38;5;241m=\u001b[39mnp\u001b[38;5;241m.\u001b[39mexp(gss_3)\n\u001b[0;32m     14\u001b[0m n_0 \u001b[38;5;241m=\u001b[39m \u001b[38;5;241m1\u001b[39m \u001b[38;5;241m-\u001b[39m n_1 \u001b[38;5;241m-\u001b[39m n_2\n",
      "\u001b[1;31mUnboundLocalError\u001b[0m: cannot access local variable 'k' where it is not associated with a value"
     ]
    }
   ],
   "source": [
    "def solve_equations(params):\n",
    "    initial_guess = [np.log(.3),np.log(.3),1]  # Initial guess for the solution\n",
    "    sol = root(equations, initial_guess, args=(ss_params,))\n",
    "    \n",
    "    # Extract the solution vector\n",
    "    gss_1, gss_2, gss_3 = sol.x\n",
    "    eps,tht,alf,bet,om_0,om_1,om_2,delt,a_0,a_1,a_2 = assign_params(ss_params)\n",
    "    n12=np.exp(gss_1)/(1+np.exp(gss_1))\n",
    "    n_1=n12*np.exp(gss_2)/(1+np.exp(gss_2))\n",
    "    n_2=n12-n_1\n",
    "    print(n_1,n_2,k)\n",
    "    k=np.exp(gss_3)\n",
    "    \n",
    "    n_0 = 1 - n_1 - n_2\n",
    "    c_0=np.exp(a_0)*n_0*k**alf-delt*k\n",
    "    c_1=np.exp(a_1)*n_1*k**alf\n",
    "    c_2=np.exp(a_2)*n_2*k**alf\n",
    "    a_0=0\n",
    "    a_1=0\n",
    "    a_2=0\n",
    "    ss_dict = {\n",
    "    'n_0': n_0,\n",
    "    'n_1': n_1,\n",
    "    'n_2': n_2,\n",
    "    'k': k,\n",
    "    'c_0': c_0,\n",
    "    'c_1': c_1,\n",
    "    'c_2': c_2,\n",
    "    'a_0': a_0,\n",
    "    'a_1': a_1,\n",
    "    'a_2': a_2\n",
    "    }\n",
    "    return sol, ss_dict\n",
    "    \n",
    "\n",
    "# Call the wrapper function\n",
    "sol, ss_dict=solve_equations(ss_params)\n",
    "print(sol)\n",
    "ss_dict\n"
   ]
  },
  {
   "cell_type": "code",
   "execution_count": null,
   "metadata": {},
   "outputs": [],
   "source": [
    "def write_dict_to_file(ss_dict, filename):\n",
    "    with open(filename, 'w') as f:\n",
    "        f.write('var \\n')\n",
    "        for key, value in ss_dict.items():\n",
    "            f.write(f'{key}\\n')\n",
    "        f.write(f';\\n\\n\\n')\n",
    "        f.write('varexo \\n')\n",
    "        for key, value in ss_shock.items():\n",
    "            f.write(f'{key}_shock\\n')\n",
    "        f.write(f';\\n\\n\\n')\n",
    "# Call the function\n",
    "write_dict_to_file(ss_dict, 't_vars.m')"
   ]
  },
  {
   "cell_type": "code",
   "execution_count": null,
   "metadata": {},
   "outputs": [],
   "source": [
    "def write_dict_to_file(ss_dict, filename):\n",
    "    with open(filename, 'w') as f:\n",
    "        f.write('initval;\\n')\n",
    "        for key, value in ss_dict.items():\n",
    "            f.write(f'{key}={value};\\n')\n",
    "        f.write(f'end;\\n\\n\\n')        \n",
    "# Call the function\n",
    "write_dict_to_file(ss_dict, 't_ss.m')"
   ]
  },
  {
   "cell_type": "code",
   "execution_count": null,
   "metadata": {},
   "outputs": [],
   "source": [
    "def write_dict_to_file(params, filename):\n",
    "    \n",
    "    with open(filename, 'w') as f:\n",
    "        f.write('parameters ')\n",
    "        f.write(','.join(f'{key}' for key in params))\n",
    "        f.write(';\\n\\n')\n",
    "        for key, value in params.items():\n",
    "            f.write(f'{key}={value};\\n')\n",
    "\n",
    "# Call the function\n",
    "write_dict_to_file(model_params, 't_parameters.m')"
   ]
  },
  {
   "cell_type": "code",
   "execution_count": null,
   "metadata": {},
   "outputs": [],
   "source": [
    "def write_dict_to_file(ss_dict, filename):\n",
    "    #variance_list = list(shock_params.values())[:3]\n",
    "    with open(filename, 'w') as f:\n",
    "        f.write('shocks;\\n')\n",
    "        i=0\n",
    "        for key, value in ss_shock.items():\n",
    "            f.write(f'var {key}_shock=var_{key};\\n')\n",
    "            i+=1\n",
    "        f.write(f'\\n')\n",
    "        f.write(f'end;\\n\\n\\n')        \n",
    "# Call the function\n",
    "write_dict_to_file(ss_dict, 't_shocks.m')"
   ]
  }
 ],
 "metadata": {
  "kernelspec": {
   "display_name": "Python 3",
   "language": "python",
   "name": "python3"
  },
  "language_info": {
   "codemirror_mode": {
    "name": "ipython",
    "version": 3
   },
   "file_extension": ".py",
   "mimetype": "text/x-python",
   "name": "python",
   "nbconvert_exporter": "python",
   "pygments_lexer": "ipython3",
   "version": "3.11.5"
  }
 },
 "nbformat": 4,
 "nbformat_minor": 2
}
