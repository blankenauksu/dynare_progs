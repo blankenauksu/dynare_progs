{
 "cells": [
  {
   "cell_type": "code",
   "execution_count": 1,
   "metadata": {},
   "outputs": [],
   "source": [
    "from scipy.optimize import root\n",
    "import numpy as np\n",
    "import pickle"
   ]
  },
  {
   "cell_type": "code",
   "execution_count": 2,
   "metadata": {},
   "outputs": [],
   "source": [
    "with open('mf1.pkl', 'rb') as f:\n",
    "    ss_params,params,ss_shock = pickle.load(f)\n"
   ]
  },
  {
   "cell_type": "markdown",
   "metadata": {},
   "source": [
    "We need a few of the model parameters to solve for the steady state of the model. For simplicity, we run this to define them all. "
   ]
  },
  {
   "cell_type": "code",
   "execution_count": 3,
   "metadata": {},
   "outputs": [],
   "source": [
    "%run par_list.m\n"
   ]
  },
  {
   "cell_type": "markdown",
   "metadata": {},
   "source": [
    "We can find the steady state analyticall but do it numerically. We are solving only for exp(c), exp(y), i, and exp(k). We do not exonentiate i as we must allow for it to be negative.  This is give the system of four equations and four unknowns to solve. "
   ]
  },
  {
   "cell_type": "code",
   "execution_count": 4,
   "metadata": {},
   "outputs": [],
   "source": [
    "def equations(vars):\n",
    "\ty,c,i,k = vars\n",
    "\t#prodction function\n",
    "\teq1=np.exp(y)-np.exp(a_0)*np.exp(k)**alpha\n",
    "\t#resource constraint\t\n",
    "\teq2=np.exp(y)-np.exp(c)-i\n",
    "\t#capital accumulation \n",
    "\teq3=np.exp(k)-(1-delta)*np.exp(k)-i\n",
    "\t#euler equation\n",
    "\teq4=np.exp(c)**(-1)-beta*np.exp(c)**(-1)*(alpha*np.exp(k)**(alpha-1)+(1-delta))\n",
    "\t#total factor productivity\n",
    "\n",
    "\treturn [eq1,eq2,eq3,eq4]\n"
   ]
  },
  {
   "cell_type": "markdown",
   "metadata": {},
   "source": [
    "Starting guessses."
   ]
  },
  {
   "cell_type": "code",
   "execution_count": 5,
   "metadata": {},
   "outputs": [],
   "source": [
    "yi=np.log(1)\n",
    "ci=np.log(1)\n",
    "ii=.1\n",
    "ki=np.log(1)\n",
    "\n",
    "initial_guess = [yi,ci,ii,ki]"
   ]
  },
  {
   "cell_type": "markdown",
   "metadata": {},
   "source": [
    "This is a wrapper for the root function in scipy. It takes the initial guess and the equations function and returns the solutions. It then defines the y,c,i,k as the output and a_0 is given above as a parameter. It puts these 5 items into a dictionary."
   ]
  },
  {
   "cell_type": "code",
   "execution_count": 6,
   "metadata": {},
   "outputs": [],
   "source": [
    "\n",
    "def solve_equations(params):\n",
    "    \n",
    "    sol = root(equations, initial_guess)\n",
    "    \n",
    "    # Extract the solution vector\n",
    "    y,c,i,k = sol.x\n",
    "    #eps,tht,alf,bet,om_0,om_1,om_2,delt,psi_k,psi_n,a_0,a_1,a_2 = assign_params(params)\n",
    "   \n",
    "    ss_dict = {\n",
    "    'y':y,\n",
    "    'c':c,\n",
    "    'i':i,\n",
    "    'k':k,\n",
    "    'a_0':a_0\n",
    "    }\n",
    "    return sol, ss_dict\n",
    " \n"
   ]
  },
  {
   "cell_type": "markdown",
   "metadata": {},
   "source": [
    "Calls the wrapper function. "
   ]
  },
  {
   "cell_type": "code",
   "execution_count": 7,
   "metadata": {},
   "outputs": [
    {
     "name": "stdout",
     "output_type": "stream",
     "text": [
      " message: The solution converged.\n",
      " success: True\n",
      "  status: 1\n",
      "     fun: [-2.025e-11  3.178e-11  2.958e-11 -2.173e-12]\n",
      "       x: [ 7.256e-01  4.795e-01  4.506e-01  2.199e+00]\n",
      "    nfev: 23\n",
      "    fjac: [[-6.714e-01 -6.993e-01 -1.921e-01  1.527e-01]\n",
      "           [ 6.515e-01 -6.936e-01  3.003e-01  6.619e-02]\n",
      "           [ 3.296e-01 -1.063e-01 -9.181e-01 -1.926e-01]\n",
      "           [-1.271e-01 -1.367e-01  1.731e-01 -9.671e-01]]\n",
      "       r: [-1.871e+00  5.562e-01  8.802e-01  1.442e-01  7.360e-01\n",
      "            3.913e-01 -1.906e-01  9.562e-01 -2.765e-01 -8.173e-02]\n",
      "     qtf: [-4.304e-10 -7.289e-10 -1.001e-09  1.367e-10]\n"
     ]
    }
   ],
   "source": [
    "sol,ss_dict=solve_equations(ss_params)\n",
    "print(sol)"
   ]
  },
  {
   "cell_type": "markdown",
   "metadata": {},
   "source": [
    "Thus does a check. It should be 0. "
   ]
  },
  {
   "cell_type": "code",
   "execution_count": 8,
   "metadata": {},
   "outputs": [
    {
     "data": {
      "text/plain": [
       "3.17785242565094e-11"
      ]
     },
     "execution_count": 8,
     "metadata": {},
     "output_type": "execute_result"
    }
   ],
   "source": [
    "yss=np.exp(sol.x[0])\n",
    "css=np.exp(sol.x[1])\n",
    "iss=sol.x[2]\n",
    "kss=np.exp(sol.x[3])\n",
    "\n",
    "yss-css-iss\n"
   ]
  },
  {
   "cell_type": "markdown",
   "metadata": {},
   "source": [
    "This is a function to write the variables so that they are properly defined for use by dynare. See t_vars.m."
   ]
  },
  {
   "cell_type": "code",
   "execution_count": 9,
   "metadata": {},
   "outputs": [],
   "source": [
    "def write_dict_to_file(ss_dict, filename):\n",
    "    with open(filename, 'w') as f:\n",
    "        f.write('var \\n')\n",
    "        for key, value in ss_dict.items():\n",
    "            f.write(f'{key}\\n')\n",
    "        f.write(f';\\n\\n\\n')\n",
    "        f.write('varexo \\n')\n",
    "        for key, value in ss_shock.items():\n",
    "            f.write(f'{key}_shock\\n')\n",
    "        f.write(f';\\n\\n\\n')\n",
    "# Call the function\n",
    "write_dict_to_file(ss_dict, 't_vars.m')"
   ]
  },
  {
   "cell_type": "markdown",
   "metadata": {},
   "source": [
    "Writes the steady state values for dynare"
   ]
  },
  {
   "cell_type": "code",
   "execution_count": 10,
   "metadata": {},
   "outputs": [],
   "source": [
    "def write_dict_to_file(ss_dict, filename):\n",
    "    with open(filename, 'w') as f:\n",
    "        f.write('initval;\\n')\n",
    "        for key, value in ss_dict.items():\n",
    "            f.write(f'{key}={value};\\n')\n",
    "        f.write(f'end;\\n\\n\\n')        \n",
    "# Call the function\n",
    "write_dict_to_file(ss_dict, 't_ss.m')"
   ]
  },
  {
   "cell_type": "markdown",
   "metadata": {},
   "source": [
    "Writes the parameters for dynare. "
   ]
  },
  {
   "cell_type": "code",
   "execution_count": 11,
   "metadata": {},
   "outputs": [],
   "source": [
    "def write_dict_to_file(params, filename):\n",
    "    \n",
    "    with open(filename, 'w') as f:\n",
    "        f.write('parameters ')\n",
    "        f.write(','.join(f'{key}' for key in params))\n",
    "        f.write(';\\n\\n')\n",
    "        for key, value in params.items():\n",
    "            f.write(f'{key}={value};\\n')\n",
    "\n",
    "# Call the function\n",
    "write_dict_to_file(params, 't_parameters.m')"
   ]
  },
  {
   "cell_type": "markdown",
   "metadata": {},
   "source": [
    "Writes the shocks for Dynare"
   ]
  },
  {
   "cell_type": "code",
   "execution_count": 12,
   "metadata": {},
   "outputs": [],
   "source": [
    "def write_dict_to_file(ss_dict, filename):\n",
    "    #variance_list = list(shock_params.values())[:3]\n",
    "    with open(filename, 'w') as f:\n",
    "        f.write('shocks;\\n')\n",
    "        i=0\n",
    "        for key, value in ss_shock.items():\n",
    "            f.write(f'var {key}_shock=sigma_{key}^2;\\n')\n",
    "            i+=1\n",
    "        f.write(f'\\n')\n",
    "        f.write(f'end;\\n\\n\\n')        \n",
    "# Call the function\n",
    "write_dict_to_file(ss_dict, 't_shocks.m')"
   ]
  },
  {
   "cell_type": "markdown",
   "metadata": {},
   "source": [
    "Not currently used. "
   ]
  },
  {
   "cell_type": "code",
   "execution_count": 13,
   "metadata": {},
   "outputs": [],
   "source": [
    "with open('mf2.pkl', 'wb') as f:\n",
    "    pickle.dump((ss_dict), f)"
   ]
  }
 ],
 "metadata": {
  "kernelspec": {
   "display_name": "Python 3",
   "language": "python",
   "name": "python3"
  },
  "language_info": {
   "codemirror_mode": {
    "name": "ipython",
    "version": 3
   },
   "file_extension": ".py",
   "mimetype": "text/x-python",
   "name": "python",
   "nbconvert_exporter": "python",
   "pygments_lexer": "ipython3",
   "version": "3.11.5"
  }
 },
 "nbformat": 4,
 "nbformat_minor": 2
}
