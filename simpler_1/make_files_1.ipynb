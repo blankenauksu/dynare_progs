{
 "cells": [
  {
   "cell_type": "code",
   "execution_count": null,
   "metadata": {},
   "outputs": [],
   "source": [
    "from scipy.optimize import root\n",
    "import numpy as np\n",
    "import pickle"
   ]
  },
  {
   "cell_type": "markdown",
   "metadata": {},
   "source": [
    "Parameters used in the model"
   ]
  },
  {
   "cell_type": "code",
   "execution_count": null,
   "metadata": {},
   "outputs": [],
   "source": [
    "params = {\n",
    "    'alpha': .33,\n",
    "    'beta': .975,\n",
    "    'delta': .05,\n",
    "    'sigma_a_0': .01,\n",
    "    'rho_0':.95\n",
    "}\n",
    "\n"
   ]
  },
  {
   "cell_type": "markdown",
   "metadata": {},
   "source": [
    "For calculating the steady state we will also need the steady state of this technology parameter."
   ]
  },
  {
   "cell_type": "code",
   "execution_count": null,
   "metadata": {},
   "outputs": [],
   "source": [
    "ss_shock = {\n",
    "    'a_0': 0\n",
    "}"
   ]
  },
  {
   "cell_type": "markdown",
   "metadata": {},
   "source": [
    "These are parameters we will use after solving the model with dynare. They are not used in dynare itself."
   ]
  },
  {
   "cell_type": "code",
   "execution_count": null,
   "metadata": {},
   "outputs": [],
   "source": [
    "outside_params={\n",
    "    'om_0': .5,\n",
    "    'om_1': .7,\n",
    "    'om_2': .9,\n",
    "    'eps': .5,\n",
    "    'a_0s':1,\n",
    "    'a_1s':.5,\n",
    "    'a_2s':.6,\n",
    "    'a_0g':.00,\n",
    "    'a_1g':.001,\n",
    "    'a_2g':.002,\n",
    "    \n",
    "    \n",
    "}"
   ]
  },
  {
   "cell_type": "markdown",
   "metadata": {},
   "source": [
    "This merges the two dictionaries into one dictionary called for finding the steady state. "
   ]
  },
  {
   "cell_type": "code",
   "execution_count": null,
   "metadata": {},
   "outputs": [],
   "source": [
    "ss_params = {**params, **ss_shock}"
   ]
  },
  {
   "cell_type": "markdown",
   "metadata": {},
   "source": [
    "Merges all dictionaries so that it is easy to define all parameters at once for use when we caluculate items outside the model. "
   ]
  },
  {
   "cell_type": "code",
   "execution_count": null,
   "metadata": {},
   "outputs": [],
   "source": [
    "all_params={**params, **ss_shock, **outside_params}"
   ]
  },
  {
   "cell_type": "markdown",
   "metadata": {},
   "source": [
    "This is a way to later make sure that the parameters do not get mixed up and are all defined when we need them. "
   ]
  },
  {
   "cell_type": "code",
   "execution_count": null,
   "metadata": {},
   "outputs": [],
   "source": [
    "keys_list = list(all_params.keys())\n",
    "a=','.join(f'{key}' for key in all_params) #prints out all the keys in the dictionary on the same line. \n",
    "b=','.join(f'{all_params[key]}' for key in keys_list) #prints out all the values in the dictionary on the same line. \n",
    "print(a,'=',b) #prints out the keys and values in the dictionary on the same line.\n"
   ]
  },
  {
   "cell_type": "markdown",
   "metadata": {},
   "source": [
    "We now have this written to a file. When we later run that file, all are defined. "
   ]
  },
  {
   "cell_type": "code",
   "execution_count": null,
   "metadata": {},
   "outputs": [],
   "source": [
    "def write_pars_to_file(filename):\n",
    "    with open(filename, 'w') as f:\n",
    "        f.write(a+'='+b)   \n",
    "\n",
    "write_pars_to_file('par_list.m')"
   ]
  },
  {
   "cell_type": "markdown",
   "metadata": {},
   "source": [
    "We are not currently using this. "
   ]
  },
  {
   "cell_type": "code",
   "execution_count": null,
   "metadata": {},
   "outputs": [],
   "source": [
    "with open('mf1.pkl', 'wb') as f:\n",
    "    pickle.dump((ss_params,params,ss_shock), f)"
   ]
  }
 ],
 "metadata": {
  "kernelspec": {
   "display_name": "Python 3",
   "language": "python",
   "name": "python3"
  },
  "language_info": {
   "codemirror_mode": {
    "name": "ipython",
    "version": 3
   },
   "file_extension": ".py",
   "mimetype": "text/x-python",
   "name": "python",
   "nbconvert_exporter": "python",
   "pygments_lexer": "ipython3",
   "version": "3.11.5"
  }
 },
 "nbformat": 4,
 "nbformat_minor": 2
}
