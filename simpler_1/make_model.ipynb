{
 "cells": [
  {
   "cell_type": "code",
   "execution_count": 1,
   "metadata": {},
   "outputs": [],
   "source": [
    "\n",
    "\n",
    "def write_to_file(filename):\n",
    "    with open(filename, 'w') as f:\n",
    "       f.write(f'model;\\n') \n",
    "       f.write(f'//prodction function\\n')\n",
    "       f.write(f'[name=\\'Production\\'] \\n')\n",
    "       f.write(f'exp(y)=exp(a_0)*exp(k^(-1))^alpha;\\n') \n",
    "       f.write('\\n') \n",
    "    \n",
    "       f.write(f'//resource constraint\\n')\n",
    "       f.write(f'[name=\\'resource\\'] \\n')\n",
    "       f.write(f'exp(y)=exp(c)+i;\\n')\n",
    "       f.write(f'\\n')\n",
    "        \n",
    "       f.write(f'//capital accumulation\\n')\n",
    "       f.write(f'[name=\\'capital\\'] \\n')\n",
    "       f.write(f'exp(k)=(1-delta)*exp(k(-1))+i;\\n')\n",
    "       f.write(f'\\n')\n",
    "       \n",
    "       f.write(f'//euler equation\\n')\n",
    "       f.write(f'[name=\\'euler\\'] \\n')\n",
    "       f.write(f'exp(c)^-1=beta*exp(c(+1))^(-1)*(alpha*exp(k)^(alpha-1)+(1-delta));\\n')\n",
    "       f.write(f'\\n')\n",
    "       \n",
    "       f.write(f'//total factor productivity\\n')\n",
    "       f.write(f'[name=\\'Euler\\'] \\n')\n",
    "       f.write(f'a_0=rho_0*a_0(-1)+a_0_shock;\\n')\n",
    "       f.write(f'\\n')\n",
    "       f.write(f'end;\\n\\n\\n')        \n",
    "# Call the function\n",
    "write_to_file('t_model.m')\n"
   ]
  },
  {
   "cell_type": "markdown",
   "metadata": {},
   "source": []
  }
 ],
 "metadata": {
  "kernelspec": {
   "display_name": "Python 3",
   "language": "python",
   "name": "python3"
  },
  "language_info": {
   "codemirror_mode": {
    "name": "ipython",
    "version": 3
   },
   "file_extension": ".py",
   "mimetype": "text/x-python",
   "name": "python",
   "nbconvert_exporter": "python",
   "pygments_lexer": "ipython3",
   "version": "3.11.5"
  }
 },
 "nbformat": 4,
 "nbformat_minor": 2
}
