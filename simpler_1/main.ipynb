{
 "cells": [
  {
   "cell_type": "code",
   "execution_count": 1,
   "id": "d963da46",
   "metadata": {},
   "outputs": [
    {
     "name": "stdout",
     "output_type": "stream",
     "text": [
      "warning: function C:\\dynare\\6.1\\matlab\\+identification\\display.m shadows a built-in function\n",
      "warning: called from\n",
      "    _pyeval at line 57 column 30\n",
      "\n",
      "warning: function C:\\dynare\\6.1\\matlab\\+identification\\display.m shadows a built-in function\n",
      "warning: called from\n",
      "    _pyeval at line 57 column 30\n",
      "\n"
     ]
    }
   ],
   "source": [
    "#!pip install --upgrade oct2py\n",
    "import numpy as np\n",
    "import pandas as pd\n",
    "from oct2py import octave\n",
    "import matplotlib.pyplot as plt\n",
    "import os\n",
    "from scipy.optimize import root\n",
    "import pickle\n",
    "octave.addpath('C:/dynare/6.1/matlab') \n",
    "from IPython.display import display\n",
    "#octave.addpath('/opt/homebrew/opt/dynare/lib/dynare/matlab')"
   ]
  },
  {
   "cell_type": "markdown",
   "id": "fcd99ef9",
   "metadata": {},
   "source": [
    "Writes a line of code to a file that will be used in the call to dynare. "
   ]
  },
  {
   "cell_type": "code",
   "execution_count": 2,
   "id": "f2fe4306",
   "metadata": {},
   "outputs": [],
   "source": [
    "with open('t_call.m', 'w') as file:\n",
    "    file.write(\"stoch_simul(nograph, order=1, periods=1000, irf=100);\")"
   ]
  },
  {
   "cell_type": "markdown",
   "id": "d07e9730",
   "metadata": {},
   "source": [
    "Look through these files. All are run here to update parameters and the model. "
   ]
  },
  {
   "cell_type": "code",
   "execution_count": 3,
   "id": "eff43076",
   "metadata": {},
   "outputs": [
    {
     "name": "stdout",
     "output_type": "stream",
     "text": [
      "alpha,beta,delta,sigma_a_0,rho_0,a_0,om_0,om_1,om_2,eps,a_0s,a_1s,a_2s,a_0g,a_1g,a_2g = 0.33,0.975,0.05,0.01,0.95,0,0.5,0.7,0.9,0.5,1,0.5,6,0.0,0.001,0.002\n",
      " message: The solution converged.\n",
      " success: True\n",
      "  status: 1\n",
      "     fun: [-2.025e-11  3.178e-11  2.958e-11 -2.173e-12]\n",
      "       x: [ 7.256e-01  4.795e-01  4.506e-01  2.199e+00]\n",
      "    nfev: 23\n",
      "    fjac: [[-6.714e-01 -6.993e-01 -1.921e-01  1.527e-01]\n",
      "           [ 6.515e-01 -6.936e-01  3.003e-01  6.619e-02]\n",
      "           [ 3.296e-01 -1.063e-01 -9.181e-01 -1.926e-01]\n",
      "           [-1.271e-01 -1.367e-01  1.731e-01 -9.671e-01]]\n",
      "       r: [-1.871e+00  5.562e-01  8.802e-01  1.442e-01  7.360e-01\n",
      "            3.913e-01 -1.906e-01  9.562e-01 -2.765e-01 -8.173e-02]\n",
      "     qtf: [-4.304e-10 -7.289e-10 -1.001e-09  1.367e-10]\n"
     ]
    }
   ],
   "source": [
    "%run make_model.ipynb\n",
    "%run make_files_1.ipynb\n",
    "%run make_files_2.ipynb"
   ]
  },
  {
   "cell_type": "code",
   "execution_count": 4,
   "id": "302dd812",
   "metadata": {},
   "outputs": [],
   "source": [
    "#a=octave.addpath(os.path.expanduser('C:/Users/blankenw/GitHub/dynare_progs/np_1'))"
   ]
  },
  {
   "cell_type": "markdown",
   "id": "4df08aa0",
   "metadata": {},
   "source": [
    "Makes a call to Octave, which makes a call to Dynare. Then the `.mod` file is run in Dynare. Output from Dynare is displayed as it runs. It is helpful to look at model_1.mod. It consolidates the files we have written into the various blocks needed by dynare. "
   ]
  },
  {
   "cell_type": "code",
   "execution_count": 5,
   "id": "5e4bdc3f",
   "metadata": {},
   "outputs": [
    {
     "name": "stdout",
     "output_type": "stream",
     "text": [
      "warning: function C:\\dynare\\6.1\\matlab\\+identification\\display.m shadows a built-in function\n",
      "warning: function C:\\dynare\\6.1\\matlab\\+identification\\display.m shadows a built-in function\n",
      "warning: function C:\\dynare\\6.1\\matlab\\+identification\\display.m shadows a built-in function\n",
      "Starting Dynare (version 6.1).\n",
      "Calling Dynare with arguments: none\n",
      "Starting preprocessing of the model file ...\n",
      "Found 5 equation(s).\n",
      "Evaluating expressions...\n",
      "Computing static model derivatives (order 1).\n",
      "Normalizing the static model...\n",
      "Finding the optimal block decomposition of the static model...\n",
      "2 block(s) found:\n",
      "  1 recursive block(s) and 1 simultaneous block(s).\n",
      "  the largest simultaneous block has 4 equation(s)\n",
      "                                 and 4 feedback variable(s).\n",
      "Computing dynamic model derivatives (order 1).\n",
      "Normalizing the dynamic model...\n",
      "Finding the optimal block decomposition of the dynamic model...\n",
      "2 block(s) found:\n",
      "  1 recursive block(s) and 1 simultaneous block(s).\n",
      "  the largest simultaneous block has 4 equation(s)\n",
      "                                 and 4 feedback variable(s).\n",
      "Preprocessing completed.\n",
      "Preprocessing time: 0h00m00s.\n",
      "\n",
      "STEADY-STATE RESULTS:\n",
      "\n",
      "y   \t\t 0.150092\n",
      "c   \t\t -0.34066\n",
      "i   \t\t 0.450641\n",
      "k   \t\t 2.19865\n",
      "a_0 \t\t 0\n",
      "\n",
      "EIGENVALUES:\n",
      "         Modulus             Real        Imaginary\n",
      "          0.9049           0.9049                0\n",
      "            0.95             0.95                0\n",
      "           1.041            1.041                0\n",
      "\n",
      "There are 1 eigenvalue(s) larger than 1 in modulus for 1 forward-looking variable(s)\n",
      "The rank condition is verified.\n",
      "\n",
      "\n",
      "MODEL SUMMARY\n",
      "\n",
      "  Number of variables:         5\n",
      "  Number of stochastic shocks: 1\n",
      "  Number of state variables:   2\n",
      "  Number of jumpers:           1\n",
      "  Number of static variables:  2\n",
      "\n",
      "\n",
      "MATRIX OF COVARIANCE OF EXOGENOUS SHOCKS\n",
      "Variables    a_0_shock\n",
      "a_0_shock     0.000100\n",
      "\n",
      "POLICY AND TRANSITION FUNCTIONS\n",
      "                                   y               c               i               k             a_0\n",
      "Constant                    0.150092       -0.340660        0.450641        2.198648               0\n",
      "k(-1)                      -0.061775        0.470284       -0.406293        0.904921               0\n",
      "a_0(-1)                     0.945429        0.695969        0.603490        0.066959        0.950000\n",
      "a_0_shock                   0.995188        0.732599        0.635253        0.070483        1.000000\n",
      "\n",
      "\n",
      "MOMENTS OF SIMULATED VARIABLES\n",
      "VARIABLE              MEAN       STD. DEV.        VARIANCE        SKEWNESS        KURTOSIS\n",
      "y                 0.144240        0.035615        0.001268        0.002698        0.572167\n",
      "c                -0.347249        0.036252        0.001314       -0.205094        0.654037\n",
      "i                 0.448528        0.016877        0.000285        0.247990        0.411061\n",
      "k                 2.194212        0.022749        0.000518       -0.448227        0.703711\n",
      "a_0              -0.006155        0.036919        0.001363       -0.021547        0.583438\n",
      "\n",
      "\n",
      "CORRELATION OF SIMULATED VARIABLES\n",
      "VARIABLE         y       c       i       k     a_0\n",
      "y           1.0000  0.9805  0.9539  0.8338  0.9997\n",
      "c           0.9805  1.0000  0.8763  0.9260  0.9848\n",
      "i           0.9539  0.8763  1.0000  0.6296  0.9466\n",
      "k           0.8338  0.9260  0.6296  1.0000  0.8464\n",
      "a_0         0.9997  0.9848  0.9466  0.8464  1.0000\n",
      "\n",
      "\n",
      "AUTOCORRELATION OF SIMULATED VARIABLES\n",
      "VARIABLE         1       2       3       4       5\n",
      "y           0.9580  0.9188  0.8804  0.8381  0.7971\n",
      "c           0.9775  0.9549  0.9308  0.9033  0.8750\n",
      "i           0.9235  0.8548  0.7910  0.7225  0.6588\n",
      "k           0.9966  0.9904  0.9806  0.9679  0.9528\n",
      "a_0         0.9605  0.9234  0.8868  0.8464  0.8071\n",
      "Total computing time : 0h00m01s\n"
     ]
    },
    {
     "data": {
      "text/plain": [
       "{'time': {'preprocessor': 0.4346330165863037, 'compute': 0.5961871147155762}}"
      ]
     },
     "execution_count": 5,
     "metadata": {},
     "output_type": "execute_result"
    }
   ],
   "source": [
    "\n",
    "octave.dynare('model_1.mod')\n",
    "\n",
    "\n",
    "\n"
   ]
  },
  {
   "cell_type": "markdown",
   "id": "531543fe",
   "metadata": {},
   "source": [
    "Dynare creates some `structure`s which we will need so we `pull` them from Octave. These are called `oo_` and `M_` This brings `oo_` in as `oo` and `M_` as `mm`. We mostly use oo_."
   ]
  },
  {
   "cell_type": "code",
   "execution_count": 6,
   "id": "f7998042",
   "metadata": {},
   "outputs": [
    {
     "name": "stdout",
     "output_type": "stream",
     "text": [
      "warning: load: classdef element has been converted to a struct\n",
      "warning: called from\n",
      "    _pyeval at line 28 column 9\n",
      "\n",
      "warning: load: classdef element has been converted to a struct\n",
      "warning: called from\n",
      "    _pyeval at line 28 column 9\n",
      "\n",
      "<class 'oct2py.io.Struct'>\n",
      "<class 'oct2py.io.Struct'>\n"
     ]
    }
   ],
   "source": [
    "oo = octave.pull('oo_')\n",
    "mm = octave.pull('M_')\n",
    "print(type(mm))\n",
    "print(type(oo))"
   ]
  },
  {
   "cell_type": "markdown",
   "id": "a8e6a0de",
   "metadata": {},
   "source": [
    "`oo` is of type `oct2py.io.Struct` which we cannot easily deal with in this form. The goal of the next cells it to convert all the parts we need into familiar data types. First we get the names of all the attributes that are specific to `oo`."
   ]
  },
  {
   "cell_type": "code",
   "execution_count": 7,
   "id": "763a8964",
   "metadata": {},
   "outputs": [],
   "source": [
    "names1 = [attr for attr in dir(oo) if not attr.startswith('__')]"
   ]
  },
  {
   "cell_type": "markdown",
   "id": "c5e04562",
   "metadata": {},
   "source": [
    "Now we want to create a class where each each attribute in oo becomes an attribute of this class. So far we take only one item from mm. This is a list of endogenous variables. Below we define the class. "
   ]
  },
  {
   "cell_type": "code",
   "execution_count": 8,
   "id": "41a4e834",
   "metadata": {},
   "outputs": [],
   "source": [
    "class from_octave:\n",
    "\tdef __init__(self, oo_structure, mm_structure, attribute_names):\n",
    "\t\tself.oo_structure = oo_structure\n",
    "\t\tself.mm_structure = mm_structure\n",
    "\t\tself. attribute_names =  attribute_names\n",
    "\t\tself.create_attributes()\n",
    "\t\tself.make_list()\n",
    "     \n",
    "\tdef create_attributes(self): \n",
    "\t\tfor attr in self.attribute_names:\n",
    "\t\t\tsetattr(self, attr, getattr(self.oo_structure, attr)) #this is the attributes we pull from the oo structure. We are making them attributes of the class\n",
    "\t\n",
    "\tdef make_list(self): \n",
    "\t\tself.names = list(getattr(self.mm_structure, 'endo_names')) #getting one item from the mm structure. This is the endo_names\n",
    "\t\tself.names = [item[0] for item in self.names] #pulling mm gives us a list of cell arrays. We are pulling the first item from each cell array"
   ]
  },
  {
   "cell_type": "markdown",
   "id": "f916bb2e",
   "metadata": {},
   "source": [
    "Now we create an instance of this class using `oo` as the `oo_structure`, `mm` as `mm_structure` and `names1` as the `attributes_names`."
   ]
  },
  {
   "cell_type": "code",
   "execution_count": 9,
   "id": "5b9a29ec",
   "metadata": {},
   "outputs": [],
   "source": [
    "tt = from_octave(oo, mm, names1)"
   ]
  },
  {
   "cell_type": "markdown",
   "id": "0e8c54a1",
   "metadata": {},
   "source": [
    "We see that we now can reference any of the data from `oo` with the `tt.` notation. Some examples are below. "
   ]
  },
  {
   "cell_type": "code",
   "execution_count": 10,
   "id": "3ae647e6",
   "metadata": {},
   "outputs": [],
   "source": [
    "#names1"
   ]
  },
  {
   "cell_type": "code",
   "execution_count": 11,
   "id": "e374877d",
   "metadata": {},
   "outputs": [],
   "source": [
    "#mm"
   ]
  },
  {
   "cell_type": "code",
   "execution_count": 12,
   "id": "7cd058db",
   "metadata": {},
   "outputs": [
    {
     "data": {
      "text/plain": [
       "array([[0.0012684 , 0.00126594, 0.00057334, 0.00067555, 0.00131451],\n",
       "       [0.00126594, 0.00131423, 0.00053614, 0.00076369, 0.00131807],\n",
       "       [0.00057334, 0.00053614, 0.00028483, 0.00024173, 0.00058984],\n",
       "       [0.00067555, 0.00076369, 0.00024173, 0.00051751, 0.00071087],\n",
       "       [0.00131451, 0.00131807, 0.00058984, 0.00071087, 0.00136304]])"
      ]
     },
     "execution_count": 12,
     "metadata": {},
     "output_type": "execute_result"
    }
   ],
   "source": [
    "tt.var"
   ]
  },
  {
   "cell_type": "code",
   "execution_count": 13,
   "id": "09f6b6d0",
   "metadata": {},
   "outputs": [
    {
     "data": {
      "text/plain": [
       "array([[ 0.15009227],\n",
       "       [-0.34065995],\n",
       "       [ 0.45064079],\n",
       "       [ 2.19864754],\n",
       "       [ 0.        ]])"
      ]
     },
     "execution_count": 13,
     "metadata": {},
     "output_type": "execute_result"
    }
   ],
   "source": [
    "tt.steady_state"
   ]
  },
  {
   "cell_type": "code",
   "execution_count": 14,
   "id": "1356191e",
   "metadata": {},
   "outputs": [
    {
     "data": {
      "text/plain": [
       "{'y_a_0_shock': array([[9.95188408e-03, 9.41074880e-03, 8.90081015e-03, 8.42011468e-03,\n",
       "         7.96684403e-03, 7.53930464e-03, 7.13591828e-03, 6.75521334e-03,\n",
       "         6.39581690e-03, 6.05644741e-03, 5.73590791e-03, 5.43307993e-03,\n",
       "         5.14691771e-03, 4.87644304e-03, 4.62074038e-03, 4.37895244e-03,\n",
       "         4.15027609e-03, 3.93395857e-03, 3.72929397e-03, 3.53562006e-03,\n",
       "         3.35231530e-03, 3.17879606e-03, 3.01451407e-03, 2.85895412e-03,\n",
       "         2.71163180e-03, 2.57209153e-03, 2.43990467e-03, 2.31466775e-03,\n",
       "         2.19600089e-03, 2.08354629e-03, 1.97696682e-03, 1.87594471e-03,\n",
       "         1.78018039e-03, 1.68939131e-03, 1.60331094e-03, 1.52168774e-03,\n",
       "         1.44428429e-03, 1.37087643e-03, 1.30125245e-03, 1.23521237e-03,\n",
       "         1.17256724e-03, 1.11313846e-03, 1.05675722e-03, 1.00326391e-03,\n",
       "         9.52507586e-04, 9.04345472e-04, 8.58642497e-04, 8.15270851e-04,\n",
       "         7.74109576e-04, 7.35044182e-04, 6.97966277e-04, 6.62773235e-04,\n",
       "         6.29367868e-04, 5.97658127e-04, 5.67556820e-04, 5.38981344e-04,\n",
       "         5.11853433e-04, 4.86098922e-04, 4.61647524e-04, 4.38432620e-04,\n",
       "         4.16391063e-04, 3.95462985e-04, 3.75591630e-04, 3.56723180e-04,\n",
       "         3.38806603e-04, 3.21793500e-04, 3.05637971e-04, 2.90296481e-04,\n",
       "         2.75727730e-04, 2.61892545e-04, 2.48753759e-04, 2.36276110e-04,\n",
       "         2.24426144e-04, 2.13172113e-04, 2.02483896e-04, 1.92332905e-04,\n",
       "         1.82692012e-04, 1.73535468e-04, 1.64838838e-04, 1.56578928e-04,\n",
       "         1.48733721e-04, 1.41282321e-04, 1.34204890e-04, 1.27482596e-04,\n",
       "         1.21097563e-04, 1.15032818e-04, 1.09272248e-04, 1.03800556e-04,\n",
       "         9.86032167e-05, 9.36664395e-05, 8.89771302e-05, 8.45228557e-05,\n",
       "         8.02918100e-05, 7.62727828e-05, 7.24551288e-05, 6.88287392e-05,\n",
       "         6.53840146e-05, 6.21118387e-05, 5.90035546e-05, 5.60509406e-05]]),\n",
       " 'c_a_0_shock': array([[7.32598750e-03, 7.29115996e-03, 7.22655764e-03, 7.13666582e-03,\n",
       "         7.02546060e-03, 6.89646146e-03, 6.75277860e-03, 6.59715558e-03,\n",
       "         6.43200774e-03, 6.25945677e-03, 6.08136181e-03, 5.89934748e-03,\n",
       "         5.71482907e-03, 5.52903515e-03, 5.34302797e-03, 5.15772173e-03,\n",
       "         4.97389901e-03, 4.79222552e-03, 4.61326335e-03, 4.43748280e-03,\n",
       "         4.26527306e-03, 4.09695176e-03, 3.93277342e-03, 3.77293719e-03,\n",
       "         3.61759362e-03, 3.46685076e-03, 3.32077966e-03, 3.17941916e-03,\n",
       "         3.04278027e-03, 2.91085000e-03, 2.78359481e-03, 2.66096363e-03,\n",
       "         2.54289058e-03, 2.42929736e-03, 2.32009535e-03, 2.21518749e-03,\n",
       "         2.11446994e-03, 2.01783349e-03, 1.92516488e-03, 1.83634785e-03,\n",
       "         1.75126417e-03, 1.66979443e-03, 1.59181882e-03, 1.51721771e-03,\n",
       "         1.44587222e-03, 1.37766469e-03, 1.31247903e-03, 1.25020109e-03,\n",
       "         1.19071891e-03, 1.13392295e-03, 1.07970627e-03, 1.02796468e-03,\n",
       "         9.78596842e-04, 9.31504343e-04, 8.86591775e-04, 8.43766752e-04,\n",
       "         8.02939927e-04, 7.64024991e-04, 7.26938659e-04, 6.91600637e-04,\n",
       "         6.57933590e-04, 6.25863089e-04, 5.95317560e-04, 5.66228224e-04,\n",
       "         5.38529030e-04, 5.12156586e-04, 4.87050090e-04, 4.63151252e-04,\n",
       "         4.40404221e-04, 4.18755509e-04, 3.98153911e-04, 3.78550428e-04,\n",
       "         3.59898196e-04, 3.42152401e-04, 3.25270210e-04, 3.09210695e-04,\n",
       "         2.93934760e-04, 2.79405070e-04, 2.65585981e-04, 2.52443475e-04,\n",
       "         2.39945087e-04, 2.28059850e-04, 2.16758223e-04, 2.06012041e-04,\n",
       "         1.95794446e-04, 1.86079838e-04, 1.76843819e-04, 1.68063138e-04,\n",
       "         1.59715643e-04, 1.51780230e-04, 1.44236799e-04, 1.37066205e-04,\n",
       "         1.30250220e-04, 1.23771485e-04, 1.17613475e-04, 1.11760460e-04,\n",
       "         1.06197466e-04, 1.00910242e-04, 9.58852251e-05, 9.11095108e-05]]),\n",
       " 'i_a_0_shock': array([[6.35252628e-03, 5.74853162e-03, 5.20196444e-03, 4.70736456e-03,\n",
       "         4.25979096e-03, 3.85477241e-03, 3.48826280e-03, 3.15660072e-03,\n",
       "         2.85647289e-03, 2.58488104e-03, 2.33911199e-03, 2.11671053e-03,\n",
       "         1.91545487e-03, 1.73333449e-03, 1.56853001e-03, 1.41939505e-03,\n",
       "         1.28443976e-03, 1.16231595e-03, 1.05180359e-03, 9.51798695e-04,\n",
       "         8.61302206e-04, 7.79410073e-04, 7.05304198e-04, 6.38244268e-04,\n",
       "         5.77560359e-04, 5.22646242e-04, 4.72953329e-04, 4.27985190e-04,\n",
       "         3.87292597e-04, 3.50469033e-04, 3.17146633e-04, 2.86992508e-04,\n",
       "         2.59705420e-04, 2.35012774e-04, 2.12667890e-04, 1.92447546e-04,\n",
       "         1.74149740e-04, 1.57591680e-04, 1.42607951e-04, 1.29048867e-04,\n",
       "         1.16778972e-04, 1.05675693e-04, 9.56281069e-05, 8.65358398e-05,\n",
       "         7.83080604e-05, 7.08625737e-05, 6.41249997e-05, 5.80280305e-05,\n",
       "         5.25107577e-05, 4.75180642e-05, 4.30000731e-05, 3.89116501e-05,\n",
       "         3.52119522e-05, 3.18640194e-05, 2.88344062e-05, 2.60928469e-05,\n",
       "         2.36119536e-05, 2.13669422e-05, 1.93353853e-05, 1.74969876e-05,\n",
       "         1.58333838e-05, 1.43279545e-05, 1.29656606e-05, 1.17328928e-05,\n",
       "         1.06173359e-05, 9.60784551e-06, 8.69433692e-06, 7.86768421e-06,\n",
       "         7.11962919e-06, 6.44269881e-06, 5.83013060e-06, 5.27580504e-06,\n",
       "         4.77418444e-06, 4.32025764e-06, 3.90948996e-06, 3.53777783e-06,\n",
       "         3.20140789e-06, 2.89701981e-06, 2.62157278e-06, 2.37231510e-06,\n",
       "         2.14675671e-06, 1.94264428e-06, 1.75793874e-06, 1.59079491e-06,\n",
       "         1.43954301e-06, 1.30267207e-06, 1.17881473e-06, 1.06673369e-06,\n",
       "         9.65309242e-07, 8.73528178e-07, 7.90473606e-07, 7.15315816e-07,\n",
       "         6.47303987e-07, 5.85758685e-07, 5.30065076e-07, 4.79666784e-07,\n",
       "         4.34060334e-07, 3.92790119e-07, 3.55443854e-07, 3.21648451e-07]]),\n",
       " 'k_a_0_shock': array([[7.04832589e-04, 1.30740846e-03, 1.81921220e-03, 2.25054836e-03,\n",
       "         2.61065803e-03, 2.90782414e-03, 3.14946656e-03, 3.34222792e-03,\n",
       "         3.49205110e-03, 3.60424915e-03, 3.68356846e-03, 3.73424566e-03,\n",
       "         3.76005907e-03, 3.76437498e-03, 3.75018952e-03, 3.72016635e-03,\n",
       "         3.67667063e-03, 3.62179967e-03, 3.55741058e-03, 3.48514508e-03,\n",
       "         3.40645199e-03, 3.32260737e-03, 3.23473270e-03, 3.14381125e-03,\n",
       "         3.05070281e-03, 2.95615690e-03, 2.86082470e-03, 2.76526976e-03,\n",
       "         2.66997759e-03, 2.57536434e-03, 2.48178453e-03, 2.38953802e-03,\n",
       "         2.29887624e-03, 2.21000783e-03, 2.12310361e-03, 2.03830108e-03,\n",
       "         1.95570848e-03, 1.87540835e-03, 1.79746073e-03, 1.72190606e-03,\n",
       "         1.64876775e-03, 1.57805441e-03, 1.50976193e-03, 1.44387525e-03,\n",
       "         1.38037001e-03, 1.31921394e-03, 1.26036811e-03, 1.20378809e-03,\n",
       "         1.14942492e-03, 1.09722595e-03, 1.04713565e-03, 9.99096233e-04,\n",
       "         9.53048297e-04, 9.08931294e-04, 8.66683997e-04, 8.26244880e-04,\n",
       "         7.87552456e-04, 7.50545562e-04, 7.15163605e-04, 6.81346770e-04,\n",
       "         6.49036195e-04, 6.18174116e-04, 5.88703991e-04, 5.60570592e-04,\n",
       "         5.33720089e-04, 5.08100105e-04, 4.83659764e-04, 4.60349720e-04,\n",
       "         4.38122179e-04, 4.16930907e-04, 3.96731233e-04, 3.77480038e-04,\n",
       "         3.59135747e-04, 3.41658306e-04, 3.25009161e-04, 3.09151230e-04,\n",
       "         2.94048875e-04, 2.79667864e-04, 2.65975343e-04, 2.52939791e-04,\n",
       "         2.40530991e-04, 2.28719984e-04, 2.17479034e-04, 2.06781586e-04,\n",
       "         1.96602228e-04, 1.86916652e-04, 1.77701613e-04, 1.68934890e-04,\n",
       "         1.60595249e-04, 1.52662407e-04, 1.45116993e-04, 1.37940509e-04,\n",
       "         1.31115304e-04, 1.24624531e-04, 1.18452117e-04, 1.12582731e-04,\n",
       "         1.07001755e-04, 1.01695249e-04, 9.66499239e-05, 9.18531156e-05]]),\n",
       " 'a_0_a_0_shock': array([[1.00000000e-02, 9.50000000e-03, 9.02500000e-03, 8.57375000e-03,\n",
       "         8.14506250e-03, 7.73780937e-03, 7.35091891e-03, 6.98337296e-03,\n",
       "         6.63420431e-03, 6.30249410e-03, 5.98736939e-03, 5.68800092e-03,\n",
       "         5.40360088e-03, 5.13342083e-03, 4.87674979e-03, 4.63291230e-03,\n",
       "         4.40126669e-03, 4.18120335e-03, 3.97214318e-03, 3.77353603e-03,\n",
       "         3.58485922e-03, 3.40561626e-03, 3.23533545e-03, 3.07356868e-03,\n",
       "         2.91989024e-03, 2.77389573e-03, 2.63520094e-03, 2.50344090e-03,\n",
       "         2.37826885e-03, 2.25935541e-03, 2.14638764e-03, 2.03906826e-03,\n",
       "         1.93711484e-03, 1.84025910e-03, 1.74824615e-03, 1.66083384e-03,\n",
       "         1.57779215e-03, 1.49890254e-03, 1.42395741e-03, 1.35275954e-03,\n",
       "         1.28512157e-03, 1.22086549e-03, 1.15982221e-03, 1.10183110e-03,\n",
       "         1.04673955e-03, 9.94402570e-04, 9.44682441e-04, 8.97448319e-04,\n",
       "         8.52575903e-04, 8.09947108e-04, 7.69449753e-04, 7.30977265e-04,\n",
       "         6.94428402e-04, 6.59706982e-04, 6.26721633e-04, 5.95385551e-04,\n",
       "         5.65616274e-04, 5.37335460e-04, 5.10468687e-04, 4.84945252e-04,\n",
       "         4.60697990e-04, 4.37663090e-04, 4.15779936e-04, 3.94990939e-04,\n",
       "         3.75241392e-04, 3.56479323e-04, 3.38655356e-04, 3.21722589e-04,\n",
       "         3.05636459e-04, 2.90354636e-04, 2.75836904e-04, 2.62045059e-04,\n",
       "         2.48942806e-04, 2.36495666e-04, 2.24670883e-04, 2.13437338e-04,\n",
       "         2.02765472e-04, 1.92627198e-04, 1.82995838e-04, 1.73846046e-04,\n",
       "         1.65153744e-04, 1.56896057e-04, 1.49051254e-04, 1.41598691e-04,\n",
       "         1.34518757e-04, 1.27792819e-04, 1.21403178e-04, 1.15333019e-04,\n",
       "         1.09566368e-04, 1.04088050e-04, 9.88836471e-05, 9.39394647e-05,\n",
       "         8.92424915e-05, 8.47803669e-05, 8.05413486e-05, 7.65142812e-05,\n",
       "         7.26885671e-05, 6.90541387e-05, 6.56014318e-05, 6.23213602e-05]])}"
      ]
     },
     "execution_count": 14,
     "metadata": {},
     "output_type": "execute_result"
    }
   ],
   "source": [
    "tt.irfs"
   ]
  },
  {
   "cell_type": "code",
   "execution_count": 15,
   "id": "29590f63",
   "metadata": {},
   "outputs": [
    {
     "data": {
      "text/plain": [
       "['y', 'c', 'i', 'k', 'a_0']"
      ]
     },
     "execution_count": 15,
     "metadata": {},
     "output_type": "execute_result"
    }
   ],
   "source": [
    "tt.names"
   ]
  },
  {
   "cell_type": "markdown",
   "id": "32ac88cd",
   "metadata": {},
   "source": [
    "We will care about the irfs but these are also of type `oct2py.io.Struct`. We convert it as above. We will likley make this part of the above class later, but for now we create a new class. "
   ]
  },
  {
   "cell_type": "code",
   "execution_count": 16,
   "id": "48633775",
   "metadata": {},
   "outputs": [],
   "source": [
    "names2 = [attr for attr in dir(tt.irfs) if attr.endswith('shock')]\n",
    "names2 = [x for _, x in sorted(zip(tt.names, names2), key=lambda pair: pair[0][0])]"
   ]
  },
  {
   "cell_type": "code",
   "execution_count": 17,
   "id": "a8906eeb",
   "metadata": {},
   "outputs": [
    {
     "data": {
      "text/plain": [
       "['y_a_0_shock', 'c_a_0_shock', 'i_a_0_shock', 'k_a_0_shock', 'a_0_a_0_shock']"
      ]
     },
     "execution_count": 17,
     "metadata": {},
     "output_type": "execute_result"
    }
   ],
   "source": [
    "names2"
   ]
  },
  {
   "cell_type": "markdown",
   "id": "00a75485",
   "metadata": {},
   "source": [
    "I will put more desciptors here later. However, it is getting the impulse responses as difference and levels. It is simultanosuly creating two dataframes containing all differences and levels data.  "
   ]
  },
  {
   "cell_type": "code",
   "execution_count": 18,
   "id": "bb2a729b",
   "metadata": {},
   "outputs": [],
   "source": [
    "import numpy as np\n",
    "\n",
    "class make_irfs:\n",
    "\tdef __init__(self, dta, ss, names):\n",
    "\t\tself.data = dta\n",
    "\t\tself.ss = ss\n",
    "\t\tself.names = names\n",
    "\t\tself.create_difs()\n",
    "\t\tself.make_levels()\n",
    "  \t\n",
    "\tdef create_difs(self):\n",
    "\t\tself.df_dif = pd.DataFrame()  # Initialize an empty DataFrame\n",
    "\t\tfor attr in self.names:\n",
    "\t\t\tnew_attr = attr.replace('_a_0_shock', '')\n",
    "\t\t\tnew_attr = new_attr + 'dif'\n",
    "\t\t\tflattened_attr = np.array(getattr(self.data, attr)).flatten()\n",
    "\t\t\tsetattr(self, new_attr, flattened_attr)\n",
    "\t\t\tself.df_dif[new_attr] = flattened_attr\n",
    "   \n",
    "\tdef make_levels(self):\n",
    "\t\tself.df = pd.DataFrame()  # Initialize an empty DataFrame\n",
    "\t\tfor j,attr in enumerate(self.names):\n",
    "\t\t\tnew_attr = attr.replace('_a_0_shock', '')\n",
    "\t\t\traw_level = np.array(getattr(self.data, attr)).flatten()\n",
    "\t\t\tss_value=self.ss[j]\n",
    "\t\t\tif new_attr != 'i':\n",
    "\t\t\t\tcurrent_level=np.exp(raw_level+ss_value)\n",
    "\t\t\telse:\n",
    "\t\t\t\tcurrent_level=raw_level+ss_value\n",
    "\t\t\tsetattr(self, new_attr, current_level)\n",
    "    \n",
    "\t\t\tself.df[new_attr] = current_level\n",
    "  \n",
    "\n",
    "\n",
    "\n"
   ]
  },
  {
   "cell_type": "markdown",
   "id": "74e6a946",
   "metadata": {},
   "source": [
    "Define an instance."
   ]
  },
  {
   "cell_type": "code",
   "execution_count": 19,
   "id": "b4318f4e",
   "metadata": {},
   "outputs": [
    {
     "name": "stdout",
     "output_type": "stream",
     "text": [
      "dict_keys(['data', 'ss', 'names', 'df_dif', 'ydif', 'cdif', 'idif', 'kdif', 'a_0dif', 'df', 'y', 'c', 'i', 'k', 'a_0'])\n"
     ]
    }
   ],
   "source": [
    "ir = make_irfs(tt.irfs,tt.steady_state, names2)\n",
    "print(ir.__dict__.keys())"
   ]
  },
  {
   "cell_type": "markdown",
   "id": "9a51cbc6",
   "metadata": {},
   "source": [
    "Lets get a sense of what we have. "
   ]
  },
  {
   "cell_type": "code",
   "execution_count": 20,
   "id": "b3a9c617",
   "metadata": {},
   "outputs": [
    {
     "data": {
      "image/png": "[encoded data removed]",
      "text/plain": [
       "<Figure size 1200x800 with 6 Axes>"
      ]
     },
     "metadata": {},
     "output_type": "display_data"
    }
   ],
   "source": [
    "tm=50\n",
    "# Create a figure and two subplots in the same row\n",
    "fig, ((ax1, ax2),(ax3,ax4),(ax5,ax6)) = plt.subplots(3, 2, figsize=(12, 8))\n",
    "\n",
    "# Plot tot, sc, and wi on the first subplot\n",
    "ax1.plot(ir.ydif[0:tm], label='y')\n",
    "ax1.plot(ir.cdif[0:tm], label='c')\n",
    "ax1.plot(ir.idif[0:tm], label='i')\n",
    "ax1.plot(ir.kdif[0:tm], label='k')\n",
    "ax1.plot(ir.a_0dif[0:tm], label='a_0')\n",
    "ax1.legend()\n",
    "ax1.set_xlabel('time')\n",
    "ax1.set_ylabel('Value')\n",
    "ax1.set_title('% deviations from steady state')\n",
    "ax2.set_title('level output')\n",
    "ax2.plot(ir.y[0:tm], label='y')\n",
    "ax3.set_title('level consumption')\n",
    "ax3.plot(ir.c[0:tm], label='c')\n",
    "ax4.set_title('level investment')\n",
    "ax4.plot(ir.i[0:tm], label='i')\n",
    "ax5.set_title('level capital')\n",
    "ax5.plot(ir.k[0:tm], label='k')\n",
    "ax6.set_title('level technology')\n",
    "ax6.plot(ir.a_0[0:tm], label='a_0')\n",
    "plt.tight_layout()\n",
    "plt.show()\n"
   ]
  },
  {
   "cell_type": "code",
   "execution_count": 21,
   "id": "ff429be4",
   "metadata": {},
   "outputs": [
    {
     "data": {
      "text/html": [
       "<div>\n",
       "<style scoped>\n",
       "    .dataframe tbody tr th:only-of-type {\n",
       "        vertical-align: middle;\n",
       "    }\n",
       "\n",
       "    .dataframe tbody tr th {\n",
       "        vertical-align: top;\n",
       "    }\n",
       "\n",
       "    .dataframe thead th {\n",
       "        text-align: right;\n",
       "    }\n",
       "</style>\n",
       "<table border=\"1\" class=\"dataframe\">\n",
       "  <thead>\n",
       "    <tr style=\"text-align: right;\">\n",
       "      <th></th>\n",
       "      <th>ydif</th>\n",
       "      <th>cdif</th>\n",
       "      <th>idif</th>\n",
       "      <th>kdif</th>\n",
       "      <th>a_0dif</th>\n",
       "    </tr>\n",
       "  </thead>\n",
       "  <tbody>\n",
       "    <tr>\n",
       "      <th>0</th>\n",
       "      <td>0.009952</td>\n",
       "      <td>0.007326</td>\n",
       "      <td>6.352526e-03</td>\n",
       "      <td>0.000705</td>\n",
       "      <td>0.010000</td>\n",
       "    </tr>\n",
       "    <tr>\n",
       "      <th>1</th>\n",
       "      <td>0.009411</td>\n",
       "      <td>0.007291</td>\n",
       "      <td>5.748532e-03</td>\n",
       "      <td>0.001307</td>\n",
       "      <td>0.009500</td>\n",
       "    </tr>\n",
       "    <tr>\n",
       "      <th>2</th>\n",
       "      <td>0.008901</td>\n",
       "      <td>0.007227</td>\n",
       "      <td>5.201964e-03</td>\n",
       "      <td>0.001819</td>\n",
       "      <td>0.009025</td>\n",
       "    </tr>\n",
       "    <tr>\n",
       "      <th>3</th>\n",
       "      <td>0.008420</td>\n",
       "      <td>0.007137</td>\n",
       "      <td>4.707365e-03</td>\n",
       "      <td>0.002251</td>\n",
       "      <td>0.008574</td>\n",
       "    </tr>\n",
       "    <tr>\n",
       "      <th>4</th>\n",
       "      <td>0.007967</td>\n",
       "      <td>0.007025</td>\n",
       "      <td>4.259791e-03</td>\n",
       "      <td>0.002611</td>\n",
       "      <td>0.008145</td>\n",
       "    </tr>\n",
       "    <tr>\n",
       "      <th>...</th>\n",
       "      <td>...</td>\n",
       "      <td>...</td>\n",
       "      <td>...</td>\n",
       "      <td>...</td>\n",
       "      <td>...</td>\n",
       "    </tr>\n",
       "    <tr>\n",
       "      <th>95</th>\n",
       "      <td>0.000069</td>\n",
       "      <td>0.000112</td>\n",
       "      <td>4.796668e-07</td>\n",
       "      <td>0.000113</td>\n",
       "      <td>0.000077</td>\n",
       "    </tr>\n",
       "    <tr>\n",
       "      <th>96</th>\n",
       "      <td>0.000065</td>\n",
       "      <td>0.000106</td>\n",
       "      <td>4.340603e-07</td>\n",
       "      <td>0.000107</td>\n",
       "      <td>0.000073</td>\n",
       "    </tr>\n",
       "    <tr>\n",
       "      <th>97</th>\n",
       "      <td>0.000062</td>\n",
       "      <td>0.000101</td>\n",
       "      <td>3.927901e-07</td>\n",
       "      <td>0.000102</td>\n",
       "      <td>0.000069</td>\n",
       "    </tr>\n",
       "    <tr>\n",
       "      <th>98</th>\n",
       "      <td>0.000059</td>\n",
       "      <td>0.000096</td>\n",
       "      <td>3.554439e-07</td>\n",
       "      <td>0.000097</td>\n",
       "      <td>0.000066</td>\n",
       "    </tr>\n",
       "    <tr>\n",
       "      <th>99</th>\n",
       "      <td>0.000056</td>\n",
       "      <td>0.000091</td>\n",
       "      <td>3.216485e-07</td>\n",
       "      <td>0.000092</td>\n",
       "      <td>0.000062</td>\n",
       "    </tr>\n",
       "  </tbody>\n",
       "</table>\n",
       "<p>100 rows × 5 columns</p>\n",
       "</div>"
      ],
      "text/plain": [
       "        ydif      cdif          idif      kdif    a_0dif\n",
       "0   0.009952  0.007326  6.352526e-03  0.000705  0.010000\n",
       "1   0.009411  0.007291  5.748532e-03  0.001307  0.009500\n",
       "2   0.008901  0.007227  5.201964e-03  0.001819  0.009025\n",
       "3   0.008420  0.007137  4.707365e-03  0.002251  0.008574\n",
       "4   0.007967  0.007025  4.259791e-03  0.002611  0.008145\n",
       "..       ...       ...           ...       ...       ...\n",
       "95  0.000069  0.000112  4.796668e-07  0.000113  0.000077\n",
       "96  0.000065  0.000106  4.340603e-07  0.000107  0.000073\n",
       "97  0.000062  0.000101  3.927901e-07  0.000102  0.000069\n",
       "98  0.000059  0.000096  3.554439e-07  0.000097  0.000066\n",
       "99  0.000056  0.000091  3.216485e-07  0.000092  0.000062\n",
       "\n",
       "[100 rows x 5 columns]"
      ]
     },
     "execution_count": 21,
     "metadata": {},
     "output_type": "execute_result"
    }
   ],
   "source": [
    "ir.df_dif"
   ]
  },
  {
   "cell_type": "code",
   "execution_count": 22,
   "id": "d4e59402",
   "metadata": {},
   "outputs": [
    {
     "data": {
      "text/html": [
       "<div>\n",
       "<style scoped>\n",
       "    .dataframe tbody tr th:only-of-type {\n",
       "        vertical-align: middle;\n",
       "    }\n",
       "\n",
       "    .dataframe tbody tr th {\n",
       "        vertical-align: top;\n",
       "    }\n",
       "\n",
       "    .dataframe thead th {\n",
       "        text-align: right;\n",
       "    }\n",
       "</style>\n",
       "<table border=\"1\" class=\"dataframe\">\n",
       "  <thead>\n",
       "    <tr style=\"text-align: right;\">\n",
       "      <th></th>\n",
       "      <th>y</th>\n",
       "      <th>c</th>\n",
       "      <th>i</th>\n",
       "      <th>k</th>\n",
       "      <th>a_0</th>\n",
       "    </tr>\n",
       "  </thead>\n",
       "  <tbody>\n",
       "    <tr>\n",
       "      <th>0</th>\n",
       "      <td>1.173563</td>\n",
       "      <td>0.716531</td>\n",
       "      <td>0.456993</td>\n",
       "      <td>9.019171</td>\n",
       "      <td>1.010050</td>\n",
       "    </tr>\n",
       "    <tr>\n",
       "      <th>1</th>\n",
       "      <td>1.172928</td>\n",
       "      <td>0.716506</td>\n",
       "      <td>0.456389</td>\n",
       "      <td>9.024607</td>\n",
       "      <td>1.009545</td>\n",
       "    </tr>\n",
       "    <tr>\n",
       "      <th>2</th>\n",
       "      <td>1.172330</td>\n",
       "      <td>0.716460</td>\n",
       "      <td>0.455843</td>\n",
       "      <td>9.029227</td>\n",
       "      <td>1.009066</td>\n",
       "    </tr>\n",
       "    <tr>\n",
       "      <th>3</th>\n",
       "      <td>1.171766</td>\n",
       "      <td>0.716395</td>\n",
       "      <td>0.455348</td>\n",
       "      <td>9.033122</td>\n",
       "      <td>1.008611</td>\n",
       "    </tr>\n",
       "    <tr>\n",
       "      <th>4</th>\n",
       "      <td>1.171235</td>\n",
       "      <td>0.716316</td>\n",
       "      <td>0.454901</td>\n",
       "      <td>9.036376</td>\n",
       "      <td>1.008178</td>\n",
       "    </tr>\n",
       "    <tr>\n",
       "      <th>...</th>\n",
       "      <td>...</td>\n",
       "      <td>...</td>\n",
       "      <td>...</td>\n",
       "      <td>...</td>\n",
       "      <td>...</td>\n",
       "    </tr>\n",
       "    <tr>\n",
       "      <th>95</th>\n",
       "      <td>1.162021</td>\n",
       "      <td>0.711380</td>\n",
       "      <td>0.450641</td>\n",
       "      <td>9.013831</td>\n",
       "      <td>1.000077</td>\n",
       "    </tr>\n",
       "    <tr>\n",
       "      <th>96</th>\n",
       "      <td>1.162017</td>\n",
       "      <td>0.711376</td>\n",
       "      <td>0.450641</td>\n",
       "      <td>9.013780</td>\n",
       "      <td>1.000073</td>\n",
       "    </tr>\n",
       "    <tr>\n",
       "      <th>97</th>\n",
       "      <td>1.162014</td>\n",
       "      <td>0.711373</td>\n",
       "      <td>0.450641</td>\n",
       "      <td>9.013732</td>\n",
       "      <td>1.000069</td>\n",
       "    </tr>\n",
       "    <tr>\n",
       "      <th>98</th>\n",
       "      <td>1.162010</td>\n",
       "      <td>0.711369</td>\n",
       "      <td>0.450641</td>\n",
       "      <td>9.013687</td>\n",
       "      <td>1.000066</td>\n",
       "    </tr>\n",
       "    <tr>\n",
       "      <th>99</th>\n",
       "      <td>1.162007</td>\n",
       "      <td>0.711366</td>\n",
       "      <td>0.450641</td>\n",
       "      <td>9.013644</td>\n",
       "      <td>1.000062</td>\n",
       "    </tr>\n",
       "  </tbody>\n",
       "</table>\n",
       "<p>100 rows × 5 columns</p>\n",
       "</div>"
      ],
      "text/plain": [
       "           y         c         i         k       a_0\n",
       "0   1.173563  0.716531  0.456993  9.019171  1.010050\n",
       "1   1.172928  0.716506  0.456389  9.024607  1.009545\n",
       "2   1.172330  0.716460  0.455843  9.029227  1.009066\n",
       "3   1.171766  0.716395  0.455348  9.033122  1.008611\n",
       "4   1.171235  0.716316  0.454901  9.036376  1.008178\n",
       "..       ...       ...       ...       ...       ...\n",
       "95  1.162021  0.711380  0.450641  9.013831  1.000077\n",
       "96  1.162017  0.711376  0.450641  9.013780  1.000073\n",
       "97  1.162014  0.711373  0.450641  9.013732  1.000069\n",
       "98  1.162010  0.711369  0.450641  9.013687  1.000066\n",
       "99  1.162007  0.711366  0.450641  9.013644  1.000062\n",
       "\n",
       "[100 rows x 5 columns]"
      ]
     },
     "execution_count": 22,
     "metadata": {},
     "output_type": "execute_result"
    }
   ],
   "source": [
    "ir.df"
   ]
  },
  {
   "cell_type": "markdown",
   "id": "d8b2c561",
   "metadata": {},
   "source": [
    "This will also need more documentation, but it is getting the results of dynare's simulation. It defines the individual series and also puts all in a dataframe. "
   ]
  },
  {
   "cell_type": "code",
   "execution_count": 23,
   "id": "b725a61f",
   "metadata": {},
   "outputs": [],
   "source": [
    "import numpy as np\n",
    "\n",
    "class make_data:\n",
    "\tdef __init__(self, dta,names):\n",
    "\t\tself.data = dta\n",
    "\t\tself.names = names\n",
    "\t\tself.make_levels()\n",
    "\n",
    "  \t\t\n",
    "\tdef make_levels(self):\n",
    "\t\tself.df = pd.DataFrame()  # Initialize an empty DataFrame\n",
    "\t\tfor j,attr in enumerate(self.names):\n",
    "\t\t\tattr=self.names[j]\n",
    "\t\t\traw_level = self.data[j]\n",
    "\t\t\t#ss_value=self.ss[j]\n",
    "\t\t\tif attr != 'i':\n",
    "\t\t\t\tcurrent_level=np.exp(raw_level)\n",
    "\t\t\telse:\n",
    "\t\t\t\tcurrent_level=raw_level\n",
    "\t\t\tsetattr(self, attr, current_level)\n",
    "\t\t\tself.df[attr] = current_level  # Store in DataFrame\n",
    "\n"
   ]
  },
  {
   "cell_type": "markdown",
   "id": "83aed8a0",
   "metadata": {},
   "source": [
    "Define an instance. "
   ]
  },
  {
   "cell_type": "code",
   "execution_count": 24,
   "id": "928046c0",
   "metadata": {},
   "outputs": [],
   "source": [
    "eg=make_data(tt.endo_simul,tt.names)"
   ]
  },
  {
   "cell_type": "code",
   "execution_count": 25,
   "id": "72785205",
   "metadata": {},
   "outputs": [
    {
     "data": {
      "text/html": [
       "<div>\n",
       "<style scoped>\n",
       "    .dataframe tbody tr th:only-of-type {\n",
       "        vertical-align: middle;\n",
       "    }\n",
       "\n",
       "    .dataframe tbody tr th {\n",
       "        vertical-align: top;\n",
       "    }\n",
       "\n",
       "    .dataframe thead th {\n",
       "        text-align: right;\n",
       "    }\n",
       "</style>\n",
       "<table border=\"1\" class=\"dataframe\">\n",
       "  <thead>\n",
       "    <tr style=\"text-align: right;\">\n",
       "      <th></th>\n",
       "      <th>y</th>\n",
       "      <th>c</th>\n",
       "      <th>i</th>\n",
       "      <th>k</th>\n",
       "      <th>a_0</th>\n",
       "    </tr>\n",
       "  </thead>\n",
       "  <tbody>\n",
       "    <tr>\n",
       "      <th>0</th>\n",
       "      <td>1.147864</td>\n",
       "      <td>0.704947</td>\n",
       "      <td>0.442860</td>\n",
       "      <td>9.005038</td>\n",
       "      <td>0.987826</td>\n",
       "    </tr>\n",
       "    <tr>\n",
       "      <th>1</th>\n",
       "      <td>1.157390</td>\n",
       "      <td>0.708933</td>\n",
       "      <td>0.448452</td>\n",
       "      <td>9.003240</td>\n",
       "      <td>0.996010</td>\n",
       "    </tr>\n",
       "    <tr>\n",
       "      <th>2</th>\n",
       "      <td>1.152817</td>\n",
       "      <td>0.706797</td>\n",
       "      <td>0.445998</td>\n",
       "      <td>8.999082</td>\n",
       "      <td>0.992044</td>\n",
       "    </tr>\n",
       "    <tr>\n",
       "      <th>3</th>\n",
       "      <td>1.159115</td>\n",
       "      <td>0.709468</td>\n",
       "      <td>0.449645</td>\n",
       "      <td>8.998775</td>\n",
       "      <td>0.997461</td>\n",
       "    </tr>\n",
       "    <tr>\n",
       "      <th>4</th>\n",
       "      <td>1.165944</td>\n",
       "      <td>0.712531</td>\n",
       "      <td>0.453408</td>\n",
       "      <td>9.002240</td>\n",
       "      <td>1.003365</td>\n",
       "    </tr>\n",
       "    <tr>\n",
       "      <th>...</th>\n",
       "      <td>...</td>\n",
       "      <td>...</td>\n",
       "      <td>...</td>\n",
       "      <td>...</td>\n",
       "      <td>...</td>\n",
       "    </tr>\n",
       "    <tr>\n",
       "      <th>995</th>\n",
       "      <td>1.119048</td>\n",
       "      <td>0.700869</td>\n",
       "      <td>0.417445</td>\n",
       "      <td>9.195850</td>\n",
       "      <td>0.964407</td>\n",
       "    </tr>\n",
       "    <tr>\n",
       "      <th>996</th>\n",
       "      <td>1.104851</td>\n",
       "      <td>0.692547</td>\n",
       "      <td>0.411105</td>\n",
       "      <td>9.146402</td>\n",
       "      <td>0.951822</td>\n",
       "    </tr>\n",
       "    <tr>\n",
       "      <th>997</th>\n",
       "      <td>1.110066</td>\n",
       "      <td>0.693022</td>\n",
       "      <td>0.416089</td>\n",
       "      <td>9.104705</td>\n",
       "      <td>0.956016</td>\n",
       "    </tr>\n",
       "    <tr>\n",
       "      <th>998</th>\n",
       "      <td>1.109729</td>\n",
       "      <td>0.691236</td>\n",
       "      <td>0.417572</td>\n",
       "      <td>9.066760</td>\n",
       "      <td>0.955454</td>\n",
       "    </tr>\n",
       "    <tr>\n",
       "      <th>999</th>\n",
       "      <td>1.121564</td>\n",
       "      <td>0.695157</td>\n",
       "      <td>0.425875</td>\n",
       "      <td>9.039183</td>\n",
       "      <td>0.965443</td>\n",
       "    </tr>\n",
       "  </tbody>\n",
       "</table>\n",
       "<p>1000 rows × 5 columns</p>\n",
       "</div>"
      ],
      "text/plain": [
       "            y         c         i         k       a_0\n",
       "0    1.147864  0.704947  0.442860  9.005038  0.987826\n",
       "1    1.157390  0.708933  0.448452  9.003240  0.996010\n",
       "2    1.152817  0.706797  0.445998  8.999082  0.992044\n",
       "3    1.159115  0.709468  0.449645  8.998775  0.997461\n",
       "4    1.165944  0.712531  0.453408  9.002240  1.003365\n",
       "..        ...       ...       ...       ...       ...\n",
       "995  1.119048  0.700869  0.417445  9.195850  0.964407\n",
       "996  1.104851  0.692547  0.411105  9.146402  0.951822\n",
       "997  1.110066  0.693022  0.416089  9.104705  0.956016\n",
       "998  1.109729  0.691236  0.417572  9.066760  0.955454\n",
       "999  1.121564  0.695157  0.425875  9.039183  0.965443\n",
       "\n",
       "[1000 rows x 5 columns]"
      ]
     },
     "execution_count": 25,
     "metadata": {},
     "output_type": "execute_result"
    }
   ],
   "source": [
    "eg.df"
   ]
  },
  {
   "cell_type": "code",
   "execution_count": 26,
   "id": "f5f39a3e",
   "metadata": {},
   "outputs": [
    {
     "name": "stdout",
     "output_type": "stream",
     "text": [
      "            y         c         i         k       a_0\n",
      "y    0.001636  0.000998  0.000638  0.006762  0.001459\n",
      "c    0.000998  0.000633  0.000365  0.004662  0.000894\n",
      "i    0.000638  0.000365  0.000272  0.002105  0.000565\n",
      "k    0.006762  0.004662  0.002105  0.040049  0.006119\n",
      "a_0  0.001459  0.000894  0.000565  0.006119  0.001301\n"
     ]
    }
   ],
   "source": [
    "\n",
    "v_c = eg.df.cov()\n",
    "\n",
    "# Print the variance-covariance matrix\n",
    "print(v_c)"
   ]
  },
  {
   "cell_type": "code",
   "execution_count": 27,
   "id": "507ecb93",
   "metadata": {},
   "outputs": [
    {
     "data": {
      "text/plain": [
       "0      1.147864\n",
       "1      1.157390\n",
       "2      1.152817\n",
       "3      1.159115\n",
       "4      1.165944\n",
       "         ...   \n",
       "995    1.119048\n",
       "996    1.104851\n",
       "997    1.110066\n",
       "998    1.109729\n",
       "999    1.121564\n",
       "Name: y, Length: 1000, dtype: float64"
      ]
     },
     "execution_count": 27,
     "metadata": {},
     "output_type": "execute_result"
    }
   ],
   "source": [
    "eg.df['y']"
   ]
  },
  {
   "cell_type": "code",
   "execution_count": 28,
   "id": "cc96cc78",
   "metadata": {},
   "outputs": [],
   "source": [
    "%run par_list.m"
   ]
  },
  {
   "cell_type": "markdown",
   "id": "b0ca3eae",
   "metadata": {},
   "source": [
    "We have only solve for y, c, i, and k. But we have all other items as functions of these as seen in review_2. The rest of this defines some of them and gives examples of how we might deal with the simulated data. "
   ]
  },
  {
   "cell_type": "code",
   "execution_count": 29,
   "id": "e1f7eec9",
   "metadata": {},
   "outputs": [],
   "source": [
    "y=eg.y\n",
    "a_0=eg.a_0\n",
    "c=eg.c\n",
    "i=eg.i\n"
   ]
  },
  {
   "cell_type": "markdown",
   "id": "fac643e5",
   "metadata": {},
   "source": [
    "These are all things from our document. "
   ]
  },
  {
   "cell_type": "code",
   "execution_count": 30,
   "id": "fefdc915",
   "metadata": {},
   "outputs": [],
   "source": [
    "length = len(eg.y)\n",
    "#a_0=a_0s*(1+a_0g)** np.arange(length)\n",
    "a_1=a_1s*(1+a_1g)** np.arange(length)\n",
    "a_2=a_2s*(1+a_2g)** np.arange(length)\n",
    "x_0=np.ones(length)\n",
    "x_1=(om_1/om_0)**eps*(a_0/a_1)**(1-eps)\n",
    "x_2=(om_2/om_0)**eps*(a_0/a_2)**(1-eps)\n",
    "xb=x_0+x_1+x_2\n",
    "p_0=np.ones(length)\n",
    "p_1=a_0/a_1\n",
    "p_2=a_0/a_2\n",
    "c_0=c/xb\n",
    "c_1=x_1/xb*p_0/p_1*c\n",
    "c_2=x_2/xb*p_0/p_2*c\n",
    "y_0=c_0+i\n",
    "py_0=p_0*y_0\n",
    "py_1=p_1*c_1\n",
    "py_2=p_2*c_2\n",
    "n_0=1-1/xb*c/y*(x_1+x_2)\n",
    "n_1=x_1/xb*c/y\n",
    "n_2=x_2/xb*c/y\n",
    "n_0grow = (n_0 - np.roll(n_0, 1)) / np.roll(n_0, 1)\n",
    "n_0grow[0] = np.nan \n",
    "n_1grow = (n_1 - np.roll(n_1, 1)) / np.roll(n_1, 1)\n",
    "n_1grow[0] = np.nan \n",
    "n_2grow = (n_2 - np.roll(n_2, 1)) / np.roll(n_2, 1)\n",
    "n_2grow[0] = np.nan \n"
   ]
  },
  {
   "cell_type": "markdown",
   "id": "6fef9894",
   "metadata": {},
   "source": [
    "As an example, I add some to our dataframe. "
   ]
  },
  {
   "cell_type": "code",
   "execution_count": 31,
   "id": "cb8b861e",
   "metadata": {},
   "outputs": [],
   "source": [
    "add_cols={\n",
    "'c_0':c_0,\n",
    "'c_1':c_1,   \n",
    "'c_2':c_2, \n",
    "'py_0':py_0,\n",
    "'py_1':py_1,   \n",
    "'py_2':py_2, \n",
    "'n_0':n_0,\n",
    "'n_1':n_1,   \n",
    "'n_2':n_2, \n",
    "}"
   ]
  },
  {
   "cell_type": "code",
   "execution_count": 32,
   "id": "f6e16fcf",
   "metadata": {},
   "outputs": [],
   "source": [
    "eg.df = eg.df.assign(**add_cols)"
   ]
  },
  {
   "cell_type": "code",
   "execution_count": 33,
   "id": "d3525cc2",
   "metadata": {},
   "outputs": [
    {
     "data": {
      "text/html": [
       "<div>\n",
       "<style scoped>\n",
       "    .dataframe tbody tr th:only-of-type {\n",
       "        vertical-align: middle;\n",
       "    }\n",
       "\n",
       "    .dataframe tbody tr th {\n",
       "        vertical-align: top;\n",
       "    }\n",
       "\n",
       "    .dataframe thead th {\n",
       "        text-align: right;\n",
       "    }\n",
       "</style>\n",
       "<table border=\"1\" class=\"dataframe\">\n",
       "  <thead>\n",
       "    <tr style=\"text-align: right;\">\n",
       "      <th></th>\n",
       "      <th>y</th>\n",
       "      <th>c</th>\n",
       "      <th>i</th>\n",
       "      <th>k</th>\n",
       "      <th>a_0</th>\n",
       "    </tr>\n",
       "  </thead>\n",
       "  <tbody>\n",
       "    <tr>\n",
       "      <th>0</th>\n",
       "      <td>1.173563</td>\n",
       "      <td>0.716531</td>\n",
       "      <td>0.456993</td>\n",
       "      <td>9.019171</td>\n",
       "      <td>1.010050</td>\n",
       "    </tr>\n",
       "    <tr>\n",
       "      <th>1</th>\n",
       "      <td>1.172928</td>\n",
       "      <td>0.716506</td>\n",
       "      <td>0.456389</td>\n",
       "      <td>9.024607</td>\n",
       "      <td>1.009545</td>\n",
       "    </tr>\n",
       "    <tr>\n",
       "      <th>2</th>\n",
       "      <td>1.172330</td>\n",
       "      <td>0.716460</td>\n",
       "      <td>0.455843</td>\n",
       "      <td>9.029227</td>\n",
       "      <td>1.009066</td>\n",
       "    </tr>\n",
       "    <tr>\n",
       "      <th>3</th>\n",
       "      <td>1.171766</td>\n",
       "      <td>0.716395</td>\n",
       "      <td>0.455348</td>\n",
       "      <td>9.033122</td>\n",
       "      <td>1.008611</td>\n",
       "    </tr>\n",
       "    <tr>\n",
       "      <th>4</th>\n",
       "      <td>1.171235</td>\n",
       "      <td>0.716316</td>\n",
       "      <td>0.454901</td>\n",
       "      <td>9.036376</td>\n",
       "      <td>1.008178</td>\n",
       "    </tr>\n",
       "    <tr>\n",
       "      <th>...</th>\n",
       "      <td>...</td>\n",
       "      <td>...</td>\n",
       "      <td>...</td>\n",
       "      <td>...</td>\n",
       "      <td>...</td>\n",
       "    </tr>\n",
       "    <tr>\n",
       "      <th>95</th>\n",
       "      <td>1.162021</td>\n",
       "      <td>0.711380</td>\n",
       "      <td>0.450641</td>\n",
       "      <td>9.013831</td>\n",
       "      <td>1.000077</td>\n",
       "    </tr>\n",
       "    <tr>\n",
       "      <th>96</th>\n",
       "      <td>1.162017</td>\n",
       "      <td>0.711376</td>\n",
       "      <td>0.450641</td>\n",
       "      <td>9.013780</td>\n",
       "      <td>1.000073</td>\n",
       "    </tr>\n",
       "    <tr>\n",
       "      <th>97</th>\n",
       "      <td>1.162014</td>\n",
       "      <td>0.711373</td>\n",
       "      <td>0.450641</td>\n",
       "      <td>9.013732</td>\n",
       "      <td>1.000069</td>\n",
       "    </tr>\n",
       "    <tr>\n",
       "      <th>98</th>\n",
       "      <td>1.162010</td>\n",
       "      <td>0.711369</td>\n",
       "      <td>0.450641</td>\n",
       "      <td>9.013687</td>\n",
       "      <td>1.000066</td>\n",
       "    </tr>\n",
       "    <tr>\n",
       "      <th>99</th>\n",
       "      <td>1.162007</td>\n",
       "      <td>0.711366</td>\n",
       "      <td>0.450641</td>\n",
       "      <td>9.013644</td>\n",
       "      <td>1.000062</td>\n",
       "    </tr>\n",
       "  </tbody>\n",
       "</table>\n",
       "<p>100 rows × 5 columns</p>\n",
       "</div>"
      ],
      "text/plain": [
       "           y         c         i         k       a_0\n",
       "0   1.173563  0.716531  0.456993  9.019171  1.010050\n",
       "1   1.172928  0.716506  0.456389  9.024607  1.009545\n",
       "2   1.172330  0.716460  0.455843  9.029227  1.009066\n",
       "3   1.171766  0.716395  0.455348  9.033122  1.008611\n",
       "4   1.171235  0.716316  0.454901  9.036376  1.008178\n",
       "..       ...       ...       ...       ...       ...\n",
       "95  1.162021  0.711380  0.450641  9.013831  1.000077\n",
       "96  1.162017  0.711376  0.450641  9.013780  1.000073\n",
       "97  1.162014  0.711373  0.450641  9.013732  1.000069\n",
       "98  1.162010  0.711369  0.450641  9.013687  1.000066\n",
       "99  1.162007  0.711366  0.450641  9.013644  1.000062\n",
       "\n",
       "[100 rows x 5 columns]"
      ]
     },
     "execution_count": 33,
     "metadata": {},
     "output_type": "execute_result"
    }
   ],
   "source": [
    "ir.df"
   ]
  },
  {
   "cell_type": "code",
   "execution_count": 34,
   "id": "4e416c15",
   "metadata": {},
   "outputs": [
    {
     "data": {
      "image/png": "[encoded data removed]",
      "text/plain": [
       "<Figure size 1000x400 with 3 Axes>"
      ]
     },
     "metadata": {},
     "output_type": "display_data"
    }
   ],
   "source": [
    "\n",
    "\n",
    "fig, (ax1, ax2,ax3) = plt.subplots(1, 3, figsize=(10, 4))\n",
    "\n",
    "eg.df[['c','y', 'k', 'i']].plot(ax=ax1)\n",
    "ax1.set_title('Plot of aggregates')\n",
    "ax1.set_xlabel('Index')\n",
    "ax1.set_ylabel('Value')\n",
    "\n",
    "\n",
    "\n",
    "eg.df[['c_0', 'c_1', 'c_2']].plot(ax=ax2)\n",
    "ax2.set_title('Plot of consumptions')\n",
    "ax2.set_xlabel('Index')\n",
    "ax2.set_ylabel('Value')\n",
    "\n",
    "# Plot columns 'd', 'e', 'f' on the second axis\n",
    "eg.df[['n_0', 'n_1', 'n_2']].plot(ax=ax3)\n",
    "ax3.set_title('Plot of labor share')\n",
    "ax3.set_xlabel('Index')\n",
    "ax3.set_ylabel('Value')\n",
    "\n",
    "# Adjust layout and display the plot\n",
    "plt.tight_layout()\n",
    "plt.show()"
   ]
  },
  {
   "cell_type": "markdown",
   "id": "42acbaf5",
   "metadata": {},
   "source": []
  },
  {
   "cell_type": "code",
   "execution_count": null,
   "id": "8cec782b",
   "metadata": {},
   "outputs": [],
   "source": []
  },
  {
   "cell_type": "code",
   "execution_count": 35,
   "id": "0ff1095c",
   "metadata": {},
   "outputs": [
    {
     "name": "stdout",
     "output_type": "stream",
     "text": [
      "0.00348439731250072\n",
      "2.220446049250313e-16\n",
      "0.0010015762428326673\n"
     ]
    }
   ],
   "source": [
    "check1=y-(py_0+py_1+py_2)\n",
    "print(np.max(np.abs(check1)))\n",
    "check2=1-(n_0+n_1+n_2)\n",
    "print(np.max(np.abs(check2)))\n",
    "\n",
    "check3=(n_1grow-n_2grow)-((1-eps)*(a_1g-a_2g))\n",
    "print(np.nanmax(np.abs(check3)))"
   ]
  },
  {
   "cell_type": "code",
   "execution_count": 36,
   "id": "1a174e13",
   "metadata": {},
   "outputs": [],
   "source": [
    "df_cov=eg.df[['y','c','c_0','n_0']].cov()"
   ]
  },
  {
   "cell_type": "code",
   "execution_count": 37,
   "id": "2bad1bb4",
   "metadata": {},
   "outputs": [
    {
     "data": {
      "text/html": [
       "<style type=\"text/css\">\n",
       "#T_0a1b8_row0_col0, #T_0a1b8_row1_col1, #T_0a1b8_row2_col2, #T_0a1b8_row3_col3 {\n",
       "  background-color: yellow;\n",
       "}\n",
       "</style>\n",
       "<table id=\"T_0a1b8\">\n",
       "  <thead>\n",
       "    <tr>\n",
       "      <th class=\"blank level0\" >&nbsp;</th>\n",
       "      <th id=\"T_0a1b8_level0_col0\" class=\"col_heading level0 col0\" >y</th>\n",
       "      <th id=\"T_0a1b8_level0_col1\" class=\"col_heading level0 col1\" >c</th>\n",
       "      <th id=\"T_0a1b8_level0_col2\" class=\"col_heading level0 col2\" >c_0</th>\n",
       "      <th id=\"T_0a1b8_level0_col3\" class=\"col_heading level0 col3\" >n_0</th>\n",
       "    </tr>\n",
       "  </thead>\n",
       "  <tbody>\n",
       "    <tr>\n",
       "      <th id=\"T_0a1b8_level0_row0\" class=\"row_heading level0 row0\" >y</th>\n",
       "      <td id=\"T_0a1b8_row0_col0\" class=\"data row0 col0\" >0.001636</td>\n",
       "      <td id=\"T_0a1b8_row0_col1\" class=\"data row0 col1\" >0.000998</td>\n",
       "      <td id=\"T_0a1b8_row0_col2\" class=\"data row0 col2\" >0.000129</td>\n",
       "      <td id=\"T_0a1b8_row0_col3\" class=\"data row0 col3\" >-0.000231</td>\n",
       "    </tr>\n",
       "    <tr>\n",
       "      <th id=\"T_0a1b8_level0_row1\" class=\"row_heading level0 row1\" >c</th>\n",
       "      <td id=\"T_0a1b8_row1_col0\" class=\"data row1 col0\" >0.000998</td>\n",
       "      <td id=\"T_0a1b8_row1_col1\" class=\"data row1 col1\" >0.000633</td>\n",
       "      <td id=\"T_0a1b8_row1_col2\" class=\"data row1 col2\" >0.000073</td>\n",
       "      <td id=\"T_0a1b8_row1_col3\" class=\"data row1 col3\" >-0.000167</td>\n",
       "    </tr>\n",
       "    <tr>\n",
       "      <th id=\"T_0a1b8_level0_row2\" class=\"row_heading level0 row2\" >c_0</th>\n",
       "      <td id=\"T_0a1b8_row2_col0\" class=\"data row2 col0\" >0.000129</td>\n",
       "      <td id=\"T_0a1b8_row2_col1\" class=\"data row2 col1\" >0.000073</td>\n",
       "      <td id=\"T_0a1b8_row2_col2\" class=\"data row2 col2\" >0.000836</td>\n",
       "      <td id=\"T_0a1b8_row2_col3\" class=\"data row2 col3\" >0.000694</td>\n",
       "    </tr>\n",
       "    <tr>\n",
       "      <th id=\"T_0a1b8_level0_row3\" class=\"row_heading level0 row3\" >n_0</th>\n",
       "      <td id=\"T_0a1b8_row3_col0\" class=\"data row3 col0\" >-0.000231</td>\n",
       "      <td id=\"T_0a1b8_row3_col1\" class=\"data row3 col1\" >-0.000167</td>\n",
       "      <td id=\"T_0a1b8_row3_col2\" class=\"data row3 col2\" >0.000694</td>\n",
       "      <td id=\"T_0a1b8_row3_col3\" class=\"data row3 col3\" >0.000666</td>\n",
       "    </tr>\n",
       "  </tbody>\n",
       "</table>\n"
      ],
      "text/plain": [
       "<pandas.io.formats.style.Styler at 0x1b3b5362890>"
      ]
     },
     "execution_count": 37,
     "metadata": {},
     "output_type": "execute_result"
    }
   ],
   "source": [
    "\n",
    "# Function to highlight the diagonal\n",
    "def highlight_diagonal(data):\n",
    "\tattr = 'background-color: yellow'\n",
    "\t# Create a DataFrame with empty strings\n",
    "\tdf_styler = pd.DataFrame('', index=data.index, columns=data.columns)\n",
    "\t# Set the diagonal to the desired attribute\n",
    "\tnp.fill_diagonal(df_styler.values, attr)\n",
    "\treturn df_styler\n",
    "\n",
    "# Apply the function to the DataFrame\n",
    "df_cov = df_cov.style.apply(highlight_diagonal, axis=None)\n",
    "\n",
    "# Display the styled DataFrame\n",
    "df_cov"
   ]
  }
 ],
 "metadata": {
  "kernelspec": {
   "display_name": "base",
   "language": "python",
   "name": "python3"
  },
  "language_info": {
   "codemirror_mode": {
    "name": "ipython",
    "version": 3
   },
   "file_extension": ".py",
   "mimetype": "text/x-python",
   "name": "python",
   "nbconvert_exporter": "python",
   "pygments_lexer": "ipython3",
   "version": "3.11.5"
  }
 },
 "nbformat": 4,
 "nbformat_minor": 5
}
