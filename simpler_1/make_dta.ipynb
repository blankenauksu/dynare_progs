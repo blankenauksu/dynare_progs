{
 "cells": [
  {
   "cell_type": "code",
   "execution_count": 1,
   "id": "d963da46",
   "metadata": {},
   "outputs": [
    {
     "name": "stdout",
     "output_type": "stream",
     "text": [
      "warning: function C:\\dynare\\6.1\\matlab\\+identification\\display.m shadows a built-in function\n",
      "warning: called from\n",
      "    _pyeval at line 57 column 30\n",
      "\n",
      "warning: function C:\\dynare\\6.1\\matlab\\+identification\\display.m shadows a built-in function\n",
      "warning: called from\n",
      "    _pyeval at line 57 column 30\n",
      "\n"
     ]
    }
   ],
   "source": [
    "#!pip install --upgrade oct2py\n",
    "import numpy as np\n",
    "import pandas as pd\n",
    "from oct2py import octave\n",
    "import matplotlib.pyplot as plt\n",
    "import os\n",
    "from scipy.optimize import root\n",
    "import pickle\n",
    "octave.addpath('C:/dynare/6.1/matlab') \n",
    "from IPython.display import display\n",
    "#octave.addpath('/opt/homebrew/opt/dynare/lib/dynare/matlab')"
   ]
  },
  {
   "cell_type": "markdown",
   "id": "fcd99ef9",
   "metadata": {},
   "source": [
    "Writes a line of code to a file that will be used in the call to dynare. "
   ]
  },
  {
   "cell_type": "markdown",
   "id": "d07e9730",
   "metadata": {},
   "source": [
    "Look through these files. All are run here to update parameters and the model. "
   ]
  },
  {
   "cell_type": "code",
   "execution_count": 2,
   "id": "eff43076",
   "metadata": {},
   "outputs": [
    {
     "name": "stdout",
     "output_type": "stream",
     "text": [
      "alpha,beta,delta,sigma_a_0,rho_0,a_0,om_0,om_1,om_2,eps,a_0s,a_1s,a_2s,a_0g,a_1g,a_2g = 0.33,0.975,0.05,0.01,0.95,0,0.5,0.7,0.9,0.5,1,0.5,0.6,0.0,0.001,0.002\n"
     ]
    }
   ],
   "source": [
    "%run make_files_1.ipynb\n",
    "%run par_list.m\n"
   ]
  },
  {
   "cell_type": "code",
   "execution_count": 3,
   "id": "d8460eb6",
   "metadata": {},
   "outputs": [],
   "source": [
    "import pandas as pd\n",
    "\n",
    "# Import each DataFrame from its respective CSV file\n",
    "ir_df = pd.read_csv('ir_df.csv')\n",
    "ir_df_dif = pd.read_csv('ir_df_dif.csv')\n",
    "eg_df = pd.read_csv('eg_df.csv')\n",
    "eg_df_raw = pd.read_csv('eg_df_raw.csv')\n",
    "\n",
    "# Now ir_df, ir_df_dif, eg_df, and eg_df_raw contain the data from their respective CSV files"
   ]
  },
  {
   "cell_type": "code",
   "execution_count": 5,
   "id": "f05887f3",
   "metadata": {},
   "outputs": [
    {
     "data": {
      "text/html": [
       "<div>\n",
       "<style scoped>\n",
       "    .dataframe tbody tr th:only-of-type {\n",
       "        vertical-align: middle;\n",
       "    }\n",
       "\n",
       "    .dataframe tbody tr th {\n",
       "        vertical-align: top;\n",
       "    }\n",
       "\n",
       "    .dataframe thead th {\n",
       "        text-align: right;\n",
       "    }\n",
       "</style>\n",
       "<table border=\"1\" class=\"dataframe\">\n",
       "  <thead>\n",
       "    <tr style=\"text-align: right;\">\n",
       "      <th></th>\n",
       "      <th>y</th>\n",
       "      <th>c</th>\n",
       "      <th>i</th>\n",
       "      <th>k</th>\n",
       "      <th>a_0</th>\n",
       "    </tr>\n",
       "  </thead>\n",
       "  <tbody>\n",
       "    <tr>\n",
       "      <th>0</th>\n",
       "      <td>1.173563</td>\n",
       "      <td>0.716531</td>\n",
       "      <td>0.456993</td>\n",
       "      <td>9.019171</td>\n",
       "      <td>1.010050</td>\n",
       "    </tr>\n",
       "    <tr>\n",
       "      <th>1</th>\n",
       "      <td>1.172928</td>\n",
       "      <td>0.716506</td>\n",
       "      <td>0.456389</td>\n",
       "      <td>9.024607</td>\n",
       "      <td>1.009545</td>\n",
       "    </tr>\n",
       "    <tr>\n",
       "      <th>2</th>\n",
       "      <td>1.172330</td>\n",
       "      <td>0.716460</td>\n",
       "      <td>0.455843</td>\n",
       "      <td>9.029227</td>\n",
       "      <td>1.009066</td>\n",
       "    </tr>\n",
       "    <tr>\n",
       "      <th>3</th>\n",
       "      <td>1.171766</td>\n",
       "      <td>0.716395</td>\n",
       "      <td>0.455348</td>\n",
       "      <td>9.033122</td>\n",
       "      <td>1.008611</td>\n",
       "    </tr>\n",
       "    <tr>\n",
       "      <th>4</th>\n",
       "      <td>1.171235</td>\n",
       "      <td>0.716316</td>\n",
       "      <td>0.454901</td>\n",
       "      <td>9.036376</td>\n",
       "      <td>1.008178</td>\n",
       "    </tr>\n",
       "    <tr>\n",
       "      <th>...</th>\n",
       "      <td>...</td>\n",
       "      <td>...</td>\n",
       "      <td>...</td>\n",
       "      <td>...</td>\n",
       "      <td>...</td>\n",
       "    </tr>\n",
       "    <tr>\n",
       "      <th>95</th>\n",
       "      <td>1.162021</td>\n",
       "      <td>0.711380</td>\n",
       "      <td>0.450641</td>\n",
       "      <td>9.013831</td>\n",
       "      <td>1.000077</td>\n",
       "    </tr>\n",
       "    <tr>\n",
       "      <th>96</th>\n",
       "      <td>1.162017</td>\n",
       "      <td>0.711376</td>\n",
       "      <td>0.450641</td>\n",
       "      <td>9.013780</td>\n",
       "      <td>1.000073</td>\n",
       "    </tr>\n",
       "    <tr>\n",
       "      <th>97</th>\n",
       "      <td>1.162014</td>\n",
       "      <td>0.711373</td>\n",
       "      <td>0.450641</td>\n",
       "      <td>9.013732</td>\n",
       "      <td>1.000069</td>\n",
       "    </tr>\n",
       "    <tr>\n",
       "      <th>98</th>\n",
       "      <td>1.162010</td>\n",
       "      <td>0.711369</td>\n",
       "      <td>0.450641</td>\n",
       "      <td>9.013687</td>\n",
       "      <td>1.000066</td>\n",
       "    </tr>\n",
       "    <tr>\n",
       "      <th>99</th>\n",
       "      <td>1.162007</td>\n",
       "      <td>0.711366</td>\n",
       "      <td>0.450641</td>\n",
       "      <td>9.013644</td>\n",
       "      <td>1.000062</td>\n",
       "    </tr>\n",
       "  </tbody>\n",
       "</table>\n",
       "<p>100 rows × 5 columns</p>\n",
       "</div>"
      ],
      "text/plain": [
       "           y         c         i         k       a_0\n",
       "0   1.173563  0.716531  0.456993  9.019171  1.010050\n",
       "1   1.172928  0.716506  0.456389  9.024607  1.009545\n",
       "2   1.172330  0.716460  0.455843  9.029227  1.009066\n",
       "3   1.171766  0.716395  0.455348  9.033122  1.008611\n",
       "4   1.171235  0.716316  0.454901  9.036376  1.008178\n",
       "..       ...       ...       ...       ...       ...\n",
       "95  1.162021  0.711380  0.450641  9.013831  1.000077\n",
       "96  1.162017  0.711376  0.450641  9.013780  1.000073\n",
       "97  1.162014  0.711373  0.450641  9.013732  1.000069\n",
       "98  1.162010  0.711369  0.450641  9.013687  1.000066\n",
       "99  1.162007  0.711366  0.450641  9.013644  1.000062\n",
       "\n",
       "[100 rows x 5 columns]"
      ]
     },
     "execution_count": 5,
     "metadata": {},
     "output_type": "execute_result"
    }
   ],
   "source": [
    "ir_df"
   ]
  },
  {
   "cell_type": "markdown",
   "id": "b0ca3eae",
   "metadata": {},
   "source": [
    "We have only solved for y, c, i, and k. But we have all other items as functions of these as seen in review_2. The rest of this defines some of them and gives examples of how we might deal with the simulated data. "
   ]
  },
  {
   "cell_type": "code",
   "execution_count": null,
   "id": "e1f7eec9",
   "metadata": {},
   "outputs": [],
   "source": [
    "#y=eg.y\n",
    "#a_0=eg.a_0\n",
    "#c=eg.c\n",
    "#i=eg.i\n"
   ]
  },
  {
   "cell_type": "code",
   "execution_count": null,
   "id": "fe5160ff",
   "metadata": {},
   "outputs": [],
   "source": [
    "om_2=1"
   ]
  },
  {
   "cell_type": "code",
   "execution_count": null,
   "id": "d7d1d70c",
   "metadata": {},
   "outputs": [],
   "source": [
    "y=eg_df['y']\n"
   ]
  },
  {
   "cell_type": "markdown",
   "id": "fac643e5",
   "metadata": {},
   "source": [
    "These are all things from our document. "
   ]
  },
  {
   "cell_type": "code",
   "execution_count": null,
   "id": "fefdc915",
   "metadata": {},
   "outputs": [],
   "source": [
    "length = len(eg.y)\n",
    "#a_0=a_0s*(1+a_0g)** np.arange(length)\n",
    "a_1=a_1s*(1+a_1g)** np.arange(length)\n",
    "a_2=a_2s*(1+a_2g)** np.arange(length)\n",
    "\n",
    "#a_1=a_1s*(1)** np.arange(length)\n",
    "#a_2=a_2s*(1)** np.arange(length)\n",
    "\n",
    "\n",
    "x_0=np.ones(length)\n",
    "x_1=(om_1/om_0)**eps*(a_0/a_1)**(1-eps)\n",
    "x_2=(om_2/om_0)**eps*(a_0/a_2)**(1-eps)\n",
    "xb=x_0+x_1+x_2\n",
    "p_0=np.ones(length)\n",
    "p_1=a_0/a_1\n",
    "p_2=a_0/a_2\n",
    "c_0=c/xb\n",
    "c_1=x_1/xb*p_0/p_1*c\n",
    "c_2=x_2/xb*p_0/p_2*c\n",
    "y_0=c_0+i\n",
    "py_0=p_0*y_0\n",
    "py_1=p_1*c_1\n",
    "py_2=p_2*c_2\n",
    "n_0=1-1/xb*c/y*(x_1+x_2)\n",
    "n_1=x_1/xb*c/y\n",
    "n_2=x_2/xb*c/y\n",
    "n_0grow = (n_0 - np.roll(n_0, 1)) / np.roll(n_0, 1)\n",
    "n_0grow[0] = np.nan \n",
    "n_1grow = (n_1 - np.roll(n_1, 1)) / np.roll(n_1, 1)\n",
    "n_1grow[0] = np.nan \n",
    "n_2grow = (n_2 - np.roll(n_2, 1)) / np.roll(n_2, 1)\n",
    "n_2grow[0] = np.nan \n",
    "\n",
    "\n",
    "y_0pr=y_0/n_0\n",
    "y_1pr=c_1/n_1\n",
    "y_2pr=c_2/n_2\n"
   ]
  },
  {
   "cell_type": "markdown",
   "id": "6fef9894",
   "metadata": {},
   "source": [
    "As an example, I add some to our dataframe. "
   ]
  },
  {
   "cell_type": "code",
   "execution_count": null,
   "id": "cb8b861e",
   "metadata": {},
   "outputs": [],
   "source": [
    "add_cols={\n",
    "'y_0':y_0,\n",
    "'c_0':c_0,\n",
    "'c_1':c_1,   \n",
    "'c_2':c_2, \n",
    "'py_0':py_0,\n",
    "'py_1':py_1,   \n",
    "'py_2':py_2, \n",
    "'n_0':n_0,\n",
    "'n_1':n_1,   \n",
    "'n_2':n_2,\n",
    "'y_0pr':y_0pr,\n",
    "'y_1pr':y_1pr,\n",
    "'y_2pr':y_2pr,\n",
    " \n",
    "}"
   ]
  },
  {
   "cell_type": "code",
   "execution_count": null,
   "id": "f6e16fcf",
   "metadata": {},
   "outputs": [],
   "source": [
    "eg.df = eg.df.assign(**add_cols)"
   ]
  },
  {
   "cell_type": "code",
   "execution_count": null,
   "id": "4e416c15",
   "metadata": {},
   "outputs": [],
   "source": [
    "fig, ([ax1, ax2,ax3],[ax4,ax5,ax6]) = plt.subplots(2, 3, figsize=(10, 6))\n",
    "\n",
    "eg.df[['c','y', 'k', 'i']].plot(ax=ax1)\n",
    "ax1.set_title('Aggregates')\n",
    "ax1.set_xlabel('Index')\n",
    "ax1.set_ylabel('Value')\n",
    "\n",
    "eg.df[['py_0', 'py_1', 'py_2']].plot(ax=ax2)\n",
    "ax2.set_title('Outputs')\n",
    "ax2.set_xlabel('Index')\n",
    "ax2.set_ylabel('Value')\n",
    "\n",
    "eg.df[['n_0', 'n_1', 'n_2']].plot(ax=ax3)\n",
    "ax3.set_title('Labor shares')\n",
    "ax3.set_xlabel('Index')\n",
    "ax3.set_ylabel('Value')\n",
    "\n",
    "eg.df[['y_0pr', 'y_1pr', 'y_2pr']].plot(ax=ax4)\n",
    "ax4.set_title('Productivity')\n",
    "ax4.set_xlabel('Index')\n",
    "ax4.set_ylabel('Value')\n",
    "\n",
    "eg.df[['n_0', 'n_1', 'n_2']].plot(ax=ax5)\n",
    "ax5.set_title('Labor shares')\n",
    "ax5.set_xlabel('Index')\n",
    "ax5.set_ylabel('Value')\n",
    "\n",
    "eg.df[['n_0', 'n_1', 'n_2']].plot(ax=ax6)\n",
    "ax6.set_title('Labor shares')\n",
    "ax6.set_xlabel('Index')\n",
    "ax6.set_ylabel('Value')\n",
    "\n",
    "\n",
    "\n",
    "\n",
    "# Adjust layout and display the plot\n",
    "plt.tight_layout()\n",
    "plt.show()"
   ]
  },
  {
   "cell_type": "markdown",
   "id": "42acbaf5",
   "metadata": {},
   "source": []
  },
  {
   "cell_type": "code",
   "execution_count": null,
   "id": "8cec782b",
   "metadata": {},
   "outputs": [],
   "source": [
    "#dir(tt)"
   ]
  },
  {
   "cell_type": "code",
   "execution_count": null,
   "id": "0ff1095c",
   "metadata": {},
   "outputs": [],
   "source": [
    "check1=y-(py_0+py_1+py_2)\n",
    "print(np.max(np.abs(check1)))\n",
    "check2=1-(n_0+n_1+n_2)\n",
    "print(np.max(np.abs(check2)))\n",
    "\n",
    "check3=(n_1grow-n_2grow)-((1-eps)*(a_1g-a_2g))\n",
    "print(np.nanmax(np.abs(check3)))"
   ]
  },
  {
   "cell_type": "code",
   "execution_count": null,
   "id": "1a174e13",
   "metadata": {},
   "outputs": [],
   "source": [
    "df_cov=eg.df[['y','c','c_0','n_0']].cov()"
   ]
  },
  {
   "cell_type": "code",
   "execution_count": null,
   "id": "0c8b077b",
   "metadata": {},
   "outputs": [],
   "source": [
    "eg.df[['y','c','c_0']].cov()"
   ]
  },
  {
   "cell_type": "code",
   "execution_count": null,
   "id": "15e5f07f",
   "metadata": {},
   "outputs": [],
   "source": []
  },
  {
   "cell_type": "code",
   "execution_count": null,
   "id": "2bad1bb4",
   "metadata": {},
   "outputs": [],
   "source": [
    "\n",
    "# Function to highlight the diagonal\n",
    "def highlight_diagonal(data):\n",
    "\tattr = 'background-color: yellow'\n",
    "\t# Create a DataFrame with empty strings\n",
    "\tdf_styler = pd.DataFrame('', index=data.index, columns=data.columns)\n",
    "\t# Set the diagonal to the desired attribute\n",
    "\tnp.fill_diagonal(df_styler.values, attr)\n",
    "\treturn df_styler\n",
    "\n",
    "# Apply the function to the DataFrame\n",
    "df_cov = df_cov.style.apply(highlight_diagonal, axis=None)\n",
    "\n",
    "# Display the styled DataFrame\n",
    "df_cov"
   ]
  }
 ],
 "metadata": {
  "kernelspec": {
   "display_name": "base",
   "language": "python",
   "name": "python3"
  },
  "language_info": {
   "codemirror_mode": {
    "name": "ipython",
    "version": 3
   },
   "file_extension": ".py",
   "mimetype": "text/x-python",
   "name": "python",
   "nbconvert_exporter": "python",
   "pygments_lexer": "ipython3",
   "version": "3.11.5"
  }
 },
 "nbformat": 4,
 "nbformat_minor": 5
}
