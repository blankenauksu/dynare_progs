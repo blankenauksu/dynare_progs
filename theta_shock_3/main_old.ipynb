{
 "cells": [
  {
   "cell_type": "code",
   "execution_count": null,
   "id": "d963da46",
   "metadata": {},
   "outputs": [],
   "source": [
    "#!pip install --upgrade oct2py\n",
    "import numpy as np\n",
    "from oct2py import octave\n",
    "import matplotlib.pyplot as plt\n",
    "import os\n",
    "import pandas as pd\n",
    "octave.addpath('C:/dynare/6.1/matlab')  \n",
    "#octave.addpath('/opt/homebrew/opt/dynare/lib/dynare/matlab')"
   ]
  },
  {
   "cell_type": "code",
   "execution_count": null,
   "id": "dd4b8edc",
   "metadata": {},
   "outputs": [],
   "source": [
    "n_goods=3"
   ]
  },
  {
   "cell_type": "code",
   "execution_count": null,
   "id": "a9e3b82b",
   "metadata": {},
   "outputs": [],
   "source": [
    "#from MyPy import DyPy"
   ]
  },
  {
   "cell_type": "code",
   "execution_count": null,
   "id": "f2fe4306",
   "metadata": {},
   "outputs": [],
   "source": [
    "with open('t_call.m', 'w') as file:\n",
    "    file.write(\"stoch_simul(nograph, order=1, periods=10000, irf=100);\")"
   ]
  },
  {
   "cell_type": "code",
   "execution_count": null,
   "id": "eff43076",
   "metadata": {},
   "outputs": [],
   "source": [
    "%run make_model.ipynb\n",
    "%run make_vars.ipynb\n",
    "%run make_parameters_and_shocks.ipynb\n",
    "%run make_steady_state.ipynb\n"
   ]
  },
  {
   "cell_type": "markdown",
   "id": "4df08aa0",
   "metadata": {},
   "source": [
    "Makes a call to Octave, which makes a call to Dynare. Then the `.mod` file is run in Dynare. Output from Dynare is displayed as it runs."
   ]
  },
  {
   "cell_type": "code",
   "execution_count": null,
   "id": "9834c245",
   "metadata": {},
   "outputs": [],
   "source": [
    "octave.dynare('model_1.mod')\n",
    "oo = octave.pull('oo_')\n",
    "mm = octave.pull('M_')"
   ]
  },
  {
   "cell_type": "markdown",
   "id": "4c9eefdb",
   "metadata": {},
   "source": []
  },
  {
   "cell_type": "code",
   "execution_count": null,
   "id": "90c84ba3",
   "metadata": {},
   "outputs": [],
   "source": [
    "names1 = [attr for attr in dir(oo) if not attr.startswith('__')]"
   ]
  },
  {
   "cell_type": "markdown",
   "id": "b7cf3a5b",
   "metadata": {},
   "source": [
    "Now we want to create a class where each each attribute in oo becomes an attribute of this class. So far we take only one item from mm. This is a list of endogenous variables. Below we define the class. "
   ]
  },
  {
   "cell_type": "code",
   "execution_count": null,
   "id": "5fa6cb99",
   "metadata": {},
   "outputs": [],
   "source": [
    "class from_octave:\n",
    "\tdef __init__(self, oo_structure, mm_structure, attribute_names):\n",
    "\t\tself.oo_structure = oo_structure\n",
    "\t\tself.mm_structure = mm_structure\n",
    "\t\tself. attribute_names =  attribute_names\n",
    "\t\tself.create_attributes()\n",
    "\t\tself.make_list()\n",
    "     \n",
    "\tdef create_attributes(self): \n",
    "\t\tfor attr in self.attribute_names:\n",
    "\t\t\tsetattr(self, attr, getattr(self.oo_structure, attr)) #this is the attributes we pull from the oo structure. We are making them attributes of the class\n",
    "\t\n",
    "\tdef make_list(self): \n",
    "\t\tself.names = list(getattr(self.mm_structure, 'endo_names')) #getting one item from the mm structure. This is the endo_names\n",
    "\t\tself.names = [item[0] for item in self.names] #pulling mm gives us a list of cell arrays. We are pulling the first item from each cell array"
   ]
  },
  {
   "cell_type": "markdown",
   "id": "23f0db67",
   "metadata": {},
   "source": [
    "We see that we now can reference any of the data from `oo` with the `tt.` notation. Some examples are below. "
   ]
  },
  {
   "cell_type": "code",
   "execution_count": null,
   "id": "27969a0b",
   "metadata": {},
   "outputs": [],
   "source": [
    "tt = from_octave(oo, mm, names1)"
   ]
  },
  {
   "cell_type": "code",
   "execution_count": null,
   "id": "199b9529",
   "metadata": {},
   "outputs": [],
   "source": [
    "tt.var"
   ]
  },
  {
   "cell_type": "code",
   "execution_count": null,
   "id": "b29875e6",
   "metadata": {},
   "outputs": [],
   "source": [
    "tt.steady_state"
   ]
  },
  {
   "cell_type": "code",
   "execution_count": null,
   "id": "46534650",
   "metadata": {},
   "outputs": [],
   "source": [
    "tt.irfs"
   ]
  },
  {
   "cell_type": "code",
   "execution_count": null,
   "id": "13e6cc52",
   "metadata": {},
   "outputs": [],
   "source": [
    "tt.names"
   ]
  },
  {
   "cell_type": "markdown",
   "id": "cb31b483",
   "metadata": {},
   "source": [
    "We will care about the irfs but these are also of type `oct2py.io.Struct`. We convert it as above. We will likley make this part of the above class later, but for now we create a new class. "
   ]
  },
  {
   "cell_type": "code",
   "execution_count": null,
   "id": "206f69a0",
   "metadata": {},
   "outputs": [],
   "source": [
    "names2 = [attr for attr in dir(tt.irfs) if attr.endswith('shock')]\n",
    "#names2 = [x for _, x in sorted(zip(tt.names, names2), key=lambda pair: pair[0][0])]"
   ]
  },
  {
   "cell_type": "markdown",
   "id": "515a9b6b",
   "metadata": {},
   "source": [
    "I will put more desciptors here later. However, it is getting the impulse responses as difference and levels. It is simultanosuly creating two dataframes containing all differences and levels data.  "
   ]
  },
  {
   "cell_type": "code",
   "execution_count": null,
   "id": "49746306",
   "metadata": {},
   "outputs": [],
   "source": [
    "#recall make_levels is created in simpler ffolder\n",
    "import numpy as np\n",
    "import pandas as np\n",
    "class make_irfs:\n",
    "\tdef __init__(self, dta, vars, names):\n",
    "\t\tself.data = dta\n",
    "\t\tself.vars = vars\n",
    "\t\tself.names = names\n",
    "\t\tself.create_difs()\n",
    "\t\t\n",
    "  \t\n",
    "\tdef create_difs(self):\n",
    "\t\tfor var in self.vars:\n",
    "\t\t\tsetattr(self, var, pd.DataFrame())  # Initialize an empty DataFrame with the dynamic name\n",
    "\t\t\tlist_short = [name for name in self.names if name.startswith(var)]\n",
    "\t\t\tfor attr in list_short:\n",
    "\t\t\t\tx = getattr(self.data, attr)\n",
    "\t\t\t\tx = x.flatten()\n",
    "\t\t\t\tgetattr(self, var)[attr] = x  # Assign the flattened array to the DataFrame\n",
    "\t\t\t\tnew_columns = [col.replace(var + '_', '').replace('shock', '') for col in getattr(self, var).columns]\n",
    "\t\t\t\tgetattr(self, var).columns = new_columns\n",
    "    \n",
    "    \n",
    "\n"
   ]
  },
  {
   "cell_type": "code",
   "execution_count": null,
   "id": "bb7b2730",
   "metadata": {},
   "outputs": [],
   "source": [
    "varlist=['c','i','y','k','n0','s0']"
   ]
  },
  {
   "cell_type": "code",
   "execution_count": null,
   "id": "c217835f",
   "metadata": {},
   "outputs": [],
   "source": [
    "ir = make_irfs(tt.irfs,varlist, names2)\n",
    "print(ir.__dict__.keys())"
   ]
  },
  {
   "cell_type": "markdown",
   "id": "f4e22670",
   "metadata": {},
   "source": [
    "Lets get a sense of what we have. "
   ]
  },
  {
   "cell_type": "code",
   "execution_count": null,
   "id": "e2457195",
   "metadata": {},
   "outputs": [],
   "source": [
    "ir.y"
   ]
  },
  {
   "cell_type": "markdown",
   "id": "93178404",
   "metadata": {},
   "source": [
    "This will also need more documentation, but it is getting the results of dynare's simulation. It defines the individual series and also puts all in a dataframe. "
   ]
  },
  {
   "cell_type": "code",
   "execution_count": null,
   "id": "97eaa48c",
   "metadata": {},
   "outputs": [],
   "source": [
    "import numpy as np\n",
    "\n",
    "class make_data:\n",
    "\tdef __init__(self, dta,names):\n",
    "\t\tself.data = dta\n",
    "\t\tself.names = names\n",
    "\t\tself.make_levels()\n",
    "\t\tself.make_raw()\n",
    "\n",
    "\tdef make_raw(self):\n",
    "\t\tself.df_raw = pd.DataFrame()  # Initialize an empty DataFrame\n",
    "\t\tfor j,attr in enumerate(self.names):\n",
    "\t\t\tattr=self.names[j]\n",
    "\t\t\tnew_attr =attr + 'r'\n",
    "\t\t\traw_level = self.data[j]\n",
    "\t\t\tsetattr(self, new_attr, raw_level)\n",
    "\t\t\tself.df_raw[new_attr] = raw_level\n",
    "\t\t\t\n",
    "  \t\t\n",
    "\tdef make_levels(self):\n",
    "\t\tself.df = pd.DataFrame()  # Initialize an empty DataFrame\n",
    "\t\tfor j,attr in enumerate(self.names):\n",
    "\t\t\tattr=self.names[j]\n",
    "\t\t\traw_level = self.data[j]\n",
    "\t\t\tif attr != 'i' and 'theta' not in attr:\n",
    "\t\t\t\tcurrent_level=np.exp(raw_level)\n",
    "\t\t\telse:\n",
    "\t\t\t\tcurrent_level=raw_level\n",
    "\t\t\tsetattr(self, attr, current_level)\n",
    "\t\t\tself.df[attr] = current_level  # Store in DataFrame\n",
    "\n"
   ]
  },
  {
   "cell_type": "code",
   "execution_count": null,
   "id": "6b2b8857",
   "metadata": {},
   "outputs": [],
   "source": [
    "print(tt.endo_simul)"
   ]
  },
  {
   "cell_type": "code",
   "execution_count": null,
   "id": "62dfa68c",
   "metadata": {},
   "outputs": [],
   "source": [
    "eg=make_data(tt.endo_simul,tt.names)"
   ]
  },
  {
   "cell_type": "code",
   "execution_count": null,
   "id": "3bc9fb82",
   "metadata": {},
   "outputs": [],
   "source": [
    "eg.df"
   ]
  },
  {
   "cell_type": "code",
   "execution_count": null,
   "id": "fee67703",
   "metadata": {},
   "outputs": [],
   "source": []
  },
  {
   "cell_type": "code",
   "execution_count": null,
   "id": "b478d9bf",
   "metadata": {},
   "outputs": [],
   "source": [
    "params.keys()"
   ]
  },
  {
   "cell_type": "code",
   "execution_count": null,
   "id": "9c59cce8",
   "metadata": {},
   "outputs": [],
   "source": []
  },
  {
   "cell_type": "code",
   "execution_count": null,
   "id": "2e8058a9",
   "metadata": {},
   "outputs": [],
   "source": [
    "def x_find(g,t):\n",
    "    thetag='theta'+str(g)\n",
    "    ag='a'+str(g)\n",
    "    omegag='omega'+str(g)\n",
    "    thetai=eg.df[thetag][t]\n",
    "    theta0=eg.df['theta0'][t]\n",
    "    ai=eg.df[ag][t]\n",
    "    a0=eg.df['a0'][t]\n",
    "    k=eg.df['k'][t-1]\n",
    "    s0=eg.df['s0'][t]\n",
    "    n0=eg.df['n0'][t]\n",
    "    theta0=eg.df['theta0'][t]\n",
    "    eps=params['eps']\n",
    "    omegai=params[omegag]\n",
    "    omega0=params['omega0']\n",
    "    \n",
    "    x=(k*s0/n0)**((theta0-thetai)*(1-eps))*(omegai/omega0)**eps* \\\n",
    "    ((a0)**(1-theta0)/(ai)**(1-thetai)*(theta0/thetai)**thetai*((1-theta0)/(1-thetai))**(1-thetai))**(1-eps)\n",
    "    \n",
    "    return x"
   ]
  },
  {
   "cell_type": "code",
   "execution_count": null,
   "id": "79517414",
   "metadata": {},
   "outputs": [],
   "source": [
    "def X_find(t):\n",
    "    X=0\n",
    "    for g in range(0,n_goods):\n",
    "        X+=x_find(g,t)\n",
    "    return X"
   ]
  },
  {
   "cell_type": "code",
   "execution_count": null,
   "id": "403d19ab",
   "metadata": {},
   "outputs": [],
   "source": [
    "def Z_find(t):\n",
    "    X=0\n",
    "    for g in range(0,n_goods):\n",
    "        thetag='theta'+str(g)\n",
    "        thetai=eg.df[thetag][t]\n",
    "        X+=x_find(g,t)*thetai\n",
    "    return X"
   ]
  },
  {
   "cell_type": "code",
   "execution_count": null,
   "id": "f634fa59",
   "metadata": {},
   "outputs": [],
   "source": [
    "eg.df['X'] = [X_find(t) if t > 0 else np.nan for t in range(eg.df.shape[0])]\n",
    "eg.df['Z'] = [Z_find(t) if t > 0 else np.nan for t in range(eg.df.shape[0])]\n"
   ]
  },
  {
   "cell_type": "code",
   "execution_count": null,
   "id": "daffa9d0",
   "metadata": {},
   "outputs": [],
   "source": [
    "eg.df['Q']=(eg.df['Z']-eg.df['theta0']*eg.df['X'])/eg.df['X']\n"
   ]
  },
  {
   "cell_type": "code",
   "execution_count": null,
   "id": "8c6cb7f7",
   "metadata": {},
   "outputs": [],
   "source": [
    "eg.df['grow'] = eg.df['y'].pct_change()"
   ]
  },
  {
   "cell_type": "code",
   "execution_count": null,
   "id": "363ce157",
   "metadata": {},
   "outputs": [],
   "source": [
    "eg.df"
   ]
  },
  {
   "cell_type": "code",
   "execution_count": null,
   "id": "c27a35b1",
   "metadata": {},
   "outputs": [],
   "source": [
    "eg.df.describe()"
   ]
  },
  {
   "cell_type": "code",
   "execution_count": null,
   "id": "42caaad4",
   "metadata": {},
   "outputs": [],
   "source": [
    "\n",
    "def static_find(t):\n",
    "    static=0\n",
    "    N=0\n",
    "    N_plus=0\n",
    "    y=eg.df['y'][t]\n",
    "    c=eg.df['c'][t]\n",
    "    X=eg.df['X'][t]\n",
    "    Q=eg.df['Q'][t]\n",
    "    \n",
    "    y_plus=eg.df['y'][t+1]\n",
    "    c_plus=eg.df['c'][t+1]\n",
    "    X_plus=eg.df['X'][t+1]\n",
    "    Q_plus=eg.df['Q'][t+1]\n",
    "    \n",
    "    for g in range(0,n_goods):\n",
    "               \n",
    "        thetag='theta'+str(g)\n",
    "        ag='a'+str(g)\n",
    "               \n",
    "        thetai=eg.df[thetag][t]\n",
    "        theta0=eg.df['theta0'][t]\n",
    "        xi=x_find(g,t)\n",
    "        ai=eg.df[ag][t]\n",
    "        a0=eg.df['a0'][t]\n",
    "        \n",
    "        thetai_plus=eg.df[thetag][t+1]\n",
    "        theta0_plus=eg.df['theta0'][t+1]\n",
    "        xi_plus=x_find(g,t+1)\n",
    "        \n",
    "        if g==0:\n",
    "           si=eg.df['s0'][t]\n",
    "           ni=eg.df['n0'][t]\n",
    "           s0=si\n",
    "           n0=ni\n",
    "           \n",
    "           \n",
    "           ni_plus=eg.df['n0'][t+1]\n",
    "           \n",
    "           n0check=(1-theta0)*(1-c/y*(1-xi/X))/(1-theta0-c/y*Q)\n",
    "           ni=n0check\n",
    "        else:\n",
    "            ni=xi/X*c/y*(1-thetai)/(1-theta0-c/y*Q)\n",
    "            si=thetai/(1-thetai)*theta0/(1-theta0)*s0/n0\n",
    "            \n",
    "            ni_plus=xi_plus/X_plus*c_plus/y_plus*(1-thetai_plus)/(1-theta0_plus-c_plus/y_plus*Q_plus)\n",
    "            \n",
    "         \n",
    "        k=eg.df['k'][t-1]\n",
    "        yi=(si*k)**thetai*(ai*ni)**(1-thetai)\n",
    "        static+=(ni_plus-ni)*yi\n",
    "        N+=ni\n",
    "        N_plus+=ni_plus\n",
    "        \n",
    "        print(g)\n",
    "        if g==2:\n",
    "            (print(N,N_plus))\n",
    "            (print('check',n0,n0check))\n",
    "    return static/y"
   ]
  },
  {
   "cell_type": "code",
   "execution_count": null,
   "id": "3ec43f23",
   "metadata": {},
   "outputs": [],
   "source": [
    "def py_n(tt,g):\n",
    "    thetag='theta'+str(g)\n",
    "    thetai=eg.df[thetag][tt]\n",
    "    theta0=eg.df['theta0'][tt]\n",
    "    a0=eg.df['a0'][tt]\n",
    "    s0=eg.df['s0'][tt]\n",
    "    n0=eg.df['n0'][tt]\n",
    "    k=eg.df['k'][tt-1]\n",
    "    prod=(1-theta0)*a0^(1-theta0)*k**theta0*(s0/n0)**theta0/(1-thetag)\n",
    "    return prod"
   ]
  },
  {
   "cell_type": "code",
   "execution_count": null,
   "id": "684c77b4",
   "metadata": {},
   "outputs": [],
   "source": [
    "def n_i(tt,g):\n",
    "    thetag='theta'+str(g)\n",
    "    thetai=eg.df[thetag][tt]\n",
    "    theta0=eg.df['theta0'][tt]\n",
    "    y=eg.df['y'][tt]\n",
    "    c=eg.df['c'][tt]\n",
    "    X=eg.df['X'][tt]\n",
    "    Q=eg.df['Q'][tt]\n",
    "    xi=x_find(g,tt)\n",
    "    if g>0:\n",
    "        ni=xi/X*c/y*(1-thetai)/(1-theta0-c/y*Q)\n",
    "    else:\n",
    "        ni=(1-theta0)*(1-c/y*(1-xi/X))/(1-theta0-c/y*Q)\n",
    "    return ni"
   ]
  },
  {
   "cell_type": "code",
   "execution_count": null,
   "id": "8be3ce40",
   "metadata": {},
   "outputs": [],
   "source": [
    "def static_find(t):\n",
    "    static=0\n",
    "    N=0\n",
    "    N_plus=0\n",
    "    y=eg.df['y'][t]\n",
    "    for g in range(0,n_goods):\n",
    "        staticg=(n_i(t+1,g)-n_i(t,g))*py_n(t,g)\n",
    "        print(g)\n",
    "        N+=n_i(t,g)\n",
    "        N_plus+=n_i(t+1,g)\n",
    "        if g==2:\n",
    "            (print('check1', N,N_plus))\n",
    "        if g==0:\n",
    "            (print('check2',n_i(t,g)-eg.df['n0'][t]))\n",
    "        static+=staticg\n",
    "    return static/y"
   ]
  },
  {
   "cell_type": "code",
   "execution_count": null,
   "id": "39795357",
   "metadata": {},
   "outputs": [],
   "source": [
    "def within_find(t):\n",
    "    within=0\n",
    "    y=eg.df['y'][t]\n",
    "    for g in range(0,n_goods):\n",
    "        withing=(py_n(t+1,g)/n_i(t+1,g)-py_n(t,g)/n_i(t,g))*n_i(t,g)\n",
    "    within+=withing\n",
    "    return within/y"
   ]
  },
  {
   "cell_type": "code",
   "execution_count": null,
   "id": "a55e6a5b",
   "metadata": {},
   "outputs": [],
   "source": [
    "def dynamic_find(t):\n",
    "    dynamic=0\n",
    "    y=eg.df['y'][t]\n",
    "    for g in range(0,n_goods):\n",
    "        dynamicg=(py_n(t+1,g)/n_i(t+1,g)-py_n(t,g)/n_i(t,g))*n_i(t,g)\n",
    "    dynamic+=dynamicg\n",
    "    return dynamic/y"
   ]
  },
  {
   "cell_type": "code",
   "execution_count": null,
   "id": "c6f128dc",
   "metadata": {},
   "outputs": [],
   "source": [
    "eg.df['static'] = [static_find(t) if t > 0 and t < eg.df.shape[0]-1 else np.nan for t in range(eg.df.shape[0])]"
   ]
  },
  {
   "cell_type": "code",
   "execution_count": null,
   "id": "ea61b8eb",
   "metadata": {},
   "outputs": [],
   "source": []
  },
  {
   "cell_type": "code",
   "execution_count": null,
   "id": "d5d7be57",
   "metadata": {},
   "outputs": [],
   "source": [
    "eg.df"
   ]
  },
  {
   "cell_type": "code",
   "execution_count": null,
   "id": "d69b4b7f",
   "metadata": {},
   "outputs": [],
   "source": [
    ".001/.02\n"
   ]
  },
  {
   "cell_type": "code",
   "execution_count": null,
   "id": "38391029",
   "metadata": {},
   "outputs": [],
   "source": [
    "eg.df.describe()"
   ]
  },
  {
   "cell_type": "code",
   "execution_count": null,
   "id": "d50081b2",
   "metadata": {},
   "outputs": [],
   "source": [
    "n_goods"
   ]
  },
  {
   "cell_type": "code",
   "execution_count": null,
   "id": "e207ef85",
   "metadata": {},
   "outputs": [],
   "source": [
    "\n",
    "# Function to highlight the diagonal\n",
    "def highlight_diagonal(data):\n",
    "\tattr = 'background-color: yellow'\n",
    "\t# Create a DataFrame with empty strings\n",
    "\tdf_styler = pd.DataFrame('', index=data.index, columns=data.columns)\n",
    "\t# Set the diagonal to the desired attribute\n",
    "\tnp.fill_diagonal(df_styler.values, attr)\n",
    "\treturn df_styler\n",
    "\n",
    "# Apply the function to the DataFrame\n",
    "df_cov = df_cov.style.apply(highlight_diagonal, axis=None)\n",
    "\n",
    "# Display the styled DataFrame\n",
    "df_cov"
   ]
  }
 ],
 "metadata": {
  "kernelspec": {
   "display_name": "base",
   "language": "python",
   "name": "python3"
  },
  "language_info": {
   "codemirror_mode": {
    "name": "ipython",
    "version": 3
   },
   "file_extension": ".py",
   "mimetype": "text/x-python",
   "name": "python",
   "nbconvert_exporter": "python",
   "pygments_lexer": "ipython3",
   "version": "3.11.5"
  }
 },
 "nbformat": 4,
 "nbformat_minor": 5
}
