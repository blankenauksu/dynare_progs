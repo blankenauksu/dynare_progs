{
 "cells": [
  {
   "cell_type": "code",
   "execution_count": null,
   "metadata": {},
   "outputs": [],
   "source": [
    "\n",
    "#steady state values of shocks\n",
    "theta_mean=.35\n",
    "a_ss=0\n",
    "#stochastic process for shocks\n",
    "theta_var=.01\n",
    "theta_rho=0\n",
    "\n",
    "a_var=.01\n",
    "\n",
    "a_rho=.9"
   ]
  },
  {
   "cell_type": "markdown",
   "metadata": {},
   "source": []
  },
  {
   "cell_type": "code",
   "execution_count": null,
   "metadata": {},
   "outputs": [],
   "source": [
    "params = {\n",
    "    'eps': .5,\n",
    "    'bet': .95,\n",
    "    'delt': .1,\n",
    "    'gamma0': .00,\n",
    "    'gamman': .00,\n",
    "    'vp': 1\n",
    "}\n",
    "\n",
    "params.update({f'omega{i}': 1/n_goods for i in range(n_goods)})\n",
    "params.update({f'theta_var{i}': theta_var for i in range(n_goods)})\n",
    "params.update({f'theta_rho{i}': theta_rho for i in range(n_goods)})\n",
    "params.update({f'theta_mean{i}': theta_mean for i in range(n_goods)})\n",
    "params.update({f'a_var{i}': a_var for i in range(n_goods)})\n",
    "params.update({f'a_rho{i}': a_rho for i in range(n_goods)})\n",
    "params.update({f'a_mean{i}': a_ss for i in range(n_goods)})\n",
    "#params"
   ]
  },
  {
   "cell_type": "code",
   "execution_count": null,
   "metadata": {},
   "outputs": [],
   "source": [
    "#params.update({'theta_mean1': 0.1})\n",
    "#params.update({'theta_mean2': 0.5})"
   ]
  },
  {
   "cell_type": "code",
   "execution_count": null,
   "metadata": {},
   "outputs": [],
   "source": [
    "with open('t_parameters.m', 'w') as file:\n",
    "    file.write('parameters ')\n",
    "    file.write(','.join(f'{key}' for key in params))\n",
    "    file.write(';\\n\\n')\n",
    "    for key, value in params.items():\n",
    "        file.write(f'{key} = {value};\\n')\n"
   ]
  },
  {
   "cell_type": "code",
   "execution_count": null,
   "metadata": {},
   "outputs": [],
   "source": [
    "shocks={}\n",
    "shocks.update({f'theta{i}shock': f'theta_var{i}' for i in range(n_goods)})\n",
    "shocks.update({f'a{i}shock': f'a_var{i}' for i in range(n_goods)})\n"
   ]
  },
  {
   "cell_type": "code",
   "execution_count": null,
   "metadata": {},
   "outputs": [],
   "source": [
    "with open('t_shocks.m', 'w') as file:\n",
    "    file.write('shocks; \\n')\n",
    "    for key, value in shocks.items():\n",
    "        file.write(f'var {key} = {value};\\n')\n",
    "    file.write('end;')"
   ]
  }
 ],
 "metadata": {
  "kernelspec": {
   "display_name": "Python 3",
   "language": "python",
   "name": "python3"
  },
  "language_info": {
   "codemirror_mode": {
    "name": "ipython",
    "version": 3
   },
   "file_extension": ".py",
   "mimetype": "text/x-python",
   "name": "python",
   "nbconvert_exporter": "python",
   "pygments_lexer": "ipython3",
   "version": "3.11.5"
  }
 },
 "nbformat": 4,
 "nbformat_minor": 2
}
