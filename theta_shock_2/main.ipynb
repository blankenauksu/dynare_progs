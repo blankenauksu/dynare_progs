{
 "cells": [
  {
   "cell_type": "code",
   "execution_count": 8,
   "id": "d963da46",
   "metadata": {},
   "outputs": [
    {
     "data": {
      "text/plain": [
       "'.;C:\\\\dynare\\\\6.1\\\\matlab\\\\dseries\\\\src\\\\mdbnomics2dseries;C:\\\\dynare\\\\6.1\\\\matlab\\\\dseries\\\\src\\\\read;C:\\\\dynare\\\\6.1\\\\matlab\\\\dseries\\\\src\\\\utilities\\\\is;C:\\\\dynare\\\\6.1\\\\matlab\\\\dseries\\\\src\\\\utilities\\\\op;C:\\\\dynare\\\\6.1\\\\matlab\\\\dseries\\\\src\\\\utilities\\\\convert;C:\\\\dynare\\\\6.1\\\\matlab\\\\dseries\\\\src\\\\utilities\\\\str;C:\\\\dynare\\\\6.1\\\\matlab\\\\dseries\\\\src\\\\utilities\\\\insert;C:\\\\dynare\\\\6.1\\\\matlab\\\\dseries\\\\src\\\\utilities\\\\file;C:\\\\dynare\\\\6.1\\\\matlab\\\\dseries\\\\src\\\\utilities\\\\from;C:\\\\dynare\\\\6.1\\\\matlab\\\\dseries\\\\src\\\\utilities\\\\get;C:\\\\dynare\\\\6.1\\\\matlab\\\\dseries\\\\src\\\\utilities\\\\print;C:\\\\dynare\\\\6.1\\\\matlab\\\\dseries\\\\src\\\\utilities\\\\variables;C:\\\\dynare\\\\6.1\\\\matlab\\\\dseries\\\\src\\\\utilities\\\\cumulate;C:\\\\dynare\\\\6.1\\\\matlab\\\\dseries\\\\src\\\\utilities\\\\struct;C:\\\\dynare\\\\6.1\\\\matlab\\\\dseries\\\\src\\\\utilities\\\\misc;C:\\\\dynare\\\\6.1\\\\matlab\\\\dseries\\\\src\\\\utilities\\\\x13;C:\\\\dynare\\\\6.1\\\\matlab\\\\dseries\\\\src\\\\utilities\\\\dplot;C:\\\\dynare\\\\6.1\\\\matlab\\\\dseries\\\\src\\\\utilities\\\\missing\\\\shiftS;C:\\\\dynare\\\\6.1\\\\matlab\\\\dseries\\\\src\\\\utilities\\\\missing\\\\randomstring;C:\\\\dynare\\\\6.1\\\\matlab\\\\dseries\\\\src\\\\utilities\\\\missing\\\\nanmean;C:\\\\dynare\\\\6.1\\\\contrib\\\\ms-sbvar\\\\TZcode\\\\MatlabFiles;C:\\\\dynare\\\\6.1\\\\matlab\\\\accessors;C:\\\\dynare\\\\6.1\\\\matlab\\\\AIM;C:\\\\dynare\\\\6.1\\\\matlab\\\\backward;C:\\\\dynare\\\\6.1\\\\matlab\\\\cli;C:\\\\dynare\\\\6.1\\\\matlab\\\\convergence_diagnostics;C:\\\\dynare\\\\6.1\\\\matlab\\\\discretionary_policy;C:\\\\dynare\\\\6.1\\\\matlab\\\\distributions;C:\\\\dynare\\\\6.1\\\\matlab\\\\ep;C:\\\\dynare\\\\6.1\\\\matlab\\\\estimation;C:\\\\dynare\\\\6.1\\\\matlab\\\\estimation\\\\smc;C:\\\\dynare\\\\6.1\\\\matlab\\\\estimation\\\\resampler;C:\\\\dynare\\\\6.1\\\\matlab\\\\kalman;C:\\\\dynare\\\\6.1\\\\matlab\\\\kalman\\\\likelihood;C:\\\\dynare\\\\6.1\\\\matlab\\\\latex;C:\\\\dynare\\\\6.1\\\\matlab\\\\lmmcp;C:\\\\dynare\\\\6.1\\\\matlab\\\\dseries\\\\src;C:\\\\dynare\\\\6.1\\\\matlab\\\\reporting;C:\\\\dynare\\\\6.1\\\\matlab\\\\matrix_solver;C:\\\\dynare\\\\6.1\\\\matlab\\\\moments;C:\\\\dynare\\\\6.1\\\\matlab\\\\ms-sbvar;C:\\\\dynare\\\\6.1\\\\matlab\\\\ms-sbvar\\\\identification;C:\\\\dynare\\\\6.1\\\\matlab\\\\nonlinear-filters;C:\\\\dynare\\\\6.1\\\\matlab\\\\ols;C:\\\\dynare\\\\6.1\\\\matlab\\\\optimal_policy;C:\\\\dynare\\\\6.1\\\\matlab\\\\optimization;C:\\\\dynare\\\\6.1\\\\matlab\\\\pac-tools;C:\\\\dynare\\\\6.1\\\\matlab\\\\parallel;C:\\\\dynare\\\\6.1\\\\matlab\\\\partial_information;C:\\\\dynare\\\\6.1\\\\matlab\\\\perfect-foresight-models;C:\\\\dynare\\\\6.1\\\\matlab\\\\shock_decomposition;C:\\\\dynare\\\\6.1\\\\matlab\\\\stochastic_solver;C:\\\\dynare\\\\6.1\\\\matlab\\\\utilities\\\\dataset;C:\\\\dynare\\\\6.1\\\\matlab\\\\utilities\\\\doc;C:\\\\dynare\\\\6.1\\\\matlab\\\\utilities\\\\estimation;C:\\\\dynare\\\\6.1\\\\matlab\\\\utilities\\\\general;C:\\\\dynare\\\\6.1\\\\matlab\\\\utilities\\\\graphics;C:\\\\dynare\\\\6.1\\\\matlab\\\\utilities\\\\tests\\\\src;C:\\\\dynare\\\\6.1\\\\matlab\\\\utilities\\\\version;C:\\\\dynare\\\\6.1\\\\matlab\\\\missing\\\\struct2array;C:\\\\dynare\\\\6.1\\\\matlab\\\\missing\\\\contains;C:\\\\dynare\\\\6.1\\\\matlab\\\\missing\\\\splitlines;C:\\\\dynare\\\\6.1\\\\matlab\\\\missing\\\\datetime;C:\\\\dynare\\\\6.1\\\\mex\\\\octave\\\\win64;C:\\\\dynare\\\\6.1\\\\mex\\\\octave;C:\\\\Program Files\\\\GNU Octave\\\\Octave-9.1.0\\\\mingw64\\\\lib\\\\octave\\\\packages\\\\statistics-1.6.5\\\\x86_64-w64-mingw32-api-v59;C:\\\\Program Files\\\\GNU Octave\\\\Octave-9.1.0\\\\mingw64\\\\share\\\\octave\\\\packages\\\\statistics-1.6.5\\\\Regression;C:\\\\Program Files\\\\GNU Octave\\\\Octave-9.1.0\\\\mingw64\\\\share\\\\octave\\\\packages\\\\statistics-1.6.5\\\\dist_wrap;C:\\\\Program Files\\\\GNU Octave\\\\Octave-9.1.0\\\\mingw64\\\\share\\\\octave\\\\packages\\\\statistics-1.6.5\\\\dist_stat;C:\\\\Program Files\\\\GNU Octave\\\\Octave-9.1.0\\\\mingw64\\\\share\\\\octave\\\\packages\\\\statistics-1.6.5\\\\dist_obj;C:\\\\Program Files\\\\GNU Octave\\\\Octave-9.1.0\\\\mingw64\\\\share\\\\octave\\\\packages\\\\statistics-1.6.5\\\\dist_fun;C:\\\\Program Files\\\\GNU Octave\\\\Octave-9.1.0\\\\mingw64\\\\share\\\\octave\\\\packages\\\\statistics-1.6.5\\\\dist_fit;C:\\\\Program Files\\\\GNU Octave\\\\Octave-9.1.0\\\\mingw64\\\\share\\\\octave\\\\packages\\\\statistics-1.6.5\\\\datasets;C:\\\\Program Files\\\\GNU Octave\\\\Octave-9.1.0\\\\mingw64\\\\share\\\\octave\\\\packages\\\\statistics-1.6.5\\\\Clustering;C:\\\\Program Files\\\\GNU Octave\\\\Octave-9.1.0\\\\mingw64\\\\share\\\\octave\\\\packages\\\\statistics-1.6.5\\\\Classification;C:\\\\Program Files\\\\GNU Octave\\\\Octave-9.1.0\\\\mingw64\\\\share\\\\octave\\\\packages\\\\statistics-1.6.5;C:\\\\dynare\\\\6.1\\\\matlab;C:\\\\Users\\\\blankenw\\\\AppData\\\\Local\\\\anaconda3\\\\Lib\\\\site-packages\\\\oct2py;C:\\\\Users\\\\blankenw\\\\AppData\\\\Local\\\\anaconda3\\\\Lib\\\\site-packages\\\\octave_kernel;C:\\\\Program Files\\\\GNU Octave\\\\Octave-9.1.0\\\\mingw64\\\\lib\\\\octave\\\\9.1.0\\\\site\\\\oct\\\\x86_64-w64-mingw32;C:\\\\Program Files\\\\GNU Octave\\\\Octave-9.1.0\\\\mingw64\\\\lib\\\\octave\\\\site\\\\oct\\\\api-v59\\\\x86_64-w64-mingw32;C:\\\\Program Files\\\\GNU Octave\\\\Octave-9.1.0\\\\mingw64\\\\lib\\\\octave\\\\site\\\\oct\\\\x86_64-w64-mingw32;C:\\\\Program Files\\\\GNU Octave\\\\Octave-9.1.0\\\\mingw64\\\\share\\\\octave\\\\9.1.0\\\\site\\\\m;C:\\\\Program Files\\\\GNU Octave\\\\Octave-9.1.0\\\\mingw64\\\\share\\\\octave\\\\site\\\\api-v59\\\\m;C:\\\\Program Files\\\\GNU Octave\\\\Octave-9.1.0\\\\mingw64\\\\share\\\\octave\\\\site\\\\m;C:\\\\Program Files\\\\GNU Octave\\\\Octave-9.1.0\\\\mingw64\\\\share\\\\octave\\\\site\\\\m\\\\once_only;C:\\\\Program Files\\\\GNU Octave\\\\Octave-9.1.0\\\\mingw64\\\\share\\\\octave\\\\site\\\\m\\\\startup;C:\\\\Program Files\\\\GNU Octave\\\\Octave-9.1.0\\\\mingw64\\\\lib\\\\octave\\\\9.1.0\\\\oct\\\\x86_64-w64-mingw32;C:\\\\Program Files\\\\GNU Octave\\\\Octave-9.1.0\\\\mingw64\\\\share\\\\octave\\\\9.1.0\\\\m;C:\\\\Program Files\\\\GNU Octave\\\\Octave-9.1.0\\\\mingw64\\\\share\\\\octave\\\\9.1.0\\\\m\\\\audio;C:\\\\Program Files\\\\GNU Octave\\\\Octave-9.1.0\\\\mingw64\\\\share\\\\octave\\\\9.1.0\\\\m\\\\deprecated;C:\\\\Program Files\\\\GNU Octave\\\\Octave-9.1.0\\\\mingw64\\\\share\\\\octave\\\\9.1.0\\\\m\\\\elfun;C:\\\\Program Files\\\\GNU Octave\\\\Octave-9.1.0\\\\mingw64\\\\share\\\\octave\\\\9.1.0\\\\m\\\\general;C:\\\\Program Files\\\\GNU Octave\\\\Octave-9.1.0\\\\mingw64\\\\share\\\\octave\\\\9.1.0\\\\m\\\\geometry;C:\\\\Program Files\\\\GNU Octave\\\\Octave-9.1.0\\\\mingw64\\\\share\\\\octave\\\\9.1.0\\\\m\\\\gui;C:\\\\Program Files\\\\GNU Octave\\\\Octave-9.1.0\\\\mingw64\\\\share\\\\octave\\\\9.1.0\\\\m\\\\help;C:\\\\Program Files\\\\GNU Octave\\\\Octave-9.1.0\\\\mingw64\\\\share\\\\octave\\\\9.1.0\\\\m\\\\image;C:\\\\Program Files\\\\GNU Octave\\\\Octave-9.1.0\\\\mingw64\\\\share\\\\octave\\\\9.1.0\\\\m\\\\io;C:\\\\Program Files\\\\GNU Octave\\\\Octave-9.1.0\\\\mingw64\\\\share\\\\octave\\\\9.1.0\\\\m\\\\java;C:\\\\Program Files\\\\GNU Octave\\\\Octave-9.1.0\\\\mingw64\\\\share\\\\octave\\\\9.1.0\\\\m\\\\legacy;C:\\\\Program Files\\\\GNU Octave\\\\Octave-9.1.0\\\\mingw64\\\\share\\\\octave\\\\9.1.0\\\\m\\\\linear-algebra;C:\\\\Program Files\\\\GNU Octave\\\\Octave-9.1.0\\\\mingw64\\\\share\\\\octave\\\\9.1.0\\\\m\\\\miscellaneous;C:\\\\Program Files\\\\GNU Octave\\\\Octave-9.1.0\\\\mingw64\\\\share\\\\octave\\\\9.1.0\\\\m\\\\ode;C:\\\\Program Files\\\\GNU Octave\\\\Octave-9.1.0\\\\mingw64\\\\share\\\\octave\\\\9.1.0\\\\m\\\\optimization;C:\\\\Program Files\\\\GNU Octave\\\\Octave-9.1.0\\\\mingw64\\\\share\\\\octave\\\\9.1.0\\\\m\\\\path;C:\\\\Program Files\\\\GNU Octave\\\\Octave-9.1.0\\\\mingw64\\\\share\\\\octave\\\\9.1.0\\\\m\\\\pkg;C:\\\\Program Files\\\\GNU Octave\\\\Octave-9.1.0\\\\mingw64\\\\share\\\\octave\\\\9.1.0\\\\m\\\\plot;C:\\\\Program Files\\\\GNU Octave\\\\Octave-9.1.0\\\\mingw64\\\\share\\\\octave\\\\9.1.0\\\\m\\\\plot\\\\appearance;C:\\\\Program Files\\\\GNU Octave\\\\Octave-9.1.0\\\\mingw64\\\\share\\\\octave\\\\9.1.0\\\\m\\\\plot\\\\draw;C:\\\\Program Files\\\\GNU Octave\\\\Octave-9.1.0\\\\mingw64\\\\share\\\\octave\\\\9.1.0\\\\m\\\\plot\\\\util;C:\\\\Program Files\\\\GNU Octave\\\\Octave-9.1.0\\\\mingw64\\\\share\\\\octave\\\\9.1.0\\\\m\\\\polynomial;C:\\\\Program Files\\\\GNU Octave\\\\Octave-9.1.0\\\\mingw64\\\\share\\\\octave\\\\9.1.0\\\\m\\\\prefs;C:\\\\Program Files\\\\GNU Octave\\\\Octave-9.1.0\\\\mingw64\\\\share\\\\octave\\\\9.1.0\\\\m\\\\profiler;C:\\\\Program Files\\\\GNU Octave\\\\Octave-9.1.0\\\\mingw64\\\\share\\\\octave\\\\9.1.0\\\\m\\\\set;C:\\\\Program Files\\\\GNU Octave\\\\Octave-9.1.0\\\\mingw64\\\\share\\\\octave\\\\9.1.0\\\\m\\\\signal;C:\\\\Program Files\\\\GNU Octave\\\\Octave-9.1.0\\\\mingw64\\\\share\\\\octave\\\\9.1.0\\\\m\\\\sparse;C:\\\\Program Files\\\\GNU Octave\\\\Octave-9.1.0\\\\mingw64\\\\share\\\\octave\\\\9.1.0\\\\m\\\\specfun;C:\\\\Program Files\\\\GNU Octave\\\\Octave-9.1.0\\\\mingw64\\\\share\\\\octave\\\\9.1.0\\\\m\\\\special-matrix;C:\\\\Program Files\\\\GNU Octave\\\\Octave-9.1.0\\\\mingw64\\\\share\\\\octave\\\\9.1.0\\\\m\\\\startup;C:\\\\Program Files\\\\GNU Octave\\\\Octave-9.1.0\\\\mingw64\\\\share\\\\octave\\\\9.1.0\\\\m\\\\statistics;C:\\\\Program Files\\\\GNU Octave\\\\Octave-9.1.0\\\\mingw64\\\\share\\\\octave\\\\9.1.0\\\\m\\\\strings;C:\\\\Program Files\\\\GNU Octave\\\\Octave-9.1.0\\\\mingw64\\\\share\\\\octave\\\\9.1.0\\\\m\\\\testfun;C:\\\\Program Files\\\\GNU Octave\\\\Octave-9.1.0\\\\mingw64\\\\share\\\\octave\\\\9.1.0\\\\m\\\\time;C:\\\\Program Files\\\\GNU Octave\\\\Octave-9.1.0\\\\mingw64\\\\share\\\\octave\\\\9.1.0\\\\m\\\\web;C:\\\\Program Files\\\\GNU Octave\\\\Octave-9.1.0\\\\mingw64\\\\share\\\\octave\\\\9.1.0\\\\data'"
      ]
     },
     "execution_count": 8,
     "metadata": {},
     "output_type": "execute_result"
    }
   ],
   "source": [
    "#!pip install --upgrade oct2py\n",
    "import numpy as np\n",
    "from oct2py import octave\n",
    "import matplotlib.pyplot as plt\n",
    "import os\n",
    "\n",
    "octave.addpath('C:/dynare/6.1/matlab')  \n",
    "#octave.addpath('/opt/homebrew/opt/dynare/lib/dynare/matlab')"
   ]
  },
  {
   "cell_type": "code",
   "execution_count": 9,
   "id": "dd4b8edc",
   "metadata": {},
   "outputs": [],
   "source": [
    "n_goods=3"
   ]
  },
  {
   "cell_type": "code",
   "execution_count": 10,
   "id": "a9e3b82b",
   "metadata": {},
   "outputs": [],
   "source": [
    "#from MyPy import DyPy"
   ]
  },
  {
   "cell_type": "code",
   "execution_count": 11,
   "id": "f2fe4306",
   "metadata": {},
   "outputs": [],
   "source": [
    "with open('t_call.m', 'w') as file:\n",
    "    file.write(\"stoch_simul(nograph, order=1, periods=100000, irf=100);\")"
   ]
  },
  {
   "cell_type": "code",
   "execution_count": 12,
   "id": "eff43076",
   "metadata": {},
   "outputs": [],
   "source": [
    "%run make_model.ipynb\n",
    "%run make_vars.ipynb\n",
    "%run make_parameters_and_shocks.ipynb\n",
    "%run make_steady_state.ipynb\n"
   ]
  },
  {
   "cell_type": "markdown",
   "id": "59d8332f",
   "metadata": {},
   "source": [
    "Tells octave where to find the .m file it will run. The file is `call_dynare`. Set to wherever you have this file. \n",
    "\n",
    "\n"
   ]
  },
  {
   "cell_type": "code",
   "execution_count": 13,
   "id": "302dd812",
   "metadata": {},
   "outputs": [],
   "source": [
    "#a=octave.addpath(os.path.expanduser('C:/Users/blankenw/GitHub/dynare_progs/np_1'))"
   ]
  },
  {
   "cell_type": "markdown",
   "id": "4df08aa0",
   "metadata": {},
   "source": [
    "Makes a call to Octave, which makes a call to Dynare. Then the `.mod` file is run in Dynare. Output from Dynare is displayed as it runs."
   ]
  },
  {
   "cell_type": "code",
   "execution_count": 14,
   "id": "9834c245",
   "metadata": {},
   "outputs": [
    {
     "name": "stdout",
     "output_type": "stream",
     "text": [
      "Starting Dynare (version 6.1).\n",
      "Calling Dynare with arguments: none\n",
      "Starting preprocessing of the model file ...\n",
      "Found 12 equation(s).\n",
      "Evaluating expressions...\n",
      "Computing static model derivatives (order 1).\n",
      "Normalizing the static model...\n",
      "Finding the optimal block decomposition of the static model...\n",
      "7 block(s) found:\n",
      "  6 recursive block(s) and 1 simultaneous block(s).\n",
      "  the largest simultaneous block has 6 equation(s)\n",
      "                                 and 6 feedback variable(s).\n",
      "Computing dynamic model derivatives (order 1).\n",
      "Normalizing the dynamic model...\n",
      "Finding the optimal block decomposition of the dynamic model...\n",
      "2 block(s) found:\n",
      "  1 recursive block(s) and 1 simultaneous block(s).\n",
      "  the largest simultaneous block has 6 equation(s)\n",
      "                                 and 6 feedback variable(s).\n",
      "Preprocessing completed.\n",
      "Preprocessing time: 0h00m00s.\n",
      "\n",
      "STEADY-STATE RESULTS:\n",
      "\n",
      "c      \t\t 1.33909\n",
      "i      \t\t 0.596816\n",
      "k      \t\t 6.60195\n",
      "y      \t\t 1.93591\n",
      "n0     \t\t 0.613365\n",
      "s0     \t\t 0.613365\n",
      "theta0 \t\t 0.35\n",
      "theta1 \t\t 0.35\n",
      "theta2 \t\t 0.35\n",
      "a0     \t\t 0\n",
      "a1     \t\t 0\n",
      "a2     \t\t 0\n",
      "\n",
      "MODEL SUMMARY\n",
      "\n",
      "  Number of variables:         12\n",
      "  Number of stochastic shocks: 6\n",
      "  Number of state variables:   7\n",
      "  Number of jumpers:           4\n",
      "  Number of static variables:  2\n",
      "\n",
      "\n",
      "MATRIX OF COVARIANCE OF EXOGENOUS SHOCKS\n",
      "Variables      theta0shock  theta1shock  theta2shock      a0shock      a1shock      a2shock\n",
      "theta0shock       0.010000     0.000000     0.000000     0.000000     0.000000     0.000000\n",
      "theta1shock       0.000000     0.010000     0.000000     0.000000     0.000000     0.000000\n",
      "theta2shock       0.000000     0.000000     0.010000     0.000000     0.000000     0.000000\n",
      "a0shock           0.000000     0.000000     0.000000     0.010000     0.000000     0.000000\n",
      "a1shock           0.000000     0.000000     0.000000     0.000000     0.010000     0.000000\n",
      "a2shock           0.000000     0.000000     0.000000     0.000000     0.000000     0.010000\n",
      "\n",
      "POLICY AND TRANSITION FUNCTIONS\n",
      "                                   c               i               k               y              n0              s0          theta0          theta1          theta2              a0              a1              a2\n",
      "Constant                    1.339094        0.596816        6.601952        1.935911        0.613365        0.613365        0.350000        0.350000        0.350000               0               0               0\n",
      "k(-1)                       0.110196       -0.018286        0.895534        0.091910       -0.013461       -0.013461               0               0               0               0               0               0\n",
      "theta1(-1)                 -0.301314        0.334290        0.321309        0.032976        0.427868       -0.131613               0        0.900000               0               0               0               0\n",
      "theta2(-1)                 -0.301314        0.334290        0.321309        0.032976        0.427868       -0.131613               0               0        0.900000               0               0               0\n",
      "a0(-1)                      0.642704        0.543410        0.522308        1.186113       -0.008170       -0.008170               0               0               0        0.900000               0               0\n",
      "a1(-1)                             0               0               0               0        0.029745        0.029745               0               0               0               0        0.900000               0\n",
      "a2(-1)                             0               0               0               0        0.029745        0.029745               0               0               0               0               0        0.900000\n",
      "theta0(-1)                  0.298738        3.316851        3.188053        3.615589        0.123564        1.242524        0.900000               0               0               0               0               0\n",
      "theta0shock                -0.058088       -0.644943       -0.619899       -0.703031       -0.024026       -0.241602       -0.175000               0               0               0               0               0\n",
      "theta1shock                 0.058589       -0.065001       -0.062477       -0.006412       -0.083196        0.025591               0       -0.175000               0               0               0               0\n",
      "theta2shock                 0.058589       -0.065001       -0.062477       -0.006412       -0.083196        0.025591               0               0       -0.175000               0               0               0\n",
      "a0shock                     0.714115        0.603788        0.580343        1.317903       -0.009078       -0.009078               0               0               0        1.000000               0               0\n",
      "a1shock                            0               0               0               0        0.033050        0.033050               0               0               0               0        1.000000               0\n",
      "a2shock                            0               0               0               0        0.033050        0.033050               0               0               0               0               0        1.000000\n",
      "\n",
      "\n",
      "MOMENTS OF SIMULATED VARIABLES\n",
      "VARIABLE              MEAN       STD. DEV.        VARIANCE        SKEWNESS        KURTOSIS\n",
      "c                 1.340205        0.271235        0.073568        0.026749        0.116171\n",
      "i                 0.598742        0.188444        0.035511        0.004601        0.016609\n",
      "k                 6.623450        1.339335        1.793819        0.012114        0.046566\n",
      "y                 1.938947        0.433002        0.187491        0.018351        0.068391\n",
      "n0                0.613522        0.032417        0.001051       -0.014379        0.045960\n",
      "s0                0.614233        0.051869        0.002690       -0.007240       -0.044683\n",
      "theta0            0.350877        0.040220        0.001618        0.006626       -0.024111\n",
      "theta1            0.350246        0.040083        0.001607        0.017726       -0.007790\n",
      "theta2            0.350364        0.039746        0.001580       -0.008287       -0.010181\n",
      "a0               -0.001887        0.231788        0.053726        0.028193        0.076756\n",
      "a1                0.000033        0.227711        0.051852       -0.006292       -0.032084\n",
      "a2                0.000541        0.230671        0.053209       -0.009940       -0.025684\n",
      "\n",
      "\n",
      "CORRELATION OF SIMULATED VARIABLES\n",
      "VARIABLE          c        i        k        y       n0       s0   theta0   theta1   theta2       a0       a1       a2\n",
      "c            1.0000   0.7670   0.8735   0.9602  -0.4901   0.0066   0.3067  -0.0238  -0.0122   0.8593   0.0177  -0.0032\n",
      "i            0.7670   1.0000   0.6823   0.9157  -0.1675   0.5168   0.7169   0.0644   0.0812   0.6767   0.0103  -0.0003\n",
      "k            0.8735   0.6823   1.0000   0.8441  -0.4247   0.1978   0.5377   0.0504   0.0651   0.5109   0.0131  -0.0037\n",
      "y            0.9602   0.9157   0.8441   1.0000  -0.3799   0.2291   0.5041   0.0132   0.0277   0.8328   0.0155  -0.0022\n",
      "n0          -0.4901  -0.1675  -0.4247  -0.3799   1.0000   0.0009  -0.1001   0.5519   0.5510  -0.3134   0.2243   0.2302\n",
      "s0           0.0066   0.5168   0.1978   0.2291   0.0009   1.0000   0.9039  -0.1453  -0.1224  -0.2086   0.1376   0.1531\n",
      "theta0       0.3067   0.7169   0.5377   0.5041  -0.1001   0.9039   1.0000  -0.0125   0.0076  -0.0089  -0.0018   0.0031\n",
      "theta1      -0.0238   0.0644   0.0504   0.0132   0.5519  -0.1453  -0.0125   1.0000  -0.0047   0.0021   0.0014  -0.0251\n",
      "theta2      -0.0122   0.0812   0.0651   0.0277   0.5510  -0.1224   0.0076  -0.0047   1.0000   0.0066   0.0003   0.0122\n",
      "a0           0.8593   0.6767   0.5109   0.8328  -0.3134  -0.2086  -0.0089   0.0021   0.0066   1.0000   0.0178  -0.0031\n",
      "a1           0.0177   0.0103   0.0131   0.0155   0.2243   0.1376  -0.0018   0.0014   0.0003   0.0178   1.0000  -0.0012\n",
      "a2          -0.0032  -0.0003  -0.0037  -0.0022   0.2302   0.1531   0.0031  -0.0251   0.0122  -0.0031  -0.0012   1.0000\n",
      "\n",
      "\n",
      "AUTOCORRELATION OF SIMULATED VARIABLES\n",
      "VARIABLE         1       2       3       4       5\n",
      "c           0.9626  0.9224  0.8800  0.8364  0.7924\n",
      "i           0.8814  0.7770  0.6840  0.6019  0.5298\n",
      "k           0.9941  0.9788  0.9560  0.9274  0.8945\n",
      "y           0.9381  0.8785  0.8209  0.7657  0.7133\n",
      "n0          0.9142  0.8360  0.7643  0.6987  0.6390\n",
      "s0          0.8765  0.7684  0.6716  0.5867  0.5120\n",
      "theta0      0.9007  0.8116  0.7299  0.6564  0.5901\n",
      "theta1      0.8998  0.8097  0.7283  0.6556  0.5900\n",
      "theta2      0.8986  0.8078  0.7266  0.6537  0.5878\n",
      "a0          0.9014  0.8127  0.7320  0.6592  0.5938\n",
      "a1          0.8978  0.8072  0.7256  0.6518  0.5854\n",
      "a2          0.9012  0.8138  0.7349  0.6637  0.5989\n",
      "\n",
      "\n",
      "\n",
      "VARIANCE DECOMPOSITION SIMULATING ONE SHOCK AT A TIME (in percent)\n",
      "               theta0shock       theta1shock       theta2shock           a0shock           a1shock           a2shock  Tot. lin. contr.\n",
      "c                    18.52              0.14              0.13             82.23              0.00              0.00            101.02\n",
      "i                    52.75              0.53              0.52             46.96              0.00              0.00            100.76\n",
      "k                    52.85              0.54              0.53             47.42              0.00              0.00            101.34\n",
      "y                    28.59              0.05              0.05             72.29              0.00              0.00            100.99\n",
      "n0                    9.97             31.46             30.96             18.45              5.39              5.53            101.76\n",
      "s0                   84.53              1.73              1.70              7.21              2.11              2.16             99.44\n",
      "theta0              100.00              0.00              0.00              0.00              0.00              0.00            100.00\n",
      "theta1                0.00            100.00              0.00              0.00              0.00              0.00            100.00\n",
      "theta2                0.00              0.00            100.00              0.00              0.00              0.00            100.00\n",
      "a0                    0.00              0.00              0.00            100.00              0.00              0.00            100.00\n",
      "a1                    0.00              0.00              0.00              0.00            100.00              0.00            100.00\n",
      "a2                    0.00              0.00              0.00              0.00              0.00            100.00            100.00\n",
      "Note: numbers do not add up to 100 due to non-zero correlation of simulated shocks in small samples\n",
      "\n",
      "Total computing time : 0h00m15s\n",
      "warning: load: classdef element has been converted to a struct\n",
      "warning: called from\n",
      "    _pyeval at line 28 column 9\n",
      "\n",
      "warning: load: classdef element has been converted to a struct\n",
      "warning: called from\n",
      "    _pyeval at line 28 column 9\n",
      "\n"
     ]
    }
   ],
   "source": [
    "octave.dynare('model_1.mod')\n",
    "oo = octave.pull('oo_')\n",
    "M_ = octave.pull('M_')"
   ]
  }
 ],
 "metadata": {
  "kernelspec": {
   "display_name": "base",
   "language": "python",
   "name": "python3"
  },
  "language_info": {
   "codemirror_mode": {
    "name": "ipython",
    "version": 3
   },
   "file_extension": ".py",
   "mimetype": "text/x-python",
   "name": "python",
   "nbconvert_exporter": "python",
   "pygments_lexer": "ipython3",
   "version": "3.11.5"
  }
 },
 "nbformat": 4,
 "nbformat_minor": 5
}
