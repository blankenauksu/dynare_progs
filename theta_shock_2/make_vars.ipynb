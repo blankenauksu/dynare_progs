{
 "cells": [
  {
   "cell_type": "code",
   "execution_count": null,
   "metadata": {},
   "outputs": [],
   "source": [
    "vars = ['c', 'i', 'k', 'y', 'n0','s0']\n",
    "vars.extend([f'theta{i}' for i in range(n_goods)])\n",
    "vars.extend([f'a{i}' for i in range(n_goods)])\n",
    "vars\n",
    "#params"
   ]
  },
  {
   "cell_type": "code",
   "execution_count": null,
   "metadata": {},
   "outputs": [],
   "source": [
    "varexo = []\n",
    "varexo.extend([f'theta{i}shock' for i in range(n_goods)])\n",
    "varexo.extend([f'a{i}shock' for i in range(n_goods)])\n",
    "varexo\n",
    "#params"
   ]
  },
  {
   "cell_type": "code",
   "execution_count": null,
   "metadata": {},
   "outputs": [],
   "source": [
    "with open('t_vars.m', 'w') as file:\n",
    "    file.write('var \\n')\n",
    "    for var in vars:\n",
    "        file.write(var+'\\n')\n",
    "    file.write(';')\n",
    "    file.write('\\n')\n",
    "    file.write('varexo \\n')\n",
    "    for var in varexo:\n",
    "        file.write(var+'\\n')\n",
    "    file.write(';')"
   ]
  }
 ],
 "metadata": {
  "kernelspec": {
   "display_name": "Python 3",
   "language": "python",
   "name": "python3"
  },
  "language_info": {
   "codemirror_mode": {
    "name": "ipython",
    "version": 3
   },
   "file_extension": ".py",
   "mimetype": "text/x-python",
   "name": "python",
   "nbconvert_exporter": "python",
   "pygments_lexer": "ipython3",
   "version": "3.11.5"
  }
 },
 "nbformat": 4,
 "nbformat_minor": 2
}
