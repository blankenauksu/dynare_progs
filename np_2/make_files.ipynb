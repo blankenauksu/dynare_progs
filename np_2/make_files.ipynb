{
 "cells": [
  {
   "cell_type": "code",
   "execution_count": 1,
   "metadata": {},
   "outputs": [],
   "source": [
    "from scipy.optimize import root\n",
    "import numpy as np"
   ]
  },
  {
   "cell_type": "code",
   "execution_count": 2,
   "metadata": {},
   "outputs": [],
   "source": [
    "params = {\n",
    "    'eps': 1.5,\n",
    "    'tht': 1,\n",
    "    'alf': .5,\n",
    "    'bet': .9,\n",
    "    'eta': .1,\n",
    "    'om_0': 1,\n",
    "    'om_1': 1.5,\n",
    "    'om_2': 1,\n",
    "    'delt': .1\n",
    "}"
   ]
  },
  {
   "cell_type": "code",
   "execution_count": 3,
   "metadata": {},
   "outputs": [],
   "source": [
    "ss_shock = {\n",
    "    'a_0': 1,\n",
    "    'a_1': 1,\n",
    "    'a_2': 1\n",
    "}"
   ]
  },
  {
   "cell_type": "code",
   "execution_count": 4,
   "metadata": {},
   "outputs": [],
   "source": [
    "shock_params = {\n",
    "    'var_a_0': .5,\n",
    "    'var_a_1': .6,\n",
    "    'var_a_2': .7,\n",
    "    'rho_a_0': .9,\n",
    "    'rho_a_1': .9,\n",
    "    'rho_a_2': .9\n",
    "}"
   ]
  },
  {
   "cell_type": "code",
   "execution_count": 5,
   "metadata": {},
   "outputs": [],
   "source": [
    "ss_params = {**params, **ss_shock}\n",
    "model_params = {**params, **shock_params}"
   ]
  },
  {
   "cell_type": "code",
   "execution_count": 6,
   "metadata": {},
   "outputs": [
    {
     "data": {
      "text/plain": [
       "{'eps': 1.5,\n",
       " 'tht': 1,\n",
       " 'alf': 0.5,\n",
       " 'bet': 0.9,\n",
       " 'eta': 0.1,\n",
       " 'om_0': 1,\n",
       " 'om_1': 1.5,\n",
       " 'om_2': 1,\n",
       " 'delt': 0.1,\n",
       " 'var_a_0': 0.5,\n",
       " 'var_a_1': 0.6,\n",
       " 'var_a_2': 0.7,\n",
       " 'rho_a_0': 0.9,\n",
       " 'rho_a_1': 0.9,\n",
       " 'rho_a_2': 0.9}"
      ]
     },
     "execution_count": 6,
     "metadata": {},
     "output_type": "execute_result"
    }
   ],
   "source": [
    "model_params"
   ]
  },
  {
   "cell_type": "code",
   "execution_count": 7,
   "metadata": {},
   "outputs": [
    {
     "name": "stdout",
     "output_type": "stream",
     "text": [
      "eps,tht,alf,bet,eta,om_0,om_1,om_2,delt,a_0,a_1,a_2\n"
     ]
    }
   ],
   "source": [
    "print(','.join(f'{key}' for key in ss_params))"
   ]
  },
  {
   "cell_type": "code",
   "execution_count": 8,
   "metadata": {},
   "outputs": [
    {
     "name": "stdout",
     "output_type": "stream",
     "text": [
      "eps,tht,alf,bet,eta,om_0,om_1,om_2,delt,var_a_0,var_a_1,var_a_2,rho_a_0,rho_a_1,rho_a_2\n"
     ]
    }
   ],
   "source": [
    "print(','.join(f'{key}' for key in model_params))"
   ]
  },
  {
   "cell_type": "code",
   "execution_count": 9,
   "metadata": {},
   "outputs": [],
   "source": [
    "def assign_params(ss_params):\n",
    "    a_0 = ss_params['a_0']\n",
    "    a_1 = ss_params['a_1']\n",
    "    a_2 = ss_params['a_2']\n",
    "    alf = ss_params['alf']\n",
    "    delt = ss_params['delt']\n",
    "    om_0 = ss_params['om_0']\n",
    "    om_1 = ss_params['om_1']\n",
    "    om_2 = ss_params['om_2']\n",
    "    eps = ss_params['eps']\n",
    "    tht = ss_params['tht']\n",
    "    bet = ss_params['bet']\n",
    "    eta=ss_params['eta']\n",
    "    return eps,tht,alf,bet,eta,om_0,om_1,om_2,delt,a_0,a_1,a_2\n",
    "\n"
   ]
  },
  {
   "cell_type": "code",
   "execution_count": 10,
   "metadata": {},
   "outputs": [],
   "source": [
    "def equations(vars, params):\n",
    "    gss_1,gss_2,gss_3 = vars\n",
    "    eps,tht,alf,bet,eta,om_0,om_1,om_2,delt,a_0,a_1,a_2 = assign_params(params)\n",
    "    n12=np.exp(gss_1)/(1+np.exp(gss_1))\n",
    "    n_1=n12*np.exp(gss_2)/(1+np.exp(gss_2))\n",
    "    n_2=1-n12\n",
    "    k=np.exp(gss_3)\n",
    "    n_0 = 1 - n_1 - n_2\n",
    "    c_0=a_0*n_0*k**alf-delt*k\n",
    "    c_1=a_1*n_1*k**alf\n",
    "    c_2=a_2*n_2*k**alf\n",
    "    #print(n_0,n_1,n_2,c_0)\n",
    "    summ=om_0*c_0**((eps-1)/eps)+om_1*c_1**((eps-1)/eps)+om_2*c_2**((eps-1)/eps)\n",
    "    summ=summ**((1-tht*eps)/(eps-1))\n",
    "    v_0=om_0*c_0**((-1)/eps)*summ\n",
    "    v_1=om_1*c_1**((-1)/eps)*summ\n",
    "    v_2=om_2*c_2**((-1)/eps)*summ\n",
    "    \n",
    "    fk_0=alf*a_0*n_0*k**(alf-1)\n",
    "    fk_1=alf*a_1*n_1*k**(alf-1)\n",
    "    fk_2=alf*a_2*n_2*k**(alf-1)\n",
    "    \n",
    "    fn_0=(1-alf)*a_0*k**alf\n",
    "    fn_1=(1-alf)*a_1*k**alf\n",
    "    fn_2=(1-alf)*a_2*k**alf\n",
    "        \n",
    "    lam_k=v_0*fk_0/n_0\n",
    "    \n",
    "    eq1 =v_1*fk_1-n_1*lam_k\n",
    "    eq2 =v_2*fk_2-n_2*lam_k\n",
    "    eq3 = bet*(n_0*fk_0+1-delt)-1\n",
    "    return [eq1, eq2, eq3]\n",
    "\n"
   ]
  },
  {
   "cell_type": "code",
   "execution_count": 11,
   "metadata": {},
   "outputs": [
    {
     "name": "stdout",
     "output_type": "stream",
     "text": [
      " message: The iteration is not making good progress, as measured by the \n",
      "            improvement from the last ten iterations.\n",
      " success: False\n",
      "  status: 5\n",
      "     fun: [ 1.018e-01 -2.001e-01 -1.414e-01]\n",
      "       x: [ 3.618e-02 -3.111e-01 -4.490e-01]\n",
      "    nfev: 27\n",
      "    fjac: [[ 1.000e+00 -4.787e-05  7.381e-04]\n",
      "           [-9.558e-05  9.812e-01  1.931e-01]\n",
      "           [ 7.335e-04  1.931e-01 -9.812e-01]]\n",
      "       r: [ 2.365e+02 -2.893e+03 -5.231e+02  1.053e+01  2.320e+00\n",
      "            3.026e-02]\n",
      "     qtf: [ 1.017e-01 -2.236e-01  1.002e-01]\n"
     ]
    },
    {
     "data": {
      "text/plain": [
       "{'n_0': 0.2937912933205741,\n",
       " 'n_1': 0.21525365988355666,\n",
       " 'n_2': 0.4909550467958693,\n",
       " 'k': 0.6382906961327719,\n",
       " 'c_0': 0.1708898935773115,\n",
       " 'c_1': 0.17197281546297563,\n",
       " 'c_2': 0.3922391921647987,\n",
       " 'a_0': 0,\n",
       " 'a_1': 0,\n",
       " 'a_2': 0}"
      ]
     },
     "execution_count": 11,
     "metadata": {},
     "output_type": "execute_result"
    }
   ],
   "source": [
    "def solve_equations(params):\n",
    "    initial_guess = [0,0,0]  # Initial guess for the solution\n",
    "    sol = root(equations, initial_guess, args=(ss_params,))\n",
    "    \n",
    "    # Extract the solution vector\n",
    "    gss_1, gss_2, gss_3 = sol.x\n",
    "    eps,tht,alf,bet,eta,om_0,om_1,om_2,delt,a_0,a_1,a_2 = assign_params(ss_params)\n",
    "    n12=np.exp(gss_1)/(1+np.exp(gss_1))\n",
    "    n_1=n12*np.exp(gss_2)/(1+np.exp(gss_2))\n",
    "    n_2=1-n12\n",
    "    k=np.exp(gss_3)\n",
    "    n_0 = 1 - n_1 - n_2\n",
    "    c_0=a_0*n_0*k**alf-delt*k\n",
    "    c_1=a_1*n_1*k**alf\n",
    "    c_2=a_2*n_2*k**alf\n",
    "    a_0=0\n",
    "    a_1=0\n",
    "    a_2=0\n",
    "    ss_dict = {\n",
    "    'n_0': n_0,\n",
    "    'n_1': n_1,\n",
    "    'n_2': n_2,\n",
    "    'k': k,\n",
    "    'c_0': c_0,\n",
    "    'c_1': c_1,\n",
    "    'c_2': c_2,\n",
    "    'a_0': a_0,\n",
    "    'a_1': a_1,\n",
    "    'a_2': a_2\n",
    "    }\n",
    "    return sol, ss_dict\n",
    "    \n",
    "\n",
    "# Call the wrapper function\n",
    "sol, ss_dict=solve_equations(ss_params)\n",
    "print(sol)\n",
    "ss_dict\n"
   ]
  },
  {
   "cell_type": "code",
   "execution_count": 12,
   "metadata": {},
   "outputs": [],
   "source": [
    "def write_dict_to_file(ss_dict, filename):\n",
    "    with open(filename, 'w') as f:\n",
    "        f.write('var \\n')\n",
    "        for key, value in ss_dict.items():\n",
    "            f.write(f'{key}\\n')\n",
    "        f.write(f';\\n\\n\\n')\n",
    "        f.write('varexo \\n')\n",
    "        for key, value in ss_shock.items():\n",
    "            f.write(f'{key}_shock\\n')\n",
    "        f.write(f';\\n\\n\\n')\n",
    "# Call the function\n",
    "write_dict_to_file(ss_dict, 't_vars.m')"
   ]
  },
  {
   "cell_type": "code",
   "execution_count": 13,
   "metadata": {},
   "outputs": [],
   "source": [
    "def write_dict_to_file(ss_dict, filename):\n",
    "    with open(filename, 'w') as f:\n",
    "        f.write('initval;\\n')\n",
    "        for key, value in ss_dict.items():\n",
    "            f.write(f'{key}={value};\\n')\n",
    "        f.write(f'end;\\n\\n\\n')        \n",
    "# Call the function\n",
    "write_dict_to_file(ss_dict, 't_ss.m')"
   ]
  },
  {
   "cell_type": "code",
   "execution_count": 14,
   "metadata": {},
   "outputs": [],
   "source": [
    "def write_dict_to_file(params, filename):\n",
    "    \n",
    "    with open(filename, 'w') as f:\n",
    "        f.write('parameters ')\n",
    "        f.write(','.join(f'{key}' for key in params))\n",
    "        f.write(';\\n\\n')\n",
    "        for key, value in params.items():\n",
    "            f.write(f'{key}={value};\\n')\n",
    "\n",
    "# Call the function\n",
    "write_dict_to_file(model_params, 't_parameters.m')"
   ]
  },
  {
   "cell_type": "code",
   "execution_count": 15,
   "metadata": {},
   "outputs": [],
   "source": [
    "def write_dict_to_file(ss_dict, filename):\n",
    "    #variance_list = list(shock_params.values())[:3]\n",
    "    with open(filename, 'w') as f:\n",
    "        f.write('shocks;\\n')\n",
    "        i=0\n",
    "        for key, value in ss_shock.items():\n",
    "            f.write(f'var {key}_shock=var_{key};\\n')\n",
    "            i+=1\n",
    "        f.write(f'\\n')\n",
    "        f.write(f'end;\\n\\n\\n')        \n",
    "# Call the function\n",
    "write_dict_to_file(ss_dict, 't_shocks.m')"
   ]
  }
 ],
 "metadata": {
  "kernelspec": {
   "display_name": "Python 3",
   "language": "python",
   "name": "python3"
  },
  "language_info": {
   "codemirror_mode": {
    "name": "ipython",
    "version": 3
   },
   "file_extension": ".py",
   "mimetype": "text/x-python",
   "name": "python",
   "nbconvert_exporter": "python",
   "pygments_lexer": "ipython3",
   "version": "3.11.5"
  }
 },
 "nbformat": 4,
 "nbformat_minor": 2
}
