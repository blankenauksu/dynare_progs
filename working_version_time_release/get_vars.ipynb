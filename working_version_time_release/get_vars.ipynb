{
 "cells": [
  {
   "cell_type": "code",
   "execution_count": 8,
   "metadata": {},
   "outputs": [],
   "source": [
    "import pickle\n",
    "with open('pars.pickle', 'rb') as f:\n",
    "    pars = pickle.load(f)"
   ]
  },
  {
   "cell_type": "code",
   "execution_count": 42,
   "metadata": {},
   "outputs": [],
   "source": [
    "lines = []\n",
    "lines.append('var\\n')\n",
    "for i in range(1, pars['p_nw'][0]+ pars['p_nr'][0]):\n",
    "   lines.append('s'+str(i)+'\\n')\n",
    "for i in range(2, pars['p_nw'][0]+ pars['p_nr'][0]+1):\n",
    "   lines.append('rev_S'+str(i)+'\\n')\n",
    "for i in range(pars['a_n_b'][0]+1, pars['a_n_b'][0]+pars['a_n_p'][0]+ pars['a_n_es'][0]+pars['a_n_ls'][0]+1):\n",
    "   lines.append('g'+str(i)+'\\n')   \n",
    "for i in range(1,pars['p_nw'][0]+1):\n",
    "   lines.append('h'+str(i)+'\\n')   \n",
    "for i in range(1,pars['p_nw'][0]+pars['p_nr'][0]+1):\n",
    "   lines.append('c'+str(i)+'\\n')    \n",
    "for i in range(1,pars['p_nw'][0]+1):\n",
    "   lines.append('L'+str(i)+'\\n')      \n",
    "for i in range(1,pars['p_nw'][0]+1):\n",
    "   lines.append('rev_L'+str(i)+'\\n')\n",
    "for i in range(1,pars['p_nw'][0]+pars['p_nr'][0]+1):\n",
    "   lines.append('rev_Lump'+str(i)+'\\n')       \n",
    "others=['K','L','e','hf','Y','w','rk','rb','Ge','Gu','C','I','Tot_hc', 'Tot_labor', 'GY', 'Ges', 'Gus', 'tau_L', 'tau_S', 'tau_Lump', 'rev_L', 'rev_S', 'rev_Lump', 'wg_hc', 'wg_L',';']\n",
    "for i in others:\n",
    "   lines.append(i+'\\n')  \n",
    "       \n",
    "with open('t_vars.m', 'w') as f:\n",
    "    f.writelines(lines)\n"
   ]
  }
 ],
 "metadata": {
  "kernelspec": {
   "display_name": "Python 3 (ipykernel)",
   "language": "python",
   "name": "python3"
  },
  "language_info": {
   "codemirror_mode": {
    "name": "ipython",
    "version": 3
   },
   "file_extension": ".py",
   "mimetype": "text/x-python",
   "name": "python",
   "nbconvert_exporter": "python",
   "pygments_lexer": "ipython3",
   "version": "3.9.13"
  }
 },
 "nbformat": 4,
 "nbformat_minor": 2
}
