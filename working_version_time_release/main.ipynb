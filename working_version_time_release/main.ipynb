{
 "cells": [
  {
   "cell_type": "code",
   "execution_count": 1,
   "id": "eb49dac1",
   "metadata": {},
   "outputs": [
    {
     "name": "stdout",
     "output_type": "stream",
     "text": [
      "\f\n"
     ]
    }
   ],
   "source": [
    "#\n",
    "#\n",
    "%reset -f\n",
    "%clear\n",
    "import numpy as np\n",
    "import scipy as sp\n",
    "import oct2py\n",
    "from oct2py import octave\n",
    "import pandas as pd\n",
    "import pickle\n",
    "import matplotlib.pyplot as plt\n",
    "import os\n",
    "from scipy.optimize import fsolve\n",
    "import sys\n",
    "plt.close('all')\n"
   ]
  },
  {
   "cell_type": "code",
   "execution_count": 2,
   "id": "1868cb4c",
   "metadata": {},
   "outputs": [],
   "source": [
    "%run make_pars.ipynb \n",
    "%run calibrate_main.ipynb \n",
    "%run calibrate_vp.ipynb\n",
    "%run calibrate_auxilery_functions.ipynb\n",
    "pars=make_pars()\n"
   ]
  },
  {
   "cell_type": "code",
   "execution_count": 3,
   "id": "86db46d3",
   "metadata": {},
   "outputs": [],
   "source": [
    "x0=.2\n",
    "s_i_y, info, ier, mesg = fsolve(calibrate_main,x0,full_output=True)\n",
    "if ier!=1:\n",
    "    sys.exit(mesg)\n",
    "s_i_y\n",
    "pars['s_i_y'][0]=s_i_y\n",
    "\n"
   ]
  },
  {
   "cell_type": "code",
   "execution_count": 4,
   "id": "87c3f380",
   "metadata": {},
   "outputs": [],
   "source": [
    "with open('pars.pickle', 'wb') as f:\n",
    "    pickle.dump(pars, f)"
   ]
  },
  {
   "cell_type": "code",
   "execution_count": 5,
   "id": "a9de203c",
   "metadata": {},
   "outputs": [],
   "source": [
    "%run get_vars.ipynb \n",
    "%run get_sslist.ipynb \n",
    "%run get_ss.ipynb\n",
    "%run get_parlist.ipynb \n",
    "%run get_pars.ipynb \n",
    "%run get_model.ipynb "
   ]
  },
  {
   "cell_type": "code",
   "execution_count": 6,
   "id": "4ecb4c85",
   "metadata": {},
   "outputs": [
    {
     "name": "stdout",
     "output_type": "stream",
     "text": [
      "warning: addpath: D:/blankenw/g_hub/redo_tr: The system cannot find the path specified.\n",
      "\n",
      "warning: called from\n",
      "    _pyeval at line 57 column 30\n",
      "\n"
     ]
    }
   ],
   "source": [
    "#a = octave.addpath(os.path.expanduser('C:/Users/billb/OneDrive - Kansas State University/octave_files'))\n",
    "#a=octave.addpath(os.path.expanduser('C:/Users/billb/Documents/code_ws/remake/remake'))  \n",
    "a=octave.addpath(os.path.expanduser('D:/blankenw/g_hub/redo_tr'))\n",
    "\n"
   ]
  },
  {
   "cell_type": "code",
   "execution_count": 7,
   "id": "e52c0d87",
   "metadata": {},
   "outputs": [
    {
     "name": "stdout",
     "output_type": "stream",
     "text": [
      "warning: addpath: C:\\dynare\\5.4\\matlab: The system cannot find the path specified.\n",
      "\n",
      "warning: called from\n",
      "    call_dynare at line 7 column 4\n",
      "    _pyeval at line 57 column 30\n",
      "\n"
     ]
    },
    {
     "ename": "Oct2PyError",
     "evalue": "Octave evaluation error:\nerror: 'dynare' undefined near line 9, column 4\nerror: called from:\n    call_dynare at line 9, column 4",
     "output_type": "error",
     "traceback": [
      "\u001b[1;31m---------------------------------------------------------------------------\u001b[0m",
      "\u001b[1;31mOct2PyError\u001b[0m                               Traceback (most recent call last)",
      "Cell \u001b[1;32mIn[7], line 2\u001b[0m\n\u001b[0;32m      1\u001b[0m y\u001b[38;5;241m=\u001b[39m\u001b[38;5;241m1\u001b[39m\n\u001b[1;32m----> 2\u001b[0m x\u001b[38;5;241m=\u001b[39m\u001b[43moctave\u001b[49m\u001b[38;5;241;43m.\u001b[39;49m\u001b[43mcall_dynare\u001b[49m\u001b[43m(\u001b[49m\u001b[43my\u001b[49m\u001b[43m,\u001b[49m\u001b[43mnout\u001b[49m\u001b[38;5;241;43m=\u001b[39;49m\u001b[38;5;241;43m1\u001b[39;49m\u001b[43m)\u001b[49m\n",
      "File \u001b[1;32mc:\\Users\\blankenw\\.julia\\conda\\3\\lib\\site-packages\\oct2py\\dynamic.py:111\u001b[0m, in \u001b[0;36mOctaveFunctionPtr.__call__\u001b[1;34m(self, *inputs, **kwargs)\u001b[0m\n\u001b[0;32m    107\u001b[0m     warnings\u001b[38;5;241m.\u001b[39mwarn(\u001b[38;5;124m\"\u001b[39m\u001b[38;5;124mKey - value pairs are deprecated, use `func_args`\u001b[39m\u001b[38;5;124m\"\u001b[39m, stacklevel\u001b[38;5;241m=\u001b[39m\u001b[38;5;241m2\u001b[39m)\n\u001b[0;32m    109\u001b[0m inputs \u001b[38;5;241m+\u001b[39m\u001b[38;5;241m=\u001b[39m \u001b[38;5;28mtuple\u001b[39m(item \u001b[38;5;28;01mfor\u001b[39;00m pair \u001b[38;5;129;01min\u001b[39;00m extras\u001b[38;5;241m.\u001b[39mitems() \u001b[38;5;28;01mfor\u001b[39;00m item \u001b[38;5;129;01min\u001b[39;00m pair)\n\u001b[1;32m--> 111\u001b[0m \u001b[38;5;28;01mreturn\u001b[39;00m \u001b[38;5;28;43mself\u001b[39;49m\u001b[38;5;241;43m.\u001b[39;49m\u001b[43m_ref\u001b[49m\u001b[43m(\u001b[49m\u001b[43m)\u001b[49m\u001b[38;5;241;43m.\u001b[39;49m\u001b[43mfeval\u001b[49m\u001b[43m(\u001b[49m\u001b[38;5;28;43mself\u001b[39;49m\u001b[38;5;241;43m.\u001b[39;49m\u001b[43mname\u001b[49m\u001b[43m,\u001b[49m\u001b[43m \u001b[49m\u001b[38;5;241;43m*\u001b[39;49m\u001b[43minputs\u001b[49m\u001b[43m,\u001b[49m\u001b[43m \u001b[49m\u001b[38;5;241;43m*\u001b[39;49m\u001b[38;5;241;43m*\u001b[39;49m\u001b[43mkwargs\u001b[49m\u001b[43m)\u001b[49m\n",
      "File \u001b[1;32mc:\\Users\\blankenw\\.julia\\conda\\3\\lib\\site-packages\\oct2py\\core.py:403\u001b[0m, in \u001b[0;36mOct2Py.feval\u001b[1;34m(self, func_path, *func_args, **kwargs)\u001b[0m\n\u001b[0;32m    400\u001b[0m \u001b[38;5;28;01mif\u001b[39;00m \u001b[38;5;129;01mnot\u001b[39;00m stream_handler:\n\u001b[0;32m    401\u001b[0m     stream_handler \u001b[38;5;241m=\u001b[39m \u001b[38;5;28mself\u001b[39m\u001b[38;5;241m.\u001b[39mlogger\u001b[38;5;241m.\u001b[39minfo \u001b[38;5;28;01mif\u001b[39;00m verbose \u001b[38;5;28;01melse\u001b[39;00m \u001b[38;5;28mself\u001b[39m\u001b[38;5;241m.\u001b[39mlogger\u001b[38;5;241m.\u001b[39mdebug\n\u001b[1;32m--> 403\u001b[0m \u001b[38;5;28;01mreturn\u001b[39;00m \u001b[38;5;28;43mself\u001b[39;49m\u001b[38;5;241;43m.\u001b[39;49m\u001b[43m_feval\u001b[49m\u001b[43m(\u001b[49m\n\u001b[0;32m    404\u001b[0m \u001b[43m    \u001b[49m\u001b[43mfunc_name\u001b[49m\u001b[43m,\u001b[49m\n\u001b[0;32m    405\u001b[0m \u001b[43m    \u001b[49m\u001b[43mfunc_args\u001b[49m\u001b[43m,\u001b[49m\n\u001b[0;32m    406\u001b[0m \u001b[43m    \u001b[49m\u001b[43mdname\u001b[49m\u001b[38;5;241;43m=\u001b[39;49m\u001b[43mdname\u001b[49m\u001b[43m,\u001b[49m\n\u001b[0;32m    407\u001b[0m \u001b[43m    \u001b[49m\u001b[43mnout\u001b[49m\u001b[38;5;241;43m=\u001b[39;49m\u001b[43mnout\u001b[49m\u001b[43m,\u001b[49m\n\u001b[0;32m    408\u001b[0m \u001b[43m    \u001b[49m\u001b[43mtimeout\u001b[49m\u001b[38;5;241;43m=\u001b[39;49m\u001b[43mtimeout\u001b[49m\u001b[43m,\u001b[49m\n\u001b[0;32m    409\u001b[0m \u001b[43m    \u001b[49m\u001b[43mstream_handler\u001b[49m\u001b[38;5;241;43m=\u001b[39;49m\u001b[43mstream_handler\u001b[49m\u001b[43m,\u001b[49m\n\u001b[0;32m    410\u001b[0m \u001b[43m    \u001b[49m\u001b[43mstore_as\u001b[49m\u001b[38;5;241;43m=\u001b[39;49m\u001b[43mstore_as\u001b[49m\u001b[43m,\u001b[49m\n\u001b[0;32m    411\u001b[0m \u001b[43m    \u001b[49m\u001b[43mplot_dir\u001b[49m\u001b[38;5;241;43m=\u001b[39;49m\u001b[43mplot_dir\u001b[49m\u001b[43m,\u001b[49m\n\u001b[0;32m    412\u001b[0m \u001b[43m\u001b[49m\u001b[43m)\u001b[49m\n",
      "File \u001b[1;32mc:\\Users\\blankenw\\.julia\\conda\\3\\lib\\site-packages\\oct2py\\core.py:648\u001b[0m, in \u001b[0;36mOct2Py._feval\u001b[1;34m(self, func_name, func_args, dname, nout, timeout, stream_handler, store_as, plot_dir)\u001b[0m\n\u001b[0;32m    646\u001b[0m \u001b[38;5;28;01mif\u001b[39;00m resp[\u001b[38;5;124m\"\u001b[39m\u001b[38;5;124merr\u001b[39m\u001b[38;5;124m\"\u001b[39m]:\n\u001b[0;32m    647\u001b[0m     msg \u001b[38;5;241m=\u001b[39m \u001b[38;5;28mself\u001b[39m\u001b[38;5;241m.\u001b[39m_parse_error(resp[\u001b[38;5;124m\"\u001b[39m\u001b[38;5;124merr\u001b[39m\u001b[38;5;124m\"\u001b[39m])\n\u001b[1;32m--> 648\u001b[0m     \u001b[38;5;28;01mraise\u001b[39;00m Oct2PyError(msg)\n\u001b[0;32m    650\u001b[0m result \u001b[38;5;241m=\u001b[39m resp[\u001b[38;5;124m\"\u001b[39m\u001b[38;5;124mresult\u001b[39m\u001b[38;5;124m\"\u001b[39m]\u001b[38;5;241m.\u001b[39mravel()\u001b[38;5;241m.\u001b[39mtolist()\n\u001b[0;32m    651\u001b[0m \u001b[38;5;28;01mif\u001b[39;00m \u001b[38;5;28misinstance\u001b[39m(result, \u001b[38;5;28mlist\u001b[39m) \u001b[38;5;129;01mand\u001b[39;00m \u001b[38;5;28mlen\u001b[39m(result) \u001b[38;5;241m==\u001b[39m \u001b[38;5;241m1\u001b[39m:\n",
      "\u001b[1;31mOct2PyError\u001b[0m: Octave evaluation error:\nerror: 'dynare' undefined near line 9, column 4\nerror: called from:\n    call_dynare at line 9, column 4"
     ]
    }
   ],
   "source": [
    "y=1\n",
    "x=octave.call_dynare(y,nout=1)"
   ]
  },
  {
   "cell_type": "code",
   "execution_count": null,
   "id": "ab746139",
   "metadata": {},
   "outputs": [],
   "source": [
    "#a = octave.addpath(os.path.expanduser('C:/Users/billb/OneDrive - Kansas State University/octave_files'))"
   ]
  },
  {
   "cell_type": "code",
   "execution_count": null,
   "id": "2d056ef3",
   "metadata": {},
   "outputs": [],
   "source": [
    "y=1\n",
    "x=octave.call_dynare(y,nout=1)"
   ]
  },
  {
   "cell_type": "code",
   "execution_count": null,
   "id": "e95d449b",
   "metadata": {},
   "outputs": [],
   "source": [
    "x = octave.pull('oo_')"
   ]
  },
  {
   "cell_type": "code",
   "execution_count": null,
   "id": "54225a23",
   "metadata": {},
   "outputs": [],
   "source": [
    "x.irfs.c_e"
   ]
  },
  {
   "cell_type": "code",
   "execution_count": null,
   "id": "847844b4",
   "metadata": {},
   "outputs": [],
   "source": [
    "tm=list(range(1,3,1))\n",
    "print(tm)"
   ]
  },
  {
   "cell_type": "code",
   "execution_count": null,
   "id": "0c43e7b9",
   "metadata": {},
   "outputs": [],
   "source": [
    "d={}"
   ]
  },
  {
   "cell_type": "code",
   "execution_count": null,
   "id": "1e3b27c4",
   "metadata": {},
   "outputs": [],
   "source": [
    "\n",
    "for i in (tm):\n",
    "    dta=octave.pull('oo_')\n",
    "    octave.call_dynare(y,nout=1)\n",
    "    dta=octave.pull('oo_')\n",
    "    d[\"group\" + str(i)] = dta"
   ]
  },
  {
   "cell_type": "code",
   "execution_count": null,
   "id": "3e8dfc20",
   "metadata": {},
   "outputs": [],
   "source": [
    "d[\"group2\"]"
   ]
  },
  {
   "cell_type": "code",
   "execution_count": null,
   "id": "6cb361c0",
   "metadata": {},
   "outputs": [],
   "source": [
    "type(dta.irfs.c_e)\n",
    "d['group1'].irfs.c_e"
   ]
  },
  {
   "cell_type": "code",
   "execution_count": null,
   "id": "738e44c3",
   "metadata": {},
   "outputs": [],
   "source": [
    "a=d['group1'].irfs"
   ]
  },
  {
   "cell_type": "code",
   "execution_count": null,
   "id": "04d4795b",
   "metadata": {},
   "outputs": [],
   "source": [
    "a"
   ]
  }
 ],
 "metadata": {
  "kernelspec": {
   "display_name": "base",
   "language": "python",
   "name": "python3"
  },
  "language_info": {
   "codemirror_mode": {
    "name": "ipython",
    "version": 3
   },
   "file_extension": ".py",
   "mimetype": "text/x-python",
   "name": "python",
   "nbconvert_exporter": "python",
   "pygments_lexer": "ipython3",
   "version": "3.8.5"
  }
 },
 "nbformat": 4,
 "nbformat_minor": 5
}
