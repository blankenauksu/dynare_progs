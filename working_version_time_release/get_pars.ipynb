{
 "cells": [
  {
   "cell_type": "code",
   "execution_count": 65,
   "metadata": {},
   "outputs": [],
   "source": [
    "#import pickle\n",
    "#with open('pars.pickle', 'rb') as f:\n",
    "#    pars = pickle.load(f)"
   ]
  },
  {
   "cell_type": "code",
   "execution_count": 1,
   "metadata": {},
   "outputs": [],
   "source": [
    "with open('t_parlist.m', 'r') as f:\n",
    "    # Read the lines into a list and remove the newline characters\n",
    "    lines = [line.strip() for line in f.readlines()]\n",
    "lines=lines[1:]\n",
    "#Now 'lines' is a list where each item is a line from the file, without the newline character\n",
    "\n"
   ]
  },
  {
   "cell_type": "code",
   "execution_count": 67,
   "metadata": {},
   "outputs": [],
   "source": [
    "pars_shortnames ={k[2:]: v for k, v in pars.items()}"
   ]
  },
  {
   "cell_type": "code",
   "execution_count": 74,
   "metadata": {},
   "outputs": [],
   "source": [
    "\n",
    "lines2=[]\n",
    "\n",
    "for item in lines:\n",
    "    # Check if the item is a key in the dictionary\n",
    "    if item in pars_shortnames:\n",
    "        # Perform your action here. For example, print the item and its corresponding value\n",
    "        #print(f\"{item}: {pars_shortnames[item]}\")\n",
    "        lines2.append(f\"{item}\"'='f\"{pars_shortnames[item][0]}\"+';'+'\\n')\n",
    "for i in range(pars['p_nw'][0]+pars['p_nr'][0]):\n",
    "    lines2.append('beta'+str(i+1)+'='+str(pars['p_b'][0][i])+';'+'\\n')\n",
    "for i in range(pars['p_nw'][0]):\n",
    "    lines2.append('gama'+str(i+1)+'='+str(pars['p_gama'][0][i])+';'+'\\n') \n",
    "for i in range(pars['p_nw'][0]):\n",
    "    lines2.append('x'+str(i+1)+'='+str(pars['p_x'][0][i])+';'+'\\n')\n",
    "for i in range(pars['a_n_b'][0], pars['a_n_b'][0]+pars['a_n_p'][0]+ pars['a_n_es'][0]+pars['a_n_ls'][0]):\n",
    "    lines2.append('gj'+str(i+1)+'='+str(pars['p_gj'][0][i])+';'+'\\n')\n",
    "for i in range(pars['a_n_b'][0], pars['a_n_b'][0]+pars['a_n_p'][0]+ pars['a_n_es'][0]+pars['a_n_ls'][0]):\n",
    "    lines2.append('eta'+str(i+1)+'='+str(pars['p_eta'][0][i])+';'+'\\n')\n",
    "lines2.append('SSGe='+str(pars['e_Ge'][0][0])+';'+'\\n')\n",
    "lines2.append('SSGu='+str(pars['e_Gu'][0][0])+';'+'\\n')\n",
    "with open('t_pars.m', 'w') as f:\n",
    "    f.writelines(lines2)\n",
    "      "
   ]
  },
  {
   "cell_type": "code",
   "execution_count": null,
   "metadata": {},
   "outputs": [],
   "source": []
  }
 ],
 "metadata": {
  "kernelspec": {
   "display_name": "Python 3 (ipykernel)",
   "language": "python",
   "name": "python3"
  },
  "language_info": {
   "codemirror_mode": {
    "name": "ipython",
    "version": 3
   },
   "file_extension": ".py",
   "mimetype": "text/x-python",
   "name": "python",
   "nbconvert_exporter": "python",
   "pygments_lexer": "ipython3",
   "version": "3.9.13"
  }
 },
 "nbformat": 4,
 "nbformat_minor": 2
}
