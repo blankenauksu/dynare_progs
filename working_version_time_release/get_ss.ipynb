{
 "cells": [
  {
   "cell_type": "code",
   "execution_count": 141,
   "metadata": {},
   "outputs": [],
   "source": [
    "import pickle\n",
    "with open('pars.pickle', 'rb') as f:\n",
    "    pars = pickle.load(f)"
   ]
  },
  {
   "cell_type": "code",
   "execution_count": 144,
   "metadata": {},
   "outputs": [],
   "source": [
    "lines = []\n",
    "\n",
    "for i in range(1, pars['p_nw'][0]+ pars['p_nr'][0]):\n",
    "   lines.append('s'+str(i)+'='+str(pars['e_s'][0][i-1])+';'+'\\n')\n",
    "for i in range(2, pars['p_nw'][0]+ pars['p_nr'][0]+1):\n",
    "   lines.append('rev_S'+str(i)+'='+str(pars['e_rev_s'][0][i-1])+';'+'\\n')\n",
    "for i in range(pars['a_n_b'][0]+1, pars['a_n_b'][0]+pars['a_n_p'][0]+ pars['a_n_es'][0]+pars['a_n_ls'][0]+1):\n",
    "   lines.append('g'+str(i)+'='+str(np.log(pars['e_ge'][0][i-pars['a_n_b'][0]-1]))+';'+'\\n')\n",
    "for i in range(1,pars['p_nw'][0]+1):\n",
    "   lines.append('h'+str(i)+'='+str(np.log(pars['e_h'][0][i-1]))+';'+'\\n')\n",
    "for i in range(1,pars['p_nw'][0]+pars['p_nr'][0]+1):\n",
    "   lines.append('c'+str(i)+'='+str(np.log(pars['e_c'][0][i-1]))+';'+'\\n')\n",
    "for i in range(1,pars['p_nw'][0]+1):\n",
    "   lines.append('L'+str(i)+'='+str(np.log(pars['e_l'][0][i-1]))+';'+'\\n')\n",
    "for i in range(1,pars['p_nw'][0]+1):\n",
    "   lines.append('rev_L'+str(i)+'='+str(np.log(pars['e_rev_l'][0][i-1]))+';'+'\\n')\n",
    "for i in range(1,pars['p_nw'][0]+pars['p_nr'][0]+1):\n",
    "   lines.append('rev_Lump'+str(i)+'='+str(np.log(pars['e_rev_lump'][0][i-1]))+';'+'\\n')\n",
    "\n",
    "others=['e_K','e_L','e_e','e_hf','e_Y','e_w','e_rk','e_rb','e_Ge','e_Gu','e_C','e_I','e_Tot_hc', 'e_Tot_labor', 'e_GY', 'e_Ges', 'e_Gus', 'e_tau_L', 'e_tau_S', 'e_tau_Lump', 'e_rev_L', 'e_rev_S', 'e_rev_Lump', 'e_wg_hc', 'e_wg_L']\n",
    "others_short =[k[2:]  for k in others]\n",
    "\n",
    "for i,k in enumerate(others_short):\n",
    "   lines.append(f\"{k}\"+'='+str(np.log(float(pars[others[i]][0])))+';'+'\\n')\n",
    "   #print((pars[f\"others[i]\"][0]))\n",
    "   #print(pars[others[i]][0])\n",
    "\n",
    "\n",
    "\n",
    "\n",
    "  \n",
    "with open('t_ss.m', 'w') as f:\n",
    "    f.writelines(lines)\n"
   ]
  }
 ],
 "metadata": {
  "kernelspec": {
   "display_name": "Python 3 (ipykernel)",
   "language": "python",
   "name": "python3"
  },
  "language_info": {
   "codemirror_mode": {
    "name": "ipython",
    "version": 3
   },
   "file_extension": ".py",
   "mimetype": "text/x-python",
   "name": "python",
   "nbconvert_exporter": "python",
   "pygments_lexer": "ipython3",
   "version": "3.9.13"
  }
 },
 "nbformat": 4,
 "nbformat_minor": 2
}
