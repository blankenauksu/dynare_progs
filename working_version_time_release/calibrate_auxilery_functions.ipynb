{
 "cells": [
  {
   "cell_type": "code",
   "execution_count": null,
   "metadata": {},
   "outputs": [],
   "source": [
    "def calibrate_vp_human_c(var_phis):\n",
    "    keys=['a_h_m','a_h_base','a_h_ratio_1','a_h_ratio_2','p_deltae']\n",
    "    a_h_m,a_h_base,a_h_ratio_1,a_h_ratio_2,p_deltae=[pars.get(key)[0] for key in keys]\n",
    "    var_phi6=var_phis\n",
    "    m=a_h_m\n",
    "    base=a_h_base\n",
    "    ratio1=a_h_ratio_1\n",
    "    ratio2=a_h_ratio_2\n",
    "    var_phi7=var_phi6*m**(var_phi6-1)\n",
    "    var_phi5=(ratio2-(1-p_deltae)**base)/(base**var_phi6-var_phi7*base)\n",
    "    foc=(1-p_deltae)**m+var_phi5*(m**var_phi6-var_phi7*m)-ratio1*((1-p_deltae)**base+var_phi5*(base**var_phi6-var_phi7*base)) \n",
    "    return foc "
   ]
  },
  {
   "cell_type": "code",
   "execution_count": null,
   "metadata": {},
   "outputs": [],
   "source": [
    "def calibrate_vp_beta(var_phis):\n",
    "    keys=['a_b_m','a_b_ratio']\n",
    "    a_b_m,a_b_ratio=[pars.get(key)[0] for key in keys]\n",
    "    var_phi1=var_phis\n",
    "    m=a_b_m\n",
    "    ratio=a_b_ratio\n",
    "    var_phi2=var_phi1*(m+1)**(var_phi1-1)\n",
    "    foc=((m+1)**var_phi1-var_phi2*m)-ratio*((1+1)**var_phi1-var_phi2*1)   #need to figure out why there is a 1+1 here!!\n",
    "    return foc  "
   ]
  },
  {
   "cell_type": "code",
   "execution_count": null,
   "metadata": {},
   "outputs": [],
   "source": [
    "def calibrate_vp_labor(var_phis):\n",
    "    var_phi3=var_phis\n",
    "    keys=['a_l_m','a_l_ratio','a_l_base']\n",
    "    a_l_m,a_l_ratio,a_l_base=[pars.get(key)[0] for key in keys]\n",
    "    m=a_l_m+1\n",
    "    ratio=a_l_ratio\n",
    "    base=a_l_base+1\n",
    "    var_phi4=var_phi3*m**(var_phi3-1)\n",
    "    foc=(m**var_phi3-var_phi4*m)-ratio*(base**var_phi3-var_phi4*base)\n",
    "    \n",
    "    return foc  "
   ]
  }
 ],
 "metadata": {
  "kernelspec": {
   "display_name": "base",
   "language": "python",
   "name": "python3"
  },
  "language_info": {
   "codemirror_mode": {
    "name": "ipython",
    "version": 3
   },
   "file_extension": ".py",
   "mimetype": "text/x-python",
   "name": "python",
   "nbconvert_exporter": "python",
   "pygments_lexer": "ipython3",
   "version": "3.9.13"
  },
  "orig_nbformat": 4
 },
 "nbformat": 4,
 "nbformat_minor": 2
}
