{
 "cells": [
  {
   "cell_type": "code",
   "execution_count": 8,
   "metadata": {},
   "outputs": [],
   "source": [
    "#import pickle\n",
    "#with open('pars.pickle', 'rb') as f:\n",
    "#    pars = pickle.load(f)"
   ]
  },
  {
   "cell_type": "code",
   "execution_count": 9,
   "metadata": {},
   "outputs": [],
   "source": [
    "lines = []\n",
    "lines.append('parameters\\n')\n",
    "others=['nw', 'nr', 'bb', 'mu', 'theta', 'nu', 'gepar', 'gupar', 'chi', 'share_lump', 'phi', 'A', 'alfa', 'deltak', 'deltae', 'var_GY', 'rho_GY', 'var_Ge', 'rho_Ge', 'var_Gu', 'rho_Gu','rat_ge','rat_gu']\n",
    "for i in others:\n",
    "   lines.append(i+'\\n')  \n",
    "for i in range(1,pars['p_nw'][0]+pars['p_nr'][0]+1):\n",
    "   lines.append('beta'+str(i)+'\\n')       \n",
    "for i in range(1,pars['p_nw'][0]+1):\n",
    "   lines.append('gama'+str(i)+'\\n')      \n",
    "for i in range(1,pars['p_nw'][0]+1):\n",
    "   lines.append('x'+str(i)+'\\n')         \n",
    "for i in range(pars['a_n_b'][0]+1, pars['a_n_b'][0]+pars['a_n_p'][0]+ pars['a_n_es'][0]+pars['a_n_ls'][0]+1):\n",
    "   lines.append('gj'+str(i)+'\\n')      \n",
    "for i in range(pars['a_n_b'][0]+1, pars['a_n_b'][0]+pars['a_n_p'][0]+ pars['a_n_es'][0]+pars['a_n_ls'][0]+1):\n",
    "   lines.append('eta'+str(i)+'\\n')         \n",
    "others=['SSGe', 'SSGu']\n",
    "for i in others:\n",
    "   lines.append(i+'\\n')\n",
    "lines.append(';')  \n",
    "with open('t_parlist.m', 'w') as f:\n",
    "    f.writelines(lines)\n"
   ]
  }
 ],
 "metadata": {
  "kernelspec": {
   "display_name": "base",
   "language": "python",
   "name": "python3"
  },
  "language_info": {
   "codemirror_mode": {
    "name": "ipython",
    "version": 3
   },
   "file_extension": ".py",
   "mimetype": "text/x-python",
   "name": "python",
   "nbconvert_exporter": "python",
   "pygments_lexer": "ipython3",
   "version": "3.9.13"
  },
  "orig_nbformat": 4
 },
 "nbformat": 4,
 "nbformat_minor": 2
}
