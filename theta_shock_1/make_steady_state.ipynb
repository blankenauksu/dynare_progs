{
 "cells": [
  {
   "cell_type": "code",
   "execution_count": 1,
   "metadata": {},
   "outputs": [
    {
     "ename": "NameError",
     "evalue": "name 'n_goods' is not defined",
     "output_type": "error",
     "traceback": [
      "\u001b[1;31m---------------------------------------------------------------------------\u001b[0m",
      "\u001b[1;31mNameError\u001b[0m                                 Traceback (most recent call last)",
      "Cell \u001b[1;32mIn[1], line 56\u001b[0m\n\u001b[0;32m     53\u001b[0m         f\u001b[38;5;241m.\u001b[39mwrite(\u001b[38;5;124mf\u001b[39m\u001b[38;5;124m'\u001b[39m\u001b[38;5;124msteady;\u001b[39m\u001b[38;5;130;01m\\n\u001b[39;00m\u001b[38;5;124m'\u001b[39m)  \n\u001b[0;32m     55\u001b[0m \u001b[38;5;66;03m# Call the function\u001b[39;00m\n\u001b[1;32m---> 56\u001b[0m write_to_file(\u001b[38;5;124m'\u001b[39m\u001b[38;5;124mt_steady_state.m\u001b[39m\u001b[38;5;124m'\u001b[39m)\n",
      "Cell \u001b[1;32mIn[1], line 10\u001b[0m, in \u001b[0;36mwrite_to_file\u001b[1;34m(filename)\u001b[0m\n\u001b[0;32m      8\u001b[0m f\u001b[38;5;241m.\u001b[39mwrite(\u001b[38;5;124mf\u001b[39m\u001b[38;5;124m'\u001b[39m\u001b[38;5;130;01m\\n\u001b[39;00m\u001b[38;5;124m'\u001b[39m)\n\u001b[0;32m      9\u001b[0m f\u001b[38;5;241m.\u001b[39mwrite(\u001b[38;5;124m'\u001b[39m\u001b[38;5;124mXss=\u001b[39m\u001b[38;5;130;01m\\n\u001b[39;00m\u001b[38;5;124m'\u001b[39m)\n\u001b[1;32m---> 10\u001b[0m \u001b[38;5;28;01mfor\u001b[39;00m i \u001b[38;5;129;01min\u001b[39;00m \u001b[38;5;28mrange\u001b[39m(\u001b[38;5;241m0\u001b[39m, n_goods):\n\u001b[0;32m     11\u001b[0m     f\u001b[38;5;241m.\u001b[39mwrite(\u001b[38;5;124mf\u001b[39m\u001b[38;5;124m'\u001b[39m\u001b[38;5;124m(kso)^((theta_mean0-theta_mean\u001b[39m\u001b[38;5;132;01m{\u001b[39;00mi\u001b[38;5;132;01m}\u001b[39;00m\u001b[38;5;124m)*(1-eps))*(omega\u001b[39m\u001b[38;5;132;01m{\u001b[39;00mi\u001b[38;5;132;01m}\u001b[39;00m\u001b[38;5;124m/omega0)^eps* \u001b[39m\u001b[38;5;130;01m\\n\u001b[39;00m\u001b[38;5;124m'\u001b[39m)\n\u001b[0;32m     12\u001b[0m     f\u001b[38;5;241m.\u001b[39mwrite(\u001b[38;5;124mf\u001b[39m\u001b[38;5;124m'\u001b[39m\u001b[38;5;124m(exp(a_mean0)^(1-theta_mean0)/exp(a_mean\u001b[39m\u001b[38;5;132;01m{\u001b[39;00mi\u001b[38;5;132;01m}\u001b[39;00m\u001b[38;5;124m)^(1-theta_mean\u001b[39m\u001b[38;5;132;01m{\u001b[39;00mi\u001b[38;5;132;01m}\u001b[39;00m\u001b[38;5;124m)*(theta_mean0/theta_mean\u001b[39m\u001b[38;5;132;01m{\u001b[39;00mi\u001b[38;5;132;01m}\u001b[39;00m\u001b[38;5;124m)^theta_mean\u001b[39m\u001b[38;5;132;01m{\u001b[39;00mi\u001b[38;5;132;01m}\u001b[39;00m\u001b[38;5;124m*((1-theta_mean0)*(1-theta_mean\u001b[39m\u001b[38;5;132;01m{\u001b[39;00mi\u001b[38;5;132;01m}\u001b[39;00m\u001b[38;5;124m))^(1-theta_mean\u001b[39m\u001b[38;5;132;01m{\u001b[39;00mi\u001b[38;5;132;01m}\u001b[39;00m\u001b[38;5;124m))^(1-eps)\u001b[39m\u001b[38;5;130;01m\\n\u001b[39;00m\u001b[38;5;124m'\u001b[39m)\n",
      "\u001b[1;31mNameError\u001b[0m: name 'n_goods' is not defined"
     ]
    }
   ],
   "source": [
    "\n",
    "\n",
    "def write_to_file(filename):\n",
    "    with open(filename, 'w') as f:\n",
    "        f.write('steady_state_model;\\n')\n",
    "        \n",
    "        f.write(f'kso=(theta_mean0/(1/bet-1+delt))^(1/(1-theta_mean0));')\n",
    "        f.write(f'\\n')\n",
    "        f.write('x0ss=1;\\n')\n",
    "        f.write(f'\\n')\n",
    "        f.write('Xss=\\n')\n",
    "        for i in range(0, n_goods):\n",
    "            f.write(f'(kso)^((theta_mean0-theta_mean{i})*(1-eps))*(omega{i}/omega0)^eps* \\n')\n",
    "            f.write(f'(exp(a_mean0)^(1-theta_mean0)/exp(a_mean{i})^(1-theta_mean{i})*(theta_mean0/theta_mean{i})^theta_mean{i}*((1-theta_mean0)*(1-theta_mean{i}))^(1-theta_mean{i}))^(1-eps)\\n')\n",
    "            if i < n_goods-1:\n",
    "                f.write(f'+')               \n",
    "        f.write(';\\n')\n",
    "        f.write(f'\\n')\n",
    "        \n",
    "        f.write('Zss=\\n')\n",
    "        for i in range(0, n_goods):\n",
    "            f.write(f'theta_mean{i}*\\n')\n",
    "            f.write(f'(kso)^((theta_mean0-theta_mean{i})*(1-eps))*(omega{i}/omega0)^eps* \\n')\n",
    "            f.write(f'(exp(a_mean0)^(1-theta_mean0)/exp(a_mean{i})^(1-theta_mean{i})*(theta_mean0/theta_mean{i})^theta_mean{i}*((1-theta_mean0)*(1-theta_mean{i}))^(1-theta_mean{i}))^(1-eps)\\n')\n",
    "            if i < n_goods-1:\n",
    "                f.write(f'+')               \n",
    "        f.write(';\\n')\n",
    "        f.write(f'\\n')\n",
    "        \n",
    "        \n",
    "        \n",
    "        f.write(f'Qss=(Zss-theta_mean0*Xss)/Xss;\\n')\n",
    "        f.write(f'\\n')\n",
    "\n",
    "        f.write(f'coy=(1-bet*(1-delt)-bet*((1+gamman)*(1+gamma0)-(1-delt))*theta_mean0)/((1-bet*(1-delt)-bet*((1+gamman)*(1+gamma0)-(1-delt))*Qss));\\n')\n",
    "        f.write(f'\\n')\n",
    "        \n",
    "        f.write(f's0on0=theta_mean0/(1-theta_mean0)*((1-theta_mean0)-coy*Qss)/(theta_mean0+coy*Qss);\\n')\n",
    "        f.write(f'\\n')\n",
    "        \n",
    "        f.write(f'k=s0on0^(-1)*(theta_mean0/(1/bet-1+delt))^(1/(1-theta_mean0));\\n') \n",
    "        f.write(f'i=k*(1+gamman)*(1+gamma0)-(1-delt)*k;\\n')\n",
    "        f.write(f'n0=(1-theta_mean0)*(1-coy*(1-x0ss/Xss))/(1-theta_mean0-coy*Qss);\\n')\n",
    "        f.write(f'y=(k*s0on0)^theta_mean0*(1-theta_mean0-coy*Qss);\\n')\n",
    "        f.write(f'c=coy*y;\\n')\n",
    "        f.write(f'\\n')\n",
    "        for i in range(0, n_goods):\n",
    "            f.write(f'theta{i}=theta_mean{i};\\n')\n",
    "        for i in range(0, n_goods):\n",
    "            f.write(f'a{i}=a_mean{i};\\n')             \n",
    "        \n",
    "        f.write(f'\\n')\n",
    "        \n",
    "        f.write(f'end;\\n')  \n",
    "        f.write(f'steady;\\n')  \n",
    "           \n",
    "# Call the function\n",
    "write_to_file('t_steady_state.m')  "
   ]
  }
 ],
 "metadata": {
  "kernelspec": {
   "display_name": "Python 3",
   "language": "python",
   "name": "python3"
  },
  "language_info": {
   "codemirror_mode": {
    "name": "ipython",
    "version": 3
   },
   "file_extension": ".py",
   "mimetype": "text/x-python",
   "name": "python",
   "nbconvert_exporter": "python",
   "pygments_lexer": "ipython3",
   "version": "3.11.5"
  }
 },
 "nbformat": 4,
 "nbformat_minor": 2
}
