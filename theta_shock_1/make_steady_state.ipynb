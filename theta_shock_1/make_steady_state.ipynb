{
 "cells": [
  {
   "cell_type": "code",
   "execution_count": 3,
   "metadata": {},
   "outputs": [],
   "source": [
    "n_goods=9\n",
    "\n",
    "def write_to_file(filename):\n",
    "    with open(filename, 'w') as f:\n",
    "        f.write('steady_state_model;\\n')\n",
    "        \n",
    "        f.write(f'#kso=(theta_ss0/(1/beta-1+delta))^(1/(1-theta_ss0));')\n",
    "        f.write(f'\\n')\n",
    "        \n",
    "        f.write(f'\\n')\n",
    "        f.write('# X=\\n')\n",
    "        for i in range(0, n_goods):\n",
    "            f.write(f'(kso)^((theta_ss0-theta_ss{i})*(1-eps))*(omega{i}/omega0)^eps* \\n')\n",
    "            f.write(f'(exp(a_ss0)^(1-theta_ss0)/exp(a_ss{i})^(1-theta_ss{i})*(theta_ss0/theta_ss{i})^theta_ss{i}*((1-theta_ss0)*(1-theta_ss{i}))^(1-theta_ss{i}))^(1-eps);\\n')\n",
    "            if i < n_goods-1:\n",
    "                f.write(f'+')               \n",
    "        f.write(';\\n')\n",
    "        f.write(f'\\n')\n",
    "        \n",
    "        f.write('# Z=\\n')\n",
    "        for i in range(0, n_goods):\n",
    "            f.write(f'theta_ss{i}*\\n')\n",
    "            f.write(f'(kso)^((theta_ss0-theta_ss{i})*(1-eps))*(omega{i}/omega0)^eps* \\n')\n",
    "            f.write(f'(exp(a_ss0)^(1-theta_ss0)/exp(a_ss{i})^(1-theta_ss{i})*(theta_ss0/theta_ss{i})^theta_ss{i}*((1-theta_ss0)*(1-theta_ss{i}))^(1-theta_ss{i}))^(1-eps);\\n')\n",
    "            if i < n_goods-1:\n",
    "                f.write(f'+')               \n",
    "        f.write(';\\n')\n",
    "        f.write(f'\\n')\n",
    "        \n",
    "        f.write(f'#Q=(Z-theta0*X)/X;\\n')\n",
    "        f.write(f'\\n')\n",
    "\n",
    "        f.write(f'#cy=(1-beta*(1-delta)-beta*((1+gamman)*(1+gamma)-(1-delta))*theta0)/((1-beta*(1-delta)-beta*((1+gamman)*(1+gamma)-(1-delta))*Q));\\n')\n",
    "        f.write(f'\\n')\n",
    "        \n",
    "        f.write(f'#s0n0=theta0/(1-thet0)*((1-thet0)-cy*Q)(theta0+cy*Q)/;')\n",
    "        f.write(f'\\n')\n",
    "        \n",
    "        f.write(f'#k=s0n0^(-1)*(theta_ss0/(1/beta-1+delta))^(1/(1-theta_ss0));') \n",
    "        f.write(f'c_0=(s0*k)^theta0*(exp(a_0)*n0)^(1-theta0)-i-c0;')\n",
    "        f.write(f'\\n')\n",
    "\n",
    "        f.write(f'i=k*(1+gamma)*(1+gamm0)-(1-delta)k;')\n",
    "        f.write(f'\\n')\n",
    "    \n",
    "        f.write(f'n0=(1-theta0)*(1-c/y*(1-x0/X))/(1-thet0-c/y*Q);\\n')\n",
    "        f.write(f'\\n')\n",
    "                   \n",
    "        \n",
    "        \n",
    "        f.write(f'end;\\n')  \n",
    "        \n",
    "           \n",
    "# Call the function\n",
    "write_to_file('t_steady_state.m')  "
   ]
  },
  {
   "cell_type": "code",
   "execution_count": 10,
   "metadata": {},
   "outputs": [
    {
     "data": {
      "text/plain": [
       "['c',\n",
       " 'i',\n",
       " 'k',\n",
       " 'y',\n",
       " 'n0',\n",
       " 'theta0',\n",
       " 'theta1',\n",
       " 'theta2',\n",
       " 'theta3',\n",
       " 'theta4',\n",
       " 'theta5',\n",
       " 'theta6',\n",
       " 'theta7',\n",
       " 'theta8',\n",
       " 'a0',\n",
       " 'a1',\n",
       " 'a2',\n",
       " 'a3',\n",
       " 'a4',\n",
       " 'a5',\n",
       " 'a6',\n",
       " 'a7',\n",
       " 'a8']"
      ]
     },
     "execution_count": 10,
     "metadata": {},
     "output_type": "execute_result"
    }
   ],
   "source": [
    "vars = ['c', 'i', 'k', 'y', 'n0']\n",
    "vars.extend([f'theta{i}' for i in range(n_goods)])\n",
    "vars.extend([f'a{i}' for i in range(n_goods)])\n",
    "vars\n",
    "#params"
   ]
  },
  {
   "cell_type": "code",
   "execution_count": null,
   "metadata": {},
   "outputs": [],
   "source": []
  },
  {
   "cell_type": "code",
   "execution_count": 12,
   "metadata": {},
   "outputs": [],
   "source": [
    "with open('t_vars.m', 'w') as file:\n",
    "    file.write('var \\n')\n",
    "    for var in vars:\n",
    "        file.write(var+'\\n')\n",
    "    file.write(';')"
   ]
  },
  {
   "cell_type": "markdown",
   "metadata": {},
   "source": [
    "theta8shock"
   ]
  }
 ],
 "metadata": {
  "kernelspec": {
   "display_name": "Python 3",
   "language": "python",
   "name": "python3"
  },
  "language_info": {
   "codemirror_mode": {
    "name": "ipython",
    "version": 3
   },
   "file_extension": ".py",
   "mimetype": "text/x-python",
   "name": "python",
   "nbconvert_exporter": "python",
   "pygments_lexer": "ipython3",
   "version": "3.11.5"
  }
 },
 "nbformat": 4,
 "nbformat_minor": 2
}
