{
 "cells": [
  {
   "cell_type": "code",
   "execution_count": 1,
   "metadata": {},
   "outputs": [],
   "source": [
    "n_goods=9\n",
    "#steady state values of shocks\n",
    "theta_ss=.35\n",
    "a_ss=0\n",
    "\n",
    "#stochastic process for shocks\n",
    "theta_var=.01\n",
    "theta_rho=.9\n",
    "\n",
    "a_var=.01\n",
    "a_rho=.9"
   ]
  },
  {
   "cell_type": "code",
   "execution_count": 2,
   "metadata": {},
   "outputs": [],
   "source": [
    "params = {\n",
    "    'eps': .5,\n",
    "    'beta': .95,\n",
    "    'delta': .05\n",
    "}\n",
    "\n",
    "params.update({f'omega{i}': 1/n_goods for i in range(n_goods)})\n",
    "params.update({f'theta_var{i}': theta_var for i in range(n_goods)})\n",
    "params.update({f'theta_rho{i}': theta_rho for i in range(n_goods)})\n",
    "params.update({f'theta_ss{i}': theta_ss for i in range(n_goods)})\n",
    "params.update({f'a_var{i}': a_var for i in range(n_goods)})\n",
    "params.update({f'a_rho{i}': a_rho for i in range(n_goods)})\n",
    "params.update({f'a_ss{i}': a_ss for i in range(n_goods)})\n",
    "#params"
   ]
  },
  {
   "cell_type": "code",
   "execution_count": 3,
   "metadata": {},
   "outputs": [],
   "source": [
    "with open('t_parameters.m', 'w') as file:\n",
    "    file.write('parameters ')\n",
    "    file.write(','.join(f'{key}' for key in params))\n",
    "    file.write(';\\n\\n')\n",
    "    for key, value in params.items():\n",
    "        file.write(f'{key} = {value};\\n')\n"
   ]
  },
  {
   "cell_type": "code",
   "execution_count": 4,
   "metadata": {},
   "outputs": [],
   "source": [
    "shocks={}\n",
    "shocks.update({f'theta{i}shock': f'theta_var{i}' for i in range(n_goods)})\n",
    "shocks.update({f'a{i}shock': f'a_var{i}' for i in range(n_goods)})\n"
   ]
  },
  {
   "cell_type": "code",
   "execution_count": 5,
   "metadata": {},
   "outputs": [],
   "source": [
    "with open('t_shocks.m', 'w') as file:\n",
    "    file.write('shocks; \\n')\n",
    "    for key, value in shocks.items():\n",
    "        file.write(f'var {key} = {value};\\n')\n",
    "    file.write('end;')"
   ]
  }
 ],
 "metadata": {
  "kernelspec": {
   "display_name": "Python 3",
   "language": "python",
   "name": "python3"
  },
  "language_info": {
   "codemirror_mode": {
    "name": "ipython",
    "version": 3
   },
   "file_extension": ".py",
   "mimetype": "text/x-python",
   "name": "python",
   "nbconvert_exporter": "python",
   "pygments_lexer": "ipython3",
   "version": "3.11.5"
  }
 },
 "nbformat": 4,
 "nbformat_minor": 2
}
