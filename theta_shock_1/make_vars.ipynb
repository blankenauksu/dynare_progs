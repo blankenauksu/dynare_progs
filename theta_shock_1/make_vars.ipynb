{
 "cells": [
  {
   "cell_type": "code",
   "execution_count": 1,
   "metadata": {},
   "outputs": [],
   "source": [
    "n_goods=9"
   ]
  },
  {
   "cell_type": "code",
   "execution_count": 2,
   "metadata": {},
   "outputs": [
    {
     "data": {
      "text/plain": [
       "['c',\n",
       " 'i',\n",
       " 'k',\n",
       " 'y',\n",
       " 'n0',\n",
       " 'theta0',\n",
       " 'theta1',\n",
       " 'theta2',\n",
       " 'theta3',\n",
       " 'theta4',\n",
       " 'theta5',\n",
       " 'theta6',\n",
       " 'theta7',\n",
       " 'theta8',\n",
       " 'a0',\n",
       " 'a1',\n",
       " 'a2',\n",
       " 'a3',\n",
       " 'a4',\n",
       " 'a5',\n",
       " 'a6',\n",
       " 'a7',\n",
       " 'a8']"
      ]
     },
     "execution_count": 2,
     "metadata": {},
     "output_type": "execute_result"
    }
   ],
   "source": [
    "vars = ['c', 'i', 'k', 'y', 'n0']\n",
    "vars.extend([f'theta{i}' for i in range(n_goods)])\n",
    "vars.extend([f'a{i}' for i in range(n_goods)])\n",
    "vars\n",
    "#params"
   ]
  },
  {
   "cell_type": "code",
   "execution_count": 3,
   "metadata": {},
   "outputs": [
    {
     "data": {
      "text/plain": [
       "['theta0shock',\n",
       " 'theta1shock',\n",
       " 'theta2shock',\n",
       " 'theta3shock',\n",
       " 'theta4shock',\n",
       " 'theta5shock',\n",
       " 'theta6shock',\n",
       " 'theta7shock',\n",
       " 'theta8shock',\n",
       " 'a0shock',\n",
       " 'a1shock',\n",
       " 'a2shock',\n",
       " 'a3shock',\n",
       " 'a4shock',\n",
       " 'a5shock',\n",
       " 'a6shock',\n",
       " 'a7shock',\n",
       " 'a8shock']"
      ]
     },
     "execution_count": 3,
     "metadata": {},
     "output_type": "execute_result"
    }
   ],
   "source": [
    "varexo = []\n",
    "varexo.extend([f'theta{i}shock' for i in range(n_goods)])\n",
    "varexo.extend([f'a{i}shock' for i in range(n_goods)])\n",
    "varexo\n",
    "#params"
   ]
  },
  {
   "cell_type": "code",
   "execution_count": 4,
   "metadata": {},
   "outputs": [],
   "source": [
    "with open('t_vars.m', 'w') as file:\n",
    "    file.write('var \\n')\n",
    "    for var in vars:\n",
    "        file.write(var+'\\n')\n",
    "    file.write(';')\n",
    "    file.write('\\n')\n",
    "    file.write('varexo \\n')\n",
    "    for var in varexo:\n",
    "        file.write(var+'\\n')\n",
    "    file.write(';')"
   ]
  }
 ],
 "metadata": {
  "kernelspec": {
   "display_name": "Python 3",
   "language": "python",
   "name": "python3"
  },
  "language_info": {
   "codemirror_mode": {
    "name": "ipython",
    "version": 3
   },
   "file_extension": ".py",
   "mimetype": "text/x-python",
   "name": "python",
   "nbconvert_exporter": "python",
   "pygments_lexer": "ipython3",
   "version": "3.11.5"
  }
 },
 "nbformat": 4,
 "nbformat_minor": 2
}
