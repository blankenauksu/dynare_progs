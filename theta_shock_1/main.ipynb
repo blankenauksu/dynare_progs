{
 "cells": [
  {
   "cell_type": "code",
   "execution_count": 1,
   "id": "d963da46",
   "metadata": {},
   "outputs": [],
   "source": [
    "#!pip install --upgrade oct2py\n",
    "import numpy as np\n",
    "from oct2py import octave\n",
    "import matplotlib.pyplot as plt\n",
    "import os\n",
    "from scipy.optimize import root\n",
    "import pickle\n",
    "#octave.addpath('C:/dynare/6.1/matlab')  \n",
    "#octave.addpath('/opt/homebrew/opt/dynare/lib/dynare/matlab')"
   ]
  },
  {
   "cell_type": "code",
   "execution_count": 2,
   "id": "a9e3b82b",
   "metadata": {},
   "outputs": [],
   "source": [
    "#from MyPy import DyPy"
   ]
  },
  {
   "cell_type": "code",
   "execution_count": 2,
   "id": "f2fe4306",
   "metadata": {},
   "outputs": [],
   "source": [
    "with open('t_call.m', 'w') as file:\n",
    "    file.write(\"stoch_simul(nograph, order=1, periods=1000, irf=100);\")"
   ]
  },
  {
   "cell_type": "code",
   "execution_count": 3,
   "id": "eff43076",
   "metadata": {},
   "outputs": [],
   "source": [
    "%run make_model.ipynb\n",
    "%run make_vars.ipynb\n",
    "%run make_parameters_and_shocks.ipynb\n",
    "%run make_steady_state.ipynb\n"
   ]
  },
  {
   "cell_type": "markdown",
   "id": "59d8332f",
   "metadata": {},
   "source": [
    "Tells octave where to find the .m file it will run. The file is `call_dynare`. Set to wherever you have this file. \n",
    "\n",
    "\n"
   ]
  },
  {
   "cell_type": "code",
   "execution_count": 6,
   "id": "302dd812",
   "metadata": {},
   "outputs": [],
   "source": [
    "#a=octave.addpath(os.path.expanduser('C:/Users/blankenw/GitHub/dynare_progs/np_1'))"
   ]
  },
  {
   "cell_type": "markdown",
   "id": "4df08aa0",
   "metadata": {},
   "source": [
    "Makes a call to Octave, which makes a call to Dynare. Then the `.mod` file is run in Dynare. Output from Dynare is displayed as it runs."
   ]
  },
  {
   "cell_type": "code",
   "execution_count": 4,
   "id": "9834c245",
   "metadata": {},
   "outputs": [
    {
     "ename": "Oct2PyError",
     "evalue": "Value \"dynare\" does not exist in Octave workspace",
     "output_type": "error",
     "traceback": [
      "\u001b[1;31m---------------------------------------------------------------------------\u001b[0m",
      "\u001b[1;31mOct2PyError\u001b[0m                               Traceback (most recent call last)",
      "Cell \u001b[1;32mIn[4], line 1\u001b[0m\n\u001b[1;32m----> 1\u001b[0m octave\u001b[38;5;241m.\u001b[39mdynare(\u001b[38;5;124m'\u001b[39m\u001b[38;5;124mmodel_1.mod\u001b[39m\u001b[38;5;124m'\u001b[39m)\n\u001b[0;32m      2\u001b[0m oo \u001b[38;5;241m=\u001b[39m octave\u001b[38;5;241m.\u001b[39mpull(\u001b[38;5;124m'\u001b[39m\u001b[38;5;124moo_\u001b[39m\u001b[38;5;124m'\u001b[39m)\n\u001b[0;32m      3\u001b[0m M_ \u001b[38;5;241m=\u001b[39m octave\u001b[38;5;241m.\u001b[39mpull(\u001b[38;5;124m'\u001b[39m\u001b[38;5;124mM_\u001b[39m\u001b[38;5;124m'\u001b[39m)\n",
      "File \u001b[1;32mc:\\Users\\blankenw\\AppData\\Local\\anaconda3\\Lib\\site-packages\\oct2py\\core.py:820\u001b[0m, in \u001b[0;36mOct2Py.__getattr__\u001b[1;34m(self, attr)\u001b[0m\n\u001b[0;32m    817\u001b[0m     \u001b[38;5;28;01mraise\u001b[39;00m Oct2PyError(msg)\n\u001b[0;32m    819\u001b[0m \u001b[38;5;66;03m# Make sure the name exists.\u001b[39;00m\n\u001b[1;32m--> 820\u001b[0m exist \u001b[38;5;241m=\u001b[39m \u001b[38;5;28mself\u001b[39m\u001b[38;5;241m.\u001b[39m_exist(name)\n\u001b[0;32m    822\u001b[0m \u001b[38;5;28;01mif\u001b[39;00m exist \u001b[38;5;129;01mnot\u001b[39;00m \u001b[38;5;129;01min\u001b[39;00m [\u001b[38;5;241m2\u001b[39m, \u001b[38;5;241m3\u001b[39m, \u001b[38;5;241m5\u001b[39m, \u001b[38;5;241m103\u001b[39m]:\n\u001b[0;32m    823\u001b[0m     msg \u001b[38;5;241m=\u001b[39m \u001b[38;5;124m'\u001b[39m\u001b[38;5;124mName \u001b[39m\u001b[38;5;124m\"\u001b[39m\u001b[38;5;132;01m%s\u001b[39;00m\u001b[38;5;124m\"\u001b[39m\u001b[38;5;124m is not a valid callable, use `pull` for variables\u001b[39m\u001b[38;5;124m'\u001b[39m\n",
      "File \u001b[1;32mc:\\Users\\blankenw\\AppData\\Local\\anaconda3\\Lib\\site-packages\\oct2py\\core.py:776\u001b[0m, in \u001b[0;36mOct2Py._exist\u001b[1;34m(self, name)\u001b[0m\n\u001b[0;32m    774\u001b[0m \u001b[38;5;28;01mif\u001b[39;00m \u001b[38;5;124m\"\u001b[39m\u001b[38;5;124merror:\u001b[39m\u001b[38;5;124m\"\u001b[39m \u001b[38;5;129;01min\u001b[39;00m resp:\n\u001b[0;32m    775\u001b[0m     msg \u001b[38;5;241m=\u001b[39m \u001b[38;5;124m'\u001b[39m\u001b[38;5;124mValue \u001b[39m\u001b[38;5;124m\"\u001b[39m\u001b[38;5;132;01m%s\u001b[39;00m\u001b[38;5;124m\"\u001b[39m\u001b[38;5;124m does not exist in Octave workspace\u001b[39m\u001b[38;5;124m'\u001b[39m\n\u001b[1;32m--> 776\u001b[0m     \u001b[38;5;28;01mraise\u001b[39;00m Oct2PyError(msg \u001b[38;5;241m%\u001b[39m name)\n\u001b[0;32m    777\u001b[0m \u001b[38;5;28;01melse\u001b[39;00m:\n\u001b[0;32m    778\u001b[0m     exist \u001b[38;5;241m=\u001b[39m \u001b[38;5;241m2\u001b[39m\n",
      "\u001b[1;31mOct2PyError\u001b[0m: Value \"dynare\" does not exist in Octave workspace"
     ]
    }
   ],
   "source": [
    "octave.dynare('model_1.mod')\n",
    "oo = octave.pull('oo_')\n",
    "M_ = octave.pull('M_')"
   ]
  }
 ],
 "metadata": {
  "kernelspec": {
   "display_name": "base",
   "language": "python",
   "name": "python3"
  },
  "language_info": {
   "codemirror_mode": {
    "name": "ipython",
    "version": 3
   },
   "file_extension": ".py",
   "mimetype": "text/x-python",
   "name": "python",
   "nbconvert_exporter": "python",
   "pygments_lexer": "ipython3",
   "version": "3.11.5"
  }
 },
 "nbformat": 4,
 "nbformat_minor": 5
}
