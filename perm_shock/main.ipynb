{
 "cells": [
  {
   "cell_type": "markdown",
   "id": "d2448c1b",
   "metadata": {},
   "source": []
  },
  {
   "cell_type": "markdown",
   "id": "4fd732cf",
   "metadata": {},
   "source": [
    "This imports needed libraries and sets the path so that Octave can find Dynare. "
   ]
  },
  {
   "cell_type": "code",
   "execution_count": null,
   "id": "d963da46",
   "metadata": {},
   "outputs": [],
   "source": [
    "#!pip install --upgrade oct2py\n",
    "import numpy as np\n",
    "from oct2py import octave\n",
    "import matplotlib.pyplot as plt\n",
    "import os\n",
    "from scipy.optimize import root\n",
    "import pickle\n",
    "octave.addpath('C:/dynare/6.1/matlab')\n",
    "#octave.addpath(os.path.expanduser('C:/Users/blankenw/GitHub/dynare_progs/np_1'))"
   ]
  },
  {
   "cell_type": "markdown",
   "id": "037b954e",
   "metadata": {},
   "source": [
    "Declare \n",
    "* Which variable will be permanently changed\n",
    "* What the new value will be\n",
    "* How many periods to track "
   ]
  },
  {
   "cell_type": "code",
   "execution_count": null,
   "id": "73224cb2",
   "metadata": {},
   "outputs": [],
   "source": [
    "var_change='a_0'\n",
    "var_change_val=.4\n",
    "periods=200"
   ]
  },
  {
   "cell_type": "markdown",
   "id": "09d6d170",
   "metadata": {},
   "source": [
    "`DyPy` is a class that we create and store in a file called `MyPy.py`. It will be used to create instances of a class called DyPy. "
   ]
  },
  {
   "cell_type": "code",
   "execution_count": null,
   "id": "a9e3b82b",
   "metadata": {},
   "outputs": [],
   "source": [
    "from MyPy import DyPy"
   ]
  },
  {
   "cell_type": "markdown",
   "id": "bca86bb9",
   "metadata": {},
   "source": [
    "Creates a file called `t_call.m`. This containts information on the function called in Dynare.  It is included in the `.mod` file via: `@#include \"t_call.m\"` in `model_1.mod`"
   ]
  },
  {
   "cell_type": "code",
   "execution_count": null,
   "id": "e6f43363",
   "metadata": {},
   "outputs": [],
   "source": [
    "with open('t_call.m', 'w') as file:\n",
    "    file.write(f\"perfect_foresight_setup(periods={periods},endval_steady);\\n\")\n",
    "    file.write(\"perfect_foresight_solver(print);\\n\")"
   ]
  },
  {
   "cell_type": "markdown",
   "id": "7e4aaad7",
   "metadata": {},
   "source": [
    " `make_model.ipyn` writes a file called `t_model.m`. `t_model.m`is the `model` block in the Dynare `.mod` file.  The created file is included in the `.mod` file via `@#include \"t_model.m\"` in `model_1.mod`. "
   ]
  },
  {
   "cell_type": "code",
   "execution_count": null,
   "id": "eff43076",
   "metadata": {},
   "outputs": [],
   "source": [
    "%run make_model.ipynb"
   ]
  },
  {
   "cell_type": "markdown",
   "id": "40f63e8b",
   "metadata": {},
   "source": [
    "`make_files_1.ipynb` creates dictionaries of parameters and piclkes them for use in `make_files_2`. The pickeling is needed in order to be able to run `make_files_2` as a stand-alone program (rather than calling `main`) which is done often in development. Items in `make_files_1` are set only once in running `main`. The only exception is the paramter with the permanent shock. Items in `makefiles_2` are updated as we go through the three cases of 1) no adjusment costs 1) labor adjusment costs 3) capital adjustment costs."
   ]
  },
  {
   "cell_type": "code",
   "execution_count": null,
   "id": "b6037324",
   "metadata": {},
   "outputs": [],
   "source": [
    "%run make_files_1.ipynb"
   ]
  },
  {
   "cell_type": "markdown",
   "id": "d796cfd1",
   "metadata": {},
   "source": [
    "List of dictionaries that will be used to iterate through the three cases of 1) no adjusment costs 1) labor adjusment costs 3) capital adjustment costs. "
   ]
  },
  {
   "cell_type": "code",
   "execution_count": null,
   "id": "0c275248",
   "metadata": {},
   "outputs": [],
   "source": [
    "new_pars = [{'psi_n': 0, 'psi_k': 0}, \n",
    "           {'psi_n': 2, 'psi_k': 0}, \n",
    "           {'psi_n': 0, 'psi_k': 2}]\n"
   ]
  },
  {
   "cell_type": "markdown",
   "id": "612f1b5e",
   "metadata": {},
   "source": [
    "Will contain a list of the instances of DyPy. "
   ]
  },
  {
   "cell_type": "code",
   "execution_count": null,
   "id": "3fbf809f",
   "metadata": {},
   "outputs": [],
   "source": [
    "t=[]"
   ]
  },
  {
   "cell_type": "markdown",
   "id": "4df08aa0",
   "metadata": {},
   "source": [
    "Makes a call to Octave, which makes a call to Dynare. Then the `.mod` file is run in Dynare. Output from Dynare is displayed as it runs."
   ]
  },
  {
   "cell_type": "markdown",
   "id": "b0241bbd",
   "metadata": {},
   "source": [
    "This iterates through through the three cases of 1) no adjusment costs 1) labor adjusment costs 3) capital adjustment costs. \n",
    "* updates the parameters distionary with a dictionary from the list new_pars.\n",
    "* pickels results for use in `make_files2`.\n",
    "* `octave.dynare` is using `oct2py` to called dynare via Octave, since Python cannot interact directly with Dynare.\n",
    "* Pulls the main output file `oo_` from Octave to current memory. \n",
    "* Pull and auxilery file `M_` to current memory\n",
    "* Renames the simulation data from `oo`\n",
    "* Renames the set of names from `M_` file. Note #M_['endo_names'] is a cell object and each item in this cell is a cell. We need to pull out the first item in each sub-list.\n",
    "* Creates an instance of DyPy. This makes items in `endo_simul` into attributes of t[0] (or t[1], or t[2]). Now, for example, t[0].n_0 is available. Attribute for each endogenous item. \n",
    "* Appends the current instance of t."
   ]
  },
  {
   "cell_type": "code",
   "execution_count": null,
   "id": "5e4bdc3f",
   "metadata": {},
   "outputs": [],
   "source": [
    "\n",
    "for i, update in enumerate(new_pars):\n",
    "    model_params.update(update)\n",
    "    with open('mf1.pkl', 'wb') as f:\n",
    "        pickle.dump((ss_params,model_params,ss_shock), f)\n",
    "    %run make_files_2.ipynb\n",
    "    with open('mf2.pkl', 'rb') as f:\n",
    "        ss_dict = pickle.load(f)\n",
    "    octave.dynare('model_1.mod')\n",
    "    oo = octave.pull('oo_')\n",
    "    M_ = octave.pull('M_')\n",
    "    endo_simul = oo['endo_simul']\n",
    "    endo_names = [item[0] for item in M_['endo_names']] \n",
    "    instance=DyPy(endo_simul,endo_names)\n",
    "    t.append(instance)  \n",
    "    "
   ]
  },
  {
   "cell_type": "markdown",
   "id": "eb848fef",
   "metadata": {},
   "source": [
    "Creates additional data from the fields (method attributes) above. "
   ]
  },
  {
   "cell_type": "code",
   "execution_count": null,
   "id": "49a3b838",
   "metadata": {},
   "outputs": [],
   "source": [
    "for instance in t:\n",
    "    \n",
    "    instance.ns_0 = instance.n_0/instance.s_0\n",
    "    instance.ns_1 = instance.n_1/instance.s_1\n",
    "    instance.ns_2 = instance.n_2/instance.s_2\n",
    "    instance.y_0 = instance.c_0+instance.i\n",
    "    "
   ]
  },
  {
   "cell_type": "markdown",
   "id": "b6425745",
   "metadata": {},
   "source": [
    "The function called from plotting. "
   ]
  },
  {
   "cell_type": "code",
   "execution_count": null,
   "id": "50855595",
   "metadata": {},
   "outputs": [],
   "source": [
    "def plot_dta(instances, attributes,periods=100):    # takes a list of instances and a list of attributes to plot. Instance are t[0], t[1], and t[2]. `attributes` is a list of attributes such a 'c_0', 'c_1', c_2.\n",
    "    plt.figure(figsize=(15, 5))                     # sets the size of the figure that will contain the subplots.              \n",
    "    for j, attribute in enumerate(attributes):      # iterates over the attributes to plot.\n",
    "        # Create a subplot for this attribute\n",
    "        plt.subplot(1, len(attributes), j+1)        # creates a subplot for each attribute in the list `attributes`.\n",
    "        for i, instance in enumerate(instances):    # iterates over the instances to plot.\n",
    "            \n",
    "            attr_value = getattr(instance, attribute) # gets the attribute value for the attribute in the list `attributes` given the current instance.\n",
    "            attr_value = attr_value.reshape(-1, 1)      # reshapes the attribute value to a column vector.\n",
    "            length = attr_value.shape[0]\n",
    "            tm = np.linspace(1, length, length)     # creates a time vector for the attribute value.\n",
    "            # Add a line to the plot for this time series\n",
    "            plt.plot(tm[0:periods], attr_value[0:periods], label=labels[i]) # plots the attribute value for for the instance.\n",
    "\n",
    "        plt.title(attribute)                    # sets the title of the subplot to the attribute name.\n",
    "        plt.legend()                            # adds a legend to the subplot.\n",
    "\n",
    "    # Show the figure with all subplots"
   ]
  },
  {
   "cell_type": "code",
   "execution_count": null,
   "id": "8a8d49db",
   "metadata": {},
   "outputs": [],
   "source": [
    "labels = ['No adjustment cost', 'Adjustment cost on labor', 'Adjustment cost on capital']\n",
    "\n",
    "all_attributes =[['c_0', 'c_1', 'c_2'],\n",
    "                    ['n_0', 'n_1', 'n_2'],\n",
    "                    ['s_0', 's_1', 's_2'],\n",
    "                    ['ns_0', 'ns_1', 'ns_2'],\n",
    "                    ['k_0', 'k_1', 'k_2'],\n",
    "                    ['k', 'i'],\n",
    "                   \n",
    "                     ]\n",
    "for attributes in all_attributes:       # iterates over the list of attributes to plot.\n",
    "    plot_dta(t, attributes,periods=40)\n",
    "    plt.tight_layout()\n",
    "    plt.show()                  \n"
   ]
  },
  {
   "cell_type": "code",
   "execution_count": null,
   "id": "14d07bca",
   "metadata": {},
   "outputs": [],
   "source": [
    "oo"
   ]
  },
  {
   "cell_type": "code",
   "execution_count": null,
   "id": "05e462e5",
   "metadata": {},
   "outputs": [],
   "source": [
    "oo"
   ]
  },
  {
   "cell_type": "code",
   "execution_count": null,
   "id": "025a35a1",
   "metadata": {},
   "outputs": [],
   "source": [
    "oo"
   ]
  }
 ],
 "metadata": {
  "kernelspec": {
   "display_name": "base",
   "language": "python",
   "name": "python3"
  },
  "language_info": {
   "codemirror_mode": {
    "name": "ipython",
    "version": 3
   },
   "file_extension": ".py",
   "mimetype": "text/x-python",
   "name": "python",
   "nbconvert_exporter": "python",
   "pygments_lexer": "ipython3",
   "version": "3.11.5"
  }
 },
 "nbformat": 4,
 "nbformat_minor": 5
}
