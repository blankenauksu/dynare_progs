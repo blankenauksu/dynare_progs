{
 "cells": [
  {
   "cell_type": "code",
   "execution_count": 1,
   "id": "d963da46",
   "metadata": {},
   "outputs": [
    {
     "name": "stdout",
     "output_type": "stream",
     "text": [
      "octave not found, please see README\n"
     ]
    },
    {
     "ename": "ImportError",
     "evalue": "cannot import name 'octave' from 'oct2py' (C:\\Users\\blankenw\\AppData\\Roaming\\Python\\Python311\\site-packages\\oct2py\\__init__.py)",
     "output_type": "error",
     "traceback": [
      "\u001b[1;31m---------------------------------------------------------------------------\u001b[0m",
      "\u001b[1;31mImportError\u001b[0m                               Traceback (most recent call last)",
      "Cell \u001b[1;32mIn[1], line 3\u001b[0m\n\u001b[0;32m      1\u001b[0m \u001b[38;5;66;03m#!pip install --upgrade oct2py\u001b[39;00m\n\u001b[0;32m      2\u001b[0m \u001b[38;5;28;01mimport\u001b[39;00m \u001b[38;5;21;01mnumpy\u001b[39;00m \u001b[38;5;28;01mas\u001b[39;00m \u001b[38;5;21;01mnp\u001b[39;00m\n\u001b[1;32m----> 3\u001b[0m \u001b[38;5;28;01mfrom\u001b[39;00m \u001b[38;5;21;01moct2py\u001b[39;00m \u001b[38;5;28;01mimport\u001b[39;00m octave\n\u001b[0;32m      4\u001b[0m \u001b[38;5;28;01mimport\u001b[39;00m \u001b[38;5;21;01mmatplotlib\u001b[39;00m\u001b[38;5;21;01m.\u001b[39;00m\u001b[38;5;21;01mpyplot\u001b[39;00m \u001b[38;5;28;01mas\u001b[39;00m \u001b[38;5;21;01mplt\u001b[39;00m\n\u001b[0;32m      5\u001b[0m \u001b[38;5;28;01mimport\u001b[39;00m \u001b[38;5;21;01mos\u001b[39;00m\n",
      "\u001b[1;31mImportError\u001b[0m: cannot import name 'octave' from 'oct2py' (C:\\Users\\blankenw\\AppData\\Roaming\\Python\\Python311\\site-packages\\oct2py\\__init__.py)"
     ]
    }
   ],
   "source": [
    "#!pip install --upgrade oct2py\n",
    "import numpy as np\n",
    "from oct2py import octave\n",
    "import matplotlib.pyplot as plt\n",
    "import os\n",
    "from scipy.optimize import root\n",
    "import pickle"
   ]
  },
  {
   "cell_type": "markdown",
   "id": "09d6d170",
   "metadata": {},
   "source": [
    "`DyPy` is a class that we create and store in a file called `MyPy.py`. It contains methods for \n",
    "\n",
    "* converting data from a Dynare stucture to Numpy arrays.\n",
    "* analyzing the data. \n",
    "\n",
    "See the file for details. "
   ]
  },
  {
   "cell_type": "code",
   "execution_count": null,
   "id": "a9e3b82b",
   "metadata": {},
   "outputs": [],
   "source": [
    "from MyPy import DyPy"
   ]
  },
  {
   "cell_type": "markdown",
   "id": "bca86bb9",
   "metadata": {},
   "source": [
    "Creates a file called `t_call.m`. This informs Dynare of the format we want for output. It is put here so that adjusments can be made easily; for example the number of periods can be changed here rather than by looking at the `.mod` file. It is included in the `.mod` file via: `@#include \"t_call.m\"` in `model_1.mod`\n",
    "\n",
    "* `order`: the order of approximation for the stochastic simulation. order=1 is a fsrst-order approximation (linearization) Higher-order approximations (e.g., order=2 for second-order) capture nonlinear effects in the model, but they require more computational resources.\n",
    "* `periods`: number of periods (time steps) for which the simulation will be run. periods=1000 means that the model will be simulated for 1000 periods. The default value is 0, which means no simulation will be performed.\n",
    "* `nograph`: suppresses the graphical output of the simulation results in Dynare since we draw them separatetly. \n",
    "* `irf`: the number of periods for which the impulse response functions (IRFs) will be computed and plotted. "
   ]
  },
  {
   "cell_type": "code",
   "execution_count": null,
   "id": "f2fe4306",
   "metadata": {},
   "outputs": [],
   "source": [
    "with open('t_call.m', 'w') as file:\n",
    "    file.write(\"stoch_simul(nograph, order=1, periods=1000, irf=100);\")"
   ]
  },
  {
   "cell_type": "markdown",
   "id": "7e4aaad7",
   "metadata": {},
   "source": [
    " `make_model.ipyn` writes a file called `t_model.m`. `t_model.m`is the `model` block in the Dynare `.mod` file. It can instead be created directlty by commenting out the next `%run` line and coding the model. `make_model.ipyn` simplifies model creation when many of the lines are very similar to each other. Then they can be written in for loops. For the model we are currently working with, there is not much advantage to writing the file via `make_model` but I have done so nonetheless. \n",
    " \n",
    " The created file is included in the `.mod` file via `@#include \"t_model.m\"` in `model_1.mod`. "
   ]
  },
  {
   "cell_type": "code",
   "execution_count": null,
   "id": "eff43076",
   "metadata": {},
   "outputs": [],
   "source": [
    "%run make_model_4-trash.ipynb"
   ]
  },
  {
   "cell_type": "markdown",
   "id": "40f63e8b",
   "metadata": {},
   "source": [
    "`make_files.ipynb` writes the other Dynare blocks. See that file for details. However, note that in doing so, it solves for the steady state of the model using `root` from `scipy`. If the results below do not indicate success, the `.mod` file may not run correctly. Also, note that though we solve for the steady state here, we do not give Dynare the steady state but rather use these as starting values for their ss solver. I will later code a verification the steady states are the same. "
   ]
  },
  {
   "cell_type": "code",
   "execution_count": null,
   "id": "b6037324",
   "metadata": {},
   "outputs": [],
   "source": [
    "%run make_files_1.ipynb"
   ]
  },
  {
   "cell_type": "markdown",
   "id": "59d8332f",
   "metadata": {},
   "source": [
    "Tells octave where to find the .m file it will run. The file is `call_dynare`. Set to wherever you have this file. \n",
    "\n",
    "\n"
   ]
  },
  {
   "cell_type": "code",
   "execution_count": null,
   "id": "302dd812",
   "metadata": {},
   "outputs": [],
   "source": [
    "#a=octave.addpath(os.path.expanduser('C:/Users/blankenw/GitHub/dynare_progs/np_1'))"
   ]
  },
  {
   "cell_type": "markdown",
   "id": "4df08aa0",
   "metadata": {},
   "source": [
    "Makes a call to Octave, which makes a call to Dynare. Then the `.mod` file is run in Dynare. Output from Dynare is displayed as it runs."
   ]
  },
  {
   "cell_type": "code",
   "execution_count": null,
   "id": "5e4bdc3f",
   "metadata": {},
   "outputs": [],
   "source": [
    "\n",
    "# A list of dictionaries representing updates to apply to my_dict:\n",
    "new_pars = [{'psi_n': 0, 'psi_k': 0}, \n",
    "           {'psi_n': 0, 'psi_k': 0}, \n",
    "           {'psi_n': 0, 'psi_k': 0}]\n",
    "\n",
    "# Create an empty dictionary to store your variables\n",
    "t=[]\n",
    "with open('mf1.pkl', 'wb') as f:\n",
    "    pickle.dump((ss_params,model_params,ss_shock), f)\n",
    "\n",
    "\n",
    "for i, update in enumerate(new_pars):\n",
    "    model_params.update(update)\n",
    "    with open('mf1.pkl', 'wb') as f:\n",
    "        pickle.dump((ss_params,model_params,ss_shock), f)\n",
    "    %run make_files_2.ipynb\n",
    "    with open('mf2.pkl', 'rb') as f:\n",
    "        ss_dict = pickle.load(f)\n",
    "    #from MyPy import DyPy\n",
    "    y=1\n",
    "    x=octave.call_dynare(y,nout=1)\n",
    "    oo = octave.pull('oo_') \n",
    "    instance = DyPy(oo,ss_dict)\n",
    "    \n",
    "    t.append(instance)\n"
   ]
  },
  {
   "cell_type": "markdown",
   "id": "531543fe",
   "metadata": {},
   "source": [
    "Dynare creates a `structure` which we will need so we `pull` it."
   ]
  },
  {
   "cell_type": "markdown",
   "id": "1a99fe40",
   "metadata": {},
   "source": [
    "The output from Dynare is stored in a file called `oo_`. This brings `oo_` in as `oo`."
   ]
  },
  {
   "cell_type": "markdown",
   "id": "c3a9a75e",
   "metadata": {},
   "source": [
    "Draw all impulse response functions. "
   ]
  },
  {
   "cell_type": "code",
   "execution_count": null,
   "id": "29ffe9db",
   "metadata": {},
   "outputs": [],
   "source": [
    "def plot_dta(instances, attributes,periods=100):\n",
    "    plt.figure(figsize=(15, 5))\n",
    "    for j, attribute in enumerate(attributes):\n",
    "        # Create a subplot for this attribute\n",
    "        plt.subplot(1, len(attributes), j+1)\n",
    "        for i, instance in enumerate(instances):\n",
    "            # Get the attribute value (time series data)\n",
    "            attr_value = getattr(instance.ir_level, attribute)\n",
    "            attr_value = attr_value.reshape(-1, 1)\n",
    "            length = attr_value.shape[0]\n",
    "            tm = np.linspace(1, length, length)\n",
    "            # Add a line to the plot for this time series\n",
    "            plt.plot(tm[0:periods], attr_value[0:periods], label=labels[i])\n",
    "\n",
    "        plt.title(attribute)\n",
    "        plt.legend()\n",
    "\n",
    "    # Show the figure with all subplots\n"
   ]
  },
  {
   "cell_type": "code",
   "execution_count": null,
   "id": "90487be4",
   "metadata": {},
   "outputs": [],
   "source": [
    "n00=[]\n",
    "s00=[]\n",
    "for instance in t:\n",
    "    n00.append(instance.ir_level.n_0_a_0)\n",
    "    s00.append(instance.ir_level.s_0_a_0)\n",
    "    "
   ]
  },
  {
   "cell_type": "code",
   "execution_count": null,
   "id": "b7c7cf28",
   "metadata": {},
   "outputs": [],
   "source": [
    "n0=t[1].ir_level.n_0_a_0\n",
    "s0=t[1].ir_level.s_0_a_0\n",
    "c0=t[1].ir_level.c_0_a_0\n",
    "newstuff=n0/s0\n",
    "t[1].ir_level.nstuff=newstuff\n"
   ]
  },
  {
   "cell_type": "code",
   "execution_count": null,
   "id": "1535474e",
   "metadata": {},
   "outputs": [],
   "source": [
    "for instance in t:\n",
    "    #loop through the instances and create an attribute for each\n",
    "    instance.ir_level.ns0_a0 = instance.ir_level.n_0_a_0/instance.ir_level.s_0_a_0\n",
    "    instance.ir_level.ns1_a0 = instance.ir_level.n_1_a_0/instance.ir_level.s_1_a_0\n",
    "    instance.ir_level.ns2_a0 = instance.ir_level.n_2_a_0/instance.ir_level.s_2_a_0\n",
    "    \n",
    "    instance.ir_level.ns0_a1 = instance.ir_level.n_0_a_1/instance.ir_level.s_0_a_1\n",
    "    instance.ir_level.ns1_a1 = instance.ir_level.n_1_a_1/instance.ir_level.s_1_a_1\n",
    "    instance.ir_level.ns2_a1 = instance.ir_level.n_2_a_1/instance.ir_level.s_2_a_1\n",
    "    \n",
    "    instance.ir_level.kn0_a1 = instance.ir_level.k_0_a_1/instance.ir_level.n_0_a_1\n",
    "    instance.ir_level.kn1_a1 = instance.ir_level.k_1_a_1/instance.ir_level.n_1_a_1\n",
    "    instance.ir_level.kn2_a1 = instance.ir_level.k_2_a_1/instance.ir_level.n_2_a_1\n",
    "    \n",
    "    "
   ]
  },
  {
   "cell_type": "code",
   "execution_count": null,
   "id": "249c538e",
   "metadata": {},
   "outputs": [],
   "source": [
    "labels = ['No adjustment cost', 'Adjustment cost on labor', 'Adjustment cost on capital']\n",
    "\n",
    "all_attributes =[['k_0_a_0', 'k_1_a_0', 'k_2_a_0'],\n",
    "                ['n_ _a_0', 'n_1_a_0', 'n_2_a_0'],\n",
    "                 ['s_0_a_0', 's_1_a_0', 's_2_a_0'],\n",
    "                 ['k_a_0', 'i_a_0'],\n",
    "                    ['k_0_a_1', 'k_1_a_1', 'k_2_a_1'],\n",
    "                    ['c_0_a_1', 'c_1_a_1', 'c_2_a_1'],\n",
    "                    ['k_a_1', 'i_a_1'],\n",
    "                    ['k_0_a_2', 'k_1_a_2', 'k_2_a_2'],\n",
    "                    ['c_0_a_2', 'c_1_a_2', 'c_2_a_2'],\n",
    "                    ['k_a_2', 'i_a_2'],\n",
    "                    ['ns0_a0', 'ns1_a0', 'ns2_a0'],\n",
    "                    ['ns0_a1', 'ns1_a1', 'ns2_a1'],\n",
    "                    ['kn0_a1', 'kn1_a1', 'kn2_a1'],\n",
    "                     ]\n",
    "for attributes in all_attributes:\n",
    "    plot_dta(t, attributes,periods=10)\n",
    "    plt.tight_layout()\n",
    "    plt.show()                  \n",
    "\n"
   ]
  }
 ],
 "metadata": {
  "kernelspec": {
   "display_name": "base",
   "language": "python",
   "name": "python3"
  },
  "language_info": {
   "codemirror_mode": {
    "name": "ipython",
    "version": 3
   },
   "file_extension": ".py",
   "mimetype": "text/x-python",
   "name": "python",
   "nbconvert_exporter": "python",
   "pygments_lexer": "ipython3",
   "version": "3.11.5"
  }
 },
 "nbformat": 4,
 "nbformat_minor": 5
}
