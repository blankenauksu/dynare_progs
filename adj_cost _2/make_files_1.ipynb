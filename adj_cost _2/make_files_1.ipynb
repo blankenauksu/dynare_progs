{
 "cells": [
  {
   "cell_type": "code",
   "execution_count": 1,
   "metadata": {},
   "outputs": [],
   "source": [
    "from scipy.optimize import root\n",
    "import numpy as np\n",
    "import pickle"
   ]
  },
  {
   "cell_type": "code",
   "execution_count": 2,
   "metadata": {},
   "outputs": [],
   "source": [
    "params = {\n",
    "    'eps': .5,\n",
    "    'tht': 1,\n",
    "    'alf': .5,\n",
    "    'bet': .9,\n",
    "    'om_0': 1,\n",
    "    'om_1': 1,\n",
    "    'om_2': 1,\n",
    "    'delt': .05,\n",
    "    'psi_n': 0,\n",
    "    'psi_k': 0\n",
    "}\n",
    "\n"
   ]
  },
  {
   "cell_type": "code",
   "execution_count": 3,
   "metadata": {},
   "outputs": [],
   "source": [
    "ss_shock = {\n",
    "    'a_0': 0,\n",
    "    'a_1': 0,\n",
    "    'a_2': 0\n",
    "}"
   ]
  },
  {
   "cell_type": "code",
   "execution_count": 4,
   "metadata": {},
   "outputs": [],
   "source": [
    "shock_params = {\n",
    "    'var_a_0': .5,\n",
    "    'var_a_1': .6,\n",
    "    'var_a_2': .7,\n",
    "    'rho_a_0': .9,\n",
    "    'rho_a_1': .9,\n",
    "    'rho_a_2': .9\n",
    "}"
   ]
  },
  {
   "cell_type": "code",
   "execution_count": 5,
   "metadata": {},
   "outputs": [],
   "source": [
    "ss_params = {**params, **ss_shock}\n",
    "model_params = {**params, **shock_params}"
   ]
  },
  {
   "cell_type": "code",
   "execution_count": 6,
   "metadata": {},
   "outputs": [
    {
     "name": "stdout",
     "output_type": "stream",
     "text": [
      "eps,tht,alf,bet,om_0,om_1,om_2,delt,psi_n,psi_k,var_a_0,var_a_1,var_a_2,rho_a_0,rho_a_1,rho_a_2\n"
     ]
    }
   ],
   "source": [
    "print(','.join(f'{key}' for key in model_params))"
   ]
  },
  {
   "cell_type": "code",
   "execution_count": 7,
   "metadata": {},
   "outputs": [],
   "source": [
    "with open('mf1.pkl', 'wb') as f:\n",
    "    pickle.dump((ss_params,model_params,ss_shock), f)"
   ]
  }
 ],
 "metadata": {
  "kernelspec": {
   "display_name": "Python 3",
   "language": "python",
   "name": "python3"
  },
  "language_info": {
   "codemirror_mode": {
    "name": "ipython",
    "version": 3
   },
   "file_extension": ".py",
   "mimetype": "text/x-python",
   "name": "python",
   "nbconvert_exporter": "python",
   "pygments_lexer": "ipython3",
   "version": "3.11.5"
  }
 },
 "nbformat": 4,
 "nbformat_minor": 2
}
