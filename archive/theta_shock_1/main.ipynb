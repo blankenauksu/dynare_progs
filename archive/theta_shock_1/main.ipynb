{
 "cells": [
  {
   "cell_type": "code",
   "execution_count": 1,
   "id": "d963da46",
   "metadata": {},
   "outputs": [
    {
     "name": "stdout",
     "output_type": "stream",
     "text": [
      "warning: function C:\\dynare\\6.1\\matlab\\+identification\\display.m shadows a built-in function\n",
      "warning: called from\n",
      "    _pyeval at line 57 column 30\n",
      "\n",
      "warning: function C:\\dynare\\6.1\\matlab\\+identification\\display.m shadows a built-in function\n",
      "warning: called from\n",
      "    _pyeval at line 57 column 30\n",
      "\n"
     ]
    },
    {
     "data": {
      "text/plain": [
       "'.;C:\\\\Users\\\\blankenw\\\\AppData\\\\Local\\\\anaconda3\\\\Lib\\\\site-packages\\\\oct2py;C:\\\\Users\\\\blankenw\\\\AppData\\\\Local\\\\anaconda3\\\\Lib\\\\site-packages\\\\octave_kernel;C:\\\\Program Files\\\\GNU Octave\\\\Octave-9.1.0\\\\mingw64\\\\lib\\\\octave\\\\9.1.0\\\\site\\\\oct\\\\x86_64-w64-mingw32;C:\\\\Program Files\\\\GNU Octave\\\\Octave-9.1.0\\\\mingw64\\\\lib\\\\octave\\\\site\\\\oct\\\\api-v59\\\\x86_64-w64-mingw32;C:\\\\Program Files\\\\GNU Octave\\\\Octave-9.1.0\\\\mingw64\\\\lib\\\\octave\\\\site\\\\oct\\\\x86_64-w64-mingw32;C:\\\\Program Files\\\\GNU Octave\\\\Octave-9.1.0\\\\mingw64\\\\share\\\\octave\\\\9.1.0\\\\site\\\\m;C:\\\\Program Files\\\\GNU Octave\\\\Octave-9.1.0\\\\mingw64\\\\share\\\\octave\\\\site\\\\api-v59\\\\m;C:\\\\Program Files\\\\GNU Octave\\\\Octave-9.1.0\\\\mingw64\\\\share\\\\octave\\\\site\\\\m;C:\\\\Program Files\\\\GNU Octave\\\\Octave-9.1.0\\\\mingw64\\\\share\\\\octave\\\\site\\\\m\\\\once_only;C:\\\\Program Files\\\\GNU Octave\\\\Octave-9.1.0\\\\mingw64\\\\share\\\\octave\\\\site\\\\m\\\\startup;C:\\\\Program Files\\\\GNU Octave\\\\Octave-9.1.0\\\\mingw64\\\\lib\\\\octave\\\\9.1.0\\\\oct\\\\x86_64-w64-mingw32;C:\\\\Program Files\\\\GNU Octave\\\\Octave-9.1.0\\\\mingw64\\\\share\\\\octave\\\\9.1.0\\\\m;C:\\\\Program Files\\\\GNU Octave\\\\Octave-9.1.0\\\\mingw64\\\\share\\\\octave\\\\9.1.0\\\\m\\\\audio;C:\\\\Program Files\\\\GNU Octave\\\\Octave-9.1.0\\\\mingw64\\\\share\\\\octave\\\\9.1.0\\\\m\\\\deprecated;C:\\\\Program Files\\\\GNU Octave\\\\Octave-9.1.0\\\\mingw64\\\\share\\\\octave\\\\9.1.0\\\\m\\\\elfun;C:\\\\Program Files\\\\GNU Octave\\\\Octave-9.1.0\\\\mingw64\\\\share\\\\octave\\\\9.1.0\\\\m\\\\general;C:\\\\Program Files\\\\GNU Octave\\\\Octave-9.1.0\\\\mingw64\\\\share\\\\octave\\\\9.1.0\\\\m\\\\geometry;C:\\\\Program Files\\\\GNU Octave\\\\Octave-9.1.0\\\\mingw64\\\\share\\\\octave\\\\9.1.0\\\\m\\\\gui;C:\\\\Program Files\\\\GNU Octave\\\\Octave-9.1.0\\\\mingw64\\\\share\\\\octave\\\\9.1.0\\\\m\\\\help;C:\\\\Program Files\\\\GNU Octave\\\\Octave-9.1.0\\\\mingw64\\\\share\\\\octave\\\\9.1.0\\\\m\\\\image;C:\\\\Program Files\\\\GNU Octave\\\\Octave-9.1.0\\\\mingw64\\\\share\\\\octave\\\\9.1.0\\\\m\\\\io;C:\\\\Program Files\\\\GNU Octave\\\\Octave-9.1.0\\\\mingw64\\\\share\\\\octave\\\\9.1.0\\\\m\\\\java;C:\\\\Program Files\\\\GNU Octave\\\\Octave-9.1.0\\\\mingw64\\\\share\\\\octave\\\\9.1.0\\\\m\\\\legacy;C:\\\\Program Files\\\\GNU Octave\\\\Octave-9.1.0\\\\mingw64\\\\share\\\\octave\\\\9.1.0\\\\m\\\\linear-algebra;C:\\\\Program Files\\\\GNU Octave\\\\Octave-9.1.0\\\\mingw64\\\\share\\\\octave\\\\9.1.0\\\\m\\\\miscellaneous;C:\\\\Program Files\\\\GNU Octave\\\\Octave-9.1.0\\\\mingw64\\\\share\\\\octave\\\\9.1.0\\\\m\\\\ode;C:\\\\Program Files\\\\GNU Octave\\\\Octave-9.1.0\\\\mingw64\\\\share\\\\octave\\\\9.1.0\\\\m\\\\optimization;C:\\\\Program Files\\\\GNU Octave\\\\Octave-9.1.0\\\\mingw64\\\\share\\\\octave\\\\9.1.0\\\\m\\\\path;C:\\\\Program Files\\\\GNU Octave\\\\Octave-9.1.0\\\\mingw64\\\\share\\\\octave\\\\9.1.0\\\\m\\\\pkg;C:\\\\Program Files\\\\GNU Octave\\\\Octave-9.1.0\\\\mingw64\\\\share\\\\octave\\\\9.1.0\\\\m\\\\plot;C:\\\\Program Files\\\\GNU Octave\\\\Octave-9.1.0\\\\mingw64\\\\share\\\\octave\\\\9.1.0\\\\m\\\\plot\\\\appearance;C:\\\\Program Files\\\\GNU Octave\\\\Octave-9.1.0\\\\mingw64\\\\share\\\\octave\\\\9.1.0\\\\m\\\\plot\\\\draw;C:\\\\Program Files\\\\GNU Octave\\\\Octave-9.1.0\\\\mingw64\\\\share\\\\octave\\\\9.1.0\\\\m\\\\plot\\\\util;C:\\\\Program Files\\\\GNU Octave\\\\Octave-9.1.0\\\\mingw64\\\\share\\\\octave\\\\9.1.0\\\\m\\\\polynomial;C:\\\\Program Files\\\\GNU Octave\\\\Octave-9.1.0\\\\mingw64\\\\share\\\\octave\\\\9.1.0\\\\m\\\\prefs;C:\\\\Program Files\\\\GNU Octave\\\\Octave-9.1.0\\\\mingw64\\\\share\\\\octave\\\\9.1.0\\\\m\\\\profiler;C:\\\\Program Files\\\\GNU Octave\\\\Octave-9.1.0\\\\mingw64\\\\share\\\\octave\\\\9.1.0\\\\m\\\\set;C:\\\\Program Files\\\\GNU Octave\\\\Octave-9.1.0\\\\mingw64\\\\share\\\\octave\\\\9.1.0\\\\m\\\\signal;C:\\\\Program Files\\\\GNU Octave\\\\Octave-9.1.0\\\\mingw64\\\\share\\\\octave\\\\9.1.0\\\\m\\\\sparse;C:\\\\Program Files\\\\GNU Octave\\\\Octave-9.1.0\\\\mingw64\\\\share\\\\octave\\\\9.1.0\\\\m\\\\specfun;C:\\\\Program Files\\\\GNU Octave\\\\Octave-9.1.0\\\\mingw64\\\\share\\\\octave\\\\9.1.0\\\\m\\\\special-matrix;C:\\\\Program Files\\\\GNU Octave\\\\Octave-9.1.0\\\\mingw64\\\\share\\\\octave\\\\9.1.0\\\\m\\\\startup;C:\\\\Program Files\\\\GNU Octave\\\\Octave-9.1.0\\\\mingw64\\\\share\\\\octave\\\\9.1.0\\\\m\\\\statistics;C:\\\\Program Files\\\\GNU Octave\\\\Octave-9.1.0\\\\mingw64\\\\share\\\\octave\\\\9.1.0\\\\m\\\\strings;C:\\\\Program Files\\\\GNU Octave\\\\Octave-9.1.0\\\\mingw64\\\\share\\\\octave\\\\9.1.0\\\\m\\\\testfun;C:\\\\Program Files\\\\GNU Octave\\\\Octave-9.1.0\\\\mingw64\\\\share\\\\octave\\\\9.1.0\\\\m\\\\time;C:\\\\Program Files\\\\GNU Octave\\\\Octave-9.1.0\\\\mingw64\\\\share\\\\octave\\\\9.1.0\\\\m\\\\web;C:\\\\Program Files\\\\GNU Octave\\\\Octave-9.1.0\\\\mingw64\\\\share\\\\octave\\\\9.1.0\\\\data'"
      ]
     },
     "execution_count": 1,
     "metadata": {},
     "output_type": "execute_result"
    }
   ],
   "source": [
    "#!pip install --upgrade oct2py\n",
    "import numpy as np\n",
    "from oct2py import octave\n",
    "import matplotlib.pyplot as plt\n",
    "import os\n",
    "\n",
    "octave.addpath('C:/dynare/6.1/matlab')  \n",
    "#octave.addpath('/opt/homebrew/opt/dynare/lib/dynare/matlab')"
   ]
  },
  {
   "cell_type": "code",
   "execution_count": 2,
   "id": "dd4b8edc",
   "metadata": {},
   "outputs": [],
   "source": [
    "n_goods=3"
   ]
  },
  {
   "cell_type": "code",
   "execution_count": 3,
   "id": "a9e3b82b",
   "metadata": {},
   "outputs": [],
   "source": [
    "#from MyPy import DyPy"
   ]
  },
  {
   "cell_type": "code",
   "execution_count": 4,
   "id": "f2fe4306",
   "metadata": {},
   "outputs": [],
   "source": [
    "with open('t_call.m', 'w') as file:\n",
    "    file.write(\"stoch_simul(nograph, order=1, periods=1000, irf=100);\")"
   ]
  },
  {
   "cell_type": "code",
   "execution_count": 5,
   "id": "eff43076",
   "metadata": {},
   "outputs": [],
   "source": [
    "%run make_model.ipynb\n",
    "%run make_vars.ipynb\n",
    "%run make_parameters_and_shocks.ipynb\n",
    "%run make_steady_state.ipynb\n"
   ]
  },
  {
   "cell_type": "markdown",
   "id": "59d8332f",
   "metadata": {},
   "source": [
    "Tells octave where to find the .m file it will run. The file is `call_dynare`. Set to wherever you have this file. \n",
    "\n",
    "\n"
   ]
  },
  {
   "cell_type": "code",
   "execution_count": 6,
   "id": "302dd812",
   "metadata": {},
   "outputs": [],
   "source": [
    "#a=octave.addpath(os.path.expanduser('C:/Users/blankenw/GitHub/dynare_progs/np_1'))"
   ]
  },
  {
   "cell_type": "markdown",
   "id": "4df08aa0",
   "metadata": {},
   "source": [
    "Makes a call to Octave, which makes a call to Dynare. Then the `.mod` file is run in Dynare. Output from Dynare is displayed as it runs."
   ]
  },
  {
   "cell_type": "code",
   "execution_count": 7,
   "id": "9834c245",
   "metadata": {},
   "outputs": [
    {
     "name": "stdout",
     "output_type": "stream",
     "text": [
      "warning: function C:\\dynare\\6.1\\matlab\\+identification\\display.m shadows a built-in function\n",
      "warning: function C:\\dynare\\6.1\\matlab\\+identification\\display.m shadows a built-in function\n",
      "warning: function C:\\dynare\\6.1\\matlab\\+identification\\display.m shadows a built-in function\n",
      "Starting Dynare (version 6.1).\n",
      "Calling Dynare with arguments: none\n",
      "Starting preprocessing of the model file ...\n",
      "Found 11 equation(s).\n",
      "Evaluating expressions...\n",
      "Computing static model derivatives (order 1).\n",
      "Normalizing the static model...\n",
      "Finding the optimal block decomposition of the static model...\n",
      "7 block(s) found:\n",
      "  6 recursive block(s) and 1 simultaneous block(s).\n",
      "  the largest simultaneous block has 5 equation(s)\n",
      "                                 and 5 feedback variable(s).\n",
      "Computing dynamic model derivatives (order 1).\n",
      "Normalizing the dynamic model...\n",
      "Finding the optimal block decomposition of the dynamic model...\n",
      "2 block(s) found:\n",
      "  1 recursive block(s) and 1 simultaneous block(s).\n",
      "  the largest simultaneous block has 5 equation(s)\n",
      "                                 and 3 feedback variable(s).\n",
      "Preprocessing completed.\n",
      "Preprocessing time: 0h00m00s.\n",
      "\n",
      "STEADY-STATE RESULTS:\n",
      "\n",
      "c      \t\t 1.33909\n",
      "i      \t\t 0.596816\n",
      "k      \t\t 6.60195\n",
      "y      \t\t 1.93591\n",
      "n0     \t\t 0.613365\n",
      "theta0 \t\t 0.35\n",
      "theta1 \t\t 0.35\n",
      "theta2 \t\t 0.35\n",
      "a0     \t\t 0\n",
      "a1     \t\t 0\n",
      "a2     \t\t 0\n"
     ]
    },
    {
     "ename": "Oct2PyError",
     "evalue": "Octave evaluation error:\nerror: Blanchard & Kahn conditions are not satisfied: no stable equilibrium.\nerror: called from:\n    print_info at line 33, column 5\n    stoch_simul at line 119, column 5\n    driver at line 557, column 27\n    dynare at line 310, column 5",
     "output_type": "error",
     "traceback": [
      "\u001b[1;31m---------------------------------------------------------------------------\u001b[0m",
      "\u001b[1;31mOct2PyError\u001b[0m                               Traceback (most recent call last)",
      "Cell \u001b[1;32mIn[7], line 1\u001b[0m\n\u001b[1;32m----> 1\u001b[0m octave\u001b[38;5;241m.\u001b[39mdynare(\u001b[38;5;124m'\u001b[39m\u001b[38;5;124mmodel_1.mod\u001b[39m\u001b[38;5;124m'\u001b[39m)\n\u001b[0;32m      2\u001b[0m oo \u001b[38;5;241m=\u001b[39m octave\u001b[38;5;241m.\u001b[39mpull(\u001b[38;5;124m'\u001b[39m\u001b[38;5;124moo_\u001b[39m\u001b[38;5;124m'\u001b[39m)\n\u001b[0;32m      3\u001b[0m M_ \u001b[38;5;241m=\u001b[39m octave\u001b[38;5;241m.\u001b[39mpull(\u001b[38;5;124m'\u001b[39m\u001b[38;5;124mM_\u001b[39m\u001b[38;5;124m'\u001b[39m)\n",
      "File \u001b[1;32mc:\\Users\\blankenw\\AppData\\Local\\anaconda3\\Lib\\site-packages\\oct2py\\dynamic.py:111\u001b[0m, in \u001b[0;36mOctaveFunctionPtr.__call__\u001b[1;34m(self, *inputs, **kwargs)\u001b[0m\n\u001b[0;32m    107\u001b[0m     warnings\u001b[38;5;241m.\u001b[39mwarn(\u001b[38;5;124m\"\u001b[39m\u001b[38;5;124mKey - value pairs are deprecated, use `func_args`\u001b[39m\u001b[38;5;124m\"\u001b[39m, stacklevel\u001b[38;5;241m=\u001b[39m\u001b[38;5;241m2\u001b[39m)\n\u001b[0;32m    109\u001b[0m inputs \u001b[38;5;241m+\u001b[39m\u001b[38;5;241m=\u001b[39m \u001b[38;5;28mtuple\u001b[39m(item \u001b[38;5;28;01mfor\u001b[39;00m pair \u001b[38;5;129;01min\u001b[39;00m extras\u001b[38;5;241m.\u001b[39mitems() \u001b[38;5;28;01mfor\u001b[39;00m item \u001b[38;5;129;01min\u001b[39;00m pair)\n\u001b[1;32m--> 111\u001b[0m \u001b[38;5;28;01mreturn\u001b[39;00m \u001b[38;5;28mself\u001b[39m\u001b[38;5;241m.\u001b[39m_ref()\u001b[38;5;241m.\u001b[39mfeval(\u001b[38;5;28mself\u001b[39m\u001b[38;5;241m.\u001b[39mname, \u001b[38;5;241m*\u001b[39minputs, \u001b[38;5;241m*\u001b[39m\u001b[38;5;241m*\u001b[39mkwargs)\n",
      "File \u001b[1;32mc:\\Users\\blankenw\\AppData\\Local\\anaconda3\\Lib\\site-packages\\oct2py\\core.py:403\u001b[0m, in \u001b[0;36mOct2Py.feval\u001b[1;34m(self, func_path, *func_args, **kwargs)\u001b[0m\n\u001b[0;32m    400\u001b[0m \u001b[38;5;28;01mif\u001b[39;00m \u001b[38;5;129;01mnot\u001b[39;00m stream_handler:\n\u001b[0;32m    401\u001b[0m     stream_handler \u001b[38;5;241m=\u001b[39m \u001b[38;5;28mself\u001b[39m\u001b[38;5;241m.\u001b[39mlogger\u001b[38;5;241m.\u001b[39minfo \u001b[38;5;28;01mif\u001b[39;00m verbose \u001b[38;5;28;01melse\u001b[39;00m \u001b[38;5;28mself\u001b[39m\u001b[38;5;241m.\u001b[39mlogger\u001b[38;5;241m.\u001b[39mdebug\n\u001b[1;32m--> 403\u001b[0m \u001b[38;5;28;01mreturn\u001b[39;00m \u001b[38;5;28mself\u001b[39m\u001b[38;5;241m.\u001b[39m_feval(\n\u001b[0;32m    404\u001b[0m     func_name,\n\u001b[0;32m    405\u001b[0m     func_args,\n\u001b[0;32m    406\u001b[0m     dname\u001b[38;5;241m=\u001b[39mdname,\n\u001b[0;32m    407\u001b[0m     nout\u001b[38;5;241m=\u001b[39mnout,\n\u001b[0;32m    408\u001b[0m     timeout\u001b[38;5;241m=\u001b[39mtimeout,\n\u001b[0;32m    409\u001b[0m     stream_handler\u001b[38;5;241m=\u001b[39mstream_handler,\n\u001b[0;32m    410\u001b[0m     store_as\u001b[38;5;241m=\u001b[39mstore_as,\n\u001b[0;32m    411\u001b[0m     plot_dir\u001b[38;5;241m=\u001b[39mplot_dir,\n\u001b[0;32m    412\u001b[0m )\n",
      "File \u001b[1;32mc:\\Users\\blankenw\\AppData\\Local\\anaconda3\\Lib\\site-packages\\oct2py\\core.py:648\u001b[0m, in \u001b[0;36mOct2Py._feval\u001b[1;34m(self, func_name, func_args, dname, nout, timeout, stream_handler, store_as, plot_dir)\u001b[0m\n\u001b[0;32m    646\u001b[0m \u001b[38;5;28;01mif\u001b[39;00m resp[\u001b[38;5;124m\"\u001b[39m\u001b[38;5;124merr\u001b[39m\u001b[38;5;124m\"\u001b[39m]:\n\u001b[0;32m    647\u001b[0m     msg \u001b[38;5;241m=\u001b[39m \u001b[38;5;28mself\u001b[39m\u001b[38;5;241m.\u001b[39m_parse_error(resp[\u001b[38;5;124m\"\u001b[39m\u001b[38;5;124merr\u001b[39m\u001b[38;5;124m\"\u001b[39m])\n\u001b[1;32m--> 648\u001b[0m     \u001b[38;5;28;01mraise\u001b[39;00m Oct2PyError(msg)\n\u001b[0;32m    650\u001b[0m result \u001b[38;5;241m=\u001b[39m resp[\u001b[38;5;124m\"\u001b[39m\u001b[38;5;124mresult\u001b[39m\u001b[38;5;124m\"\u001b[39m]\u001b[38;5;241m.\u001b[39mravel()\u001b[38;5;241m.\u001b[39mtolist()\n\u001b[0;32m    651\u001b[0m \u001b[38;5;28;01mif\u001b[39;00m \u001b[38;5;28misinstance\u001b[39m(result, \u001b[38;5;28mlist\u001b[39m) \u001b[38;5;129;01mand\u001b[39;00m \u001b[38;5;28mlen\u001b[39m(result) \u001b[38;5;241m==\u001b[39m \u001b[38;5;241m1\u001b[39m:\n",
      "\u001b[1;31mOct2PyError\u001b[0m: Octave evaluation error:\nerror: Blanchard & Kahn conditions are not satisfied: no stable equilibrium.\nerror: called from:\n    print_info at line 33, column 5\n    stoch_simul at line 119, column 5\n    driver at line 557, column 27\n    dynare at line 310, column 5"
     ]
    }
   ],
   "source": [
    "octave.dynare('model_1.mod')\n",
    "oo = octave.pull('oo_')\n",
    "M_ = octave.pull('M_')"
   ]
  }
 ],
 "metadata": {
  "kernelspec": {
   "display_name": "base",
   "language": "python",
   "name": "python3"
  },
  "language_info": {
   "codemirror_mode": {
    "name": "ipython",
    "version": 3
   },
   "file_extension": ".py",
   "mimetype": "text/x-python",
   "name": "python",
   "nbconvert_exporter": "python",
   "pygments_lexer": "ipython3",
   "version": "3.11.5"
  }
 },
 "nbformat": 4,
 "nbformat_minor": 5
}
