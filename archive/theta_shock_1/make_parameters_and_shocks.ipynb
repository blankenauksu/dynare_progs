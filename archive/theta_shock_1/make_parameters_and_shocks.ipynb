{
 "cells": [
  {
   "cell_type": "code",
   "execution_count": 1,
   "metadata": {},
   "outputs": [],
   "source": [
    "\n",
    "#steady state values of shocks\n",
    "theta_mean=.35\n",
    "a_ss=0\n",
    "#stochastic process for shocks\n",
    "theta_var=0\n",
    "theta_rho=.9\n",
    "\n",
    "a_var=.01\n",
    "a_rho=.9"
   ]
  },
  {
   "cell_type": "markdown",
   "metadata": {},
   "source": []
  },
  {
   "cell_type": "code",
   "execution_count": 2,
   "metadata": {},
   "outputs": [
    {
     "ename": "NameError",
     "evalue": "name 'n_goods' is not defined",
     "output_type": "error",
     "traceback": [
      "\u001b[1;31m---------------------------------------------------------------------------\u001b[0m",
      "\u001b[1;31mNameError\u001b[0m                                 Traceback (most recent call last)",
      "Cell \u001b[1;32mIn[2], line 10\u001b[0m\n\u001b[0;32m      1\u001b[0m params \u001b[38;5;241m=\u001b[39m {\n\u001b[0;32m      2\u001b[0m     \u001b[38;5;124m'\u001b[39m\u001b[38;5;124meps\u001b[39m\u001b[38;5;124m'\u001b[39m: \u001b[38;5;241m.5\u001b[39m,\n\u001b[0;32m      3\u001b[0m     \u001b[38;5;124m'\u001b[39m\u001b[38;5;124mbet\u001b[39m\u001b[38;5;124m'\u001b[39m: \u001b[38;5;241m.95\u001b[39m,\n\u001b[1;32m   (...)\u001b[0m\n\u001b[0;32m      7\u001b[0m     \u001b[38;5;124m'\u001b[39m\u001b[38;5;124mvp\u001b[39m\u001b[38;5;124m'\u001b[39m: \u001b[38;5;241m1\u001b[39m\n\u001b[0;32m      8\u001b[0m }\n\u001b[1;32m---> 10\u001b[0m params\u001b[38;5;241m.\u001b[39mupdate({\u001b[38;5;124mf\u001b[39m\u001b[38;5;124m'\u001b[39m\u001b[38;5;124momega\u001b[39m\u001b[38;5;132;01m{\u001b[39;00mi\u001b[38;5;132;01m}\u001b[39;00m\u001b[38;5;124m'\u001b[39m: \u001b[38;5;241m1\u001b[39m\u001b[38;5;241m/\u001b[39mn_goods \u001b[38;5;28;01mfor\u001b[39;00m i \u001b[38;5;129;01min\u001b[39;00m \u001b[38;5;28mrange\u001b[39m(n_goods)})\n\u001b[0;32m     11\u001b[0m params\u001b[38;5;241m.\u001b[39mupdate({\u001b[38;5;124mf\u001b[39m\u001b[38;5;124m'\u001b[39m\u001b[38;5;124mtheta_var\u001b[39m\u001b[38;5;132;01m{\u001b[39;00mi\u001b[38;5;132;01m}\u001b[39;00m\u001b[38;5;124m'\u001b[39m: theta_var \u001b[38;5;28;01mfor\u001b[39;00m i \u001b[38;5;129;01min\u001b[39;00m \u001b[38;5;28mrange\u001b[39m(n_goods)})\n\u001b[0;32m     12\u001b[0m params\u001b[38;5;241m.\u001b[39mupdate({\u001b[38;5;124mf\u001b[39m\u001b[38;5;124m'\u001b[39m\u001b[38;5;124mtheta_rho\u001b[39m\u001b[38;5;132;01m{\u001b[39;00mi\u001b[38;5;132;01m}\u001b[39;00m\u001b[38;5;124m'\u001b[39m: theta_rho \u001b[38;5;28;01mfor\u001b[39;00m i \u001b[38;5;129;01min\u001b[39;00m \u001b[38;5;28mrange\u001b[39m(n_goods)})\n",
      "\u001b[1;31mNameError\u001b[0m: name 'n_goods' is not defined"
     ]
    }
   ],
   "source": [
    "params = {\n",
    "    'eps': .5,\n",
    "    'bet': .95,\n",
    "    'delt': .05,\n",
    "    'gamma0': .02,\n",
    "    'gamman': .02,\n",
    "    'vp': 1\n",
    "}\n",
    "\n",
    "params.update({f'omega{i}': 1/n_goods for i in range(n_goods)})\n",
    "params.update({f'theta_var{i}': theta_var for i in range(n_goods)})\n",
    "params.update({f'theta_rho{i}': theta_rho for i in range(n_goods)})\n",
    "params.update({f'theta_mean{i}': theta_mean for i in range(n_goods)})\n",
    "params.update({f'a_var{i}': a_var for i in range(n_goods)})\n",
    "params.update({f'a_rho{i}': a_rho for i in range(n_goods)})\n",
    "params.update({f'a_mean{i}': a_ss for i in range(n_goods)})\n",
    "#params"
   ]
  },
  {
   "cell_type": "code",
   "execution_count": null,
   "metadata": {},
   "outputs": [],
   "source": [
    "with open('t_parameters.m', 'w') as file:\n",
    "    file.write('parameters ')\n",
    "    file.write(','.join(f'{key}' for key in params))\n",
    "    file.write(';\\n\\n')\n",
    "    for key, value in params.items():\n",
    "        file.write(f'{key} = {value};\\n')\n"
   ]
  },
  {
   "cell_type": "code",
   "execution_count": null,
   "metadata": {},
   "outputs": [],
   "source": [
    "shocks={}\n",
    "shocks.update({f'theta{i}shock': f'theta_var{i}' for i in range(n_goods)})\n",
    "shocks.update({f'a{i}shock': f'a_var{i}' for i in range(n_goods)})\n"
   ]
  },
  {
   "cell_type": "code",
   "execution_count": null,
   "metadata": {},
   "outputs": [],
   "source": [
    "with open('t_shocks.m', 'w') as file:\n",
    "    file.write('shocks; \\n')\n",
    "    for key, value in shocks.items():\n",
    "        file.write(f'var {key} = {value};\\n')\n",
    "    file.write('end;')"
   ]
  }
 ],
 "metadata": {
  "kernelspec": {
   "display_name": "Python 3",
   "language": "python",
   "name": "python3"
  },
  "language_info": {
   "codemirror_mode": {
    "name": "ipython",
    "version": 3
   },
   "file_extension": ".py",
   "mimetype": "text/x-python",
   "name": "python",
   "nbconvert_exporter": "python",
   "pygments_lexer": "ipython3",
   "version": "3.11.5"
  }
 },
 "nbformat": 4,
 "nbformat_minor": 2
}
