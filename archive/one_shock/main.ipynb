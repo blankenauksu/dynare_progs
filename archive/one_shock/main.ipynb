{
 "cells": [
  {
   "cell_type": "code",
   "execution_count": 1,
   "id": "d963da46",
   "metadata": {},
   "outputs": [
    {
     "name": "stdout",
     "output_type": "stream",
     "text": [
      "warning: function C:\\dynare\\6.1\\matlab\\+identification\\display.m shadows a built-in function\n",
      "warning: called from\n",
      "    _pyeval at line 57 column 30\n",
      "\n",
      "warning: function C:\\dynare\\6.1\\matlab\\+identification\\display.m shadows a built-in function\n",
      "warning: called from\n",
      "    _pyeval at line 57 column 30\n",
      "\n"
     ]
    }
   ],
   "source": [
    "#!pip install --upgrade oct2py\n",
    "import numpy as np\n",
    "import pandas as pd\n",
    "from oct2py import octave\n",
    "import matplotlib.pyplot as plt\n",
    "import os\n",
    "from scipy.optimize import root\n",
    "import pickle\n",
    "octave.addpath('C:/dynare/6.1/matlab') \n",
    "from IPython.display import display\n",
    "#octave.addpath('/opt/homebrew/opt/dynare/lib/dynare/matlab')"
   ]
  },
  {
   "cell_type": "markdown",
   "id": "09d6d170",
   "metadata": {},
   "source": [
    "`DyPy` is a class that we create and store in a file called `MyPy.py`. It contains methods for \n",
    "\n",
    "* converting data from a Dynare stucture to Numpy arrays.\n",
    "* analyzing the data. \n",
    "\n",
    "See the file for details. "
   ]
  },
  {
   "cell_type": "code",
   "execution_count": 2,
   "id": "a9e3b82b",
   "metadata": {},
   "outputs": [],
   "source": [
    "from MyPy_2 import DyPy"
   ]
  },
  {
   "cell_type": "markdown",
   "id": "bca86bb9",
   "metadata": {},
   "source": [
    "Creates a file called `t_call.m`. This informs Dynare of the format we want for output. It is put here so that adjusments can be made easily; for example the number of periods can be changed here rather than by looking at the `.mod` file. It is included in the `.mod` file via: `@#include \"t_call.m\"` in `model_1.mod`\n",
    "\n",
    "* `order`: the order of approximation for the stochastic simulation. order=1 is a fsrst-order approximation (linearization) Higher-order approximations (e.g., order=2 for second-order) capture nonlinear effects in the model, but they require more computational resources.\n",
    "* `periods`: number of periods (time steps) for which the simulation will be run. periods=1000 means that the model will be simulated for 1000 periods. The default value is 0, which means no simulation will be performed.\n",
    "* `nograph`: suppresses the graphical output of the simulation results in Dynare since we draw them separatetly. \n",
    "* `irf`: the number of periods for which the impulse response functions (IRFs) will be computed and plotted. "
   ]
  },
  {
   "cell_type": "code",
   "execution_count": 3,
   "id": "f2fe4306",
   "metadata": {},
   "outputs": [],
   "source": [
    "with open('t_call.m', 'w') as file:\n",
    "    file.write(\"stoch_simul(nograph, order=1, periods=1000, irf=100);\")"
   ]
  },
  {
   "cell_type": "markdown",
   "id": "7e4aaad7",
   "metadata": {},
   "source": [
    " `make_model.ipyn` writes a file called `t_model.m`. `t_model.m`is the `model` block in the Dynare `.mod` file. It can instead be created directlty by commenting out the next `%run` line and coding the model. `make_model.ipyn` simplifies model creation when many of the lines are very similar to each other. Then they can be written in for loops. For the model we are currently working with, there is not much advantage to writing the file via `make_model` but I have done so nonetheless. \n",
    " \n",
    " The created file is included in the `.mod` file via `@#include \"t_model.m\"` in `model_1.mod`. "
   ]
  },
  {
   "cell_type": "code",
   "execution_count": 4,
   "id": "eff43076",
   "metadata": {},
   "outputs": [],
   "source": [
    "%run make_model.ipynb"
   ]
  },
  {
   "cell_type": "markdown",
   "id": "40f63e8b",
   "metadata": {},
   "source": [
    "`make_files.ipynb` writes the other Dynare blocks. See that file for details. However, note that in doing so, it solves for the steady state of the model using `root` from `scipy`. If the results below do not indicate success, the `.mod` file may not run correctly. Also, note that though we solve for the steady state here, we do not give Dynare the steady state but rather use these as starting values for their ss solver. I will later code a verification the steady states are the same. "
   ]
  },
  {
   "cell_type": "code",
   "execution_count": 5,
   "id": "b6037324",
   "metadata": {},
   "outputs": [
    {
     "name": "stdout",
     "output_type": "stream",
     "text": [
      "eps,tht,alf,bet,om_0,om_1,om_2,delt,psi_n,psi_k,a_1,a_2,var_a_0,rho_a_0\n",
      "2,1,0.3,0.9,0.1,0.4,0.5,0.05,1,1,-0.1,1,0.01,0.95\n"
     ]
    }
   ],
   "source": [
    "%run make_files_1.ipynb"
   ]
  },
  {
   "cell_type": "markdown",
   "id": "59d8332f",
   "metadata": {},
   "source": [
    "Tells octave where to find the .m file it will run. The file is `call_dynare`. Set to wherever you have this file. \n",
    "\n",
    "\n"
   ]
  },
  {
   "cell_type": "code",
   "execution_count": 6,
   "id": "302dd812",
   "metadata": {},
   "outputs": [],
   "source": [
    "#a=octave.addpath(os.path.expanduser('C:/Users/blankenw/GitHub/dynare_progs/np_1'))"
   ]
  },
  {
   "cell_type": "markdown",
   "id": "4df08aa0",
   "metadata": {},
   "source": [
    "Makes a call to Octave, which makes a call to Dynare. Then the `.mod` file is run in Dynare. Output from Dynare is displayed as it runs."
   ]
  },
  {
   "cell_type": "code",
   "execution_count": 7,
   "id": "5e4bdc3f",
   "metadata": {},
   "outputs": [
    {
     "name": "stdout",
     "output_type": "stream",
     "text": [
      " message: The iteration is not making good progress, as measured by the \n",
      "            improvement from the last ten iterations.\n",
      " success: False\n",
      "  status: 5\n",
      "     fun: [-1.000e-01 -1.000e-01  2.333e-01  1.121e+00  9.997e-02\n",
      "            4.806e-01  4.822e-01  8.500e-02  1.909e-01  1.108e-01\n",
      "           -2.683e-01]\n",
      "       x: [ 3.000e-01  3.000e-01  3.000e-01  3.000e-01  3.000e-01\n",
      "            3.000e-01  3.000e-01  3.000e-01  3.000e-01  3.000e-01\n",
      "            1.000e-01]\n",
      "    nfev: 33\n",
      "    fjac: [[-5.414e-01  0.000e+00 ...  0.000e+00  0.000e+00]\n",
      "           [-6.771e-01  0.000e+00 ...  4.130e-01  0.000e+00]\n",
      "           ...\n",
      "           [-3.273e-01  2.981e-01 ... -4.629e-02 -1.541e-02]\n",
      "           [-3.682e-02  3.682e-02 ... -3.919e-09 -1.549e-09]]\n",
      "       r: [       nan        nan ...        nan        nan]\n",
      "     qtf: [-3.148e-01  3.299e-01  1.847e-01  2.733e-01  1.408e-01\n",
      "            4.928e-01  9.359e-01 -4.182e-01  1.237e-01  5.320e-01\n",
      "           -6.811e-02]\n"
     ]
    },
    {
     "name": "stderr",
     "output_type": "stream",
     "text": [
      "C:\\Users\\blankenw\\AppData\\Local\\Temp\\ipykernel_14528\\2185951092.py:8: RuntimeWarning: invalid value encountered in scalar power\n",
      "  v_0=om_0*c_0**(-1/eps)\n",
      "C:\\Users\\blankenw\\AppData\\Local\\Temp\\ipykernel_14528\\2185951092.py:30: RuntimeWarning: invalid value encountered in scalar power\n",
      "  eq9=c_0+i-np.exp(a_0)*n_0**(1-alf)*s_0**alf*k**alf\n"
     ]
    },
    {
     "name": "stdout",
     "output_type": "stream",
     "text": [
      "warning: function C:\\dynare\\6.1\\matlab\\+identification\\display.m shadows a built-in function\n",
      "warning: function C:\\dynare\\6.1\\matlab\\+identification\\display.m shadows a built-in function\n",
      "warning: function C:\\dynare\\6.1\\matlab\\+identification\\display.m shadows a built-in function\n",
      "Starting Dynare (version 6.1).\n",
      "Calling Dynare with arguments: none\n",
      "Starting preprocessing of the model file ...\n",
      "WARNING: A parameter was used with a lead or a lag in the model block\n",
      "Found 10 equation(s).\n",
      "Evaluating expressions...\n",
      "Computing static model derivatives (order 1).\n",
      "Normalizing the static model...\n",
      "Finding the optimal block decomposition of the static model...\n",
      "2 block(s) found:\n",
      "  1 recursive block(s) and 1 simultaneous block(s).\n",
      "  the largest simultaneous block has 9 equation(s)\n",
      "                                 and 9 feedback variable(s).\n",
      "Computing dynamic model derivatives (order 1).\n",
      "Normalizing the dynamic model...\n",
      "Finding the optimal block decomposition of the dynamic model...\n",
      "2 block(s) found:\n",
      "  1 recursive block(s) and 1 simultaneous block(s).\n",
      "  the largest simultaneous block has 9 equation(s)\n",
      "                                 and 9 feedback variable(s).\n",
      "Preprocessing completed.\n",
      "Preprocessing time: 0h00m01s.\n",
      "\n",
      "\n",
      "Residuals of the static equations:\n",
      "Equation number  1: 1   :       0.425899\n",
      "Equation number  2: 2   :       2.047328\n",
      "Equation number  3: 3   :       0.182528\n",
      "Equation number  4: 4   :       0.877426\n",
      "Equation number  5: 5   :       0.482161\n",
      "Equation number  6: 6   :      -0.085000\n",
      "Equation number  7: 7   :       0.121262\n",
      "Equation number  8: 8   :       0.110840\n",
      "Equation number  9: 9   :      -0.268267\n",
      "Equation number 10: a_0 :       0.000000\n",
      "\n",
      "\n"
     ]
    },
    {
     "ename": "Oct2PyError",
     "evalue": "Octave evaluation error:\nerror: Impossible to find the steady state (the sum of squared residuals of the static equations is 5.5148). Either the model doesn't have a steady state, there are an infinity of steady states, or the guess values are too far from the solution\nerror: called from:\n    print_info at line 33, column 5\n    steady at line 143, column 5\n    driver at line 498, column 1\n    dynare at line 310, column 5",
     "output_type": "error",
     "traceback": [
      "\u001b[1;31m---------------------------------------------------------------------------\u001b[0m",
      "\u001b[1;31mOct2PyError\u001b[0m                               Traceback (most recent call last)",
      "Cell \u001b[1;32mIn[7], line 22\u001b[0m\n\u001b[0;32m     20\u001b[0m     ss_dict \u001b[38;5;241m=\u001b[39m pickle\u001b[38;5;241m.\u001b[39mload(f)\n\u001b[0;32m     21\u001b[0m \u001b[38;5;66;03m# Set up Octave session and run your model\u001b[39;00m\n\u001b[1;32m---> 22\u001b[0m octave\u001b[38;5;241m.\u001b[39mdynare(\u001b[38;5;124m'\u001b[39m\u001b[38;5;124mmodel_1.mod\u001b[39m\u001b[38;5;124m'\u001b[39m)\n\u001b[0;32m     24\u001b[0m \u001b[38;5;66;03m# Pull necessary structures\u001b[39;00m\n\u001b[0;32m     25\u001b[0m oo \u001b[38;5;241m=\u001b[39m octave\u001b[38;5;241m.\u001b[39mpull(\u001b[38;5;124m'\u001b[39m\u001b[38;5;124moo_\u001b[39m\u001b[38;5;124m'\u001b[39m)\n",
      "File \u001b[1;32mc:\\Users\\blankenw\\AppData\\Local\\anaconda3\\Lib\\site-packages\\oct2py\\dynamic.py:111\u001b[0m, in \u001b[0;36mOctaveFunctionPtr.__call__\u001b[1;34m(self, *inputs, **kwargs)\u001b[0m\n\u001b[0;32m    107\u001b[0m     warnings\u001b[38;5;241m.\u001b[39mwarn(\u001b[38;5;124m\"\u001b[39m\u001b[38;5;124mKey - value pairs are deprecated, use `func_args`\u001b[39m\u001b[38;5;124m\"\u001b[39m, stacklevel\u001b[38;5;241m=\u001b[39m\u001b[38;5;241m2\u001b[39m)\n\u001b[0;32m    109\u001b[0m inputs \u001b[38;5;241m+\u001b[39m\u001b[38;5;241m=\u001b[39m \u001b[38;5;28mtuple\u001b[39m(item \u001b[38;5;28;01mfor\u001b[39;00m pair \u001b[38;5;129;01min\u001b[39;00m extras\u001b[38;5;241m.\u001b[39mitems() \u001b[38;5;28;01mfor\u001b[39;00m item \u001b[38;5;129;01min\u001b[39;00m pair)\n\u001b[1;32m--> 111\u001b[0m \u001b[38;5;28;01mreturn\u001b[39;00m \u001b[38;5;28mself\u001b[39m\u001b[38;5;241m.\u001b[39m_ref()\u001b[38;5;241m.\u001b[39mfeval(\u001b[38;5;28mself\u001b[39m\u001b[38;5;241m.\u001b[39mname, \u001b[38;5;241m*\u001b[39minputs, \u001b[38;5;241m*\u001b[39m\u001b[38;5;241m*\u001b[39mkwargs)\n",
      "File \u001b[1;32mc:\\Users\\blankenw\\AppData\\Local\\anaconda3\\Lib\\site-packages\\oct2py\\core.py:403\u001b[0m, in \u001b[0;36mOct2Py.feval\u001b[1;34m(self, func_path, *func_args, **kwargs)\u001b[0m\n\u001b[0;32m    400\u001b[0m \u001b[38;5;28;01mif\u001b[39;00m \u001b[38;5;129;01mnot\u001b[39;00m stream_handler:\n\u001b[0;32m    401\u001b[0m     stream_handler \u001b[38;5;241m=\u001b[39m \u001b[38;5;28mself\u001b[39m\u001b[38;5;241m.\u001b[39mlogger\u001b[38;5;241m.\u001b[39minfo \u001b[38;5;28;01mif\u001b[39;00m verbose \u001b[38;5;28;01melse\u001b[39;00m \u001b[38;5;28mself\u001b[39m\u001b[38;5;241m.\u001b[39mlogger\u001b[38;5;241m.\u001b[39mdebug\n\u001b[1;32m--> 403\u001b[0m \u001b[38;5;28;01mreturn\u001b[39;00m \u001b[38;5;28mself\u001b[39m\u001b[38;5;241m.\u001b[39m_feval(\n\u001b[0;32m    404\u001b[0m     func_name,\n\u001b[0;32m    405\u001b[0m     func_args,\n\u001b[0;32m    406\u001b[0m     dname\u001b[38;5;241m=\u001b[39mdname,\n\u001b[0;32m    407\u001b[0m     nout\u001b[38;5;241m=\u001b[39mnout,\n\u001b[0;32m    408\u001b[0m     timeout\u001b[38;5;241m=\u001b[39mtimeout,\n\u001b[0;32m    409\u001b[0m     stream_handler\u001b[38;5;241m=\u001b[39mstream_handler,\n\u001b[0;32m    410\u001b[0m     store_as\u001b[38;5;241m=\u001b[39mstore_as,\n\u001b[0;32m    411\u001b[0m     plot_dir\u001b[38;5;241m=\u001b[39mplot_dir,\n\u001b[0;32m    412\u001b[0m )\n",
      "File \u001b[1;32mc:\\Users\\blankenw\\AppData\\Local\\anaconda3\\Lib\\site-packages\\oct2py\\core.py:648\u001b[0m, in \u001b[0;36mOct2Py._feval\u001b[1;34m(self, func_name, func_args, dname, nout, timeout, stream_handler, store_as, plot_dir)\u001b[0m\n\u001b[0;32m    646\u001b[0m \u001b[38;5;28;01mif\u001b[39;00m resp[\u001b[38;5;124m\"\u001b[39m\u001b[38;5;124merr\u001b[39m\u001b[38;5;124m\"\u001b[39m]:\n\u001b[0;32m    647\u001b[0m     msg \u001b[38;5;241m=\u001b[39m \u001b[38;5;28mself\u001b[39m\u001b[38;5;241m.\u001b[39m_parse_error(resp[\u001b[38;5;124m\"\u001b[39m\u001b[38;5;124merr\u001b[39m\u001b[38;5;124m\"\u001b[39m])\n\u001b[1;32m--> 648\u001b[0m     \u001b[38;5;28;01mraise\u001b[39;00m Oct2PyError(msg)\n\u001b[0;32m    650\u001b[0m result \u001b[38;5;241m=\u001b[39m resp[\u001b[38;5;124m\"\u001b[39m\u001b[38;5;124mresult\u001b[39m\u001b[38;5;124m\"\u001b[39m]\u001b[38;5;241m.\u001b[39mravel()\u001b[38;5;241m.\u001b[39mtolist()\n\u001b[0;32m    651\u001b[0m \u001b[38;5;28;01mif\u001b[39;00m \u001b[38;5;28misinstance\u001b[39m(result, \u001b[38;5;28mlist\u001b[39m) \u001b[38;5;129;01mand\u001b[39;00m \u001b[38;5;28mlen\u001b[39m(result) \u001b[38;5;241m==\u001b[39m \u001b[38;5;241m1\u001b[39m:\n",
      "\u001b[1;31mOct2PyError\u001b[0m: Octave evaluation error:\nerror: Impossible to find the steady state (the sum of squared residuals of the static equations is 5.5148). Either the model doesn't have a steady state, there are an infinity of steady states, or the guess values are too far from the solution\nerror: called from:\n    print_info at line 33, column 5\n    steady at line 143, column 5\n    driver at line 498, column 1\n    dynare at line 310, column 5"
     ]
    }
   ],
   "source": [
    "\n",
    "# A list of dictionaries representing updates to apply to my_dict:\n",
    "new_pars = [{'psi_n': 0, 'psi_k': 0}, \n",
    "           {'psi_n': 2, 'psi_k': 0}, \n",
    "           {'psi_n': 0, 'psi_k': 2}]\n",
    "\n",
    "\n",
    "\n",
    "# Create an empty dictionary to store your variables\n",
    "t=[]\n",
    "with open('mf1.pkl', 'wb') as f:\n",
    "    pickle.dump((ss_params,model_params,ss_shock), f)\n",
    "\n",
    "\n",
    "for i, update in enumerate(new_pars):\n",
    "    model_params.update(update)\n",
    "    with open('mf1.pkl', 'wb') as f:\n",
    "        pickle.dump((ss_params,model_params,ss_shock), f)\n",
    "    %run make_files_2.ipynb\n",
    "    with open('mf2.pkl', 'rb') as f:\n",
    "        ss_dict = pickle.load(f)\n",
    "    # Set up Octave session and run your model\n",
    "    octave.dynare('model_1.mod')\n",
    "\n",
    "    # Pull necessary structures\n",
    "    oo = octave.pull('oo_')\n",
    "    Mthing = octave.pull('M_')\n",
    "    instance = DyPy(oo,ss_dict)\n",
    "    if i==0:\n",
    "        oo_0=oo\n",
    "    t.append(instance)\n"
   ]
  },
  {
   "cell_type": "markdown",
   "id": "531543fe",
   "metadata": {},
   "source": [
    "Dynare creates a `structure` which we will need so we `pull` it."
   ]
  },
  {
   "cell_type": "markdown",
   "id": "1a99fe40",
   "metadata": {},
   "source": [
    "The output from Dynare is stored in a file called `oo_`. This brings `oo_` in as `oo`."
   ]
  },
  {
   "cell_type": "markdown",
   "id": "c3a9a75e",
   "metadata": {},
   "source": [
    "Draw all impulse response functions. "
   ]
  },
  {
   "cell_type": "code",
   "execution_count": null,
   "id": "29ffe9db",
   "metadata": {},
   "outputs": [],
   "source": [
    "def plot_dta(instances, attributes,periods=100):\n",
    "    plt.figure(figsize=(15, 5))\n",
    "    for j, attribute in enumerate(attributes):\n",
    "        # Create a subplot for this attribute\n",
    "        plt.subplot(1, len(attributes), j+1)\n",
    "        for i, instance in enumerate(instances):\n",
    "            # Get the attribute value (time series data)\n",
    "            attr_value = getattr(instance.ir_level, attribute)\n",
    "            attr_value = attr_value.reshape(-1, 1)\n",
    "            length = attr_value.shape[0]\n",
    "            tm = np.linspace(1, length, length)\n",
    "            # Add a line to the plot for this time series\n",
    "            plt.plot(tm[0:periods], attr_value[0:periods], label=labels[i])\n",
    "\n",
    "        plt.title(attribute)\n",
    "        plt.legend()\n",
    "\n",
    "    # Show the figure with all subplots\n"
   ]
  },
  {
   "cell_type": "code",
   "execution_count": null,
   "id": "249c538e",
   "metadata": {},
   "outputs": [],
   "source": [
    "labels = ['No adjustment cost', 'Adjustment cost on labor', 'Adjustment cost on capital']\n",
    "\n",
    "all_attributes =[   #['y_a_0', 'y_a_1', 'y_a_2'],\n",
    "                    #['y_0_a_0', 'y_0_a_1', 'y_0_a_2'],\n",
    "                    #['r_a_0', 'r_a_1', 'r_a_2'],\n",
    "                    #['tot_a_0', 'tot_a_1', 'tot_a_2'],\n",
    "                    #['sc_a_0', 'sc_a_1', 'sc_a_2'],\n",
    "                    #['win_a_0', 'win_a_1', 'win_a_2'],\n",
    "                    #['k_0_a_0', 'k_1_a_0', 'k_2_a_0'],\n",
    "                    #['n_0_a_0', 'n_1_a_0', 'n_2_a_0'],\n",
    "                    #['n_0_a_1', 'n_1_a_1', 'n_2_a_1'],\n",
    "                    #['s_0_a_0', 's_1_a_0', 's_2_a_0'],\n",
    "                    #['k_a_0', 'i_a_0'],\n",
    "                    #['k_0_a_1', 'k_1_a_1', 'k_2_a_1'],\n",
    "                    #['c_0_a_1', 'c_1_a_1', 'c_2_a_1'],\n",
    "                    #['k_a_1', 'i_a_1'],\n",
    "                    #['k_0_a_2', 'k_1_a_2', 'k_2_a_2'],\n",
    "                    #['c_0_a_2', 'c_1_a_2', 'c_2_a_2'],\n",
    "                    #['k_a_2', 'i_a_2'],\n",
    "                    #['ns0_a0', 'ns1_a0', 'ns2_a0'],\n",
    "                    #['ns0_a1', 'ns1_a1', 'ns2_a1'],\n",
    "                   # ['kn0_a1', 'kn1_a1', 'kn2_a1'],\n",
    "                    #['ex_0_a_0','ex_1_a_0','ex_2_a_0'],\n",
    "                    #['exb_0_a_0','exb_1_a_0','exb_2_a_0']\n",
    "                    \n",
    "                     ]\n",
    "for attributes in all_attributes:\n",
    "    plot_dta(t, attributes,periods=10)\n",
    "    plt.tight_layout()\n",
    "    plt.show()                  \n",
    "\n"
   ]
  },
  {
   "cell_type": "code",
   "execution_count": null,
   "id": "c050c127",
   "metadata": {},
   "outputs": [],
   "source": [
    "j=1\n",
    "#n_0=np.insert(t[j].ir_level.n_0_a_0,0,np.exp(t[j].steady_state[0]))\n",
    "n_1=np.insert(t[j].ir_level.n_1_a_0,0,np.exp(t[j].steady_state[0]))\n",
    "n_2=np.insert(t[j].ir_level.n_2_a_0,0,np.exp(t[j].steady_state[1]))\n",
    "n_0=1-n_1-n_2\n",
    "\n",
    "s_1=np.insert(t[j].ir_level.s_1_a_0,0,np.exp(t[j].steady_state[2]))\n",
    "s_2=np.insert(t[j].ir_level.s_2_a_0,0,np.exp(t[j].steady_state[3]))\n",
    "s_0=1-s_1-s_2\n",
    "k=  np.insert(t[j].ir_level.k_a_0,0,np.exp(t[j].steady_state[4]))\n",
    "c_0=np.insert(t[j].ir_level.c_0_a_0,0,np.exp(t[j].steady_state[5]))\n",
    "c_1=np.insert(t[j].ir_level.c_1_a_0,0,np.exp(t[j].steady_state[6]))\n",
    "c_2=np.insert(t[j].ir_level.c_2_a_0,0,np.exp(t[j].steady_state[7]))\n",
    "i=  np.insert(t[j].ir_level.i_a_0,0,(t[j].steady_state[8]))\n",
    "a_0=np.insert(t[j].ir_level.a_0_a_0,0,np.exp(t[j].steady_state[9]))\n"
   ]
  },
  {
   "cell_type": "markdown",
   "id": "c7d4050c",
   "metadata": {},
   "source": []
  },
  {
   "cell_type": "code",
   "execution_count": null,
   "id": "4c1ec2e3",
   "metadata": {},
   "outputs": [],
   "source": [
    "i"
   ]
  },
  {
   "cell_type": "code",
   "execution_count": null,
   "id": "4ede8927",
   "metadata": {},
   "outputs": [],
   "source": [
    "s_1+s_2+s_0"
   ]
  },
  {
   "cell_type": "code",
   "execution_count": null,
   "id": "08a9d56d",
   "metadata": {},
   "outputs": [],
   "source": [
    "#n_0"
   ]
  },
  {
   "cell_type": "code",
   "execution_count": null,
   "id": "bab04a00",
   "metadata": {},
   "outputs": [],
   "source": [
    "print(max(n_0))\n",
    "print(max(n_1))\n",
    "print(max(n_2))\n",
    "print(min(n_0))\n",
    "print(min(n_1))\n",
    "print(min(n_2))\n",
    "\n",
    "print(max(s_0))\n",
    "print(max(s_1))\n",
    "print(max(s_2))\n",
    "print(min(s_0))\n",
    "print(min(s_1))\n",
    "print(min(s_2))\n",
    "print(min(k))\n",
    "print(max(k))\n",
    "print(min(i))\n",
    "print(max(i))\n",
    "print(np.mean(c_0))"
   ]
  },
  {
   "cell_type": "code",
   "execution_count": null,
   "id": "14937c55",
   "metadata": {},
   "outputs": [],
   "source": [
    "om_0=model_params['om_0']\n",
    "om_1=model_params['om_1']\n",
    "om_2=model_params['om_2']\n",
    "eps=model_params['eps']"
   ]
  },
  {
   "cell_type": "code",
   "execution_count": null,
   "id": "3849e703",
   "metadata": {},
   "outputs": [],
   "source": [
    "p_0=om_0/om_0*(c_0/c_0)**(-1/eps)\n",
    "y_0=p_0*(c_0+i)\n",
    "\n",
    "\n",
    "p_1z=p_0*y_0/s_0*s_1/c_1\n",
    "p_2z=p_0*y_0/s_0*s_2/c_2\n",
    "\n",
    "\n",
    "p_1=om_1/om_0*(c_1/c_0)**(-1/eps)\n",
    "p_2=om_2/om_0*(c_2/c_0)**(-1/eps)\n",
    "y_0=p_0*(c_0+i)\n",
    "py_0=p_0*y_0\n",
    "py_1=p_1*c_1\n",
    "py_2=p_2*c_2\n",
    "\n",
    "\n",
    "y=py_0+py_1+py_2\n",
    "r=1\n",
    "ym=np.roll(y,1)\n",
    "y_0m=np.roll(y_0,1)\n",
    "n_0m=np.roll(n_0,1)\n",
    "n_1m=np.roll(n_1,1)\n",
    "n_2m=np.roll(n_2,1)\n",
    "py_0m=np.roll(py_0,1)\n",
    "py_1m=np.roll(py_1,1)\n",
    "py_2m=np.roll(py_2,1)\n",
    "\n",
    "tot=(1/r*y-ym)/ym\n",
    "\n",
    "sc=(\n",
    "(1/r*py_0/n_0-py_0m/n_0m)*n_0+\n",
    "(1/r*py_1/n_1-py_1m/n_1m)*n_1+\n",
    "(1/r*py_2/n_2-py_2m/n_2m)*n_2\n",
    ")/ym\n",
    "\n",
    "wi=(\n",
    "(n_0-n_0m)*py_0m/n_0m+\n",
    "(n_1-n_1m)*py_1m/n_1m+\n",
    "(n_2-n_2m)*py_2m/n_2m\n",
    ")/ym\n",
    "\n",
    "\n",
    "\n"
   ]
  },
  {
   "cell_type": "code",
   "execution_count": null,
   "id": "6bf49f5e",
   "metadata": {},
   "outputs": [],
   "source": [
    "print((p_1/p_2)[0:4])\n",
    "print((p_1z/p_2z)[0:4])\n",
    "print((p_1/p_1z)[0:4])\n",
    "print((p_2/p_2z)[0:4])"
   ]
  },
  {
   "cell_type": "code",
   "execution_count": null,
   "id": "60d11d17",
   "metadata": {},
   "outputs": [],
   "source": []
  },
  {
   "cell_type": "code",
   "execution_count": null,
   "id": "5faf0ce3",
   "metadata": {},
   "outputs": [],
   "source": [
    "print(n_0[0:4])\n",
    "print(n_0m[0:4])"
   ]
  },
  {
   "cell_type": "code",
   "execution_count": null,
   "id": "0637bc8a",
   "metadata": {},
   "outputs": [],
   "source": [
    "print((s_0)[0:4])\n",
    "print((n_0)[0:4])\n",
    "\n",
    "print((s_1)[0:4])\n",
    "print((n_1)[0:4])\n",
    "print((s_2)[0:4])\n",
    "\n",
    "\n",
    "print((n_2)[0:4])"
   ]
  },
  {
   "cell_type": "code",
   "execution_count": null,
   "id": "9cd55a87",
   "metadata": {},
   "outputs": [],
   "source": [
    "print((s_0/n_0)[0:4])\n",
    "print((s_1/n_1)[0:4])\n",
    "print((s_2/n_2)[0:4])"
   ]
  },
  {
   "cell_type": "code",
   "execution_count": null,
   "id": "88a55084",
   "metadata": {},
   "outputs": [],
   "source": [
    "print((p_0*y_0/s_0)[0:4])\n",
    "print((p_1*c_1/s_1)[0:4])\n",
    "print((p_2*c_2/s_2)[0:4])"
   ]
  },
  {
   "cell_type": "code",
   "execution_count": null,
   "id": "166d87e3",
   "metadata": {},
   "outputs": [],
   "source": [
    "wi_0d=((n_0-n_0m)/n_0m*py_0m)[1:]\n",
    "wi_1d=((n_1-n_1m)/n_1m*py_1m)[1:]\n",
    "wi_2d=((n_2-n_2m)/n_2m*py_2m)[1:]\n",
    "\n",
    "sc_0d=((1/r*py_0/n_0-py_0m/n_0m)*n_0)[1:]\n",
    "sc_1d=((1/r*py_1/n_1-py_1m/n_1m)*n_1)[1:]\n",
    "sc_2d=((1/r*py_2/n_2-py_2m/n_2m)*n_2)[1:]\n",
    "\n",
    "wi=wi[1:]\n",
    "sc=sc[1:]\n",
    "tot=tot[1:]\n"
   ]
  },
  {
   "cell_type": "code",
   "execution_count": null,
   "id": "1893c965",
   "metadata": {},
   "outputs": [],
   "source": [
    "#wi+sc-tot"
   ]
  },
  {
   "cell_type": "code",
   "execution_count": null,
   "id": "bbadf981",
   "metadata": {},
   "outputs": [],
   "source": [
    "#s_0/n_0-s_1/n_1"
   ]
  },
  {
   "cell_type": "code",
   "execution_count": null,
   "id": "490e27ee",
   "metadata": {},
   "outputs": [],
   "source": [
    "# Create a figure and two subplots in the same row\n",
    "fig, (ax1, ax2, ax3) = plt.subplots(1, 3, figsize=(12, 4))\n",
    "\n",
    "# Plot tot, sc, and wi on the first subplot\n",
    "ax1.plot(tot[0:10], label='tot')\n",
    "ax1.plot(sc[0:10], label='sc')\n",
    "ax1.plot(wi[0:10], label='wi')\n",
    "ax1.legend()\n",
    "ax1.set_xlabel('Index')\n",
    "ax1.set_ylabel('Value')\n",
    "ax1.set_title('Plot of tot, sc, and wi')\n",
    "\n",
    "# Plot only wi on the second subplot\n",
    "ax2.plot(wi[0:10], label='wi')\n",
    "ax2.plot(wi_0d[0:10], label='wi_0d')\n",
    "ax2.plot(wi_1d[0:10], label='wi_1d')\n",
    "ax2.plot(wi_2d[0:10], label='wi_2d')\n",
    "ax2.legend()\n",
    "ax2.set_xlabel('Index')\n",
    "ax2.set_ylabel('Value')\n",
    "ax2.set_title('Plot of wi')\n",
    "\n",
    "ax3.plot(sc[0:10], label='sc')\n",
    "ax3.plot(sc_0d[0:10], label='sc_0d')\n",
    "ax3.plot(sc_1d[0:10], label='sc_1d')\n",
    "ax3.plot(sc_2d[0:10], label='sc_2d')\n",
    "ax3.legend()\n",
    "ax3.set_xlabel('Index')\n",
    "ax3.set_ylabel('Value')\n",
    "ax3.set_title('Plot of sc')\n",
    "\n",
    "# Show the plot\n",
    "plt.tight_layout()\n",
    "plt.show()"
   ]
  },
  {
   "cell_type": "code",
   "execution_count": null,
   "id": "18ec7ce4",
   "metadata": {},
   "outputs": [],
   "source": [
    "end"
   ]
  },
  {
   "cell_type": "code",
   "execution_count": null,
   "id": "a69a2b76",
   "metadata": {},
   "outputs": [],
   "source": [
    "wi[0:10]"
   ]
  },
  {
   "cell_type": "code",
   "execution_count": null,
   "id": "b53ebd36",
   "metadata": {},
   "outputs": [],
   "source": [
    "j=1\n",
    "\n",
    "n_1=np.exp(t[j].endo_simul[0])\n",
    "n_2=np.exp(t[j].endo_simul[1])\n",
    "n_0=1-n_1-n_2\n",
    "\n",
    "s_1=np.exp(t[j].endo_simul[2])\n",
    "s_2=np.exp(t[j].endo_simul[3])\n",
    "\n",
    "s_0=1-s_1-s_2\n",
    "\n",
    "k=np.exp(t[j].endo_simul[4])\n",
    "c_0=np.exp(t[j].endo_simul[5])\n",
    "c_1=np.exp(t[j].endo_simul[6])\n",
    "c_2=np.exp(t[j].endo_simul[7])\n",
    "i=(t[j].endo_simul[8])\n",
    "a_0=np.exp(t[j].endo_simul[9])\n",
    "\n",
    "\n",
    "\n",
    "#i=np.log(t[j].endo_simul[10])\n",
    "\n",
    "#i\n",
    "\n",
    "print(np.mean(n_0[100:]))\n",
    "print(  )\n",
    "print(np.mean(n_1[100:]))\n",
    "print(np.exp(t[j].steady_state[0][0]))\n",
    "print(  )\n",
    "print(np.mean(n_2[100:]))\n",
    "print(np.exp(t[j].steady_state[1][0]))\n",
    "print(  )\n",
    "print(np.mean(s_1[100:]))\n",
    "print(np.exp(t[j].steady_state[2][0]))\n",
    "print(  )\n",
    "print(np.mean(s_2[100:]))\n",
    "print(np.exp(t[j].steady_state[3][0]))\n",
    "print(  )\n",
    "print(np.mean(k[100:]))\n",
    "print(np.exp(t[j].steady_state[4][0]))\n",
    "print(  )\n",
    "print(np.mean(c_0[100:]))\n",
    "print(np.exp(t[j].steady_state[5][0]))\n",
    "print(  )\n",
    "print(np.mean(c_1[100:]))\n",
    "print(np.exp(t[j].steady_state[6][0]))\n",
    "print(  )\n",
    "print(np.mean(c_2[100:]))\n",
    "print(np.exp(t[j].steady_state[7][0]))\n",
    "print(  )\n",
    "print(np.mean(i[100:]))\n",
    "print((t[j].steady_state[8][0]))\n",
    "print(  )\n",
    "print(np.mean(a_0[100:]))\n",
    "print(np.exp(t[j].steady_state[9][0]))\n",
    "\n",
    "\n",
    "\n",
    "\n"
   ]
  },
  {
   "cell_type": "code",
   "execution_count": null,
   "id": "bc0a3271",
   "metadata": {},
   "outputs": [],
   "source": [
    "n_0=n_0[10:]\n",
    "n_1=n_1[10:]\n",
    "n_2=n_2[10:]\n",
    "s_1=s_1[10:]\n",
    "s_2=s_2[10:]\n",
    "s_0=s_0[10:]\n",
    "k=k[10:]\n",
    "c_0=c_0[10:]\n",
    "c_1=c_1[10:]\n",
    "c_2=c_2[10:]\n",
    "i=i[10:]\n",
    "a_0=a_0[10:]\n",
    "a_1=a_1[10:]\n",
    "a_2=a_2[10:]\n"
   ]
  },
  {
   "cell_type": "code",
   "execution_count": null,
   "id": "9c3ca12c",
   "metadata": {},
   "outputs": [],
   "source": []
  },
  {
   "cell_type": "code",
   "execution_count": null,
   "id": "dc6b1722",
   "metadata": {},
   "outputs": [],
   "source": [
    "p_0=om_0/om_0*(c_0/c_0)**(-1/eps)\n",
    "##p_1z=om_1/om_0*(c_1/c_0)**(-1/eps)\n",
    "#p_2z=om_2/om_0*(c_2/c_0)**(-1/eps)\n",
    "\n",
    "#\n",
    "# py_0=p_0*y_0\n",
    "#py_1=p_1*c_1\n",
    "#py_2=p_2*c_2\n",
    "#y_0=p_0*(c_0+i)\n",
    "\n",
    "y_0=p_0*(c_0+i)\n",
    "\n",
    "\n",
    "p_1=p_0*y_0/s_0*s_1/c_1\n",
    "p_2=p_0*y_0/s_0*s_2/c_2\n",
    "py_0=p_0*y_0\n",
    "py_1=p_1*c_1\n",
    "py_2=p_2*c_2\n",
    "\n",
    "y_0=p_0*(c_0+i)\n",
    "\n",
    "\n",
    "y=py_0+py_1+py_2\n",
    "r=1\n",
    "ym=np.roll(y,1)\n",
    "y_0m=np.roll(y_0,1)\n",
    "n_0m=np.roll(n_0,1)\n",
    "n_1m=np.roll(n_1,1)\n",
    "n_2m=np.roll(n_2,1)\n",
    "py_0m=np.roll(py_0,1)\n",
    "py_1m=np.roll(py_1,1)\n",
    "py_2m=np.roll(py_2,1)\n",
    "\n",
    "#ym=ym[1:]\n",
    "#y_0m=y_0m[1:]\n",
    "#n_0m=n_0m[1:]\n",
    "#n_1m=n_1m[1:] \n",
    "#n_2m=n_2m[1:]\n",
    "#py_0m=py_0m[1:]\n",
    "#py_1m=py_1m[1:]\n",
    "#py_2m=py_2m[1:]\n",
    "\n",
    "\n",
    "\n",
    "tot=(1/r*y-ym)/ym\n",
    "\n",
    "sc=(\n",
    "(1/r*py_0/n_0-py_0m/n_0m)*n_0+\n",
    "(1/r*py_1/n_1-py_1m/n_1m)*n_1+\n",
    "(1/r*py_2/n_2-py_2m/n_2m)*n_2\n",
    ")/ym\n",
    "\n",
    "wi=(\n",
    "(n_0-n_0m)*py_0m/n_0m+\n",
    "(n_1-n_1m)*py_1m/n_1m+\n",
    "(n_2-n_2m)*py_2m/n_2m\n",
    ")/ym\n"
   ]
  },
  {
   "cell_type": "code",
   "execution_count": null,
   "id": "aa6d2f39",
   "metadata": {},
   "outputs": [],
   "source": [
    "#p_1/p_1z"
   ]
  },
  {
   "cell_type": "code",
   "execution_count": null,
   "id": "062975c2",
   "metadata": {},
   "outputs": [],
   "source": [
    "wi"
   ]
  },
  {
   "cell_type": "code",
   "execution_count": null,
   "id": "a3c4dc40",
   "metadata": {},
   "outputs": [],
   "source": [
    "df = pd.DataFrame({\n",
    "    'y': y,\n",
    "    'tot':tot,\n",
    "    'sc': sc,\n",
    "    'wi': wi,\n",
    "    'n_0': n_0,\n",
    "    'n_1': n_1,\n",
    "    'n_2': n_2,\n",
    "    's_0': s_0,\n",
    "    's_1': s_1,\n",
    "    's_2': s_2,\n",
    "    'k': k,\n",
    "    'c_0': c_0,\n",
    "    'c_1': c_1,\n",
    "    'c_2': c_2,\n",
    "    'i': i,\n",
    "    'a_0': a_0,\n",
    "    'py_0': py_0,\n",
    "    'py_1': py_1,\n",
    "    'py_2': py_2\n",
    "    \n",
    "})"
   ]
  },
  {
   "cell_type": "code",
   "execution_count": null,
   "id": "1d3bd42c",
   "metadata": {},
   "outputs": [],
   "source": [
    "# Calculate the variance-covariance matrix\n",
    "df_cov = df.cov()\n",
    "\n"
   ]
  },
  {
   "cell_type": "code",
   "execution_count": null,
   "id": "2bad1bb4",
   "metadata": {},
   "outputs": [],
   "source": [
    "\n",
    "# Function to highlight the diagonal\n",
    "def highlight_diagonal(data):\n",
    "\tattr = 'background-color: yellow'\n",
    "\t# Create a DataFrame with empty strings\n",
    "\tdf_styler = pd.DataFrame('', index=data.index, columns=data.columns)\n",
    "\t# Set the diagonal to the desired attribute\n",
    "\tnp.fill_diagonal(df_styler.values, attr)\n",
    "\treturn df_styler\n",
    "\n",
    "# Apply the function to the DataFrame\n",
    "df_cov = df_cov.style.apply(highlight_diagonal, axis=None)\n",
    "\n",
    "# Display the styled DataFrame\n",
    "df_cov"
   ]
  },
  {
   "cell_type": "code",
   "execution_count": null,
   "id": "ecbe47a2",
   "metadata": {},
   "outputs": [],
   "source": [
    "np.std(y)/np.mean(y)"
   ]
  },
  {
   "cell_type": "code",
   "execution_count": null,
   "id": "0d566269",
   "metadata": {},
   "outputs": [],
   "source": [
    "oo"
   ]
  }
 ],
 "metadata": {
  "kernelspec": {
   "display_name": "base",
   "language": "python",
   "name": "python3"
  },
  "language_info": {
   "codemirror_mode": {
    "name": "ipython",
    "version": 3
   },
   "file_extension": ".py",
   "mimetype": "text/x-python",
   "name": "python",
   "nbconvert_exporter": "python",
   "pygments_lexer": "ipython3",
   "version": "3.11.5"
  }
 },
 "nbformat": 4,
 "nbformat_minor": 5
}
