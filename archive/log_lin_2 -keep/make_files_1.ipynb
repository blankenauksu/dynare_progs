{
 "cells": [
  {
   "cell_type": "code",
   "execution_count": null,
   "metadata": {},
   "outputs": [],
   "source": [
    "from scipy.optimize import root\n",
    "import numpy as np\n",
    "import pickle"
   ]
  },
  {
   "cell_type": "code",
   "execution_count": null,
   "metadata": {},
   "outputs": [],
   "source": [
    "params = {\n",
    "    'eps': .5,\n",
    "    'tht': 1,\n",
    "    'alf': .3,\n",
    "    'bet': .9,\n",
    "    'om_0': .3,\n",
    "    'om_1': .3,\n",
    "    'om_2': .2,\n",
    "    'delt': .05,\n",
    "    'psi_n': 1,\n",
    "    'psi_k': 1\n",
    "}\n",
    "\n"
   ]
  },
  {
   "cell_type": "code",
   "execution_count": null,
   "metadata": {},
   "outputs": [],
   "source": [
    "ss_shock = {\n",
    "    'a_0': 0,\n",
    "    'a_1': 0,\n",
    "    'a_2': 0\n",
    "}"
   ]
  },
  {
   "cell_type": "code",
   "execution_count": null,
   "metadata": {},
   "outputs": [],
   "source": [
    "shock_params = {\n",
    "    'var_a_0': 0.01,\n",
    "    'var_a_1': 0,\n",
    "    'var_a_2': 0,\n",
    "    'rho_a_0': .95,\n",
    "    'rho_a_1': .95,\n",
    "    'rho_a_2': .95\n",
    "}"
   ]
  },
  {
   "cell_type": "code",
   "execution_count": null,
   "metadata": {},
   "outputs": [],
   "source": [
    "ss_params = {**params, **ss_shock}\n",
    "model_params = {**params, **shock_params}"
   ]
  },
  {
   "cell_type": "code",
   "execution_count": null,
   "metadata": {},
   "outputs": [],
   "source": [
    "print(','.join(f'{key}' for key in model_params))\n",
    "keys_list = list(model_params.keys())\n",
    "print(','.join(f'{model_params[key]}' for key in keys_list))"
   ]
  },
  {
   "cell_type": "code",
   "execution_count": null,
   "metadata": {},
   "outputs": [],
   "source": [
    "with open('mf1.pkl', 'wb') as f:\n",
    "    pickle.dump((ss_params,model_params,ss_shock), f)"
   ]
  },
  {
   "cell_type": "code",
   "execution_count": null,
   "metadata": {},
   "outputs": [],
   "source": [
    "model_params"
   ]
  }
 ],
 "metadata": {
  "kernelspec": {
   "display_name": "Python 3",
   "language": "python",
   "name": "python3"
  },
  "language_info": {
   "codemirror_mode": {
    "name": "ipython",
    "version": 3
   },
   "file_extension": ".py",
   "mimetype": "text/x-python",
   "name": "python",
   "nbconvert_exporter": "python",
   "pygments_lexer": "ipython3",
   "version": "3.11.5"
  }
 },
 "nbformat": 4,
 "nbformat_minor": 2
}
