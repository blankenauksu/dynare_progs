{
 "cells": [
  {
   "cell_type": "code",
   "execution_count": 1,
   "metadata": {},
   "outputs": [],
   "source": [
    "from scipy.optimize import root\n",
    "import numpy as np\n",
    "import pickle"
   ]
  },
  {
   "cell_type": "code",
   "execution_count": 2,
   "metadata": {},
   "outputs": [],
   "source": [
    "with open('mf1.pkl', 'rb') as f:\n",
    "    ss_params,model_params,ss_shock = pickle.load(f)\n"
   ]
  },
  {
   "cell_type": "code",
   "execution_count": 3,
   "metadata": {},
   "outputs": [],
   "source": [
    "def assign_params(ss_params):\n",
    "    a_0 = ss_params['a_0']\n",
    "    a_1 = ss_params['a_1']\n",
    "    a_2 = ss_params['a_2']\n",
    "    alf = ss_params['alf']\n",
    "    delt = ss_params['delt']\n",
    "    om_0 = ss_params['om_0']\n",
    "    om_1 = ss_params['om_1']\n",
    "    om_2 = ss_params['om_2']\n",
    "    eps = ss_params['eps']\n",
    "    tht = ss_params['tht']\n",
    "    bet = ss_params['bet']\n",
    "    psi_k = ss_params['psi_k']\n",
    "    psi_n = ss_params['psi_n']\n",
    "    return eps,tht,alf,bet,om_0,om_1,om_2,delt,psi_k,psi_n,a_0,a_1,a_2\n"
   ]
  },
  {
   "cell_type": "code",
   "execution_count": 4,
   "metadata": {},
   "outputs": [
    {
     "data": {
      "text/plain": [
       "{'eps': 0.5,\n",
       " 'tht': 1,\n",
       " 'alf': 0.3,\n",
       " 'bet': 0.9,\n",
       " 'om_0': 0.3,\n",
       " 'om_1': 0.3,\n",
       " 'om_2': 0.2,\n",
       " 'delt': 0.05,\n",
       " 'psi_n': 1,\n",
       " 'psi_k': 1,\n",
       " 'a_0': 0,\n",
       " 'a_1': 0,\n",
       " 'a_2': 0}"
      ]
     },
     "execution_count": 4,
     "metadata": {},
     "output_type": "execute_result"
    }
   ],
   "source": [
    "ss_params"
   ]
  },
  {
   "cell_type": "code",
   "execution_count": null,
   "metadata": {},
   "outputs": [],
   "source": []
  },
  {
   "cell_type": "code",
   "execution_count": 5,
   "metadata": {},
   "outputs": [],
   "source": [
    "def equations(vars, params):\n",
    "\tn_0,n_1,n_2,s_0,s_1,s_2,k,c_0,c_1,c_2,i = vars\n",
    "\teps,tht,alf,bet,om_0,om_1,om_2,delt,psi_k,psi_n,a_0,a_1,a_2 = assign_params(params)\n",
    " \n",
    "\t\n",
    "\t#ph=(om_0*c_0**((eps-1)/eps)+om_1*c_1**((eps-1)/eps)+om_2*c_2**((eps-1)/eps)\t)**((1-tht*eps)/(eps-1))\n",
    "\n",
    "\tv_0=om_0*c_0**(-1/eps)\n",
    "\tv_1=om_1*c_1**(-1/eps)\n",
    "\tv_2=om_2*c_2**(-1/eps)\n",
    "\n",
    "\tfn_0=np.exp(a_0)*(1-alf)*(s_0/n_0)**alf*k**alf\n",
    "\tfn_1=np.exp(a_1)*(1-alf)*(s_1/n_1)**alf*k**alf\n",
    "\tfn_2=np.exp(a_2)*(1-alf)*(s_2/n_2)**alf*k**alf\n",
    " \n",
    "\tfs_0=np.exp(a_0)*alf*(n_0/s_0)**(1-alf)*k**alf\n",
    "\tfs_1=np.exp(a_1)*alf*(n_1/s_1)**(1-alf)*k**alf\n",
    "\tfs_2=np.exp(a_2)*alf*(n_2/s_2)**(1-alf)*k**alf\n",
    "  \n",
    "\tx_10=fn_0\n",
    "\tx_11=fn_1\n",
    "\tx_12=fn_2\n",
    "\n",
    "\tx_20=0\n",
    "\tx_21=0\n",
    "\tx_22=0\n",
    " \n",
    "\tz_1=1\n",
    "\tz_2=1-delt\n",
    " \n",
    "\teq1=n_0+n_1+n_2-1\n",
    "\teq2=s_0+s_1+s_2-1\n",
    "\teq3=v_1*fn_1-v_0*fn_0\n",
    "\teq4=v_2*fn_2-v_0*fn_0\n",
    "\teq5=v_1*fs_1-v_0*fs_0\n",
    "\teq6=v_2*fs_2-v_0*fs_0\n",
    "\teq7=bet*(fs_0/k+z_2)-1\n",
    "\teq8=(1-delt)*k+i-k\n",
    "\teq9=c_0+i-np.exp(a_0)*n_0**(1-alf)*s_0**alf*k**alf\n",
    "\teq10=c_1-np.exp(a_1)*n_1**(1-alf)*s_1**alf*k**alf\n",
    "\teq11=c_2-np.exp(a_2)*n_2**(1-alf)*s_2**alf*k**alf\n",
    "\t\n",
    "\treturn [eq1,eq2,eq3,eq4,eq5,eq6,eq7,eq8,eq9,eq10,eq11]\n"
   ]
  },
  {
   "cell_type": "code",
   "execution_count": 6,
   "metadata": {},
   "outputs": [
    {
     "name": "stdout",
     "output_type": "stream",
     "text": [
      " message: The solution converged.\n",
      " success: True\n",
      "  status: 1\n",
      "     fun: [ 0.000e+00  0.000e+00 -3.857e-10 -1.869e-10 -2.005e-10\n",
      "            1.105e-10 -2.651e-11  4.441e-16 -1.765e-11 -9.579e-12\n",
      "           -1.087e-11]\n",
      "       x: [ 4.151e-01  3.220e-01  2.629e-01  4.151e-01  3.220e-01\n",
      "            2.629e-01  2.431e+00  4.203e-01  4.203e-01  3.432e-01\n",
      "            1.215e-01]\n",
      "    nfev: 74\n",
      "    fjac: [[-4.230e-01  3.645e-10 ...  2.675e-03  1.825e-03]\n",
      "           [-5.739e-01 -8.530e-11 ...  4.215e-01  1.117e-03]\n",
      "           ...\n",
      "           [-3.385e-01 -7.573e-02 ... -3.184e-01 -3.133e-01]\n",
      "           [ 2.571e-02 -7.316e-02 ... -6.584e-02 -3.890e-02]]\n",
      "       r: [-2.364e+00  6.311e-01 ...  2.263e-01  6.550e-01]\n",
      "     qtf: [-5.705e-10 -7.434e-11  6.695e-10 -3.283e-10  2.743e-10\n",
      "            1.126e-10 -2.358e-10 -1.047e-09  1.099e-09 -6.624e-11\n",
      "           -1.276e-10]\n"
     ]
    },
    {
     "name": "stderr",
     "output_type": "stream",
     "text": [
      "C:\\Users\\blankenw\\AppData\\Local\\Temp\\ipykernel_8376\\4277247800.py:13: RuntimeWarning: invalid value encountered in scalar power\n",
      "  fn_1=np.exp(a_1)*(1-alf)*(s_1/n_1)**alf*k**alf\n",
      "C:\\Users\\blankenw\\AppData\\Local\\Temp\\ipykernel_8376\\4277247800.py:17: RuntimeWarning: invalid value encountered in scalar power\n",
      "  fs_1=np.exp(a_1)*alf*(n_1/s_1)**(1-alf)*k**alf\n",
      "C:\\Users\\blankenw\\AppData\\Local\\Temp\\ipykernel_8376\\4277247800.py:40: RuntimeWarning: invalid value encountered in scalar power\n",
      "  eq10=c_1-np.exp(a_1)*n_1**(1-alf)*s_1**alf*k**alf\n"
     ]
    },
    {
     "data": {
      "text/plain": [
       "{'n_1': 0.3219945509205003,\n",
       " 'n_2': 0.2629074499028316,\n",
       " 's_1': 0.3219945509563271,\n",
       " 's_2': 0.2629074498427949,\n",
       " 'k': 2.43057054964539,\n",
       " 'c_0': 0.42030154999653896,\n",
       " 'c_1': 0.42030155005211545,\n",
       " 'c_2': 0.34317477853670936,\n",
       " 'i': 0.12152852748226979,\n",
       " 'a_0': 0,\n",
       " 'a_1': 0,\n",
       " 'a_2': 0}"
      ]
     },
     "execution_count": 6,
     "metadata": {},
     "output_type": "execute_result"
    }
   ],
   "source": [
    "initial_guess = [1,1,.3,.3,.3,.3,3,1,1,1,.1]\n",
    "def solve_equations(params):\n",
    "    \n",
    "    sol = root(equations, initial_guess, args=(ss_params,))\n",
    "    \n",
    "    # Extract the solution vector\n",
    "    n_0,n_1,n_2,s_0,s_1,s_2,k,c_0,c_1,c_2,i = sol.x\n",
    "    #eps,tht,alf,bet,om_0,om_1,om_2,delt,psi_k,psi_n,a_0,a_1,a_2 = assign_params(params)\n",
    "    a_0=0\n",
    "    a_1=0\n",
    "    a_2=0\n",
    "    ss_dict = {\n",
    "    #'n_0': n_0,\n",
    "    'n_1': n_1,\n",
    "    'n_2': n_2,\n",
    "    #'s_0': s_0,\n",
    "    's_1': s_1,\n",
    "    's_2': s_2,    \n",
    "    'k': k,\n",
    "    'c_0': c_0,\n",
    "    'c_1': c_1,\n",
    "    'c_2': c_2,\n",
    "    'i': i,\n",
    "    'a_0': a_0,\n",
    "    'a_1': a_1,\n",
    "    'a_2': a_2\n",
    "    }\n",
    "    return sol, ss_dict\n",
    "    \n",
    "\n",
    "#Call the wrapper function\n",
    "sol, ss_dict=solve_equations(ss_params)\n",
    "print(sol)\n",
    "ss_dict\n"
   ]
  },
  {
   "cell_type": "code",
   "execution_count": 7,
   "metadata": {},
   "outputs": [
    {
     "data": {
      "text/plain": [
       "{'n_1': 0.3219945509205003,\n",
       " 'n_2': 0.2629074499028316,\n",
       " 's_1': 0.3219945509563271,\n",
       " 's_2': 0.2629074498427949,\n",
       " 'k': 2.43057054964539,\n",
       " 'c_0': 0.42030154999653896,\n",
       " 'c_1': 0.42030155005211545,\n",
       " 'c_2': 0.34317477853670936,\n",
       " 'i': 0.12152852748226979,\n",
       " 'a_0': 0,\n",
       " 'a_1': 0,\n",
       " 'a_2': 0}"
      ]
     },
     "execution_count": 7,
     "metadata": {},
     "output_type": "execute_result"
    }
   ],
   "source": [
    "ss_dict"
   ]
  },
  {
   "cell_type": "code",
   "execution_count": 8,
   "metadata": {},
   "outputs": [],
   "source": [
    "# Call the wrapper function\n",
    "#sol, ss_dict = solve_equations(ss_params)"
   ]
  },
  {
   "cell_type": "code",
   "execution_count": 9,
   "metadata": {},
   "outputs": [],
   "source": [
    "# Replace values with their logarithms except for the key 'i'\n",
    "for key in ss_dict:\n",
    "\tif  key not in ['i', 'a_0','a_1','a_2']:\n",
    "\t\tss_dict[key] = np.log(ss_dict[key])\n",
    "\n"
   ]
  },
  {
   "cell_type": "code",
   "execution_count": null,
   "metadata": {},
   "outputs": [],
   "source": []
  },
  {
   "cell_type": "code",
   "execution_count": 10,
   "metadata": {},
   "outputs": [],
   "source": [
    "def write_dict_to_file(ss_dict, filename):\n",
    "    with open(filename, 'w') as f:\n",
    "        f.write('var \\n')\n",
    "        for key, value in ss_dict.items():\n",
    "            f.write(f'{key}\\n')\n",
    "        f.write(f';\\n\\n\\n')\n",
    "        f.write('varexo \\n')\n",
    "        for key, value in ss_shock.items():\n",
    "            f.write(f'{key}_shock\\n')\n",
    "        f.write(f';\\n\\n\\n')\n",
    "# Call the function\n",
    "write_dict_to_file(ss_dict, 't_vars.m')"
   ]
  },
  {
   "cell_type": "code",
   "execution_count": 11,
   "metadata": {},
   "outputs": [],
   "source": [
    "def write_dict_to_file(ss_dict, filename):\n",
    "    with open(filename, 'w') as f:\n",
    "        f.write('initval;\\n')\n",
    "        for key, value in ss_dict.items():\n",
    "            f.write(f'{key}={value};\\n')\n",
    "        f.write(f'end;\\n\\n\\n')        \n",
    "# Call the function\n",
    "write_dict_to_file(ss_dict, 't_ss.m')"
   ]
  },
  {
   "cell_type": "code",
   "execution_count": 12,
   "metadata": {},
   "outputs": [
    {
     "data": {
      "text/plain": [
       "{'n_1': -1.1332206561880598,\n",
       " 'n_2': -1.3359532102463847,\n",
       " 's_1': -1.1332206560767943,\n",
       " 's_2': -1.3359532104747414,\n",
       " 'k': 0.888126023885391,\n",
       " 'c_0': -0.8667828491440832,\n",
       " 'c_1': -0.8667828490118531,\n",
       " 'c_2': -1.069515403180939,\n",
       " 'i': 0.12152852748226979,\n",
       " 'a_0': 0,\n",
       " 'a_1': 0,\n",
       " 'a_2': 0}"
      ]
     },
     "execution_count": 12,
     "metadata": {},
     "output_type": "execute_result"
    }
   ],
   "source": [
    "ss_dict"
   ]
  },
  {
   "cell_type": "code",
   "execution_count": 13,
   "metadata": {},
   "outputs": [],
   "source": [
    "def write_dict_to_file(params, filename):\n",
    "    \n",
    "    with open(filename, 'w') as f:\n",
    "        f.write('parameters ')\n",
    "        f.write(','.join(f'{key}' for key in params))\n",
    "        f.write(';\\n\\n')\n",
    "        for key, value in params.items():\n",
    "            f.write(f'{key}={value};\\n')\n",
    "\n",
    "# Call the function\n",
    "write_dict_to_file(model_params, 't_parameters.m')"
   ]
  },
  {
   "cell_type": "code",
   "execution_count": 14,
   "metadata": {},
   "outputs": [],
   "source": [
    "def write_dict_to_file(ss_dict, filename):\n",
    "    #variance_list = list(shock_params.values())[:3]\n",
    "    with open(filename, 'w') as f:\n",
    "        f.write('shocks;\\n')\n",
    "        i=0\n",
    "        for key, value in ss_shock.items():\n",
    "            f.write(f'var {key}_shock=var_{key};\\n')\n",
    "            i+=1\n",
    "        f.write(f'\\n')\n",
    "        f.write(f'end;\\n\\n\\n')        \n",
    "# Call the function\n",
    "write_dict_to_file(ss_dict, 't_shocks.m')"
   ]
  },
  {
   "cell_type": "code",
   "execution_count": 15,
   "metadata": {},
   "outputs": [],
   "source": [
    "with open('mf2.pkl', 'wb') as f:\n",
    "    pickle.dump((ss_dict), f)"
   ]
  }
 ],
 "metadata": {
  "kernelspec": {
   "display_name": "Python 3",
   "language": "python",
   "name": "python3"
  },
  "language_info": {
   "codemirror_mode": {
    "name": "ipython",
    "version": 3
   },
   "file_extension": ".py",
   "mimetype": "text/x-python",
   "name": "python",
   "nbconvert_exporter": "python",
   "pygments_lexer": "ipython3",
   "version": "3.11.5"
  }
 },
 "nbformat": 4,
 "nbformat_minor": 2
}
