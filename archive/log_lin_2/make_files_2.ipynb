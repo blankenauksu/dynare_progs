{
 "cells": [
  {
   "cell_type": "code",
   "execution_count": 1,
   "metadata": {},
   "outputs": [],
   "source": [
    "from scipy.optimize import root\n",
    "import numpy as np\n",
    "import pickle"
   ]
  },
  {
   "cell_type": "code",
   "execution_count": 2,
   "metadata": {},
   "outputs": [],
   "source": [
    "with open('mf1.pkl', 'rb') as f:\n",
    "    ss_params,model_params,ss_shock = pickle.load(f)\n"
   ]
  },
  {
   "cell_type": "code",
   "execution_count": 3,
   "metadata": {},
   "outputs": [],
   "source": [
    "def assign_params(ss_params):\n",
    "    a_0 = ss_params['a_0']\n",
    "    a_1 = ss_params['a_1']\n",
    "    a_2 = ss_params['a_2']\n",
    "    alf = ss_params['alf']\n",
    "    delt = ss_params['delt']\n",
    "    om_0 = ss_params['om_0']\n",
    "    om_1 = ss_params['om_1']\n",
    "    om_2 = ss_params['om_2']\n",
    "    eps = ss_params['eps']\n",
    "    tht = ss_params['tht']\n",
    "    bet = ss_params['bet']\n",
    "    psi_k = ss_params['psi_k']\n",
    "    psi_n = ss_params['psi_n']\n",
    "    return eps,tht,alf,bet,om_0,om_1,om_2,delt,psi_k,psi_n,a_0,a_1,a_2\n"
   ]
  },
  {
   "cell_type": "code",
   "execution_count": 4,
   "metadata": {},
   "outputs": [
    {
     "data": {
      "text/plain": [
       "{'eps': 1,\n",
       " 'tht': 1,\n",
       " 'alf': 0.3,\n",
       " 'bet': 0.9,\n",
       " 'om_0': 0.3,\n",
       " 'om_1': 0.4,\n",
       " 'om_2': 0.4,\n",
       " 'delt': 0.05,\n",
       " 'psi_n': 1,\n",
       " 'psi_k': 1,\n",
       " 'a_0': 0,\n",
       " 'a_1': 0,\n",
       " 'a_2': 0}"
      ]
     },
     "execution_count": 4,
     "metadata": {},
     "output_type": "execute_result"
    }
   ],
   "source": [
    "ss_params"
   ]
  },
  {
   "cell_type": "code",
   "execution_count": null,
   "metadata": {},
   "outputs": [],
   "source": []
  },
  {
   "cell_type": "code",
   "execution_count": 5,
   "metadata": {},
   "outputs": [],
   "source": [
    "def equations(vars, params):\n",
    "\tn_0,n_1,n_2,s_0,s_1,s_2,k,c_0,c_1,c_2,i = vars\n",
    "\teps,tht,alf,bet,om_0,om_1,om_2,delt,psi_k,psi_n,a_0,a_1,a_2 = assign_params(params)\n",
    " \n",
    "\t\n",
    "\t#ph=(om_0*c_0**((eps-1)/eps)+om_1*c_1**((eps-1)/eps)+om_2*c_2**((eps-1)/eps)\t)**((1-tht*eps)/(eps-1))\n",
    "\n",
    "\tv_0=om_0*c_0**(-1/eps)\n",
    "\tv_1=om_1*c_1**(-1/eps)\n",
    "\tv_2=om_2*c_2**(-1/eps)\n",
    "\n",
    "\tfn_0=np.exp(a_0)*(1-alf)*(s_0/n_0)**alf*k**alf\n",
    "\tfn_1=np.exp(a_1)*(1-alf)*(s_1/n_1)**alf*k**alf\n",
    "\tfn_2=np.exp(a_2)*(1-alf)*(s_2/n_2)**alf*k**alf\n",
    " \n",
    "\tfs_0=np.exp(a_0)*alf*(n_0/s_0)**(1-alf)*k**alf\n",
    "\tfs_1=np.exp(a_1)*alf*(n_1/s_1)**(1-alf)*k**alf\n",
    "\tfs_2=np.exp(a_2)*alf*(n_2/s_2)**(1-alf)*k**alf\n",
    "  \n",
    "\tx_10=fn_0\n",
    "\tx_11=fn_1\n",
    "\tx_12=fn_2\n",
    "\n",
    "\tx_20=0\n",
    "\tx_21=0\n",
    "\tx_22=0\n",
    " \n",
    "\tz_1=1\n",
    "\tz_2=1-delt\n",
    " \n",
    "\teq1=n_0+n_1+n_2-1\n",
    "\teq2=s_0+s_1+s_2-1\n",
    "\teq3=v_1*fn_1-v_0*fn_0\n",
    "\teq4=v_2*fn_2-v_0*fn_0\n",
    "\teq5=v_1*fs_1-v_0*fs_0\n",
    "\teq6=v_2*fs_2-v_0*fs_0\n",
    "\teq7=bet*(fs_0/k+z_2)-1\n",
    "\teq8=(1-delt)*k+i-k\n",
    "\teq9=c_0+i-np.exp(a_0)*n_0**(1-alf)*s_0**alf*k**alf\n",
    "\teq10=c_1-np.exp(a_1)*n_1**(1-alf)*s_1**alf*k**alf\n",
    "\teq11=c_2-np.exp(a_2)*n_2**(1-alf)*s_2**alf*k**alf\n",
    "\t\n",
    "\treturn [eq1,eq2,eq3,eq4,eq5,eq6,eq7,eq8,eq9,eq10,eq11]\n"
   ]
  },
  {
   "cell_type": "code",
   "execution_count": 6,
   "metadata": {},
   "outputs": [
    {
     "name": "stdout",
     "output_type": "stream",
     "text": [
      " message: The solution converged.\n",
      " success: True\n",
      "  status: 1\n",
      "     fun: [ 0.000e+00  0.000e+00 -2.236e-10 -2.902e-10 -3.362e-11\n",
      "           -3.113e-11 -2.643e-13  0.000e+00  2.408e-11  6.326e-12\n",
      "            6.145e-12]\n",
      "       x: [ 3.404e-01  3.298e-01  3.298e-01  3.404e-01  3.298e-01\n",
      "            3.298e-01  2.431e+00  3.228e-01  4.305e-01  4.305e-01\n",
      "            1.215e-01]\n",
      "    nfev: 45\n",
      "    fjac: [[ 4.519e-01 -3.944e-10 ... -1.894e-02 -2.603e-02]\n",
      "           [ 6.121e-01  2.215e-10 ... -4.665e-01 -8.328e-03]\n",
      "           ...\n",
      "           [ 3.005e-01  1.417e-01 ...  2.118e-01  5.032e-01]\n",
      "           [-1.012e-01  9.349e-02 ... -1.207e-02 -1.301e-03]]\n",
      "       r: [ 2.213e+00 -6.926e-01 ... -3.760e-01 -6.051e-01]\n",
      "     qtf: [-4.033e-09  3.877e-10  3.552e-09  1.358e-09 -2.473e-10\n",
      "           -2.166e-09  4.609e-10  8.366e-10 -1.453e-09  1.247e-09\n",
      "            1.968e-10]\n"
     ]
    },
    {
     "name": "stderr",
     "output_type": "stream",
     "text": [
      "C:\\Users\\blankenw\\AppData\\Local\\Temp\\ipykernel_11528\\4277247800.py:13: RuntimeWarning: invalid value encountered in scalar power\n",
      "  fn_1=np.exp(a_1)*(1-alf)*(s_1/n_1)**alf*k**alf\n",
      "C:\\Users\\blankenw\\AppData\\Local\\Temp\\ipykernel_11528\\4277247800.py:17: RuntimeWarning: invalid value encountered in scalar power\n",
      "  fs_1=np.exp(a_1)*alf*(n_1/s_1)**(1-alf)*k**alf\n",
      "C:\\Users\\blankenw\\AppData\\Local\\Temp\\ipykernel_11528\\4277247800.py:40: RuntimeWarning: invalid value encountered in scalar power\n",
      "  eq10=c_1-np.exp(a_1)*n_1**(1-alf)*s_1**alf*k**alf\n"
     ]
    },
    {
     "data": {
      "text/plain": [
       "{'n_1': 0.32978056428764774,\n",
       " 'n_2': 0.32978056431365665,\n",
       " 's_1': 0.3297805642777271,\n",
       " 's_2': 0.3297805642756063,\n",
       " 'k': 2.430570548816265,\n",
       " 'c_0': 0.3228485122806911,\n",
       " 'c_1': 0.43046468313221586,\n",
       " 'c_2': 0.43046468315496894,\n",
       " 'i': 0.12152852744081348,\n",
       " 'a_0': 0,\n",
       " 'a_1': 0,\n",
       " 'a_2': 0}"
      ]
     },
     "execution_count": 6,
     "metadata": {},
     "output_type": "execute_result"
    }
   ],
   "source": [
    "initial_guess = [1,1,.3,.3,.3,.3,3,1,1,1,.1]\n",
    "def solve_equations(params):\n",
    "    \n",
    "    sol = root(equations, initial_guess, args=(ss_params,))\n",
    "    \n",
    "    # Extract the solution vector\n",
    "    n_0,n_1,n_2,s_0,s_1,s_2,k,c_0,c_1,c_2,i = sol.x\n",
    "    #eps,tht,alf,bet,om_0,om_1,om_2,delt,psi_k,psi_n,a_0,a_1,a_2 = assign_params(params)\n",
    "    a_0=0\n",
    "    a_1=0\n",
    "    a_2=0\n",
    "    ss_dict = {\n",
    "    #'n_0': n_0,\n",
    "    'n_1': n_1,\n",
    "    'n_2': n_2,\n",
    "    #'s_0': s_0,\n",
    "    's_1': s_1,\n",
    "    's_2': s_2,    \n",
    "    'k': k,\n",
    "    'c_0': c_0,\n",
    "    'c_1': c_1,\n",
    "    'c_2': c_2,\n",
    "    'i': i,\n",
    "    'a_0': a_0,\n",
    "    'a_1': a_1,\n",
    "    'a_2': a_2\n",
    "    }\n",
    "    return sol, ss_dict\n",
    "    \n",
    "\n",
    "#Call the wrapper function\n",
    "sol, ss_dict=solve_equations(ss_params)\n",
    "print(sol)\n",
    "ss_dict\n"
   ]
  },
  {
   "cell_type": "code",
   "execution_count": 7,
   "metadata": {},
   "outputs": [
    {
     "data": {
      "text/plain": [
       "{'n_1': 0.32978056428764774,\n",
       " 'n_2': 0.32978056431365665,\n",
       " 's_1': 0.3297805642777271,\n",
       " 's_2': 0.3297805642756063,\n",
       " 'k': 2.430570548816265,\n",
       " 'c_0': 0.3228485122806911,\n",
       " 'c_1': 0.43046468313221586,\n",
       " 'c_2': 0.43046468315496894,\n",
       " 'i': 0.12152852744081348,\n",
       " 'a_0': 0,\n",
       " 'a_1': 0,\n",
       " 'a_2': 0}"
      ]
     },
     "execution_count": 7,
     "metadata": {},
     "output_type": "execute_result"
    }
   ],
   "source": [
    "ss_dict"
   ]
  },
  {
   "cell_type": "code",
   "execution_count": 8,
   "metadata": {},
   "outputs": [],
   "source": [
    "# Call the wrapper function\n",
    "#sol, ss_dict = solve_equations(ss_params)"
   ]
  },
  {
   "cell_type": "code",
   "execution_count": 9,
   "metadata": {},
   "outputs": [],
   "source": [
    "# Replace values with their logarithms except for the key 'i'\n",
    "for key in ss_dict:\n",
    "\tif  key not in ['i', 'a_0','a_1','a_2']:\n",
    "\t\tss_dict[key] = np.log(ss_dict[key])\n",
    "\n"
   ]
  },
  {
   "cell_type": "code",
   "execution_count": null,
   "metadata": {},
   "outputs": [],
   "source": []
  },
  {
   "cell_type": "code",
   "execution_count": 10,
   "metadata": {},
   "outputs": [],
   "source": [
    "def write_dict_to_file(ss_dict, filename):\n",
    "    with open(filename, 'w') as f:\n",
    "        f.write('var \\n')\n",
    "        for key, value in ss_dict.items():\n",
    "            f.write(f'{key}\\n')\n",
    "        f.write(f';\\n\\n\\n')\n",
    "        f.write('varexo \\n')\n",
    "        for key, value in ss_shock.items():\n",
    "            f.write(f'{key}_shock\\n')\n",
    "        f.write(f';\\n\\n\\n')\n",
    "# Call the function\n",
    "write_dict_to_file(ss_dict, 't_vars.m')"
   ]
  },
  {
   "cell_type": "code",
   "execution_count": 11,
   "metadata": {},
   "outputs": [],
   "source": [
    "def write_dict_to_file(ss_dict, filename):\n",
    "    with open(filename, 'w') as f:\n",
    "        f.write('initval;\\n')\n",
    "        for key, value in ss_dict.items():\n",
    "            f.write(f'{key}={value};\\n')\n",
    "        f.write(f'end;\\n\\n\\n')        \n",
    "# Call the function\n",
    "write_dict_to_file(ss_dict, 't_ss.m')"
   ]
  },
  {
   "cell_type": "code",
   "execution_count": 12,
   "metadata": {},
   "outputs": [
    {
     "data": {
      "text/plain": [
       "{'n_1': -1.1093278024074744,\n",
       " 'n_2': -1.109327802328607,\n",
       " 's_1': -1.1093278024375568,\n",
       " 's_2': -1.1093278024439879,\n",
       " 'k': 0.8881260235442675,\n",
       " 'c_0': -1.1305720680023872,\n",
       " 'c_1': -0.842889995338523,\n",
       " 'c_2': -0.842889995285666,\n",
       " 'i': 0.12152852744081348,\n",
       " 'a_0': 0,\n",
       " 'a_1': 0,\n",
       " 'a_2': 0}"
      ]
     },
     "execution_count": 12,
     "metadata": {},
     "output_type": "execute_result"
    }
   ],
   "source": [
    "ss_dict"
   ]
  },
  {
   "cell_type": "code",
   "execution_count": 13,
   "metadata": {},
   "outputs": [],
   "source": [
    "def write_dict_to_file(params, filename):\n",
    "    \n",
    "    with open(filename, 'w') as f:\n",
    "        f.write('parameters ')\n",
    "        f.write(','.join(f'{key}' for key in params))\n",
    "        f.write(';\\n\\n')\n",
    "        for key, value in params.items():\n",
    "            f.write(f'{key}={value};\\n')\n",
    "\n",
    "# Call the function\n",
    "write_dict_to_file(model_params, 't_parameters.m')"
   ]
  },
  {
   "cell_type": "code",
   "execution_count": 14,
   "metadata": {},
   "outputs": [],
   "source": [
    "def write_dict_to_file(ss_dict, filename):\n",
    "    #variance_list = list(shock_params.values())[:3]\n",
    "    with open(filename, 'w') as f:\n",
    "        f.write('shocks;\\n')\n",
    "        i=0\n",
    "        for key, value in ss_shock.items():\n",
    "            f.write(f'var {key}_shock=var_{key};\\n')\n",
    "            i+=1\n",
    "        f.write(f'\\n')\n",
    "        f.write(f'end;\\n\\n\\n')        \n",
    "# Call the function\n",
    "write_dict_to_file(ss_dict, 't_shocks.m')"
   ]
  },
  {
   "cell_type": "code",
   "execution_count": 15,
   "metadata": {},
   "outputs": [],
   "source": [
    "with open('mf2.pkl', 'wb') as f:\n",
    "    pickle.dump((ss_dict), f)"
   ]
  }
 ],
 "metadata": {
  "kernelspec": {
   "display_name": "Python 3",
   "language": "python",
   "name": "python3"
  },
  "language_info": {
   "codemirror_mode": {
    "name": "ipython",
    "version": 3
   },
   "file_extension": ".py",
   "mimetype": "text/x-python",
   "name": "python",
   "nbconvert_exporter": "python",
   "pygments_lexer": "ipython3",
   "version": "3.11.5"
  }
 },
 "nbformat": 4,
 "nbformat_minor": 2
}
