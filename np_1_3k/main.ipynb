{
 "cells": [
  {
   "cell_type": "code",
   "execution_count": 15,
   "id": "d963da46",
   "metadata": {},
   "outputs": [],
   "source": [
    "#!pip install --upgrade oct2py\n",
    "import numpy as np\n",
    "from oct2py import octave\n",
    "import matplotlib.pyplot as plt\n",
    "import os\n",
    "from scipy.optimize import root\n",
    "import math"
   ]
  },
  {
   "cell_type": "markdown",
   "id": "09d6d170",
   "metadata": {},
   "source": [
    "`DyPy` is a class that we create and store in a file called `MyPy.py`. It contains methods for \n",
    "\n",
    "* converting data from a Dynare stucture to Numpy arrays.\n",
    "* analyzing the data. \n",
    "\n",
    "See the file for details. "
   ]
  },
  {
   "cell_type": "code",
   "execution_count": 16,
   "id": "a9e3b82b",
   "metadata": {},
   "outputs": [],
   "source": [
    "from MyPy import DyPy"
   ]
  },
  {
   "cell_type": "markdown",
   "id": "bca86bb9",
   "metadata": {},
   "source": [
    "Creates a file called `t_call.m`. This informs Dynare of the format we want for output. It is put here so that adjusments can be made easily; for example the number of periods can be changed here rather than by looking at the `.mod` file. It is included in the `.mod` file via: `@#include \"t_call.m\"` in `model_1.mod`\n",
    "\n",
    "* `order`: the order of approximation for the stochastic simulation. order=1 is a fsrst-order approximation (linearization) Higher-order approximations (e.g., order=2 for second-order) capture nonlinear effects in the model, but they require more computational resources.\n",
    "* `periods`: number of periods (time steps) for which the simulation will be run. periods=1000 means that the model will be simulated for 1000 periods. The default value is 0, which means no simulation will be performed.\n",
    "* `nograph`: suppresses the graphical output of the simulation results in Dynare since we draw them separatetly. \n",
    "* `irf`: the number of periods for which the impulse response functions (IRFs) will be computed and plotted. "
   ]
  },
  {
   "cell_type": "code",
   "execution_count": 17,
   "id": "f2fe4306",
   "metadata": {},
   "outputs": [],
   "source": [
    "with open('t_call.m', 'w') as file:\n",
    "    file.write(\"stoch_simul(nograph, order=1, periods=1000, irf=30);\")"
   ]
  },
  {
   "cell_type": "markdown",
   "id": "7e4aaad7",
   "metadata": {},
   "source": [
    " `make_model.ipyn` writes a file called `t_model.m`. `t_model.m`is the `model` block in the Dynare `.mod` file. It can instead be created directlty by commenting out the next `%run` line and coding the model. `make_model.ipyn` simplifies model creation when many of the lines are very similar to each other. Then they can be written in for loops. For the model we are currently working with, there is not much advantage to writing the file via `make_model` but I have done so nonetheless. \n",
    " \n",
    " The created file is included in the `.mod` file via `@#include \"t_model.m\"` in `model_1.mod`. "
   ]
  },
  {
   "cell_type": "code",
   "execution_count": 18,
   "id": "eff43076",
   "metadata": {},
   "outputs": [],
   "source": [
    "#%run make_model_3.ipynb"
   ]
  },
  {
   "cell_type": "markdown",
   "id": "40f63e8b",
   "metadata": {},
   "source": [
    "`make_files.ipynb` writes the other Dynare blocks. See that file for details. However, note that in doing so, it solves for the steady state of the model using `root` from `scipy`. If the results below do not indicate success, the `.mod` file may not run correctly. Also, note that though we solve for the steady state here, we do not give Dynare the steady state but rather use these as starting values for their ss solver. I will later code a verification the steady states are the same. "
   ]
  },
  {
   "cell_type": "code",
   "execution_count": 19,
   "id": "b6037324",
   "metadata": {},
   "outputs": [
    {
     "name": "stdout",
     "output_type": "stream",
     "text": [
      "eps,tht,alf,bet,om_0,om_1,om_2,delt,a_0,a_1,a_2\n",
      "eps,tht,alf,bet,om_0,om_1,om_2,delt,var_a_0,var_a_1,var_a_2,rho_a_0,rho_a_1,rho_a_2\n",
      " message: The solution converged.\n",
      " success: True\n",
      "  status: 1\n",
      "     fun: [-3.796e-12 -3.796e-12 -4.282e-13  0.000e+00 -6.417e-13\n",
      "            3.003e-13  3.008e-13  0.000e+00  0.000e+00]\n",
      "       x: [ 3.718e-01  3.141e-01  3.141e-01  1.331e+00  1.331e+00\n",
      "            1.331e+00  3.624e-01  3.624e-01  3.624e-01]\n",
      "    nfev: 26\n",
      "    fjac: [[-3.071e-06 -3.071e-06 ...  1.019e-16  2.593e-16]\n",
      "           [-4.169e-06 -4.154e-06 ...  1.416e-16  3.581e-16]\n",
      "           ...\n",
      "           [ 6.056e-01 -6.388e-01 ... -2.834e-01  3.388e-01]\n",
      "           [ 2.046e-01 -2.241e-02 ... -2.085e-01 -9.502e-02]]\n",
      "       r: [ 1.422e+00  7.316e-01 ...  1.220e+00  4.605e-01]\n",
      "     qtf: [-1.276e-12 -4.305e-12  2.114e-12  6.153e-12 -7.852e-13\n",
      "           -5.714e-12 -3.405e-12  3.354e-12 -1.839e-11]\n"
     ]
    }
   ],
   "source": [
    "%run make_files_3.ipynb"
   ]
  },
  {
   "cell_type": "markdown",
   "id": "59d8332f",
   "metadata": {},
   "source": [
    "Tells octave where to find the .m file it will run. The file is `call_dynare`. Set to wherever you have this file. \n",
    "\n",
    "\n"
   ]
  },
  {
   "cell_type": "code",
   "execution_count": 20,
   "id": "302dd812",
   "metadata": {},
   "outputs": [],
   "source": [
    "#a=octave.addpath(os.path.expanduser('C:/Users/blankenw/GitHub/dynare_progs/np_1'))"
   ]
  },
  {
   "cell_type": "markdown",
   "id": "6d91690e",
   "metadata": {},
   "source": [
    "If you see the following error message:    \n",
    "`warning: function C:\\dynare\\6.1\\matlab\\+identification\\display.m shadows a built-in function`\n",
    "it can be ignored"
   ]
  },
  {
   "cell_type": "markdown",
   "id": "4df08aa0",
   "metadata": {},
   "source": [
    "Makes a call to Octave, which makes a call to Dynare. Then the `.mod` file is run in Dynare. Output from Dynare is displayed as it runs."
   ]
  },
  {
   "cell_type": "code",
   "execution_count": 21,
   "id": "59a05849",
   "metadata": {},
   "outputs": [
    {
     "name": "stdout",
     "output_type": "stream",
     "text": [
      "Starting Dynare (version 6.1).\n",
      "Calling Dynare with arguments: none\n",
      "Starting preprocessing of the model file ...\n",
      "Found 12 equation(s).\n",
      "Evaluating expressions...\n",
      "Computing static model derivatives (order 1).\n",
      "Normalizing the static model...\n",
      "Finding the optimal block decomposition of the static model...\n",
      "4 block(s) found:\n",
      "  3 recursive block(s) and 1 simultaneous block(s).\n",
      "  the largest simultaneous block has 9 equation(s)\n",
      "                                 and 9 feedback variable(s).\n",
      "Computing dynamic model derivatives (order 1).\n",
      "Normalizing the dynamic model...\n",
      "Finding the optimal block decomposition of the dynamic model...\n",
      "2 block(s) found:\n",
      "  1 recursive block(s) and 1 simultaneous block(s).\n",
      "  the largest simultaneous block has 9 equation(s)\n",
      "                                 and 9 feedback variable(s).\n",
      "Preprocessing completed.\n",
      "Preprocessing time: 0h00m00s.\n",
      "\n",
      "STEADY-STATE RESULTS:\n",
      "\n",
      "n_0 \t\t 0.324351\n",
      "n_1 \t\t 0.337825\n",
      "n_2 \t\t 0.337824\n",
      "k_0 \t\t 1.01326\n",
      "k_1 \t\t 0.79405\n",
      "k_2 \t\t 0.79405\n",
      "c_0 \t\t 0.283236\n",
      "c_1 \t\t 0.301034\n",
      "c_2 \t\t 0.301034\n",
      "a_0 \t\t 0\n",
      "a_1 \t\t 0\n",
      "a_2 \t\t 0\n",
      "\n",
      "EIGENVALUES:\n",
      "         Modulus             Real        Imaginary\n",
      "          0.7207           0.7207                0\n",
      "             0.9              0.9                0\n",
      "             0.9              0.9                0\n",
      "             0.9              0.9                0\n",
      "           1.494            1.494                0\n",
      "       1.428e+17       -1.428e+17                0\n",
      "       2.241e+17       -2.241e+17                0\n",
      "       4.106e+17       -4.106e+17                0\n",
      "       5.479e+17        5.479e+17                0\n",
      "       7.599e+17        7.599e+17                0\n",
      "       9.008e+17       -9.008e+17                0\n",
      "        1.94e+18         1.94e+18                0\n",
      "       1.563e+19        1.563e+19                0\n",
      "\n",
      "There are 9 eigenvalue(s) larger than 1 in modulus for 10 forward-looking variable(s)\n",
      "The rank condition ISN'T verified!\n",
      "\n"
     ]
    },
    {
     "ename": "Oct2PyError",
     "evalue": "Octave evaluation error:\nerror: Blanchard & Kahn conditions are not satisfied: indeterminacy.\nerror: called from:\n    print_info at line 33, column 5\n    stoch_simul at line 119, column 5\n    driver at line 517, column 27\n    dynare at line 310, column 5\n    call_dynare at line 5, column 4",
     "output_type": "error",
     "traceback": [
      "\u001b[1;31m---------------------------------------------------------------------------\u001b[0m",
      "\u001b[1;31mOct2PyError\u001b[0m                               Traceback (most recent call last)",
      "Cell \u001b[1;32mIn[21], line 2\u001b[0m\n\u001b[0;32m      1\u001b[0m y\u001b[38;5;241m=\u001b[39m\u001b[38;5;241m1\u001b[39m\n\u001b[1;32m----> 2\u001b[0m x\u001b[38;5;241m=\u001b[39moctave\u001b[38;5;241m.\u001b[39mcall_dynare(y,nout\u001b[38;5;241m=\u001b[39m\u001b[38;5;241m1\u001b[39m)\n",
      "File \u001b[1;32mc:\\Users\\blankenw\\AppData\\Local\\anaconda3\\Lib\\site-packages\\oct2py\\dynamic.py:111\u001b[0m, in \u001b[0;36mOctaveFunctionPtr.__call__\u001b[1;34m(self, *inputs, **kwargs)\u001b[0m\n\u001b[0;32m    107\u001b[0m     warnings\u001b[38;5;241m.\u001b[39mwarn(\u001b[38;5;124m\"\u001b[39m\u001b[38;5;124mKey - value pairs are deprecated, use `func_args`\u001b[39m\u001b[38;5;124m\"\u001b[39m, stacklevel\u001b[38;5;241m=\u001b[39m\u001b[38;5;241m2\u001b[39m)\n\u001b[0;32m    109\u001b[0m inputs \u001b[38;5;241m+\u001b[39m\u001b[38;5;241m=\u001b[39m \u001b[38;5;28mtuple\u001b[39m(item \u001b[38;5;28;01mfor\u001b[39;00m pair \u001b[38;5;129;01min\u001b[39;00m extras\u001b[38;5;241m.\u001b[39mitems() \u001b[38;5;28;01mfor\u001b[39;00m item \u001b[38;5;129;01min\u001b[39;00m pair)\n\u001b[1;32m--> 111\u001b[0m \u001b[38;5;28;01mreturn\u001b[39;00m \u001b[38;5;28mself\u001b[39m\u001b[38;5;241m.\u001b[39m_ref()\u001b[38;5;241m.\u001b[39mfeval(\u001b[38;5;28mself\u001b[39m\u001b[38;5;241m.\u001b[39mname, \u001b[38;5;241m*\u001b[39minputs, \u001b[38;5;241m*\u001b[39m\u001b[38;5;241m*\u001b[39mkwargs)\n",
      "File \u001b[1;32mc:\\Users\\blankenw\\AppData\\Local\\anaconda3\\Lib\\site-packages\\oct2py\\core.py:403\u001b[0m, in \u001b[0;36mOct2Py.feval\u001b[1;34m(self, func_path, *func_args, **kwargs)\u001b[0m\n\u001b[0;32m    400\u001b[0m \u001b[38;5;28;01mif\u001b[39;00m \u001b[38;5;129;01mnot\u001b[39;00m stream_handler:\n\u001b[0;32m    401\u001b[0m     stream_handler \u001b[38;5;241m=\u001b[39m \u001b[38;5;28mself\u001b[39m\u001b[38;5;241m.\u001b[39mlogger\u001b[38;5;241m.\u001b[39minfo \u001b[38;5;28;01mif\u001b[39;00m verbose \u001b[38;5;28;01melse\u001b[39;00m \u001b[38;5;28mself\u001b[39m\u001b[38;5;241m.\u001b[39mlogger\u001b[38;5;241m.\u001b[39mdebug\n\u001b[1;32m--> 403\u001b[0m \u001b[38;5;28;01mreturn\u001b[39;00m \u001b[38;5;28mself\u001b[39m\u001b[38;5;241m.\u001b[39m_feval(\n\u001b[0;32m    404\u001b[0m     func_name,\n\u001b[0;32m    405\u001b[0m     func_args,\n\u001b[0;32m    406\u001b[0m     dname\u001b[38;5;241m=\u001b[39mdname,\n\u001b[0;32m    407\u001b[0m     nout\u001b[38;5;241m=\u001b[39mnout,\n\u001b[0;32m    408\u001b[0m     timeout\u001b[38;5;241m=\u001b[39mtimeout,\n\u001b[0;32m    409\u001b[0m     stream_handler\u001b[38;5;241m=\u001b[39mstream_handler,\n\u001b[0;32m    410\u001b[0m     store_as\u001b[38;5;241m=\u001b[39mstore_as,\n\u001b[0;32m    411\u001b[0m     plot_dir\u001b[38;5;241m=\u001b[39mplot_dir,\n\u001b[0;32m    412\u001b[0m )\n",
      "File \u001b[1;32mc:\\Users\\blankenw\\AppData\\Local\\anaconda3\\Lib\\site-packages\\oct2py\\core.py:648\u001b[0m, in \u001b[0;36mOct2Py._feval\u001b[1;34m(self, func_name, func_args, dname, nout, timeout, stream_handler, store_as, plot_dir)\u001b[0m\n\u001b[0;32m    646\u001b[0m \u001b[38;5;28;01mif\u001b[39;00m resp[\u001b[38;5;124m\"\u001b[39m\u001b[38;5;124merr\u001b[39m\u001b[38;5;124m\"\u001b[39m]:\n\u001b[0;32m    647\u001b[0m     msg \u001b[38;5;241m=\u001b[39m \u001b[38;5;28mself\u001b[39m\u001b[38;5;241m.\u001b[39m_parse_error(resp[\u001b[38;5;124m\"\u001b[39m\u001b[38;5;124merr\u001b[39m\u001b[38;5;124m\"\u001b[39m])\n\u001b[1;32m--> 648\u001b[0m     \u001b[38;5;28;01mraise\u001b[39;00m Oct2PyError(msg)\n\u001b[0;32m    650\u001b[0m result \u001b[38;5;241m=\u001b[39m resp[\u001b[38;5;124m\"\u001b[39m\u001b[38;5;124mresult\u001b[39m\u001b[38;5;124m\"\u001b[39m]\u001b[38;5;241m.\u001b[39mravel()\u001b[38;5;241m.\u001b[39mtolist()\n\u001b[0;32m    651\u001b[0m \u001b[38;5;28;01mif\u001b[39;00m \u001b[38;5;28misinstance\u001b[39m(result, \u001b[38;5;28mlist\u001b[39m) \u001b[38;5;129;01mand\u001b[39;00m \u001b[38;5;28mlen\u001b[39m(result) \u001b[38;5;241m==\u001b[39m \u001b[38;5;241m1\u001b[39m:\n",
      "\u001b[1;31mOct2PyError\u001b[0m: Octave evaluation error:\nerror: Blanchard & Kahn conditions are not satisfied: indeterminacy.\nerror: called from:\n    print_info at line 33, column 5\n    stoch_simul at line 119, column 5\n    driver at line 517, column 27\n    dynare at line 310, column 5\n    call_dynare at line 5, column 4"
     ]
    }
   ],
   "source": [
    "y=1\n",
    "x=octave.call_dynare(y,nout=1)\n",
    "\n"
   ]
  },
  {
   "cell_type": "markdown",
   "id": "531543fe",
   "metadata": {},
   "source": [
    "Dynare creates a `structure` which we will need so we `pull` it."
   ]
  },
  {
   "cell_type": "markdown",
   "id": "1a99fe40",
   "metadata": {},
   "source": [
    "The output from Dynare is stored in a file called `oo_`. This brings `oo_` in as `oo`."
   ]
  },
  {
   "cell_type": "code",
   "execution_count": null,
   "id": "90d370ef",
   "metadata": {},
   "outputs": [],
   "source": [
    "oo = octave.pull('oo_') \n",
    "type(oo)"
   ]
  },
  {
   "cell_type": "markdown",
   "id": "39491efd",
   "metadata": {},
   "source": [
    "Create an instance of DyPy."
   ]
  },
  {
   "cell_type": "code",
   "execution_count": null,
   "id": "dbeac9d9",
   "metadata": {},
   "outputs": [],
   "source": [
    "t1 = DyPy(oo)\n"
   ]
  },
  {
   "cell_type": "markdown",
   "id": "c3a9a75e",
   "metadata": {},
   "source": [
    "Draw all impulse response functions. "
   ]
  },
  {
   "cell_type": "code",
   "execution_count": null,
   "id": "ebda9939",
   "metadata": {},
   "outputs": [],
   "source": [
    "for shock in {key[-1] for key in t1.dict_irfs.keys()}:\n",
    "    t1.plot_irfs(shock,cols=3)"
   ]
  },
  {
   "cell_type": "markdown",
   "id": "3b5b5a41",
   "metadata": {},
   "source": [
    "The rest of this just gives insights regarding the 'oo' object. "
   ]
  },
  {
   "cell_type": "code",
   "execution_count": null,
   "id": "50026dd0",
   "metadata": {},
   "outputs": [],
   "source": [
    "print(type(oo))\n",
    "print(oo.keys())\n",
    "print(oo['irfs'].keys())\n",
    "print(type(oo['n_0_a_0_shock']))\n",
    "oo['n_0_a_0_shock']"
   ]
  },
  {
   "cell_type": "markdown",
   "id": "3d6fa1fa",
   "metadata": {},
   "source": [
    "Gives a list of all the vaues that are numpy arrays and lists in dictionary `oo`."
   ]
  },
  {
   "cell_type": "code",
   "execution_count": null,
   "id": "65eccacd",
   "metadata": {},
   "outputs": [],
   "source": [
    "numpy_keys = [key for key, value in oo.items() if isinstance(value, np.ndarray)]\n",
    "list_keys = [key for key, value in oo.items() if isinstance(value, list)]\n",
    "print(numpy_keys)\n",
    "print(list_keys)"
   ]
  },
  {
   "cell_type": "code",
   "execution_count": null,
   "id": "1c1157e6",
   "metadata": {},
   "outputs": [],
   "source": [
    "type(t1.oo_dict)"
   ]
  },
  {
   "cell_type": "code",
   "execution_count": null,
   "id": "0623a9cd",
   "metadata": {},
   "outputs": [],
   "source": [
    "key_type_list = [(key, type(value)) for key, value in oo.items()]\n",
    "print(key_type_list)\n",
    "key_type_list = [(key, type(value)) for key, value in t1.oo_dict.items()]\n",
    "print(key_type_list)"
   ]
  },
  {
   "cell_type": "code",
   "execution_count": null,
   "id": "24dcb8b0",
   "metadata": {},
   "outputs": [],
   "source": [
    "attributes = [attr for attr in dir(t1) if not attr.startswith('__')]\n",
    "for attr in attributes:\n",
    "    print(attr)"
   ]
  },
  {
   "cell_type": "code",
   "execution_count": null,
   "id": "b5051ed6",
   "metadata": {},
   "outputs": [],
   "source": [
    "t1.steady_state"
   ]
  },
  {
   "cell_type": "code",
   "execution_count": null,
   "id": "dd232d74",
   "metadata": {},
   "outputs": [],
   "source": [
    "oo"
   ]
  }
 ],
 "metadata": {
  "kernelspec": {
   "display_name": "base",
   "language": "python",
   "name": "python3"
  },
  "language_info": {
   "codemirror_mode": {
    "name": "ipython",
    "version": 3
   },
   "file_extension": ".py",
   "mimetype": "text/x-python",
   "name": "python",
   "nbconvert_exporter": "python",
   "pygments_lexer": "ipython3",
   "version": "3.11.5"
  }
 },
 "nbformat": 4,
 "nbformat_minor": 5
}
