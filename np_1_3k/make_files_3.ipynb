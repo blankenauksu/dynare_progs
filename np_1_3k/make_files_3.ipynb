{
 "cells": [
  {
   "cell_type": "code",
   "execution_count": 1,
   "metadata": {},
   "outputs": [],
   "source": [
    "from scipy.optimize import root\n",
    "import numpy as np"
   ]
  },
  {
   "cell_type": "code",
   "execution_count": 2,
   "metadata": {},
   "outputs": [],
   "source": [
    "params = {\n",
    "    'eps': .5,\n",
    "    'tht': 1,\n",
    "    'alf': .5,\n",
    "    'bet': .9,\n",
    "    'om_0': 1,\n",
    "    'om_1': 1,\n",
    "    'om_2': 1,\n",
    "    'delt': .05\n",
    "}"
   ]
  },
  {
   "cell_type": "code",
   "execution_count": 3,
   "metadata": {},
   "outputs": [],
   "source": [
    "ss_shock = {\n",
    "    'a_0': 0,\n",
    "    'a_1': 0,\n",
    "    'a_2': 0\n",
    "}"
   ]
  },
  {
   "cell_type": "code",
   "execution_count": 4,
   "metadata": {},
   "outputs": [],
   "source": [
    "shock_params = {\n",
    "    'var_a_0': .5,\n",
    "    'var_a_1': .6,\n",
    "    'var_a_2': .7,\n",
    "    'rho_a_0': .9,\n",
    "    'rho_a_1': .9,\n",
    "    'rho_a_2': .9\n",
    "}"
   ]
  },
  {
   "cell_type": "code",
   "execution_count": 5,
   "metadata": {},
   "outputs": [],
   "source": [
    "ss_params = {**params, **ss_shock}\n",
    "model_params = {**params, **shock_params}"
   ]
  },
  {
   "cell_type": "code",
   "execution_count": 6,
   "metadata": {},
   "outputs": [
    {
     "data": {
      "text/plain": [
       "{'eps': 1.5,\n",
       " 'tht': 1,\n",
       " 'alf': 0.5,\n",
       " 'bet': 0.9,\n",
       " 'om_0': 1,\n",
       " 'om_1': 1,\n",
       " 'om_2': 1,\n",
       " 'delt': 0.05,\n",
       " 'var_a_0': 0.5,\n",
       " 'var_a_1': 0.6,\n",
       " 'var_a_2': 0.7,\n",
       " 'rho_a_0': 0.9,\n",
       " 'rho_a_1': 0.9,\n",
       " 'rho_a_2': 0.9}"
      ]
     },
     "execution_count": 6,
     "metadata": {},
     "output_type": "execute_result"
    }
   ],
   "source": [
    "model_params"
   ]
  },
  {
   "cell_type": "code",
   "execution_count": 7,
   "metadata": {},
   "outputs": [
    {
     "name": "stdout",
     "output_type": "stream",
     "text": [
      "eps,tht,alf,bet,om_0,om_1,om_2,delt,a_0,a_1,a_2\n"
     ]
    }
   ],
   "source": [
    "print(','.join(f'{key}' for key in ss_params))"
   ]
  },
  {
   "cell_type": "code",
   "execution_count": 8,
   "metadata": {},
   "outputs": [
    {
     "name": "stdout",
     "output_type": "stream",
     "text": [
      "eps,tht,alf,bet,om_0,om_1,om_2,delt,var_a_0,var_a_1,var_a_2,rho_a_0,rho_a_1,rho_a_2\n"
     ]
    }
   ],
   "source": [
    "print(','.join(f'{key}' for key in model_params))"
   ]
  },
  {
   "cell_type": "code",
   "execution_count": 9,
   "metadata": {},
   "outputs": [],
   "source": [
    "def assign_params(ss_params):\n",
    "    a_0 = ss_params['a_0']\n",
    "    a_1 = ss_params['a_1']\n",
    "    a_2 = ss_params['a_2']\n",
    "    alf = ss_params['alf']\n",
    "    delt = ss_params['delt']\n",
    "    om_0 = ss_params['om_0']\n",
    "    om_1 = ss_params['om_1']\n",
    "    om_2 = ss_params['om_2']\n",
    "    eps = ss_params['eps']\n",
    "    tht = ss_params['tht']\n",
    "    bet = ss_params['bet']\n",
    "   \n",
    "    return eps,tht,alf,bet,om_0,om_1,om_2,delt,a_0,a_1,a_2\n",
    "\n"
   ]
  },
  {
   "cell_type": "code",
   "execution_count": 10,
   "metadata": {},
   "outputs": [],
   "source": [
    "def equations(vars, params):\n",
    "\tn_0,n_1,n_2,k_0,k_1,k_2,c_0,c_1,c_2 = vars\n",
    "\teps,tht,alf,bet,om_0,om_1,om_2,delt,a_0,a_1,a_2 = assign_params(params)\n",
    "\tph=(\tom_0*c_0**((eps-1)/eps)+\tom_1*c_1**((eps-1)/eps)+\tom_2*c_2**((eps-1)/eps)\t)**((1-tht*eps)/(eps-1))\n",
    "\n",
    "\tv_0=om_0*c_0**(-1/eps)*ph\n",
    "\tv_1=om_1*c_1**(-1/eps)*ph\n",
    "\tv_2=om_2*c_2**(-1/eps)*ph\n",
    "\n",
    "\tfk_0=np.exp(a_0)*n_0*alf*k_0**(alf-1)\n",
    "\tfk_1=np.exp(a_1)*n_1*alf*k_1**(alf-1)\n",
    "\tfk_2=np.exp(a_2)*n_2*alf*k_2**(alf-1)\n",
    "\n",
    "\tfn_0=a_0*(1-alf)*k_0**(alf)\n",
    "\tfn_1=a_1*(1-alf)*k_1**(alf)\n",
    "\tfn_2=a_2*(1-alf)*k_2**(alf)\n",
    "\tk=k_0*n_0+k_1*n_1+k_2*n_2\n",
    " \n",
    "\tlamk=v_0*fk_0/n_0\n",
    "\tlamn=v_0/(1-alf)*fn_0/n_0-lamk*k_0\n",
    "\n",
    "\teq1=v_1*fk_1-n_1*lamk\n",
    "\teq2=v_2*fk_2-n_2*lamk\n",
    "\n",
    "\teq3=bet*(fk_0+1-delt)-1\n",
    "\teq4=n_0+n_1+n_2-1\n",
    "\teq5=c_0-np.exp(a_0)*n_0*k**alf-(1-delt)*k+k\n",
    "\teq6=c_1-np.exp(a_1)*n_1*k_1**alf\n",
    "\teq7=c_2-np.exp(a_2)*n_2*k_2**alf\n",
    "\teq8=v_1/(1-alf)*fn_1-k_1*lamk-lamn\n",
    "\teq9=v_2/(1-alf)*fn_2-k_2*lamk-lamn\n",
    "\t#eq10=k_0*n_0+k_1*n_1+k_2*n_2-k\n",
    " \n",
    " \n",
    "\treturn [eq1, eq2, eq3, eq4, eq5, eq6, eq7, eq8, eq9]\n"
   ]
  },
  {
   "cell_type": "code",
   "execution_count": 11,
   "metadata": {},
   "outputs": [
    {
     "name": "stdout",
     "output_type": "stream",
     "text": [
      " message: The solution converged.\n",
      " success: True\n",
      "  status: 1\n",
      "     fun: [-3.394e-12 -3.394e-12  3.963e-13 -1.110e-16  7.723e-13\n",
      "           -3.066e-13 -3.064e-13  3.640e-13  3.640e-13]\n",
      "       x: [ 3.718e-01  3.141e-01  3.141e-01  1.331e+00  1.331e+00\n",
      "            1.331e+00  3.624e-01  3.624e-01  3.624e-01]\n",
      "    nfev: 25\n",
      "    fjac: [[-7.113e-08 -7.113e-08 ...  9.707e-09  9.707e-09]\n",
      "           [ 8.193e-08  9.599e-08 ... -1.332e-08 -1.332e-08]\n",
      "           ...\n",
      "           [ 4.555e-01 -6.769e-01 ... -1.823e-01  3.838e-01]\n",
      "           [ 5.042e-01 -5.950e-02 ... -3.433e-01 -6.144e-02]]\n",
      "       r: [-1.423e+00 -7.282e-01 ...  2.880e-01  3.812e-01]\n",
      "     qtf: [ 4.601e-11 -1.369e-10  6.682e-11 -7.141e-11 -2.151e-11\n",
      "           -1.567e-10  2.065e-10  1.859e-10 -3.734e-10]\n"
     ]
    },
    {
     "data": {
      "text/plain": [
       "{'n_0': 0.3717948717844015,\n",
       " 'n_1': 0.3141025641077993,\n",
       " 'n_2': 0.31410256410779913,\n",
       " 'k_0': 1.3313609466632987,\n",
       " 'k_1': 1.3313609466623852,\n",
       " 'k_2': 1.3313609466623852,\n",
       " 'c_0': 0.36242603548244556,\n",
       " 'c_1': 0.3624260354973713,\n",
       " 'c_2': 0.36242603549737135,\n",
       " 'a_0': 0,\n",
       " 'a_1': 0,\n",
       " 'a_2': 0}"
      ]
     },
     "execution_count": 11,
     "metadata": {},
     "output_type": "execute_result"
    }
   ],
   "source": [
    "initial_guess = [.3,.3,.3,.3,.3,.3,.3,.3,.3]\n",
    "def solve_equations(params):\n",
    "    \n",
    "    sol = root(equations, initial_guess, args=(ss_params,))\n",
    "    \n",
    "    # Extract the solution vector\n",
    "    n_0,n_1,n_2,k_0,k_1,k_2,c_0,c_1,c_2 = sol.x\n",
    "    a_0=0\n",
    "    a_1=0\n",
    "    a_2=0\n",
    "    ss_dict = {\n",
    "    'n_0': n_0,\n",
    "    'n_1': n_1,\n",
    "    'n_2': n_2,\n",
    "    'k_0': k_0,\n",
    "    'k_1': k_1,\n",
    "    'k_2': k_2,\n",
    "    'c_0': c_0,\n",
    "    'c_1': c_1,\n",
    "    'c_2': c_2,\n",
    "    'a_0': a_0,\n",
    "    'a_1': a_1,\n",
    "    'a_2': a_2\n",
    "    }\n",
    "    return sol, ss_dict\n",
    "    \n",
    "\n",
    "# Call the wrapper function\n",
    "sol, ss_dict=solve_equations(ss_params)\n",
    "print(sol)\n",
    "ss_dict\n"
   ]
  },
  {
   "cell_type": "code",
   "execution_count": 12,
   "metadata": {},
   "outputs": [],
   "source": [
    "def write_dict_to_file(ss_dict, filename):\n",
    "    with open(filename, 'w') as f:\n",
    "        f.write('var \\n')\n",
    "        for key, value in ss_dict.items():\n",
    "            f.write(f'{key}\\n')\n",
    "        f.write(f';\\n\\n\\n')\n",
    "        f.write('varexo \\n')\n",
    "        for key, value in ss_shock.items():\n",
    "            f.write(f'{key}_shock\\n')\n",
    "        f.write(f';\\n\\n\\n')\n",
    "# Call the function\n",
    "write_dict_to_file(ss_dict, 't_vars.m')"
   ]
  },
  {
   "cell_type": "code",
   "execution_count": 13,
   "metadata": {},
   "outputs": [],
   "source": [
    "def write_dict_to_file(ss_dict, filename):\n",
    "    with open(filename, 'w') as f:\n",
    "        f.write('initval;\\n')\n",
    "        for key, value in ss_dict.items():\n",
    "            f.write(f'{key}={value};\\n')\n",
    "        f.write(f'end;\\n\\n\\n')        \n",
    "# Call the function\n",
    "write_dict_to_file(ss_dict, 't_ss.m')"
   ]
  },
  {
   "cell_type": "code",
   "execution_count": 14,
   "metadata": {},
   "outputs": [],
   "source": [
    "def write_dict_to_file(params, filename):\n",
    "    \n",
    "    with open(filename, 'w') as f:\n",
    "        f.write('parameters ')\n",
    "        f.write(','.join(f'{key}' for key in params))\n",
    "        f.write(';\\n\\n')\n",
    "        for key, value in params.items():\n",
    "            f.write(f'{key}={value};\\n')\n",
    "\n",
    "# Call the function\n",
    "write_dict_to_file(model_params, 't_parameters.m')"
   ]
  },
  {
   "cell_type": "code",
   "execution_count": 15,
   "metadata": {},
   "outputs": [],
   "source": [
    "def write_dict_to_file(ss_dict, filename):\n",
    "    #variance_list = list(shock_params.values())[:3]\n",
    "    with open(filename, 'w') as f:\n",
    "        f.write('shocks;\\n')\n",
    "        i=0\n",
    "        for key, value in ss_shock.items():\n",
    "            f.write(f'var {key}_shock=var_{key};\\n')\n",
    "            i+=1\n",
    "        f.write(f'\\n')\n",
    "        f.write(f'end;\\n\\n\\n')        \n",
    "# Call the function\n",
    "write_dict_to_file(ss_dict, 't_shocks.m')"
   ]
  }
 ],
 "metadata": {
  "kernelspec": {
   "display_name": "Python 3",
   "language": "python",
   "name": "python3"
  },
  "language_info": {
   "codemirror_mode": {
    "name": "ipython",
    "version": 3
   },
   "file_extension": ".py",
   "mimetype": "text/x-python",
   "name": "python",
   "nbconvert_exporter": "python",
   "pygments_lexer": "ipython3",
   "version": "3.11.5"
  }
 },
 "nbformat": 4,
 "nbformat_minor": 2
}
